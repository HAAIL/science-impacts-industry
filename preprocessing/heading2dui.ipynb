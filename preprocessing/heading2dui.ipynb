{
 "cells": [
  {
   "cell_type": "code",
   "execution_count": 1,
   "metadata": {},
   "outputs": [],
   "source": [
    "from tqdm import tqdm\n",
    "import pickle\n",
    "import pandas as pd\n",
    "import numpy as np\n",
    "import torch\n",
    "import requests\n",
    "import time"
   ]
  },
  {
   "cell_type": "code",
   "execution_count": 2,
   "metadata": {},
   "outputs": [],
   "source": [
    "PICKLES_ADDRESS =  '../data/pickles/'\n",
    "SBIR_ADDRESS = '../data/sbir_dataset/'\n",
    "PUBMED_ADDRESS = '../data/pubmed_dataset/'"
   ]
  },
  {
   "cell_type": "code",
   "execution_count": 3,
   "metadata": {},
   "outputs": [
    {
     "name": "stdout",
     "output_type": "stream",
     "text": [
      "GPUs available: 3\n",
      "current GPU number:  0\n",
      "GPU name:  NVIDIA RTX 6000 Ada Generation\n",
      "GPU capability:  (8, 9)\n",
      "GPU memory:  51010207744\n",
      "GPU memory allocated:  0\n",
      "GPU memory cached:  0\n",
      "GPU memory reserved:  0\n",
      "GPU memory free:  0\n",
      "               total        used        free      shared  buff/cache   available\n",
      "Mem:           503Gi       164Gi        54Gi       206Mi       284Gi       334Gi\n",
      "Swap:          3.0Ti          0B       3.0Ti\n"
     ]
    },
    {
     "name": "stderr",
     "output_type": "stream",
     "text": [
      "/usr/lib/python3/dist-packages/torch/cuda/memory.py:416: FutureWarning: torch.cuda.memory_cached has been renamed to torch.cuda.memory_reserved\n",
      "  warnings.warn(\n"
     ]
    }
   ],
   "source": [
    "def gpu_info():\n",
    "    device = torch.device('cuda:0')\n",
    "    torch.cuda.set_device(device)\n",
    "    print('GPUs available:', torch.cuda.device_count())\n",
    "    print('current GPU number: ', torch.cuda.current_device())\n",
    "    print('GPU name: ', torch.cuda.get_device_name(device))\n",
    "    print('GPU capability: ', torch.cuda.get_device_capability(device))\n",
    "    print('GPU memory: ', torch.cuda.get_device_properties(device).total_memory)\n",
    "    print('GPU memory allocated: ', torch.cuda.memory_allocated(device))\n",
    "    print('GPU memory cached: ', torch.cuda.memory_cached(device))\n",
    "    print('GPU memory reserved: ', torch.cuda.memory_reserved(device))\n",
    "    print('GPU memory free: ', torch.cuda.memory_reserved(device) - torch.cuda.memory_allocated(device))\n",
    "\n",
    "\n",
    "def ram_info():\n",
    "    !free -h\n",
    "\n",
    "gpu_info()  \n",
    "ram_info()"
   ]
  },
  {
   "cell_type": "code",
   "execution_count": 4,
   "metadata": {},
   "outputs": [
    {
     "data": {
      "text/html": [
       "<div>\n",
       "<style scoped>\n",
       "    .dataframe tbody tr th:only-of-type {\n",
       "        vertical-align: middle;\n",
       "    }\n",
       "\n",
       "    .dataframe tbody tr th {\n",
       "        vertical-align: top;\n",
       "    }\n",
       "\n",
       "    .dataframe thead th {\n",
       "        text-align: right;\n",
       "    }\n",
       "</style>\n",
       "<table border=\"1\" class=\"dataframe\">\n",
       "  <thead>\n",
       "    <tr style=\"text-align: right;\">\n",
       "      <th></th>\n",
       "      <th>pmid</th>\n",
       "      <th>pub_date</th>\n",
       "      <th>pub_title</th>\n",
       "      <th>journal_title</th>\n",
       "      <th>doi</th>\n",
       "      <th>abstract</th>\n",
       "      <th>relative_citation_ratio</th>\n",
       "      <th>citation_count</th>\n",
       "      <th>citations_per_year</th>\n",
       "      <th>num_major_topics</th>\n",
       "      <th>major_topics</th>\n",
       "      <th>num_minor_topics</th>\n",
       "      <th>minor_topics</th>\n",
       "      <th>concept_list</th>\n",
       "      <th>yearly_citation_counts</th>\n",
       "    </tr>\n",
       "  </thead>\n",
       "  <tbody>\n",
       "    <tr>\n",
       "      <th>0</th>\n",
       "      <td>28867731</td>\n",
       "      <td>2017-01-01</td>\n",
       "      <td>FOXA1 Induces E-Cadherin Expression at the Pro...</td>\n",
       "      <td>Biological &amp; pharmaceutical bulletin</td>\n",
       "      <td>10.1248/bpb.b17-00307</td>\n",
       "      <td>Epithelial-to-mesenchymal transition (EMT) is ...</td>\n",
       "      <td>0.88</td>\n",
       "      <td>18</td>\n",
       "      <td>3.600000</td>\n",
       "      <td>NaN</td>\n",
       "      <td>NaN</td>\n",
       "      <td>15.0</td>\n",
       "      <td>[\"Antigens, CD\",\"Breast Neoplasms\",\"Cadherins\"...</td>\n",
       "      <td>[\"SFN protein, human\",\"Hepatocyte Nuclear Fact...</td>\n",
       "      <td>{2019:5,2020:3,2021:1,2022:2}</td>\n",
       "    </tr>\n",
       "    <tr>\n",
       "      <th>1</th>\n",
       "      <td>23611783</td>\n",
       "      <td>2013-04-20</td>\n",
       "      <td>Identification and characterization of a novel...</td>\n",
       "      <td>Biochemical and biophysical research communica...</td>\n",
       "      <td>10.1016/j.bbrc.2013.04.022</td>\n",
       "      <td>In plants, flavonoids have been shown to be su...</td>\n",
       "      <td>0.55</td>\n",
       "      <td>15</td>\n",
       "      <td>1.666670</td>\n",
       "      <td>NaN</td>\n",
       "      <td>NaN</td>\n",
       "      <td>17.0</td>\n",
       "      <td>[\"Amino Acid Sequence\",\"Arabidopsis\",\"Arabidop...</td>\n",
       "      <td>[\"Differential quality\",\"Characterization\",\"Bo...</td>\n",
       "      <td>{2013:1,2014:1,2015:1,2018:1,2019:2,2022:1}</td>\n",
       "    </tr>\n",
       "    <tr>\n",
       "      <th>2</th>\n",
       "      <td>31440131</td>\n",
       "      <td>2019-08-07</td>\n",
       "      <td>The Verbal Interaction Social Threat Task: A N...</td>\n",
       "      <td>Frontiers in neuroscience</td>\n",
       "      <td>10.3389/fnins.2019.00830</td>\n",
       "      <td>a priori In recent years, digital communicatio...</td>\n",
       "      <td>0.31</td>\n",
       "      <td>2</td>\n",
       "      <td>0.666667</td>\n",
       "      <td>NaN</td>\n",
       "      <td>NaN</td>\n",
       "      <td>NaN</td>\n",
       "      <td>NaN</td>\n",
       "      <td>[\"Neural\",\"Societies\",\"conversation\",\"Moderate...</td>\n",
       "      <td>{2021:1}</td>\n",
       "    </tr>\n",
       "    <tr>\n",
       "      <th>3</th>\n",
       "      <td>30551143</td>\n",
       "      <td>2019-02-28</td>\n",
       "      <td>Functionality and cross-regulation of the four...</td>\n",
       "      <td>Nucleic acids research</td>\n",
       "      <td>10.1093/nar/gky1256</td>\n",
       "      <td>Toxin-antitoxin (TA) systems are ubiquitous am...</td>\n",
       "      <td>1.37</td>\n",
       "      <td>14</td>\n",
       "      <td>4.666670</td>\n",
       "      <td>NaN</td>\n",
       "      <td>NaN</td>\n",
       "      <td>10.0</td>\n",
       "      <td>[\"Bacterial Proteins\",\"Drug Resistance, Microb...</td>\n",
       "      <td>[\"Antibiotic Resistance, Microbial\",\"Cross-Tal...</td>\n",
       "      <td>{2019:3,2020:2,2021:5,2022:2}</td>\n",
       "    </tr>\n",
       "    <tr>\n",
       "      <th>4</th>\n",
       "      <td>30229639</td>\n",
       "      <td>2018-09-18</td>\n",
       "      <td>Non-familial porphyria cutanea tarda: a rare d...</td>\n",
       "      <td>Giornale italiano di dermatologia e venereolog...</td>\n",
       "      <td>10.23736/S0392-0488.18.06052-2</td>\n",
       "      <td>NaN</td>\n",
       "      <td>0.00</td>\n",
       "      <td>0</td>\n",
       "      <td>0.000000</td>\n",
       "      <td>NaN</td>\n",
       "      <td>NaN</td>\n",
       "      <td>5.0</td>\n",
       "      <td>[\"Female\",\"Humans\",\"Middle Aged\",\"Porphyria Cu...</td>\n",
       "      <td>NaN</td>\n",
       "      <td>NaN</td>\n",
       "    </tr>\n",
       "  </tbody>\n",
       "</table>\n",
       "</div>"
      ],
      "text/plain": [
       "       pmid    pub_date                                          pub_title   \n",
       "0  28867731  2017-01-01  FOXA1 Induces E-Cadherin Expression at the Pro...  \\\n",
       "1  23611783  2013-04-20  Identification and characterization of a novel...   \n",
       "2  31440131  2019-08-07  The Verbal Interaction Social Threat Task: A N...   \n",
       "3  30551143  2019-02-28  Functionality and cross-regulation of the four...   \n",
       "4  30229639  2018-09-18  Non-familial porphyria cutanea tarda: a rare d...   \n",
       "\n",
       "                                       journal_title   \n",
       "0               Biological & pharmaceutical bulletin  \\\n",
       "1  Biochemical and biophysical research communica...   \n",
       "2                          Frontiers in neuroscience   \n",
       "3                             Nucleic acids research   \n",
       "4  Giornale italiano di dermatologia e venereolog...   \n",
       "\n",
       "                              doi   \n",
       "0           10.1248/bpb.b17-00307  \\\n",
       "1      10.1016/j.bbrc.2013.04.022   \n",
       "2        10.3389/fnins.2019.00830   \n",
       "3             10.1093/nar/gky1256   \n",
       "4  10.23736/S0392-0488.18.06052-2   \n",
       "\n",
       "                                            abstract  relative_citation_ratio   \n",
       "0  Epithelial-to-mesenchymal transition (EMT) is ...                     0.88  \\\n",
       "1  In plants, flavonoids have been shown to be su...                     0.55   \n",
       "2  a priori In recent years, digital communicatio...                     0.31   \n",
       "3  Toxin-antitoxin (TA) systems are ubiquitous am...                     1.37   \n",
       "4                                                NaN                     0.00   \n",
       "\n",
       "   citation_count  citations_per_year  num_major_topics major_topics   \n",
       "0              18            3.600000               NaN          NaN  \\\n",
       "1              15            1.666670               NaN          NaN   \n",
       "2               2            0.666667               NaN          NaN   \n",
       "3              14            4.666670               NaN          NaN   \n",
       "4               0            0.000000               NaN          NaN   \n",
       "\n",
       "   num_minor_topics                                       minor_topics   \n",
       "0              15.0  [\"Antigens, CD\",\"Breast Neoplasms\",\"Cadherins\"...  \\\n",
       "1              17.0  [\"Amino Acid Sequence\",\"Arabidopsis\",\"Arabidop...   \n",
       "2               NaN                                                NaN   \n",
       "3              10.0  [\"Bacterial Proteins\",\"Drug Resistance, Microb...   \n",
       "4               5.0  [\"Female\",\"Humans\",\"Middle Aged\",\"Porphyria Cu...   \n",
       "\n",
       "                                        concept_list   \n",
       "0  [\"SFN protein, human\",\"Hepatocyte Nuclear Fact...  \\\n",
       "1  [\"Differential quality\",\"Characterization\",\"Bo...   \n",
       "2  [\"Neural\",\"Societies\",\"conversation\",\"Moderate...   \n",
       "3  [\"Antibiotic Resistance, Microbial\",\"Cross-Tal...   \n",
       "4                                                NaN   \n",
       "\n",
       "                        yearly_citation_counts  \n",
       "0                {2019:5,2020:3,2021:1,2022:2}  \n",
       "1  {2013:1,2014:1,2015:1,2018:1,2019:2,2022:1}  \n",
       "2                                     {2021:1}  \n",
       "3                {2019:3,2020:2,2021:5,2022:2}  \n",
       "4                                          NaN  "
      ]
     },
     "execution_count": 4,
     "metadata": {},
     "output_type": "execute_result"
    }
   ],
   "source": [
    "pubmed_df = pd.read_csv(PUBMED_ADDRESS + 'out.csv')\n",
    "pubmed_df.head()"
   ]
  },
  {
   "cell_type": "code",
   "execution_count": 5,
   "metadata": {},
   "outputs": [
    {
     "data": {
      "text/html": [
       "<div>\n",
       "<style scoped>\n",
       "    .dataframe tbody tr th:only-of-type {\n",
       "        vertical-align: middle;\n",
       "    }\n",
       "\n",
       "    .dataframe tbody tr th {\n",
       "        vertical-align: top;\n",
       "    }\n",
       "\n",
       "    .dataframe thead th {\n",
       "        text-align: right;\n",
       "    }\n",
       "</style>\n",
       "<table border=\"1\" class=\"dataframe\">\n",
       "  <thead>\n",
       "    <tr style=\"text-align: right;\">\n",
       "      <th></th>\n",
       "      <th>pmid</th>\n",
       "      <th>pub_date</th>\n",
       "      <th>pub_title</th>\n",
       "      <th>journal_title</th>\n",
       "      <th>doi</th>\n",
       "      <th>abstract</th>\n",
       "      <th>relative_citation_ratio</th>\n",
       "      <th>citation_count</th>\n",
       "      <th>citations_per_year</th>\n",
       "      <th>num_major_topics</th>\n",
       "      <th>major_topics</th>\n",
       "      <th>num_minor_topics</th>\n",
       "      <th>minor_topics</th>\n",
       "      <th>concept_list</th>\n",
       "      <th>yearly_citation_counts</th>\n",
       "    </tr>\n",
       "  </thead>\n",
       "  <tbody>\n",
       "    <tr>\n",
       "      <th>13517348</th>\n",
       "      <td>26544177</td>\n",
       "      <td>2015-11-06</td>\n",
       "      <td>Determinants of Visceral Leishmaniasis: A Case...</td>\n",
       "      <td>PLoS neglected tropical diseases</td>\n",
       "      <td>10.1371/journal.pntd.0004187</td>\n",
       "      <td>Improving knowledge on local determinants of v...</td>\n",
       "      <td>1.00</td>\n",
       "      <td>13</td>\n",
       "      <td>1.85714</td>\n",
       "      <td>NaN</td>\n",
       "      <td>NaN</td>\n",
       "      <td>22.0</td>\n",
       "      <td>[\"Adolescent\",\"Adult\",\"Age Factors\",\"Aged\",\"Ag...</td>\n",
       "      <td>[\"Improving (qualifier value)\",\"Use of\",\"Discu...</td>\n",
       "      <td>{2016:1,2017:1,2018:4,2019:1,2020:2}</td>\n",
       "    </tr>\n",
       "    <tr>\n",
       "      <th>13517349</th>\n",
       "      <td>33027166</td>\n",
       "      <td>2020-11-01</td>\n",
       "      <td>What Factors Increase Revision Surgery Risk Wh...</td>\n",
       "      <td>Journal of orthopaedic trauma</td>\n",
       "      <td>10.1097/BOT.0000000000001936</td>\n",
       "      <td>HEALTH was a randomized controlled trial compa...</td>\n",
       "      <td>0.23</td>\n",
       "      <td>1</td>\n",
       "      <td>0.50000</td>\n",
       "      <td>3.0</td>\n",
       "      <td>[\"Arthroplasty, Replacement, Hip\",\"Femoral Nec...</td>\n",
       "      <td>6.0</td>\n",
       "      <td>[\"Aged\",\"Bone Cements\",\"Female\",\"Humans\",\"Reop...</td>\n",
       "      <td>[\"Surgery specialty\",\"Increased\",\"month\",\"Pati...</td>\n",
       "      <td>NaN</td>\n",
       "    </tr>\n",
       "    <tr>\n",
       "      <th>13517350</th>\n",
       "      <td>22809828</td>\n",
       "      <td>2012-07-17</td>\n",
       "      <td>Seed shape in model legumes: approximation by ...</td>\n",
       "      <td>Journal of plant physiology</td>\n",
       "      <td>10.1016/j.jplph.2012.05.019</td>\n",
       "      <td>Seed shape in the model legumes Lotus japonicu...</td>\n",
       "      <td>0.23</td>\n",
       "      <td>7</td>\n",
       "      <td>0.70000</td>\n",
       "      <td>1.0</td>\n",
       "      <td>[\"Models, Biological\"]</td>\n",
       "      <td>9.0</td>\n",
       "      <td>[\"Analysis of Variance\",\"Desiccation\",\"Ethylen...</td>\n",
       "      <td>[\"Disease\",\"Morphology\",\"Mutant\",\"Study models...</td>\n",
       "      <td>{2016:1,2020:1,2021:2,2022:2}</td>\n",
       "    </tr>\n",
       "    <tr>\n",
       "      <th>13517351</th>\n",
       "      <td>32457164</td>\n",
       "      <td>2020-05-26</td>\n",
       "      <td>Imperfect transparency and camouflage in glass...</td>\n",
       "      <td>Proceedings of the National Academy of Science...</td>\n",
       "      <td>10.1073/pnas.1919417117</td>\n",
       "      <td>Camouflage patterns prevent detection and/or r...</td>\n",
       "      <td>1.79</td>\n",
       "      <td>9</td>\n",
       "      <td>4.50000</td>\n",
       "      <td>NaN</td>\n",
       "      <td>NaN</td>\n",
       "      <td>12.0</td>\n",
       "      <td>[\"Adaptation, Biological\",\"Animals\",\"Anura\",\"C...</td>\n",
       "      <td>[\"Biological Camouflage\",\"Increasing\",\"Color\",...</td>\n",
       "      <td>{2020:1,2021:2}</td>\n",
       "    </tr>\n",
       "    <tr>\n",
       "      <th>13517352</th>\n",
       "      <td>25390051</td>\n",
       "      <td>2014-11-13</td>\n",
       "      <td>Antibiotic resistant Shigella is a major cause...</td>\n",
       "      <td>Journal of infection in developing countries</td>\n",
       "      <td>10.3855/jidc.4396</td>\n",
       "      <td>Diarrhoea remains a major cause of illness in ...</td>\n",
       "      <td>0.49</td>\n",
       "      <td>11</td>\n",
       "      <td>1.37500</td>\n",
       "      <td>1.0</td>\n",
       "      <td>[\"Drug Resistance, Bacterial\"]</td>\n",
       "      <td>22.0</td>\n",
       "      <td>[\"Adolescent\",\"Adult\",\"Aged\",\"Aged, 80 and ove...</td>\n",
       "      <td>[\"Papua New Guinea\",\"Burden\",\"Established\",\"Di...</td>\n",
       "      <td>{2014:1,2017:1,2019:2,2020:1,2021:1}</td>\n",
       "    </tr>\n",
       "  </tbody>\n",
       "</table>\n",
       "</div>"
      ],
      "text/plain": [
       "              pmid    pub_date   \n",
       "13517348  26544177  2015-11-06  \\\n",
       "13517349  33027166  2020-11-01   \n",
       "13517350  22809828  2012-07-17   \n",
       "13517351  32457164  2020-05-26   \n",
       "13517352  25390051  2014-11-13   \n",
       "\n",
       "                                                  pub_title   \n",
       "13517348  Determinants of Visceral Leishmaniasis: A Case...  \\\n",
       "13517349  What Factors Increase Revision Surgery Risk Wh...   \n",
       "13517350  Seed shape in model legumes: approximation by ...   \n",
       "13517351  Imperfect transparency and camouflage in glass...   \n",
       "13517352  Antibiotic resistant Shigella is a major cause...   \n",
       "\n",
       "                                              journal_title   \n",
       "13517348                   PLoS neglected tropical diseases  \\\n",
       "13517349                      Journal of orthopaedic trauma   \n",
       "13517350                        Journal of plant physiology   \n",
       "13517351  Proceedings of the National Academy of Science...   \n",
       "13517352       Journal of infection in developing countries   \n",
       "\n",
       "                                   doi   \n",
       "13517348  10.1371/journal.pntd.0004187  \\\n",
       "13517349  10.1097/BOT.0000000000001936   \n",
       "13517350   10.1016/j.jplph.2012.05.019   \n",
       "13517351       10.1073/pnas.1919417117   \n",
       "13517352             10.3855/jidc.4396   \n",
       "\n",
       "                                                   abstract   \n",
       "13517348  Improving knowledge on local determinants of v...  \\\n",
       "13517349  HEALTH was a randomized controlled trial compa...   \n",
       "13517350  Seed shape in the model legumes Lotus japonicu...   \n",
       "13517351  Camouflage patterns prevent detection and/or r...   \n",
       "13517352  Diarrhoea remains a major cause of illness in ...   \n",
       "\n",
       "          relative_citation_ratio  citation_count  citations_per_year   \n",
       "13517348                     1.00              13             1.85714  \\\n",
       "13517349                     0.23               1             0.50000   \n",
       "13517350                     0.23               7             0.70000   \n",
       "13517351                     1.79               9             4.50000   \n",
       "13517352                     0.49              11             1.37500   \n",
       "\n",
       "          num_major_topics                                       major_topics   \n",
       "13517348               NaN                                                NaN  \\\n",
       "13517349               3.0  [\"Arthroplasty, Replacement, Hip\",\"Femoral Nec...   \n",
       "13517350               1.0                             [\"Models, Biological\"]   \n",
       "13517351               NaN                                                NaN   \n",
       "13517352               1.0                     [\"Drug Resistance, Bacterial\"]   \n",
       "\n",
       "          num_minor_topics                                       minor_topics   \n",
       "13517348              22.0  [\"Adolescent\",\"Adult\",\"Age Factors\",\"Aged\",\"Ag...  \\\n",
       "13517349               6.0  [\"Aged\",\"Bone Cements\",\"Female\",\"Humans\",\"Reop...   \n",
       "13517350               9.0  [\"Analysis of Variance\",\"Desiccation\",\"Ethylen...   \n",
       "13517351              12.0  [\"Adaptation, Biological\",\"Animals\",\"Anura\",\"C...   \n",
       "13517352              22.0  [\"Adolescent\",\"Adult\",\"Aged\",\"Aged, 80 and ove...   \n",
       "\n",
       "                                               concept_list   \n",
       "13517348  [\"Improving (qualifier value)\",\"Use of\",\"Discu...  \\\n",
       "13517349  [\"Surgery specialty\",\"Increased\",\"month\",\"Pati...   \n",
       "13517350  [\"Disease\",\"Morphology\",\"Mutant\",\"Study models...   \n",
       "13517351  [\"Biological Camouflage\",\"Increasing\",\"Color\",...   \n",
       "13517352  [\"Papua New Guinea\",\"Burden\",\"Established\",\"Di...   \n",
       "\n",
       "                        yearly_citation_counts  \n",
       "13517348  {2016:1,2017:1,2018:4,2019:1,2020:2}  \n",
       "13517349                                   NaN  \n",
       "13517350         {2016:1,2020:1,2021:2,2022:2}  \n",
       "13517351                       {2020:1,2021:2}  \n",
       "13517352  {2014:1,2017:1,2019:2,2020:1,2021:1}  "
      ]
     },
     "execution_count": 5,
     "metadata": {},
     "output_type": "execute_result"
    }
   ],
   "source": [
    "pubmed_df.tail()"
   ]
  },
  {
   "cell_type": "code",
   "execution_count": 9,
   "metadata": {},
   "outputs": [
    {
     "name": "stderr",
     "output_type": "stream",
     "text": [
      "4626it [00:03, 2029.85it/s]"
     ]
    },
    {
     "name": "stdout",
     "output_type": "stream",
     "text": [
      "all_unique_mesh_topics.pkl is saved.\n"
     ]
    },
    {
     "name": "stderr",
     "output_type": "stream",
     "text": [
      "1004766it [00:43, 15791.84it/s]"
     ]
    },
    {
     "name": "stdout",
     "output_type": "stream",
     "text": [
      "all_unique_mesh_topics.pkl is saved.\n"
     ]
    },
    {
     "name": "stderr",
     "output_type": "stream",
     "text": [
      "2002495it [01:22, 8295.60it/s] "
     ]
    },
    {
     "name": "stdout",
     "output_type": "stream",
     "text": [
      "all_unique_mesh_topics.pkl is saved.\n"
     ]
    },
    {
     "name": "stderr",
     "output_type": "stream",
     "text": [
      "3003030it [02:02, 7249.63it/s] "
     ]
    },
    {
     "name": "stdout",
     "output_type": "stream",
     "text": [
      "all_unique_mesh_topics.pkl is saved.\n"
     ]
    },
    {
     "name": "stderr",
     "output_type": "stream",
     "text": [
      "4004953it [02:44, 6642.26it/s] "
     ]
    },
    {
     "name": "stdout",
     "output_type": "stream",
     "text": [
      "all_unique_mesh_topics.pkl is saved.\n"
     ]
    },
    {
     "name": "stderr",
     "output_type": "stream",
     "text": [
      "5002878it [03:25, 5357.51it/s] "
     ]
    },
    {
     "name": "stdout",
     "output_type": "stream",
     "text": [
      "all_unique_mesh_topics.pkl is saved.\n"
     ]
    },
    {
     "name": "stderr",
     "output_type": "stream",
     "text": [
      "6003426it [04:07, 4072.76it/s] "
     ]
    },
    {
     "name": "stdout",
     "output_type": "stream",
     "text": [
      "all_unique_mesh_topics.pkl is saved.\n"
     ]
    },
    {
     "name": "stderr",
     "output_type": "stream",
     "text": [
      "7003521it [04:49, 3669.97it/s] "
     ]
    },
    {
     "name": "stdout",
     "output_type": "stream",
     "text": [
      "all_unique_mesh_topics.pkl is saved.\n"
     ]
    },
    {
     "name": "stderr",
     "output_type": "stream",
     "text": [
      "8004131it [05:32, 3355.14it/s] "
     ]
    },
    {
     "name": "stdout",
     "output_type": "stream",
     "text": [
      "all_unique_mesh_topics.pkl is saved.\n"
     ]
    },
    {
     "name": "stderr",
     "output_type": "stream",
     "text": [
      "9004912it [06:15, 4109.55it/s] "
     ]
    },
    {
     "name": "stdout",
     "output_type": "stream",
     "text": [
      "all_unique_mesh_topics.pkl is saved.\n"
     ]
    },
    {
     "name": "stderr",
     "output_type": "stream",
     "text": [
      "10003378it [06:58, 2778.70it/s]"
     ]
    },
    {
     "name": "stdout",
     "output_type": "stream",
     "text": [
      "all_unique_mesh_topics.pkl is saved.\n"
     ]
    },
    {
     "name": "stderr",
     "output_type": "stream",
     "text": [
      "11004181it [07:42, 2664.16it/s] "
     ]
    },
    {
     "name": "stdout",
     "output_type": "stream",
     "text": [
      "all_unique_mesh_topics.pkl is saved.\n"
     ]
    },
    {
     "name": "stderr",
     "output_type": "stream",
     "text": [
      "12003294it [08:26, 2112.65it/s] "
     ]
    },
    {
     "name": "stdout",
     "output_type": "stream",
     "text": [
      "all_unique_mesh_topics.pkl is saved.\n"
     ]
    },
    {
     "name": "stderr",
     "output_type": "stream",
     "text": [
      "13004367it [09:12, 2089.35it/s] "
     ]
    },
    {
     "name": "stdout",
     "output_type": "stream",
     "text": [
      "all_unique_mesh_topics.pkl is saved.\n"
     ]
    },
    {
     "name": "stderr",
     "output_type": "stream",
     "text": [
      "13517353it [09:33, 23589.24it/s]\n"
     ]
    },
    {
     "name": "stdout",
     "output_type": "stream",
     "text": [
      "13517353\n",
      "all_unique_mesh_topics.pkl is saved.\n"
     ]
    }
   ],
   "source": [
    "import re\n",
    "import numpy as np\n",
    "\n",
    "all_unique_mesh_topics = []\n",
    "\n",
    "# Iterate over rows in the DataFrame\n",
    "for index, row in tqdm(pubmed_df.iterrows()):\n",
    "    \n",
    "    minor, majors = [], []\n",
    "\n",
    "    if str(row['minor_topics']) != 'nan':\n",
    "        minors = re.findall(r'\"(.*?)\"', str(row['minor_topics']))\n",
    "    if str(row['major_topics']) != 'nan':\n",
    "        majors = re.findall(r'\"(.*?)\"', str(row['major_topics']))\n",
    "        \n",
    "    unique_mesh_topics = ';'.join(list(set(minors + majors)))\n",
    "    all_unique_mesh_topics.append(unique_mesh_topics)\n",
    "\n",
    "    if index % 1000000 == 0:\n",
    "        with open(PICKLES_ADDRESS + 'all_unique_mesh_topics.pkl', 'wb') as handle:\n",
    "            pickle.dump(all_unique_mesh_topics, handle)\n",
    "        print('all_unique_mesh_topics.pkl is saved.')\n",
    "\n",
    "print(len(all_unique_mesh_topics))\n",
    "with open(PICKLES_ADDRESS + 'all_unique_mesh_topics.pkl', 'wb') as handle:\n",
    "    pickle.dump(all_unique_mesh_topics, handle)\n",
    "print('all_unique_mesh_topics.pkl is saved.')"
   ]
  },
  {
   "cell_type": "code",
   "execution_count": 6,
   "metadata": {},
   "outputs": [
    {
     "data": {
      "text/plain": [
       "['Hepatocyte Nuclear Factor 3-alpha;Estrogen Receptor alpha;Plasmids;Snail Family Transcription Factors;RNA, Messenger;Cadherins;Epithelial Cells;Humans;Gene Knockdown Techniques;MCF-7 Cells;Female;Breast Neoplasms;Protein Processing, Post-Translational;Antigens, CD;Epithelial-Mesenchymal Transition',\n",
       " 'Kaempferols;Multigene Family;Arabidopsis Proteins;Flavonoids;Sequence Homology, Amino Acid;Phylogeny;Kinetics;Arylsulfotransferase;Isoenzymes;Sulfates;Molecular Structure;Cloning, Molecular;Molecular Sequence Data;Sulfotransferases;Amino Acid Sequence;Arabidopsis;Substrate Specificity',\n",
       " 'Kaempferols;Multigene Family;Arabidopsis Proteins;Flavonoids;Sequence Homology, Amino Acid;Phylogeny;Kinetics;Arylsulfotransferase;Isoenzymes;Sulfates;Molecular Structure;Cloning, Molecular;Molecular Sequence Data;Sulfotransferases;Amino Acid Sequence;Arabidopsis;Substrate Specificity',\n",
       " 'Staphylococcal Infections;Drug Resistance, Microbial;Staphylococcus aureus;Humans;Bacterial Proteins;Gene Expression Regulation, Bacterial;Toxin-Antitoxin Systems;Osmotic Pressure;Genomic Islands;Hydrogen Peroxide',\n",
       " 'Rare Diseases;Middle Aged;Humans;Female;Porphyria Cutanea Tarda',\n",
       " 'Benzoxazines;Delayed-Action Preparations;Alkynes;Chemistry, Pharmaceutical;Solubility;Cyclopropanes;Excipients;Hardness Tests;Drug Compounding;Tablets;Reverse Transcriptase Inhibitors',\n",
       " 'Immunoglobulin Heavy Chains;Sharks;Animals;Humans;Models, Molecular;Protein Structure, Tertiary;Binding Sites, Antibody;Binding Sites;Flow Cytometry;Gene Library',\n",
       " 'DNA Barcoding, Taxonomic;Phylogeny;Lepidoptera;Animals;Female',\n",
       " 'Autoantibodies;Glutamate Decarboxylase;Child;Diabetes Mellitus, Type 1;Humans;Retrospective Studies;Autoantigens;Female;Male;Child, Preschool;Epilepsy;Cohort Studies;Prevalence',\n",
       " 'Autoantibodies;Glutamate Decarboxylase;Child;Diabetes Mellitus, Type 1;Humans;Retrospective Studies;Autoantigens;Female;Male;Child, Preschool;Epilepsy;Cohort Studies;Prevalence']"
      ]
     },
     "execution_count": 6,
     "metadata": {},
     "output_type": "execute_result"
    }
   ],
   "source": [
    "with open(PICKLES_ADDRESS + 'all_unique_mesh_topics.pkl', 'rb') as handle:\n",
    "    all_unique_mesh_topics = pickle.load(handle)\n",
    "\n",
    "all_unique_mesh_topics[:10]"
   ]
  },
  {
   "cell_type": "code",
   "execution_count": 7,
   "metadata": {},
   "outputs": [
    {
     "data": {
      "text/plain": [
       "13517353"
      ]
     },
     "execution_count": 7,
     "metadata": {},
     "output_type": "execute_result"
    }
   ],
   "source": [
    "len(all_unique_mesh_topics)"
   ]
  },
  {
   "cell_type": "code",
   "execution_count": 8,
   "metadata": {},
   "outputs": [
    {
     "data": {
      "text/html": [
       "<div>\n",
       "<style scoped>\n",
       "    .dataframe tbody tr th:only-of-type {\n",
       "        vertical-align: middle;\n",
       "    }\n",
       "\n",
       "    .dataframe tbody tr th {\n",
       "        vertical-align: top;\n",
       "    }\n",
       "\n",
       "    .dataframe thead th {\n",
       "        text-align: right;\n",
       "    }\n",
       "</style>\n",
       "<table border=\"1\" class=\"dataframe\">\n",
       "  <thead>\n",
       "    <tr style=\"text-align: right;\">\n",
       "      <th></th>\n",
       "      <th>pmid</th>\n",
       "      <th>pub_date</th>\n",
       "      <th>pub_title</th>\n",
       "      <th>journal_title</th>\n",
       "      <th>doi</th>\n",
       "      <th>abstract</th>\n",
       "      <th>relative_citation_ratio</th>\n",
       "      <th>citation_count</th>\n",
       "      <th>citations_per_year</th>\n",
       "      <th>num_major_topics</th>\n",
       "      <th>major_topics</th>\n",
       "      <th>num_minor_topics</th>\n",
       "      <th>minor_topics</th>\n",
       "      <th>concept_list</th>\n",
       "      <th>yearly_citation_counts</th>\n",
       "      <th>unique_mesh_topics</th>\n",
       "    </tr>\n",
       "  </thead>\n",
       "  <tbody>\n",
       "    <tr>\n",
       "      <th>0</th>\n",
       "      <td>28867731</td>\n",
       "      <td>2017-01-01</td>\n",
       "      <td>FOXA1 Induces E-Cadherin Expression at the Pro...</td>\n",
       "      <td>Biological &amp; pharmaceutical bulletin</td>\n",
       "      <td>10.1248/bpb.b17-00307</td>\n",
       "      <td>Epithelial-to-mesenchymal transition (EMT) is ...</td>\n",
       "      <td>0.88</td>\n",
       "      <td>18</td>\n",
       "      <td>3.600000</td>\n",
       "      <td>NaN</td>\n",
       "      <td>NaN</td>\n",
       "      <td>15.0</td>\n",
       "      <td>[\"Antigens, CD\",\"Breast Neoplasms\",\"Cadherins\"...</td>\n",
       "      <td>[\"SFN protein, human\",\"Hepatocyte Nuclear Fact...</td>\n",
       "      <td>{2019:5,2020:3,2021:1,2022:2}</td>\n",
       "      <td>Hepatocyte Nuclear Factor 3-alpha;Estrogen Rec...</td>\n",
       "    </tr>\n",
       "    <tr>\n",
       "      <th>1</th>\n",
       "      <td>23611783</td>\n",
       "      <td>2013-04-20</td>\n",
       "      <td>Identification and characterization of a novel...</td>\n",
       "      <td>Biochemical and biophysical research communica...</td>\n",
       "      <td>10.1016/j.bbrc.2013.04.022</td>\n",
       "      <td>In plants, flavonoids have been shown to be su...</td>\n",
       "      <td>0.55</td>\n",
       "      <td>15</td>\n",
       "      <td>1.666670</td>\n",
       "      <td>NaN</td>\n",
       "      <td>NaN</td>\n",
       "      <td>17.0</td>\n",
       "      <td>[\"Amino Acid Sequence\",\"Arabidopsis\",\"Arabidop...</td>\n",
       "      <td>[\"Differential quality\",\"Characterization\",\"Bo...</td>\n",
       "      <td>{2013:1,2014:1,2015:1,2018:1,2019:2,2022:1}</td>\n",
       "      <td>Kaempferols;Multigene Family;Arabidopsis Prote...</td>\n",
       "    </tr>\n",
       "    <tr>\n",
       "      <th>2</th>\n",
       "      <td>31440131</td>\n",
       "      <td>2019-08-07</td>\n",
       "      <td>The Verbal Interaction Social Threat Task: A N...</td>\n",
       "      <td>Frontiers in neuroscience</td>\n",
       "      <td>10.3389/fnins.2019.00830</td>\n",
       "      <td>a priori In recent years, digital communicatio...</td>\n",
       "      <td>0.31</td>\n",
       "      <td>2</td>\n",
       "      <td>0.666667</td>\n",
       "      <td>NaN</td>\n",
       "      <td>NaN</td>\n",
       "      <td>NaN</td>\n",
       "      <td>NaN</td>\n",
       "      <td>[\"Neural\",\"Societies\",\"conversation\",\"Moderate...</td>\n",
       "      <td>{2021:1}</td>\n",
       "      <td>Kaempferols;Multigene Family;Arabidopsis Prote...</td>\n",
       "    </tr>\n",
       "    <tr>\n",
       "      <th>3</th>\n",
       "      <td>30551143</td>\n",
       "      <td>2019-02-28</td>\n",
       "      <td>Functionality and cross-regulation of the four...</td>\n",
       "      <td>Nucleic acids research</td>\n",
       "      <td>10.1093/nar/gky1256</td>\n",
       "      <td>Toxin-antitoxin (TA) systems are ubiquitous am...</td>\n",
       "      <td>1.37</td>\n",
       "      <td>14</td>\n",
       "      <td>4.666670</td>\n",
       "      <td>NaN</td>\n",
       "      <td>NaN</td>\n",
       "      <td>10.0</td>\n",
       "      <td>[\"Bacterial Proteins\",\"Drug Resistance, Microb...</td>\n",
       "      <td>[\"Antibiotic Resistance, Microbial\",\"Cross-Tal...</td>\n",
       "      <td>{2019:3,2020:2,2021:5,2022:2}</td>\n",
       "      <td>Staphylococcal Infections;Drug Resistance, Mic...</td>\n",
       "    </tr>\n",
       "    <tr>\n",
       "      <th>4</th>\n",
       "      <td>30229639</td>\n",
       "      <td>2018-09-18</td>\n",
       "      <td>Non-familial porphyria cutanea tarda: a rare d...</td>\n",
       "      <td>Giornale italiano di dermatologia e venereolog...</td>\n",
       "      <td>10.23736/S0392-0488.18.06052-2</td>\n",
       "      <td>NaN</td>\n",
       "      <td>0.00</td>\n",
       "      <td>0</td>\n",
       "      <td>0.000000</td>\n",
       "      <td>NaN</td>\n",
       "      <td>NaN</td>\n",
       "      <td>5.0</td>\n",
       "      <td>[\"Female\",\"Humans\",\"Middle Aged\",\"Porphyria Cu...</td>\n",
       "      <td>NaN</td>\n",
       "      <td>NaN</td>\n",
       "      <td>Rare Diseases;Middle Aged;Humans;Female;Porphy...</td>\n",
       "    </tr>\n",
       "  </tbody>\n",
       "</table>\n",
       "</div>"
      ],
      "text/plain": [
       "       pmid    pub_date                                          pub_title   \n",
       "0  28867731  2017-01-01  FOXA1 Induces E-Cadherin Expression at the Pro...  \\\n",
       "1  23611783  2013-04-20  Identification and characterization of a novel...   \n",
       "2  31440131  2019-08-07  The Verbal Interaction Social Threat Task: A N...   \n",
       "3  30551143  2019-02-28  Functionality and cross-regulation of the four...   \n",
       "4  30229639  2018-09-18  Non-familial porphyria cutanea tarda: a rare d...   \n",
       "\n",
       "                                       journal_title   \n",
       "0               Biological & pharmaceutical bulletin  \\\n",
       "1  Biochemical and biophysical research communica...   \n",
       "2                          Frontiers in neuroscience   \n",
       "3                             Nucleic acids research   \n",
       "4  Giornale italiano di dermatologia e venereolog...   \n",
       "\n",
       "                              doi   \n",
       "0           10.1248/bpb.b17-00307  \\\n",
       "1      10.1016/j.bbrc.2013.04.022   \n",
       "2        10.3389/fnins.2019.00830   \n",
       "3             10.1093/nar/gky1256   \n",
       "4  10.23736/S0392-0488.18.06052-2   \n",
       "\n",
       "                                            abstract  relative_citation_ratio   \n",
       "0  Epithelial-to-mesenchymal transition (EMT) is ...                     0.88  \\\n",
       "1  In plants, flavonoids have been shown to be su...                     0.55   \n",
       "2  a priori In recent years, digital communicatio...                     0.31   \n",
       "3  Toxin-antitoxin (TA) systems are ubiquitous am...                     1.37   \n",
       "4                                                NaN                     0.00   \n",
       "\n",
       "   citation_count  citations_per_year  num_major_topics major_topics   \n",
       "0              18            3.600000               NaN          NaN  \\\n",
       "1              15            1.666670               NaN          NaN   \n",
       "2               2            0.666667               NaN          NaN   \n",
       "3              14            4.666670               NaN          NaN   \n",
       "4               0            0.000000               NaN          NaN   \n",
       "\n",
       "   num_minor_topics                                       minor_topics   \n",
       "0              15.0  [\"Antigens, CD\",\"Breast Neoplasms\",\"Cadherins\"...  \\\n",
       "1              17.0  [\"Amino Acid Sequence\",\"Arabidopsis\",\"Arabidop...   \n",
       "2               NaN                                                NaN   \n",
       "3              10.0  [\"Bacterial Proteins\",\"Drug Resistance, Microb...   \n",
       "4               5.0  [\"Female\",\"Humans\",\"Middle Aged\",\"Porphyria Cu...   \n",
       "\n",
       "                                        concept_list   \n",
       "0  [\"SFN protein, human\",\"Hepatocyte Nuclear Fact...  \\\n",
       "1  [\"Differential quality\",\"Characterization\",\"Bo...   \n",
       "2  [\"Neural\",\"Societies\",\"conversation\",\"Moderate...   \n",
       "3  [\"Antibiotic Resistance, Microbial\",\"Cross-Tal...   \n",
       "4                                                NaN   \n",
       "\n",
       "                        yearly_citation_counts   \n",
       "0                {2019:5,2020:3,2021:1,2022:2}  \\\n",
       "1  {2013:1,2014:1,2015:1,2018:1,2019:2,2022:1}   \n",
       "2                                     {2021:1}   \n",
       "3                {2019:3,2020:2,2021:5,2022:2}   \n",
       "4                                          NaN   \n",
       "\n",
       "                                  unique_mesh_topics  \n",
       "0  Hepatocyte Nuclear Factor 3-alpha;Estrogen Rec...  \n",
       "1  Kaempferols;Multigene Family;Arabidopsis Prote...  \n",
       "2  Kaempferols;Multigene Family;Arabidopsis Prote...  \n",
       "3  Staphylococcal Infections;Drug Resistance, Mic...  \n",
       "4  Rare Diseases;Middle Aged;Humans;Female;Porphy...  "
      ]
     },
     "execution_count": 8,
     "metadata": {},
     "output_type": "execute_result"
    }
   ],
   "source": [
    "pubmed_df['unique_mesh_topics'] = all_unique_mesh_topics\n",
    "pubmed_df.head()"
   ]
  },
  {
   "cell_type": "code",
   "execution_count": 18,
   "metadata": {},
   "outputs": [
    {
     "data": {
      "text/plain": [
       "'D019644'"
      ]
     },
     "execution_count": 18,
     "metadata": {},
     "output_type": "execute_result"
    }
   ],
   "source": [
    "max_retries = 3\n",
    "retry_delay = 3\n",
    "\n",
    "def heading_to_dui(heading):\n",
    "    search_url = 'https://id.nlm.nih.gov/mesh/lookup/descriptor'\n",
    "    params = {\n",
    "        'label': heading,\n",
    "        'match': 'exact',\n",
    "        'year': 'current',\n",
    "        'limit': 1,\n",
    "    }\n",
    "    for attempt in range(1, max_retries + 1):\n",
    "        try:\n",
    "            # Your code that may raise the exception\n",
    "            response = requests.get(search_url, params=params)\n",
    "            # Process the response or perform other operations\n",
    "            result = response.json()\n",
    "            dui = result[0]['resource'].split('/')[-1]\n",
    "            return dui # Connection successful, exit the loop\n",
    "        except requests.exceptions.ConnectionError as e:\n",
    "            # Handling the specific exception\n",
    "            print(f\"Connection Error (attempt {attempt}):\", e)\n",
    "            if attempt < max_retries:\n",
    "                print(f\"Retrying in {retry_delay} seconds...\")\n",
    "                time.sleep(retry_delay)\n",
    "        except Exception as e:\n",
    "            # Handling other exceptions\n",
    "            print(\"An error occurred:\", e)\n",
    "            break  # Exit the loop if other exception occurs\n",
    "\n",
    "    raise TypeError(f\"Failed to establish connection after {max_retries} attempts for {heading}.\")\n",
    "\n",
    "heading_to_dui('Arthroplasty, Replacement, Hip')"
   ]
  },
  {
   "cell_type": "code",
   "execution_count": 20,
   "metadata": {},
   "outputs": [
    {
     "name": "stdout",
     "output_type": "stream",
     "text": [
      "mesh_topics_list.pkl is saved. 29749\n"
     ]
    }
   ],
   "source": [
    "# gather all unique mesh topics by splitting the string by ; at each row, then return the unique values\n",
    "distinct_topics = list(set(';'.join(pubmed_df['unique_mesh_topics'].tolist()).split(';')))\n",
    "\n",
    "with open(PICKLES_ADDRESS + 'mesh_topics_list.pkl', 'wb') as handle:\n",
    "    pickle.dump(distinct_topics, handle)\n",
    "print('mesh_topics_list.pkl is saved.', len(distinct_topics))"
   ]
  },
  {
   "cell_type": "code",
   "execution_count": 19,
   "metadata": {},
   "outputs": [
    {
     "name": "stderr",
     "output_type": "stream",
     "text": [
      "  0%|          | 2/29749 [00:00<1:03:38,  7.79it/s]"
     ]
    },
    {
     "name": "stdout",
     "output_type": "stream",
     "text": [
      "heading2dui.pkl is saved.\n"
     ]
    },
    {
     "name": "stderr",
     "output_type": "stream",
     "text": [
      "  2%|▏         | 512/29749 [01:05<1:01:34,  7.91it/s]"
     ]
    },
    {
     "name": "stdout",
     "output_type": "stream",
     "text": [
      "Connection Error (attempt 1): ('Connection aborted.', RemoteDisconnected('Remote end closed connection without response'))\n",
      "Retrying in 3 seconds...\n"
     ]
    },
    {
     "name": "stderr",
     "output_type": "stream",
     "text": [
      "  3%|▎         | 949/29749 [02:04<1:01:17,  7.83it/s]"
     ]
    },
    {
     "name": "stdout",
     "output_type": "stream",
     "text": [
      "An error occurred: list index out of range\n",
      "==================================================\n",
      "EXCEPT: Androstane-3,17-diol\n",
      "Failed to establish connection after 3 attempts for Androstane-3,17-diol.\n",
      "==================================================\n"
     ]
    },
    {
     "name": "stderr",
     "output_type": "stream",
     "text": [
      "  3%|▎         | 1036/29749 [02:15<1:01:27,  7.79it/s]"
     ]
    },
    {
     "name": "stdout",
     "output_type": "stream",
     "text": [
      "Connection Error (attempt 1): ('Connection aborted.', RemoteDisconnected('Remote end closed connection without response'))\n",
      "Retrying in 3 seconds...\n"
     ]
    },
    {
     "name": "stderr",
     "output_type": "stream",
     "text": [
      "  5%|▌         | 1544/29749 [03:24<1:56:14,  4.04it/s]"
     ]
    },
    {
     "name": "stdout",
     "output_type": "stream",
     "text": [
      "An error occurred: list index out of range\n",
      "==================================================\n",
      "EXCEPT: 7,8-Dihydro-7,8-dihydroxybenzo(a)pyrene 9,10-oxide\n",
      "Failed to establish connection after 3 attempts for 7,8-Dihydro-7,8-dihydroxybenzo(a)pyrene 9,10-oxide.\n",
      "==================================================\n"
     ]
    },
    {
     "name": "stderr",
     "output_type": "stream",
     "text": [
      "  5%|▌         | 1591/29749 [03:30<59:45,  7.85it/s]  "
     ]
    },
    {
     "name": "stdout",
     "output_type": "stream",
     "text": [
      "Connection Error (attempt 1): ('Connection aborted.', RemoteDisconnected('Remote end closed connection without response'))\n",
      "Retrying in 3 seconds...\n"
     ]
    },
    {
     "name": "stderr",
     "output_type": "stream",
     "text": [
      "  6%|▋         | 1885/29749 [04:11<58:27,  7.94it/s]  "
     ]
    },
    {
     "name": "stdout",
     "output_type": "stream",
     "text": [
      "An error occurred: list index out of range\n",
      "==================================================\n",
      "EXCEPT: Still's Disease, Adult-Onset\n",
      "Failed to establish connection after 3 attempts for Still's Disease, Adult-Onset.\n",
      "==================================================\n"
     ]
    },
    {
     "name": "stderr",
     "output_type": "stream",
     "text": [
      "  7%|▋         | 2115/29749 [04:40<1:00:10,  7.65it/s]"
     ]
    },
    {
     "name": "stdout",
     "output_type": "stream",
     "text": [
      "Connection Error (attempt 1): ('Connection aborted.', RemoteDisconnected('Remote end closed connection without response'))\n",
      "Retrying in 3 seconds...\n"
     ]
    },
    {
     "name": "stderr",
     "output_type": "stream",
     "text": [
      "  7%|▋         | 2120/29749 [04:44<2:45:05,  2.79it/s]"
     ]
    },
    {
     "name": "stdout",
     "output_type": "stream",
     "text": [
      "An error occurred: list index out of range\n",
      "==================================================\n",
      "EXCEPT: Whites\n",
      "Failed to establish connection after 3 attempts for Whites.\n",
      "==================================================\n"
     ]
    },
    {
     "name": "stderr",
     "output_type": "stream",
     "text": [
      "  7%|▋         | 2208/29749 [04:55<59:57,  7.65it/s]  "
     ]
    },
    {
     "name": "stdout",
     "output_type": "stream",
     "text": [
      "An error occurred: list index out of range\n",
      "==================================================\n",
      "EXCEPT: Bartholin's Glands\n",
      "Failed to establish connection after 3 attempts for Bartholin's Glands.\n",
      "==================================================\n"
     ]
    },
    {
     "name": "stderr",
     "output_type": "stream",
     "text": [
      "  8%|▊         | 2384/29749 [05:18<58:34,  7.79it/s]  "
     ]
    },
    {
     "name": "stdout",
     "output_type": "stream",
     "text": [
      "An error occurred: list index out of range\n",
      "==================================================\n",
      "EXCEPT: Reconstructive Surgical Procedures\n",
      "Failed to establish connection after 3 attempts for Reconstructive Surgical Procedures.\n",
      "==================================================\n"
     ]
    },
    {
     "name": "stderr",
     "output_type": "stream",
     "text": [
      "  8%|▊         | 2486/29749 [05:31<57:36,  7.89it/s]"
     ]
    },
    {
     "name": "stdout",
     "output_type": "stream",
     "text": [
      "An error occurred: list index out of range\n",
      "==================================================\n",
      "EXCEPT: Dentist's Role\n",
      "Failed to establish connection after 3 attempts for Dentist's Role.\n",
      "==================================================\n"
     ]
    },
    {
     "name": "stderr",
     "output_type": "stream",
     "text": [
      "  9%|▊         | 2544/29749 [05:39<59:08,  7.67it/s]  "
     ]
    },
    {
     "name": "stdout",
     "output_type": "stream",
     "text": [
      "An error occurred: list index out of range\n",
      "==================================================\n",
      "EXCEPT: Asian Americans\n",
      "Failed to establish connection after 3 attempts for Asian Americans.\n",
      "==================================================\n"
     ]
    },
    {
     "name": "stderr",
     "output_type": "stream",
     "text": [
      "  9%|▉         | 2637/29749 [05:50<57:06,  7.91it/s]"
     ]
    },
    {
     "name": "stdout",
     "output_type": "stream",
     "text": [
      "Connection Error (attempt 1): ('Connection aborted.', RemoteDisconnected('Remote end closed connection without response'))\n",
      "Retrying in 3 seconds...\n"
     ]
    },
    {
     "name": "stderr",
     "output_type": "stream",
     "text": [
      "  9%|▉         | 2711/29749 [06:03<57:38,  7.82it/s]  "
     ]
    },
    {
     "name": "stdout",
     "output_type": "stream",
     "text": [
      "An error occurred: list index out of range\n",
      "==================================================\n",
      "EXCEPT: Cote d'Ivoire\n",
      "Failed to establish connection after 3 attempts for Cote d'Ivoire.\n",
      "==================================================\n"
     ]
    },
    {
     "name": "stderr",
     "output_type": "stream",
     "text": [
      "  9%|▉         | 2736/29749 [06:06<56:40,  7.94it/s]"
     ]
    },
    {
     "name": "stdout",
     "output_type": "stream",
     "text": [
      "An error occurred: list index out of range\n",
      "==================================================\n",
      "EXCEPT: Blacks\n",
      "Failed to establish connection after 3 attempts for Blacks.\n",
      "==================================================\n"
     ]
    },
    {
     "name": "stderr",
     "output_type": "stream",
     "text": [
      "  9%|▉         | 2817/29749 [06:17<57:05,  7.86it/s]  "
     ]
    },
    {
     "name": "stdout",
     "output_type": "stream",
     "text": [
      "An error occurred: list index out of range\n",
      "==================================================\n",
      "EXCEPT: Tietze's Syndrome\n",
      "Failed to establish connection after 3 attempts for Tietze's Syndrome.\n",
      "==================================================\n"
     ]
    },
    {
     "name": "stderr",
     "output_type": "stream",
     "text": [
      " 11%|█         | 3156/29749 [07:00<56:30,  7.84it/s]  "
     ]
    },
    {
     "name": "stdout",
     "output_type": "stream",
     "text": [
      "Connection Error (attempt 1): ('Connection aborted.', RemoteDisconnected('Remote end closed connection without response'))\n",
      "Retrying in 3 seconds...\n"
     ]
    },
    {
     "name": "stderr",
     "output_type": "stream",
     "text": [
      " 11%|█         | 3249/29749 [07:15<56:13,  7.86it/s]  "
     ]
    },
    {
     "name": "stdout",
     "output_type": "stream",
     "text": [
      "An error occurred: list index out of range\n",
      "==================================================\n",
      "EXCEPT: Bunion, Tailor's\n",
      "Failed to establish connection after 3 attempts for Bunion, Tailor's.\n",
      "==================================================\n"
     ]
    },
    {
     "name": "stderr",
     "output_type": "stream",
     "text": [
      " 11%|█         | 3309/29749 [07:23<58:15,  7.56it/s]"
     ]
    },
    {
     "name": "stdout",
     "output_type": "stream",
     "text": [
      "An error occurred: list index out of range\n",
      "==================================================\n",
      "EXCEPT: African Continental Ancestry Group\n",
      "Failed to establish connection after 3 attempts for African Continental Ancestry Group.\n",
      "==================================================\n"
     ]
    },
    {
     "name": "stderr",
     "output_type": "stream",
     "text": [
      " 12%|█▏        | 3487/29749 [07:45<56:09,  7.80it/s]  "
     ]
    },
    {
     "name": "stdout",
     "output_type": "stream",
     "text": [
      "An error occurred: list index out of range\n",
      "==================================================\n",
      "EXCEPT: Alaskan Natives\n",
      "Failed to establish connection after 3 attempts for Alaskan Natives.\n",
      "==================================================\n"
     ]
    },
    {
     "name": "stderr",
     "output_type": "stream",
     "text": [
      " 13%|█▎        | 3862/29749 [08:33<53:52,  8.01it/s]  "
     ]
    },
    {
     "name": "stdout",
     "output_type": "stream",
     "text": [
      "Connection Error (attempt 1): ('Connection aborted.', RemoteDisconnected('Remote end closed connection without response'))\n",
      "Retrying in 3 seconds...\n"
     ]
    },
    {
     "name": "stderr",
     "output_type": "stream",
     "text": [
      " 14%|█▍        | 4149/29749 [09:13<53:08,  8.03it/s]  "
     ]
    },
    {
     "name": "stdout",
     "output_type": "stream",
     "text": [
      "An error occurred: list index out of range\n",
      "==================================================\n",
      "EXCEPT: Democratic People's Republic of Korea\n",
      "Failed to establish connection after 3 attempts for Democratic People's Republic of Korea.\n",
      "==================================================\n"
     ]
    },
    {
     "name": "stderr",
     "output_type": "stream",
     "text": [
      " 15%|█▍        | 4365/29749 [09:40<54:21,  7.78it/s]  "
     ]
    },
    {
     "name": "stdout",
     "output_type": "stream",
     "text": [
      "Connection Error (attempt 1): ('Connection aborted.', RemoteDisconnected('Remote end closed connection without response'))\n",
      "Retrying in 3 seconds...\n"
     ]
    },
    {
     "name": "stderr",
     "output_type": "stream",
     "text": [
      " 17%|█▋        | 4996/29749 [11:08<54:03,  7.63it/s]  "
     ]
    },
    {
     "name": "stdout",
     "output_type": "stream",
     "text": [
      "Connection Error (attempt 1): ('Connection aborted.', RemoteDisconnected('Remote end closed connection without response'))\n",
      "Retrying in 3 seconds...\n"
     ]
    },
    {
     "name": "stderr",
     "output_type": "stream",
     "text": [
      " 18%|█▊        | 5259/29749 [11:44<50:46,  8.04it/s]  "
     ]
    },
    {
     "name": "stdout",
     "output_type": "stream",
     "text": [
      "An error occurred: list index out of range\n",
      "==================================================\n",
      "EXCEPT: Women's Health\n",
      "Failed to establish connection after 3 attempts for Women's Health.\n",
      "==================================================\n"
     ]
    },
    {
     "name": "stderr",
     "output_type": "stream",
     "text": [
      " 18%|█▊        | 5497/29749 [12:15<51:09,  7.90it/s]  "
     ]
    },
    {
     "name": "stdout",
     "output_type": "stream",
     "text": [
      "Connection Error (attempt 1): ('Connection aborted.', RemoteDisconnected('Remote end closed connection without response'))\n",
      "Retrying in 3 seconds...\n"
     ]
    },
    {
     "name": "stderr",
     "output_type": "stream",
     "text": [
      " 20%|██        | 6091/29749 [13:34<49:43,  7.93it/s]  "
     ]
    },
    {
     "name": "stdout",
     "output_type": "stream",
     "text": [
      "Connection Error (attempt 1): ('Connection aborted.', RemoteDisconnected('Remote end closed connection without response'))\n",
      "Retrying in 3 seconds...\n"
     ]
    },
    {
     "name": "stderr",
     "output_type": "stream",
     "text": [
      " 21%|██        | 6265/29749 [14:00<1:13:52,  5.30it/s]"
     ]
    },
    {
     "name": "stdout",
     "output_type": "stream",
     "text": [
      "An error occurred: list index out of range\n",
      "==================================================\n",
      "EXCEPT: 2H-Benzo(a)quinolizin-2-ol, 2-Ethyl-1,3,4,6,7,11b-hexahydro-3-isobutyl-9,10-dimethoxy-\n",
      "Failed to establish connection after 3 attempts for 2H-Benzo(a)quinolizin-2-ol, 2-Ethyl-1,3,4,6,7,11b-hexahydro-3-isobutyl-9,10-dimethoxy-.\n",
      "==================================================\n"
     ]
    },
    {
     "name": "stderr",
     "output_type": "stream",
     "text": [
      " 22%|██▏       | 6468/29749 [14:25<48:51,  7.94it/s]  "
     ]
    },
    {
     "name": "stdout",
     "output_type": "stream",
     "text": [
      "An error occurred: list index out of range\n",
      "==================================================\n",
      "EXCEPT: Hantavirus\n",
      "Failed to establish connection after 3 attempts for Hantavirus.\n",
      "==================================================\n"
     ]
    },
    {
     "name": "stderr",
     "output_type": "stream",
     "text": [
      " 22%|██▏       | 6613/29749 [14:44<49:20,  7.82it/s]"
     ]
    },
    {
     "name": "stdout",
     "output_type": "stream",
     "text": [
      "Connection Error (attempt 1): ('Connection aborted.', RemoteDisconnected('Remote end closed connection without response'))\n",
      "Retrying in 3 seconds...\n"
     ]
    },
    {
     "name": "stderr",
     "output_type": "stream",
     "text": [
      " 24%|██▎       | 7011/29749 [15:38<47:32,  7.97it/s]  "
     ]
    },
    {
     "name": "stdout",
     "output_type": "stream",
     "text": [
      "An error occurred: list index out of range\n",
      "==================================================\n",
      "EXCEPT: Far East\n",
      "Failed to establish connection after 3 attempts for Far East.\n",
      "==================================================\n"
     ]
    },
    {
     "name": "stderr",
     "output_type": "stream",
     "text": [
      " 24%|██▍       | 7121/29749 [15:52<47:48,  7.89it/s]"
     ]
    },
    {
     "name": "stdout",
     "output_type": "stream",
     "text": [
      "Connection Error (attempt 1): ('Connection aborted.', RemoteDisconnected('Remote end closed connection without response'))\n",
      "Retrying in 3 seconds...\n"
     ]
    },
    {
     "name": "stderr",
     "output_type": "stream",
     "text": [
      " 24%|██▍       | 7222/29749 [16:08<49:48,  7.54it/s]  "
     ]
    },
    {
     "name": "stdout",
     "output_type": "stream",
     "text": [
      "An error occurred: list index out of range\n",
      "==================================================\n",
      "EXCEPT: Bowen's Disease\n",
      "Failed to establish connection after 3 attempts for Bowen's Disease.\n",
      "==================================================\n"
     ]
    },
    {
     "name": "stderr",
     "output_type": "stream",
     "text": [
      " 25%|██▌       | 7488/29749 [16:42<47:47,  7.76it/s]  "
     ]
    },
    {
     "name": "stdout",
     "output_type": "stream",
     "text": [
      "An error occurred: list index out of range\n",
      "==================================================\n",
      "EXCEPT: 2,4,5-Trichlorophenoxyacetic Acid\n",
      "Failed to establish connection after 3 attempts for 2,4,5-Trichlorophenoxyacetic Acid.\n",
      "==================================================\n"
     ]
    },
    {
     "name": "stderr",
     "output_type": "stream",
     "text": [
      " 26%|██▌       | 7641/29749 [17:02<47:00,  7.84it/s]  "
     ]
    },
    {
     "name": "stdout",
     "output_type": "stream",
     "text": [
      "Connection Error (attempt 1): ('Connection aborted.', RemoteDisconnected('Remote end closed connection without response'))\n",
      "Retrying in 3 seconds...\n"
     ]
    },
    {
     "name": "stderr",
     "output_type": "stream",
     "text": [
      " 26%|██▌       | 7731/29749 [17:17<1:34:47,  3.87it/s]"
     ]
    },
    {
     "name": "stdout",
     "output_type": "stream",
     "text": [
      "An error occurred: list index out of range\n",
      "==================================================\n",
      "EXCEPT: 12-Hydroxy-5,8,10,14-eicosatetraenoic Acid\n",
      "Failed to establish connection after 3 attempts for 12-Hydroxy-5,8,10,14-eicosatetraenoic Acid.\n",
      "==================================================\n"
     ]
    },
    {
     "name": "stderr",
     "output_type": "stream",
     "text": [
      " 26%|██▋       | 7843/29749 [17:31<45:43,  7.99it/s]  "
     ]
    },
    {
     "name": "stdout",
     "output_type": "stream",
     "text": [
      "An error occurred: list index out of range\n",
      "==================================================\n",
      "EXCEPT: Lactobacillus paracasei\n",
      "Failed to establish connection after 3 attempts for Lactobacillus paracasei.\n",
      "==================================================\n"
     ]
    },
    {
     "name": "stderr",
     "output_type": "stream",
     "text": [
      " 28%|██▊       | 8330/29749 [18:33<45:47,  7.80it/s]  "
     ]
    },
    {
     "name": "stdout",
     "output_type": "stream",
     "text": [
      "Connection Error (attempt 1): ('Connection aborted.', RemoteDisconnected('Remote end closed connection without response'))\n",
      "Retrying in 3 seconds...\n"
     ]
    },
    {
     "name": "stderr",
     "output_type": "stream",
     "text": [
      " 30%|██▉       | 8817/29749 [19:37<43:15,  8.06it/s]  "
     ]
    },
    {
     "name": "stdout",
     "output_type": "stream",
     "text": [
      "Connection Error (attempt 1): ('Connection aborted.', RemoteDisconnected('Remote end closed connection without response'))\n",
      "Retrying in 3 seconds...\n"
     ]
    },
    {
     "name": "stderr",
     "output_type": "stream",
     "text": [
      " 31%|███       | 9168/29749 [20:24<48:42,  7.04it/s]  "
     ]
    },
    {
     "name": "stdout",
     "output_type": "stream",
     "text": [
      "An error occurred: list index out of range\n",
      "==================================================\n",
      "EXCEPT: 9,10-Dimethyl-1,2-benzanthracene\n",
      "Failed to establish connection after 3 attempts for 9,10-Dimethyl-1,2-benzanthracene.\n",
      "==================================================\n"
     ]
    },
    {
     "name": "stderr",
     "output_type": "stream",
     "text": [
      " 31%|███▏      | 9310/29749 [20:42<42:02,  8.10it/s]"
     ]
    },
    {
     "name": "stdout",
     "output_type": "stream",
     "text": [
      "Connection Error (attempt 1): ('Connection aborted.', RemoteDisconnected('Remote end closed connection without response'))\n",
      "Retrying in 3 seconds...\n"
     ]
    },
    {
     "name": "stderr",
     "output_type": "stream",
     "text": [
      " 33%|███▎      | 9804/29749 [21:47<41:06,  8.09it/s]  "
     ]
    },
    {
     "name": "stdout",
     "output_type": "stream",
     "text": [
      "Connection Error (attempt 1): ('Connection aborted.', RemoteDisconnected('Remote end closed connection without response'))\n",
      "Retrying in 3 seconds...\n"
     ]
    },
    {
     "name": "stderr",
     "output_type": "stream",
     "text": [
      " 34%|███▎      | 10002/29749 [22:15<41:18,  7.97it/s] "
     ]
    },
    {
     "name": "stdout",
     "output_type": "stream",
     "text": [
      "heading2dui.pkl is saved.\n"
     ]
    },
    {
     "name": "stderr",
     "output_type": "stream",
     "text": [
      " 35%|███▍      | 10303/29749 [22:53<40:09,  8.07it/s]  "
     ]
    },
    {
     "name": "stdout",
     "output_type": "stream",
     "text": [
      "Connection Error (attempt 1): ('Connection aborted.', RemoteDisconnected('Remote end closed connection without response'))\n",
      "Retrying in 3 seconds...\n"
     ]
    },
    {
     "name": "stderr",
     "output_type": "stream",
     "text": [
      " 36%|███▋      | 10803/29749 [23:59<41:18,  7.65it/s]  "
     ]
    },
    {
     "name": "stdout",
     "output_type": "stream",
     "text": [
      "Connection Error (attempt 1): ('Connection aborted.', RemoteDisconnected('Remote end closed connection without response'))\n",
      "Retrying in 3 seconds...\n"
     ]
    },
    {
     "name": "stderr",
     "output_type": "stream",
     "text": [
      " 38%|███▊      | 11260/29749 [24:59<38:44,  7.95it/s]  "
     ]
    },
    {
     "name": "stdout",
     "output_type": "stream",
     "text": [
      "An error occurred: list index out of range\n",
      "==================================================\n",
      "EXCEPT: Cervical Intraepithelial Neoplasia\n",
      "Failed to establish connection after 3 attempts for Cervical Intraepithelial Neoplasia.\n",
      "==================================================\n"
     ]
    },
    {
     "name": "stderr",
     "output_type": "stream",
     "text": [
      " 38%|███▊      | 11282/29749 [25:02<38:19,  8.03it/s]"
     ]
    },
    {
     "name": "stdout",
     "output_type": "stream",
     "text": [
      "An error occurred: list index out of range\n",
      "==================================================\n",
      "EXCEPT: Inuits\n",
      "Failed to establish connection after 3 attempts for Inuits.\n",
      "==================================================\n"
     ]
    },
    {
     "name": "stderr",
     "output_type": "stream",
     "text": [
      " 38%|███▊      | 11299/29749 [25:04<38:03,  8.08it/s]"
     ]
    },
    {
     "name": "stdout",
     "output_type": "stream",
     "text": [
      "Connection Error (attempt 1): ('Connection aborted.', RemoteDisconnected('Remote end closed connection without response'))\n",
      "Retrying in 3 seconds...\n"
     ]
    },
    {
     "name": "stderr",
     "output_type": "stream",
     "text": [
      " 38%|███▊      | 11304/29749 [25:08<1:46:51,  2.88it/s]"
     ]
    },
    {
     "name": "stdout",
     "output_type": "stream",
     "text": [
      "An error occurred: list index out of range\n",
      "==================================================\n",
      "EXCEPT: Homeless Persons\n",
      "Failed to establish connection after 3 attempts for Homeless Persons.\n",
      "==================================================\n"
     ]
    },
    {
     "name": "stderr",
     "output_type": "stream",
     "text": [
      " 38%|███▊      | 11381/29749 [25:17<36:59,  8.28it/s]  "
     ]
    },
    {
     "name": "stdout",
     "output_type": "stream",
     "text": [
      "An error occurred: list index out of range\n",
      "==================================================\n",
      "EXCEPT: Russell's Viper\n",
      "Failed to establish connection after 3 attempts for Russell's Viper.\n",
      "==================================================\n"
     ]
    },
    {
     "name": "stderr",
     "output_type": "stream",
     "text": [
      " 39%|███▊      | 11456/29749 [25:27<37:11,  8.20it/s]"
     ]
    },
    {
     "name": "stdout",
     "output_type": "stream",
     "text": [
      "An error occurred: list index out of range\n",
      "==================================================\n",
      "EXCEPT: Ludwig's Angina\n",
      "Failed to establish connection after 3 attempts for Ludwig's Angina.\n",
      "==================================================\n"
     ]
    },
    {
     "name": "stderr",
     "output_type": "stream",
     "text": [
      " 39%|███▉      | 11653/29749 [25:52<37:31,  8.04it/s]  "
     ]
    },
    {
     "name": "stdout",
     "output_type": "stream",
     "text": [
      "An error occurred: list index out of range\n",
      "==================================================\n",
      "EXCEPT: 5,10-Methylenetetrahydrofolate Reductase (FADH2)\n",
      "Failed to establish connection after 3 attempts for 5,10-Methylenetetrahydrofolate Reductase (FADH2).\n",
      "==================================================\n"
     ]
    },
    {
     "name": "stderr",
     "output_type": "stream",
     "text": [
      " 39%|███▉      | 11674/29749 [25:54<36:43,  8.20it/s]"
     ]
    },
    {
     "name": "stdout",
     "output_type": "stream",
     "text": [
      "An error occurred: list index out of range\n",
      "==================================================\n",
      "EXCEPT: Whole Exome Sequencing\n",
      "Failed to establish connection after 3 attempts for Whole Exome Sequencing.\n",
      "==================================================\n"
     ]
    },
    {
     "name": "stderr",
     "output_type": "stream",
     "text": [
      " 39%|███▉      | 11696/29749 [25:57<37:08,  8.10it/s]"
     ]
    },
    {
     "name": "stdout",
     "output_type": "stream",
     "text": [
      "An error occurred: list index out of range\n",
      "==================================================\n",
      "EXCEPT: Ranvier's Nodes\n",
      "Failed to establish connection after 3 attempts for Ranvier's Nodes.\n",
      "==================================================\n"
     ]
    },
    {
     "name": "stderr",
     "output_type": "stream",
     "text": [
      " 40%|███▉      | 11795/29749 [26:09<36:16,  8.25it/s]"
     ]
    },
    {
     "name": "stdout",
     "output_type": "stream",
     "text": [
      "Connection Error (attempt 1): ('Connection aborted.', RemoteDisconnected('Remote end closed connection without response'))\n",
      "Retrying in 3 seconds...\n"
     ]
    },
    {
     "name": "stderr",
     "output_type": "stream",
     "text": [
      " 40%|███▉      | 11897/29749 [26:25<36:33,  8.14it/s]  "
     ]
    },
    {
     "name": "stdout",
     "output_type": "stream",
     "text": [
      "An error occurred: list index out of range\n",
      "==================================================\n",
      "EXCEPT: Phorbol 12,13-Dibutyrate\n",
      "Failed to establish connection after 3 attempts for Phorbol 12,13-Dibutyrate.\n",
      "==================================================\n"
     ]
    },
    {
     "name": "stderr",
     "output_type": "stream",
     "text": [
      " 40%|████      | 11943/29749 [26:31<35:27,  8.37it/s]"
     ]
    },
    {
     "name": "stdout",
     "output_type": "stream",
     "text": [
      "Connection Error (attempt 1): ('Connection aborted.', RemoteDisconnected('Remote end closed connection without response'))\n",
      "Retrying in 3 seconds...\n"
     ]
    },
    {
     "name": "stderr",
     "output_type": "stream",
     "text": [
      " 41%|████▏     | 12320/29749 [27:21<36:00,  8.07it/s]  "
     ]
    },
    {
     "name": "stdout",
     "output_type": "stream",
     "text": [
      "Connection Error (attempt 1): ('Connection aborted.', RemoteDisconnected('Remote end closed connection without response'))\n",
      "Retrying in 3 seconds...\n"
     ]
    },
    {
     "name": "stderr",
     "output_type": "stream",
     "text": [
      " 42%|████▏     | 12612/29749 [28:01<37:03,  7.71it/s]  "
     ]
    },
    {
     "name": "stdout",
     "output_type": "stream",
     "text": [
      "An error occurred: list index out of range\n",
      "==================================================\n",
      "EXCEPT: Cat's Claw\n",
      "Failed to establish connection after 3 attempts for Cat's Claw.\n",
      "==================================================\n"
     ]
    },
    {
     "name": "stderr",
     "output_type": "stream",
     "text": [
      " 43%|████▎     | 12675/29749 [28:09<35:38,  7.98it/s]"
     ]
    },
    {
     "name": "stdout",
     "output_type": "stream",
     "text": [
      "An error occurred: list index out of range\n",
      "==================================================\n",
      "EXCEPT: European Continental Ancestry Group\n",
      "Failed to establish connection after 3 attempts for European Continental Ancestry Group.\n",
      "==================================================\n"
     ]
    },
    {
     "name": "stderr",
     "output_type": "stream",
     "text": [
      " 43%|████▎     | 12732/29749 [28:16<36:14,  7.83it/s]"
     ]
    },
    {
     "name": "stdout",
     "output_type": "stream",
     "text": [
      "An error occurred: list index out of range\n",
      "==================================================\n",
      "EXCEPT: Amputation\n",
      "Failed to establish connection after 3 attempts for Amputation.\n",
      "==================================================\n"
     ]
    },
    {
     "name": "stderr",
     "output_type": "stream",
     "text": [
      " 43%|████▎     | 12877/29749 [28:35<35:45,  7.87it/s]"
     ]
    },
    {
     "name": "stdout",
     "output_type": "stream",
     "text": [
      "Connection Error (attempt 1): ('Connection aborted.', RemoteDisconnected('Remote end closed connection without response'))\n",
      "Retrying in 3 seconds...\n"
     ]
    },
    {
     "name": "stderr",
     "output_type": "stream",
     "text": [
      " 44%|████▎     | 12961/29749 [28:48<36:08,  7.74it/s]  "
     ]
    },
    {
     "name": "stdout",
     "output_type": "stream",
     "text": [
      "An error occurred: list index out of range\n",
      "==================================================\n",
      "EXCEPT: 8,11,14-Eicosatrienoic Acid\n",
      "Failed to establish connection after 3 attempts for 8,11,14-Eicosatrienoic Acid.\n",
      "==================================================\n"
     ]
    },
    {
     "name": "stderr",
     "output_type": "stream",
     "text": [
      " 45%|████▍     | 13374/29749 [29:41<34:15,  7.97it/s]"
     ]
    },
    {
     "name": "stdout",
     "output_type": "stream",
     "text": [
      "Connection Error (attempt 1): ('Connection aborted.', RemoteDisconnected('Remote end closed connection without response'))\n",
      "Retrying in 3 seconds...\n"
     ]
    },
    {
     "name": "stderr",
     "output_type": "stream",
     "text": [
      " 45%|████▌     | 13448/29749 [29:53<34:37,  7.85it/s]  "
     ]
    },
    {
     "name": "stdout",
     "output_type": "stream",
     "text": [
      "An error occurred: list index out of range\n",
      "==================================================\n",
      "EXCEPT: American Native Continental Ancestry Group\n",
      "Failed to establish connection after 3 attempts for American Native Continental Ancestry Group.\n",
      "==================================================\n"
     ]
    },
    {
     "name": "stderr",
     "output_type": "stream",
     "text": [
      " 46%|████▋     | 13784/29749 [30:36<41:47,  6.37it/s]"
     ]
    },
    {
     "name": "stdout",
     "output_type": "stream",
     "text": [
      "An error occurred: list index out of range\n",
      "==================================================\n",
      "EXCEPT: 2,3,4,5-Tetrahydro-7,8-dihydroxy-1-phenyl-1H-3-benzazepine\n",
      "Failed to establish connection after 3 attempts for 2,3,4,5-Tetrahydro-7,8-dihydroxy-1-phenyl-1H-3-benzazepine.\n",
      "==================================================\n"
     ]
    },
    {
     "name": "stderr",
     "output_type": "stream",
     "text": [
      " 47%|████▋     | 13878/29749 [30:48<33:16,  7.95it/s]"
     ]
    },
    {
     "name": "stdout",
     "output_type": "stream",
     "text": [
      "Connection Error (attempt 1): ('Connection aborted.', RemoteDisconnected('Remote end closed connection without response'))\n",
      "Retrying in 3 seconds...\n"
     ]
    },
    {
     "name": "stderr",
     "output_type": "stream",
     "text": [
      " 48%|████▊     | 14202/29749 [31:32<32:37,  7.94it/s]  "
     ]
    },
    {
     "name": "stdout",
     "output_type": "stream",
     "text": [
      "An error occurred: list index out of range\n",
      "==================================================\n",
      "EXCEPT: Alien Hand Syndrome\n",
      "Failed to establish connection after 3 attempts for Alien Hand Syndrome.\n",
      "==================================================\n"
     ]
    },
    {
     "name": "stderr",
     "output_type": "stream",
     "text": [
      " 48%|████▊     | 14278/29749 [31:42<33:23,  7.72it/s]"
     ]
    },
    {
     "name": "stdout",
     "output_type": "stream",
     "text": [
      "An error occurred: list index out of range\n",
      "==================================================\n",
      "EXCEPT: Hutchinson's Melanotic Freckle\n",
      "Failed to establish connection after 3 attempts for Hutchinson's Melanotic Freckle.\n",
      "==================================================\n"
     ]
    },
    {
     "name": "stderr",
     "output_type": "stream",
     "text": [
      " 48%|████▊     | 14378/29749 [31:54<32:09,  7.97it/s]"
     ]
    },
    {
     "name": "stdout",
     "output_type": "stream",
     "text": [
      "Connection Error (attempt 1): ('Connection aborted.', RemoteDisconnected('Remote end closed connection without response'))\n",
      "Retrying in 3 seconds...\n"
     ]
    },
    {
     "name": "stderr",
     "output_type": "stream",
     "text": [
      " 49%|████▊     | 14474/29749 [32:10<32:51,  7.75it/s]  "
     ]
    },
    {
     "name": "stdout",
     "output_type": "stream",
     "text": [
      "An error occurred: list index out of range\n",
      "==================================================\n",
      "EXCEPT: Bird Fancier's Lung\n",
      "Failed to establish connection after 3 attempts for Bird Fancier's Lung.\n",
      "==================================================\n"
     ]
    },
    {
     "name": "stderr",
     "output_type": "stream",
     "text": [
      " 51%|█████     | 15119/29749 [33:31<30:20,  8.04it/s]"
     ]
    },
    {
     "name": "stdout",
     "output_type": "stream",
     "text": [
      "An error occurred: list index out of range\n",
      "==================================================\n",
      "EXCEPT: Farmer's Lung\n",
      "Failed to establish connection after 3 attempts for Farmer's Lung.\n",
      "==================================================\n"
     ]
    },
    {
     "name": "stderr",
     "output_type": "stream",
     "text": [
      " 51%|█████     | 15131/29749 [33:33<30:12,  8.06it/s]"
     ]
    },
    {
     "name": "stdout",
     "output_type": "stream",
     "text": [
      "Connection Error (attempt 1): ('Connection aborted.', RemoteDisconnected('Remote end closed connection without response'))\n",
      "Retrying in 3 seconds...\n"
     ]
    },
    {
     "name": "stderr",
     "output_type": "stream",
     "text": [
      " 51%|█████     | 15238/29749 [33:49<30:44,  7.87it/s]  "
     ]
    },
    {
     "name": "stdout",
     "output_type": "stream",
     "text": [
      "An error occurred: list index out of range\n",
      "==================================================\n",
      "EXCEPT: King's Evil\n",
      "Failed to establish connection after 3 attempts for King's Evil.\n",
      "==================================================\n"
     ]
    },
    {
     "name": "stderr",
     "output_type": "stream",
     "text": [
      " 51%|█████▏    | 15283/29749 [33:55<29:09,  8.27it/s]"
     ]
    },
    {
     "name": "stdout",
     "output_type": "stream",
     "text": [
      "An error occurred: list index out of range\n",
      "==================================================\n",
      "EXCEPT: Lactobacillus casei\n",
      "Failed to establish connection after 3 attempts for Lactobacillus casei.\n",
      "==================================================\n"
     ]
    },
    {
     "name": "stderr",
     "output_type": "stream",
     "text": [
      " 52%|█████▏    | 15499/29749 [34:22<29:58,  7.92it/s]"
     ]
    },
    {
     "name": "stdout",
     "output_type": "stream",
     "text": [
      "An error occurred: list index out of range\n",
      "==================================================\n",
      "EXCEPT: Ringer's Solution\n",
      "Failed to establish connection after 3 attempts for Ringer's Solution.\n",
      "==================================================\n"
     ]
    },
    {
     "name": "stderr",
     "output_type": "stream",
     "text": [
      " 52%|█████▏    | 15580/29749 [34:32<28:53,  8.17it/s]"
     ]
    },
    {
     "name": "stdout",
     "output_type": "stream",
     "text": [
      "An error occurred: list index out of range\n",
      "==================================================\n",
      "EXCEPT: Lactobacillus brevis\n",
      "Failed to establish connection after 3 attempts for Lactobacillus brevis.\n",
      "==================================================\n"
     ]
    },
    {
     "name": "stderr",
     "output_type": "stream",
     "text": [
      " 53%|█████▎    | 15627/29749 [34:38<29:08,  8.08it/s]"
     ]
    },
    {
     "name": "stdout",
     "output_type": "stream",
     "text": [
      "Connection Error (attempt 1): ('Connection aborted.', RemoteDisconnected('Remote end closed connection without response'))\n",
      "Retrying in 3 seconds...\n"
     ]
    },
    {
     "name": "stderr",
     "output_type": "stream",
     "text": [
      " 53%|█████▎    | 15638/29749 [34:43<35:18,  6.66it/s]  "
     ]
    },
    {
     "name": "stdout",
     "output_type": "stream",
     "text": [
      "An error occurred: list index out of range\n",
      "==================================================\n",
      "EXCEPT: Xanthorrhoeaceae\n",
      "Failed to establish connection after 3 attempts for Xanthorrhoeaceae.\n",
      "==================================================\n"
     ]
    },
    {
     "name": "stderr",
     "output_type": "stream",
     "text": [
      " 53%|█████▎    | 15864/29749 [35:11<28:09,  8.22it/s]"
     ]
    },
    {
     "name": "stdout",
     "output_type": "stream",
     "text": [
      "An error occurred: list index out of range\n",
      "==================================================\n",
      "EXCEPT: Silo Filler's Disease\n",
      "Failed to establish connection after 3 attempts for Silo Filler's Disease.\n",
      "==================================================\n"
     ]
    },
    {
     "name": "stderr",
     "output_type": "stream",
     "text": [
      " 53%|█████▎    | 15883/29749 [35:13<28:08,  8.21it/s]"
     ]
    },
    {
     "name": "stdout",
     "output_type": "stream",
     "text": [
      "An error occurred: list index out of range\n",
      "==================================================\n",
      "EXCEPT: Sister Mary Joseph's Nodule\n",
      "Failed to establish connection after 3 attempts for Sister Mary Joseph's Nodule.\n",
      "==================================================\n"
     ]
    },
    {
     "name": "stderr",
     "output_type": "stream",
     "text": [
      " 54%|█████▍    | 16119/29749 [35:42<27:56,  8.13it/s]"
     ]
    },
    {
     "name": "stdout",
     "output_type": "stream",
     "text": [
      "Connection Error (attempt 1): ('Connection aborted.', RemoteDisconnected('Remote end closed connection without response'))\n",
      "Retrying in 3 seconds...\n"
     ]
    },
    {
     "name": "stderr",
     "output_type": "stream",
     "text": [
      " 54%|█████▍    | 16144/29749 [35:49<28:56,  7.83it/s]  "
     ]
    },
    {
     "name": "stdout",
     "output_type": "stream",
     "text": [
      "Connection Error (attempt 1): ('Connection aborted.', RemoteDisconnected('Remote end closed connection without response'))\n",
      "Retrying in 3 seconds...\n"
     ]
    },
    {
     "name": "stderr",
     "output_type": "stream",
     "text": [
      " 54%|█████▍    | 16192/29749 [35:58<27:50,  8.12it/s]  "
     ]
    },
    {
     "name": "stdout",
     "output_type": "stream",
     "text": [
      "An error occurred: list index out of range\n",
      "==================================================\n",
      "EXCEPT: Inositol 1,4,5-Trisphosphate Receptors\n",
      "Failed to establish connection after 3 attempts for Inositol 1,4,5-Trisphosphate Receptors.\n",
      "==================================================\n"
     ]
    },
    {
     "name": "stderr",
     "output_type": "stream",
     "text": [
      " 55%|█████▌    | 16498/29749 [36:35<27:44,  7.96it/s]"
     ]
    },
    {
     "name": "stdout",
     "output_type": "stream",
     "text": [
      "An error occurred: list index out of range\n",
      "==================================================\n",
      "EXCEPT: 16,16-Dimethylprostaglandin E2\n",
      "Failed to establish connection after 3 attempts for 16,16-Dimethylprostaglandin E2.\n",
      "==================================================\n"
     ]
    },
    {
     "name": "stderr",
     "output_type": "stream",
     "text": [
      " 56%|█████▌    | 16627/29749 [36:51<27:06,  8.07it/s]"
     ]
    },
    {
     "name": "stdout",
     "output_type": "stream",
     "text": [
      "Connection Error (attempt 1): ('Connection aborted.', RemoteDisconnected('Remote end closed connection without response'))\n",
      "Retrying in 3 seconds...\n"
     ]
    },
    {
     "name": "stderr",
     "output_type": "stream",
     "text": [
      " 56%|█████▌    | 16687/29749 [37:02<26:49,  8.12it/s]  "
     ]
    },
    {
     "name": "stdout",
     "output_type": "stream",
     "text": [
      "Connection Error (attempt 1): ('Connection aborted.', RemoteDisconnected('Remote end closed connection without response'))\n",
      "Retrying in 3 seconds...\n"
     ]
    },
    {
     "name": "stderr",
     "output_type": "stream",
     "text": [
      " 57%|█████▋    | 16846/29749 [37:25<26:35,  8.09it/s]  "
     ]
    },
    {
     "name": "stdout",
     "output_type": "stream",
     "text": [
      "An error occurred: list index out of range\n",
      "==================================================\n",
      "EXCEPT: Lactobacillus sakei\n",
      "Failed to establish connection after 3 attempts for Lactobacillus sakei.\n",
      "==================================================\n"
     ]
    },
    {
     "name": "stderr",
     "output_type": "stream",
     "text": [
      " 58%|█████▊    | 17177/29749 [38:06<26:29,  7.91it/s]"
     ]
    },
    {
     "name": "stdout",
     "output_type": "stream",
     "text": [
      "Connection Error (attempt 1): ('Connection aborted.', RemoteDisconnected('Remote end closed connection without response'))\n",
      "Retrying in 3 seconds...\n"
     ]
    },
    {
     "name": "stderr",
     "output_type": "stream",
     "text": [
      " 58%|█████▊    | 17179/29749 [38:10<2:44:39,  1.27it/s]"
     ]
    },
    {
     "name": "stdout",
     "output_type": "stream",
     "text": [
      "An error occurred: list index out of range\n",
      "==================================================\n",
      "EXCEPT: beta-Carotene 15,15'-Monooxygenase\n",
      "Failed to establish connection after 3 attempts for beta-Carotene 15,15'-Monooxygenase.\n",
      "==================================================\n"
     ]
    },
    {
     "name": "stderr",
     "output_type": "stream",
     "text": [
      " 58%|█████▊    | 17355/29749 [38:31<25:52,  7.98it/s]  "
     ]
    },
    {
     "name": "stdout",
     "output_type": "stream",
     "text": [
      "An error occurred: list index out of range\n",
      "==================================================\n",
      "EXCEPT: Lactobacillus reuteri\n",
      "Failed to establish connection after 3 attempts for Lactobacillus reuteri.\n",
      "==================================================\n"
     ]
    },
    {
     "name": "stderr",
     "output_type": "stream",
     "text": [
      " 59%|█████▉    | 17545/29749 [38:55<24:35,  8.27it/s]"
     ]
    },
    {
     "name": "stdout",
     "output_type": "stream",
     "text": [
      "An error occurred: list index out of range\n",
      "==================================================\n",
      "EXCEPT: O'nyong-nyong Virus\n",
      "Failed to establish connection after 3 attempts for O'nyong-nyong Virus.\n",
      "==================================================\n"
     ]
    },
    {
     "name": "stderr",
     "output_type": "stream",
     "text": [
      " 59%|█████▉    | 17593/29749 [39:01<24:57,  8.12it/s]"
     ]
    },
    {
     "name": "stdout",
     "output_type": "stream",
     "text": [
      "An error occurred: list index out of range\n",
      "==================================================\n",
      "EXCEPT: Glycated Hemoglobin A\n",
      "Failed to establish connection after 3 attempts for Glycated Hemoglobin A.\n",
      "==================================================\n"
     ]
    },
    {
     "name": "stderr",
     "output_type": "stream",
     "text": [
      " 59%|█████▉    | 17677/29749 [39:12<27:54,  7.21it/s]"
     ]
    },
    {
     "name": "stdout",
     "output_type": "stream",
     "text": [
      "Connection Error (attempt 1): ('Connection aborted.', RemoteDisconnected('Remote end closed connection without response'))\n",
      "Retrying in 3 seconds...\n"
     ]
    },
    {
     "name": "stderr",
     "output_type": "stream",
     "text": [
      " 60%|██████    | 17952/29749 [39:50<24:40,  7.97it/s]  "
     ]
    },
    {
     "name": "stdout",
     "output_type": "stream",
     "text": [
      "An error occurred: list index out of range\n",
      "==================================================\n",
      "EXCEPT: Nurse's Role\n",
      "Failed to establish connection after 3 attempts for Nurse's Role.\n",
      "==================================================\n"
     ]
    },
    {
     "name": "stderr",
     "output_type": "stream",
     "text": [
      " 61%|██████    | 18181/29749 [40:18<23:39,  8.15it/s]"
     ]
    },
    {
     "name": "stdout",
     "output_type": "stream",
     "text": [
      "Connection Error (attempt 1): ('Connection aborted.', RemoteDisconnected('Remote end closed connection without response'))\n",
      "Retrying in 3 seconds...\n"
     ]
    },
    {
     "name": "stderr",
     "output_type": "stream",
     "text": [
      " 61%|██████▏   | 18240/29749 [40:29<30:17,  6.33it/s]  "
     ]
    },
    {
     "name": "stdout",
     "output_type": "stream",
     "text": [
      "An error occurred: list index out of range\n",
      "==================================================\n",
      "EXCEPT: 3-Pyridinecarboxylic acid, 1,4-dihydro-2,6-dimethyl-5-nitro-4-(2-(trifluoromethyl)phenyl)-, Methyl e\n",
      "Failed to establish connection after 3 attempts for 3-Pyridinecarboxylic acid, 1,4-dihydro-2,6-dimethyl-5-nitro-4-(2-(trifluoromethyl)phenyl)-, Methyl e.\n",
      "==================================================\n"
     ]
    },
    {
     "name": "stderr",
     "output_type": "stream",
     "text": [
      " 62%|██████▏   | 18406/29749 [40:49<22:55,  8.25it/s]"
     ]
    },
    {
     "name": "stdout",
     "output_type": "stream",
     "text": [
      "Connection Error (attempt 1): ('Connection aborted.', RemoteDisconnected('Remote end closed connection without response'))\n",
      "Retrying in 3 seconds...\n"
     ]
    },
    {
     "name": "stderr",
     "output_type": "stream",
     "text": [
      " 63%|██████▎   | 18727/29749 [41:32<22:36,  8.12it/s]  "
     ]
    },
    {
     "name": "stdout",
     "output_type": "stream",
     "text": [
      "Connection Error (attempt 1): ('Connection aborted.', RemoteDisconnected('Remote end closed connection without response'))\n",
      "Retrying in 3 seconds...\n"
     ]
    },
    {
     "name": "stderr",
     "output_type": "stream",
     "text": [
      " 63%|██████▎   | 18791/29749 [41:43<22:57,  7.95it/s]  "
     ]
    },
    {
     "name": "stdout",
     "output_type": "stream",
     "text": [
      "An error occurred: list index out of range\n",
      "==================================================\n",
      "EXCEPT: Lactobacillus rhamnosus\n",
      "Failed to establish connection after 3 attempts for Lactobacillus rhamnosus.\n",
      "==================================================\n"
     ]
    },
    {
     "name": "stderr",
     "output_type": "stream",
     "text": [
      " 64%|██████▎   | 18913/29749 [41:58<21:50,  8.27it/s]"
     ]
    },
    {
     "name": "stdout",
     "output_type": "stream",
     "text": [
      "Connection Error (attempt 1): ('Connection aborted.', RemoteDisconnected('Remote end closed connection without response'))\n",
      "Retrying in 3 seconds...\n"
     ]
    },
    {
     "name": "stderr",
     "output_type": "stream",
     "text": [
      " 66%|██████▌   | 19547/29749 [43:22<21:23,  7.95it/s]  "
     ]
    },
    {
     "name": "stdout",
     "output_type": "stream",
     "text": [
      "An error occurred: list index out of range\n",
      "==================================================\n",
      "EXCEPT: Barrington's Nucleus\n",
      "Failed to establish connection after 3 attempts for Barrington's Nucleus.\n",
      "==================================================\n"
     ]
    },
    {
     "name": "stderr",
     "output_type": "stream",
     "text": [
      " 66%|██████▌   | 19685/29749 [43:40<21:30,  7.80it/s]"
     ]
    },
    {
     "name": "stdout",
     "output_type": "stream",
     "text": [
      "Connection Error (attempt 1): ('Connection aborted.', RemoteDisconnected('Remote end closed connection without response'))\n",
      "Retrying in 3 seconds...\n"
     ]
    },
    {
     "name": "stderr",
     "output_type": "stream",
     "text": [
      " 67%|██████▋   | 20002/29749 [44:23<20:53,  7.78it/s]  "
     ]
    },
    {
     "name": "stdout",
     "output_type": "stream",
     "text": [
      "heading2dui.pkl is saved.\n"
     ]
    },
    {
     "name": "stderr",
     "output_type": "stream",
     "text": [
      " 68%|██████▊   | 20100/29749 [44:36<20:29,  7.85it/s]"
     ]
    },
    {
     "name": "stdout",
     "output_type": "stream",
     "text": [
      "An error occurred: list index out of range\n",
      "==================================================\n",
      "EXCEPT: Jehovah's Witnesses\n",
      "Failed to establish connection after 3 attempts for Jehovah's Witnesses.\n",
      "==================================================\n"
     ]
    },
    {
     "name": "stderr",
     "output_type": "stream",
     "text": [
      " 68%|██████▊   | 20167/29749 [44:44<20:02,  7.97it/s]"
     ]
    },
    {
     "name": "stdout",
     "output_type": "stream",
     "text": [
      "An error occurred: list index out of range\n",
      "==================================================\n",
      "EXCEPT: Physician's Role\n",
      "Failed to establish connection after 3 attempts for Physician's Role.\n",
      "==================================================\n"
     ]
    },
    {
     "name": "stderr",
     "output_type": "stream",
     "text": [
      " 68%|██████▊   | 20189/29749 [44:47<20:08,  7.91it/s]"
     ]
    },
    {
     "name": "stdout",
     "output_type": "stream",
     "text": [
      "Connection Error (attempt 1): ('Connection aborted.', RemoteDisconnected('Remote end closed connection without response'))\n",
      "Retrying in 3 seconds...\n"
     ]
    },
    {
     "name": "stderr",
     "output_type": "stream",
     "text": [
      " 68%|██████▊   | 20322/29749 [45:07<19:40,  7.99it/s]  "
     ]
    },
    {
     "name": "stdout",
     "output_type": "stream",
     "text": [
      "An error occurred: list index out of range\n",
      "==================================================\n",
      "EXCEPT: Peyer's Patches\n",
      "Failed to establish connection after 3 attempts for Peyer's Patches.\n",
      "==================================================\n"
     ]
    },
    {
     "name": "stderr",
     "output_type": "stream",
     "text": [
      " 69%|██████▉   | 20591/29749 [45:41<20:27,  7.46it/s]"
     ]
    },
    {
     "name": "stdout",
     "output_type": "stream",
     "text": [
      "An error occurred: list index out of range\n",
      "==================================================\n",
      "EXCEPT: Phosphatidylinositol-3,4,5-Trisphosphate 5-Phosphatases\n",
      "Failed to establish connection after 3 attempts for Phosphatidylinositol-3,4,5-Trisphosphate 5-Phosphatases.\n",
      "==================================================\n"
     ]
    },
    {
     "name": "stderr",
     "output_type": "stream",
     "text": [
      " 69%|██████▉   | 20622/29749 [45:45<19:03,  7.98it/s]"
     ]
    },
    {
     "name": "stdout",
     "output_type": "stream",
     "text": [
      "An error occurred: list index out of range\n",
      "==================================================\n",
      "EXCEPT: Inhibition (Psychology)\n",
      "Failed to establish connection after 3 attempts for Inhibition (Psychology).\n",
      "==================================================\n"
     ]
    },
    {
     "name": "stderr",
     "output_type": "stream",
     "text": [
      " 70%|██████▉   | 20694/29749 [45:55<19:05,  7.90it/s]"
     ]
    },
    {
     "name": "stdout",
     "output_type": "stream",
     "text": [
      "Connection Error (attempt 1): ('Connection aborted.', RemoteDisconnected('Remote end closed connection without response'))\n",
      "Retrying in 3 seconds...\n"
     ]
    },
    {
     "name": "stderr",
     "output_type": "stream",
     "text": [
      " 70%|██████▉   | 20727/29749 [46:02<19:17,  7.79it/s]  "
     ]
    },
    {
     "name": "stdout",
     "output_type": "stream",
     "text": [
      "An error occurred: list index out of range\n",
      "==================================================\n",
      "EXCEPT: Inositol 1,4,5-Trisphosphate\n",
      "Failed to establish connection after 3 attempts for Inositol 1,4,5-Trisphosphate.\n",
      "==================================================\n"
     ]
    },
    {
     "name": "stderr",
     "output_type": "stream",
     "text": [
      " 72%|███████▏  | 21337/29749 [47:21<17:36,  7.96it/s]  "
     ]
    },
    {
     "name": "stdout",
     "output_type": "stream",
     "text": [
      "Connection Error (attempt 1): ('Connection aborted.', RemoteDisconnected('Remote end closed connection without response'))\n",
      "Retrying in 3 seconds...\n"
     ]
    },
    {
     "name": "stderr",
     "output_type": "stream",
     "text": [
      " 73%|███████▎  | 21730/29749 [48:16<1:36:36,  1.38it/s]"
     ]
    },
    {
     "name": "stdout",
     "output_type": "stream",
     "text": [
      "An error occurred: list index out of range\n",
      "==================================================\n",
      "EXCEPT: 15-Hydroxy-11 alpha,9 alpha-(epoxymethano)prosta-5,13-dienoic Acid\n",
      "Failed to establish connection after 3 attempts for 15-Hydroxy-11 alpha,9 alpha-(epoxymethano)prosta-5,13-dienoic Acid.\n",
      "==================================================\n"
     ]
    },
    {
     "name": "stderr",
     "output_type": "stream",
     "text": [
      " 74%|███████▍  | 22003/29749 [48:52<16:14,  7.95it/s]  "
     ]
    },
    {
     "name": "stdout",
     "output_type": "stream",
     "text": [
      "An error occurred: list index out of range\n",
      "==================================================\n",
      "EXCEPT: Women's Health Services\n",
      "Failed to establish connection after 3 attempts for Women's Health Services.\n",
      "==================================================\n"
     ]
    },
    {
     "name": "stderr",
     "output_type": "stream",
     "text": [
      " 75%|███████▍  | 22226/29749 [49:20<16:11,  7.74it/s]"
     ]
    },
    {
     "name": "stdout",
     "output_type": "stream",
     "text": [
      "Connection Error (attempt 1): ('Connection aborted.', RemoteDisconnected('Remote end closed connection without response'))\n",
      "Retrying in 3 seconds...\n"
     ]
    },
    {
     "name": "stderr",
     "output_type": "stream",
     "text": [
      " 75%|███████▌  | 22433/29749 [49:52<1:02:26,  1.95it/s]"
     ]
    },
    {
     "name": "stdout",
     "output_type": "stream",
     "text": [
      "An error occurred: list index out of range\n",
      "==================================================\n",
      "EXCEPT: 1-Methyl-4-phenyl-1,2,3,6-tetrahydropyridine\n",
      "Failed to establish connection after 3 attempts for 1-Methyl-4-phenyl-1,2,3,6-tetrahydropyridine.\n",
      "==================================================\n"
     ]
    },
    {
     "name": "stderr",
     "output_type": "stream",
     "text": [
      " 76%|███████▌  | 22569/29749 [50:09<15:03,  7.95it/s]  "
     ]
    },
    {
     "name": "stdout",
     "output_type": "stream",
     "text": [
      "An error occurred: list index out of range\n",
      "==================================================\n",
      "EXCEPT: 5,8,11,14-Eicosatetraynoic Acid\n",
      "Failed to establish connection after 3 attempts for 5,8,11,14-Eicosatetraynoic Acid.\n",
      "==================================================\n"
     ]
    },
    {
     "name": "stderr",
     "output_type": "stream",
     "text": [
      " 77%|███████▋  | 22937/29749 [50:56<14:12,  7.99it/s]"
     ]
    },
    {
     "name": "stdout",
     "output_type": "stream",
     "text": [
      "Connection Error (attempt 1): ('Connection aborted.', RemoteDisconnected('Remote end closed connection without response'))\n",
      "Retrying in 3 seconds...\n"
     ]
    },
    {
     "name": "stderr",
     "output_type": "stream",
     "text": [
      " 77%|███████▋  | 23011/29749 [51:08<14:03,  7.99it/s]  "
     ]
    },
    {
     "name": "stdout",
     "output_type": "stream",
     "text": [
      "An error occurred: list index out of range\n",
      "==================================================\n",
      "EXCEPT: Paget's Disease, Mammary\n",
      "Failed to establish connection after 3 attempts for Paget's Disease, Mammary.\n",
      "==================================================\n"
     ]
    },
    {
     "name": "stderr",
     "output_type": "stream",
     "text": [
      " 78%|███████▊  | 23269/29749 [51:41<13:13,  8.16it/s]"
     ]
    },
    {
     "name": "stdout",
     "output_type": "stream",
     "text": [
      "An error occurred: list index out of range\n",
      "==================================================\n",
      "EXCEPT: Women's Rights\n",
      "Failed to establish connection after 3 attempts for Women's Rights.\n",
      "==================================================\n"
     ]
    },
    {
     "name": "stderr",
     "output_type": "stream",
     "text": [
      " 78%|███████▊  | 23344/29749 [51:51<13:23,  7.97it/s]"
     ]
    },
    {
     "name": "stdout",
     "output_type": "stream",
     "text": [
      "An error occurred: list index out of range\n",
      "==================================================\n",
      "EXCEPT: 24,25-Dihydroxyvitamin D 3\n",
      "Failed to establish connection after 3 attempts for 24,25-Dihydroxyvitamin D 3.\n",
      "==================================================\n"
     ]
    },
    {
     "name": "stderr",
     "output_type": "stream",
     "text": [
      " 79%|███████▉  | 23434/29749 [52:05<13:07,  8.02it/s]  "
     ]
    },
    {
     "name": "stdout",
     "output_type": "stream",
     "text": [
      "An error occurred: list index out of range\n",
      "==================================================\n",
      "EXCEPT: Freund's Adjuvant\n",
      "Failed to establish connection after 3 attempts for Freund's Adjuvant.\n",
      "==================================================\n"
     ]
    },
    {
     "name": "stderr",
     "output_type": "stream",
     "text": [
      " 79%|███████▉  | 23453/29749 [52:08<13:06,  8.01it/s]"
     ]
    },
    {
     "name": "stdout",
     "output_type": "stream",
     "text": [
      "An error occurred: list index out of range\n",
      "==================================================\n",
      "EXCEPT: Earth (Planet)\n",
      "Failed to establish connection after 3 attempts for Earth (Planet).\n",
      "==================================================\n"
     ]
    },
    {
     "name": "stderr",
     "output_type": "stream",
     "text": [
      " 80%|███████▉  | 23764/29749 [52:47<12:43,  7.84it/s]"
     ]
    },
    {
     "name": "stdout",
     "output_type": "stream",
     "text": [
      "An error occurred: list index out of range\n",
      "==================================================\n",
      "EXCEPT: Lactobacillus fermentum\n",
      "Failed to establish connection after 3 attempts for Lactobacillus fermentum.\n",
      "==================================================\n"
     ]
    },
    {
     "name": "stderr",
     "output_type": "stream",
     "text": [
      " 81%|████████  | 24058/29749 [53:24<12:09,  7.80it/s]"
     ]
    },
    {
     "name": "stdout",
     "output_type": "stream",
     "text": [
      "An error occurred: list index out of range\n",
      "==================================================\n",
      "EXCEPT: American Indians or Alaska Natives\n",
      "Failed to establish connection after 3 attempts for American Indians or Alaska Natives.\n",
      "==================================================\n"
     ]
    },
    {
     "name": "stderr",
     "output_type": "stream",
     "text": [
      " 81%|████████  | 24153/29749 [53:36<11:52,  7.85it/s]"
     ]
    },
    {
     "name": "stdout",
     "output_type": "stream",
     "text": [
      "Connection Error (attempt 1): ('Connection aborted.', RemoteDisconnected('Remote end closed connection without response'))\n",
      "Retrying in 3 seconds...\n"
     ]
    },
    {
     "name": "stderr",
     "output_type": "stream",
     "text": [
      " 81%|████████▏ | 24194/29749 [53:45<11:39,  7.94it/s]  "
     ]
    },
    {
     "name": "stdout",
     "output_type": "stream",
     "text": [
      "An error occurred: list index out of range\n",
      "==================================================\n",
      "EXCEPT: Aneurysm, Dissecting\n",
      "Failed to establish connection after 3 attempts for Aneurysm, Dissecting.\n",
      "==================================================\n"
     ]
    },
    {
     "name": "stderr",
     "output_type": "stream",
     "text": [
      " 83%|████████▎ | 24622/29749 [54:39<10:42,  7.99it/s]"
     ]
    },
    {
     "name": "stdout",
     "output_type": "stream",
     "text": [
      "An error occurred: list index out of range\n",
      "==================================================\n",
      "EXCEPT: Monteggia's Fracture\n",
      "Failed to establish connection after 3 attempts for Monteggia's Fracture.\n",
      "==================================================\n"
     ]
    },
    {
     "name": "stderr",
     "output_type": "stream",
     "text": [
      " 83%|████████▎ | 24667/29749 [54:45<11:38,  7.28it/s]"
     ]
    },
    {
     "name": "stdout",
     "output_type": "stream",
     "text": [
      "Connection Error (attempt 1): ('Connection aborted.', RemoteDisconnected('Remote end closed connection without response'))\n",
      "Retrying in 3 seconds...\n"
     ]
    },
    {
     "name": "stderr",
     "output_type": "stream",
     "text": [
      " 83%|████████▎ | 24681/29749 [54:50<11:25,  7.39it/s]  "
     ]
    },
    {
     "name": "stdout",
     "output_type": "stream",
     "text": [
      "An error occurred: list index out of range\n",
      "==================================================\n",
      "EXCEPT: Serotonin Uptake Inhibitors\n",
      "Failed to establish connection after 3 attempts for Serotonin Uptake Inhibitors.\n",
      "==================================================\n"
     ]
    },
    {
     "name": "stderr",
     "output_type": "stream",
     "text": [
      " 83%|████████▎ | 24709/29749 [54:53<10:52,  7.72it/s]"
     ]
    },
    {
     "name": "stdout",
     "output_type": "stream",
     "text": [
      "An error occurred: list index out of range\n",
      "==================================================\n",
      "EXCEPT: Sjogren's Syndrome\n",
      "Failed to establish connection after 3 attempts for Sjogren's Syndrome.\n",
      "==================================================\n"
     ]
    },
    {
     "name": "stderr",
     "output_type": "stream",
     "text": [
      " 84%|████████▎ | 24891/29749 [55:16<10:11,  7.95it/s]"
     ]
    },
    {
     "name": "stdout",
     "output_type": "stream",
     "text": [
      "An error occurred: list index out of range\n",
      "==================================================\n",
      "EXCEPT: Waste Water\n",
      "Failed to establish connection after 3 attempts for Waste Water.\n",
      "==================================================\n"
     ]
    },
    {
     "name": "stderr",
     "output_type": "stream",
     "text": [
      " 85%|████████▍ | 25187/29749 [55:54<09:42,  7.83it/s]"
     ]
    },
    {
     "name": "stdout",
     "output_type": "stream",
     "text": [
      "Connection Error (attempt 1): ('Connection aborted.', RemoteDisconnected('Remote end closed connection without response'))\n",
      "Retrying in 3 seconds...\n"
     ]
    },
    {
     "name": "stderr",
     "output_type": "stream",
     "text": [
      " 86%|████████▌ | 25564/29749 [56:45<08:42,  8.00it/s]  "
     ]
    },
    {
     "name": "stdout",
     "output_type": "stream",
     "text": [
      "An error occurred: list index out of range\n",
      "==================================================\n",
      "EXCEPT: RNA, Guide\n",
      "Failed to establish connection after 3 attempts for RNA, Guide.\n",
      "==================================================\n"
     ]
    },
    {
     "name": "stderr",
     "output_type": "stream",
     "text": [
      " 86%|████████▋ | 25691/29749 [57:01<08:46,  7.71it/s]"
     ]
    },
    {
     "name": "stdout",
     "output_type": "stream",
     "text": [
      "Connection Error (attempt 1): ('Connection aborted.', RemoteDisconnected('Remote end closed connection without response'))\n",
      "Retrying in 3 seconds...\n"
     ]
    },
    {
     "name": "stderr",
     "output_type": "stream",
     "text": [
      " 87%|████████▋ | 26013/29749 [57:45<07:51,  7.92it/s]  "
     ]
    },
    {
     "name": "stdout",
     "output_type": "stream",
     "text": [
      "An error occurred: list index out of range\n",
      "==================================================\n",
      "EXCEPT: Men's Health\n",
      "Failed to establish connection after 3 attempts for Men's Health.\n",
      "==================================================\n"
     ]
    },
    {
     "name": "stderr",
     "output_type": "stream",
     "text": [
      " 88%|████████▊ | 26187/29749 [58:07<07:28,  7.95it/s]"
     ]
    },
    {
     "name": "stdout",
     "output_type": "stream",
     "text": [
      "Connection Error (attempt 1): ('Connection aborted.', RemoteDisconnected('Remote end closed connection without response'))\n",
      "Retrying in 3 seconds...\n"
     ]
    },
    {
     "name": "stderr",
     "output_type": "stream",
     "text": [
      " 89%|████████▊ | 26366/29749 [58:33<07:25,  7.59it/s]  "
     ]
    },
    {
     "name": "stdout",
     "output_type": "stream",
     "text": [
      "An error occurred: list index out of range\n",
      "==================================================\n",
      "EXCEPT: African Americans\n",
      "Failed to establish connection after 3 attempts for African Americans.\n",
      "==================================================\n"
     ]
    },
    {
     "name": "stderr",
     "output_type": "stream",
     "text": [
      " 89%|████████▉ | 26533/29749 [58:54<06:42,  7.99it/s]"
     ]
    },
    {
     "name": "stdout",
     "output_type": "stream",
     "text": [
      "An error occurred: list index out of range\n",
      "==================================================\n",
      "EXCEPT: Ringer's Lactate\n",
      "Failed to establish connection after 3 attempts for Ringer's Lactate.\n",
      "==================================================\n"
     ]
    },
    {
     "name": "stderr",
     "output_type": "stream",
     "text": [
      " 90%|████████▉ | 26704/29749 [59:16<06:26,  7.88it/s]"
     ]
    },
    {
     "name": "stdout",
     "output_type": "stream",
     "text": [
      "Connection Error (attempt 1): ('Connection aborted.', RemoteDisconnected('Remote end closed connection without response'))\n",
      "Retrying in 3 seconds...\n"
     ]
    },
    {
     "name": "stderr",
     "output_type": "stream",
     "text": [
      " 90%|█████████ | 26908/29749 [59:46<06:09,  7.68it/s]"
     ]
    },
    {
     "name": "stdout",
     "output_type": "stream",
     "text": [
      "An error occurred: list index out of range\n",
      "==================================================\n",
      "EXCEPT: Lactobacillus salivarius\n",
      "Failed to establish connection after 3 attempts for Lactobacillus salivarius.\n",
      "==================================================\n"
     ]
    },
    {
     "name": "stderr",
     "output_type": "stream",
     "text": [
      " 91%|█████████ | 26944/29749 [59:50<05:54,  7.92it/s]"
     ]
    },
    {
     "name": "stdout",
     "output_type": "stream",
     "text": [
      "An error occurred: list index out of range\n",
      "==================================================\n",
      "EXCEPT: Hallermann's Syndrome\n",
      "Failed to establish connection after 3 attempts for Hallermann's Syndrome.\n",
      "==================================================\n"
     ]
    },
    {
     "name": "stderr",
     "output_type": "stream",
     "text": [
      " 91%|█████████▏| 27179/29749 [1:00:20<05:25,  7.90it/s]"
     ]
    },
    {
     "name": "stdout",
     "output_type": "stream",
     "text": [
      "An error occurred: list index out of range\n",
      "==================================================\n",
      "EXCEPT: Asian Continental Ancestry Group\n",
      "Failed to establish connection after 3 attempts for Asian Continental Ancestry Group.\n",
      "==================================================\n"
     ]
    },
    {
     "name": "stderr",
     "output_type": "stream",
     "text": [
      " 91%|█████████▏| 27207/29749 [1:00:23<05:21,  7.92it/s]"
     ]
    },
    {
     "name": "stdout",
     "output_type": "stream",
     "text": [
      "Connection Error (attempt 1): ('Connection aborted.', RemoteDisconnected('Remote end closed connection without response'))\n",
      "Retrying in 3 seconds...\n"
     ]
    },
    {
     "name": "stderr",
     "output_type": "stream",
     "text": [
      " 93%|█████████▎| 27709/29749 [1:01:30<04:19,  7.86it/s]"
     ]
    },
    {
     "name": "stdout",
     "output_type": "stream",
     "text": [
      "An error occurred: list index out of range\n",
      "==================================================\n",
      "EXCEPT: SARS Virus\n",
      "Failed to establish connection after 3 attempts for SARS Virus.\n",
      "==================================================\n"
     ]
    },
    {
     "name": "stderr",
     "output_type": "stream",
     "text": [
      " 93%|█████████▎| 27711/29749 [1:01:30<04:16,  7.93it/s]"
     ]
    },
    {
     "name": "stdout",
     "output_type": "stream",
     "text": [
      "Connection Error (attempt 1): ('Connection aborted.', RemoteDisconnected('Remote end closed connection without response'))\n",
      "Retrying in 3 seconds...\n"
     ]
    },
    {
     "name": "stderr",
     "output_type": "stream",
     "text": [
      " 95%|█████████▍| 28157/29749 [1:02:30<03:24,  7.80it/s]"
     ]
    },
    {
     "name": "stdout",
     "output_type": "stream",
     "text": [
      "An error occurred: list index out of range\n",
      "==================================================\n",
      "EXCEPT: Asians\n",
      "Failed to establish connection after 3 attempts for Asians.\n",
      "==================================================\n"
     ]
    },
    {
     "name": "stderr",
     "output_type": "stream",
     "text": [
      " 95%|█████████▍| 28226/29749 [1:02:40<03:14,  7.83it/s]"
     ]
    },
    {
     "name": "stdout",
     "output_type": "stream",
     "text": [
      "Connection Error (attempt 1): ('Connection aborted.', RemoteDisconnected('Remote end closed connection without response'))\n",
      "Retrying in 3 seconds...\n"
     ]
    },
    {
     "name": "stderr",
     "output_type": "stream",
     "text": [
      " 97%|█████████▋| 28730/29749 [1:03:47<02:10,  7.79it/s]"
     ]
    },
    {
     "name": "stdout",
     "output_type": "stream",
     "text": [
      "Connection Error (attempt 1): ('Connection aborted.', RemoteDisconnected('Remote end closed connection without response'))\n",
      "Retrying in 3 seconds...\n"
     ]
    },
    {
     "name": "stderr",
     "output_type": "stream",
     "text": [
      " 97%|█████████▋| 28863/29749 [1:04:07<01:51,  7.94it/s]"
     ]
    },
    {
     "name": "stdout",
     "output_type": "stream",
     "text": [
      "An error occurred: list index out of range\n",
      "==================================================\n",
      "EXCEPT: Children's Health Insurance Program\n",
      "Failed to establish connection after 3 attempts for Children's Health Insurance Program.\n",
      "==================================================\n"
     ]
    },
    {
     "name": "stderr",
     "output_type": "stream",
     "text": [
      " 98%|█████████▊| 29238/29749 [1:04:55<01:04,  7.96it/s]"
     ]
    },
    {
     "name": "stdout",
     "output_type": "stream",
     "text": [
      "Connection Error (attempt 1): ('Connection aborted.', RemoteDisconnected('Remote end closed connection without response'))\n",
      "Retrying in 3 seconds...\n"
     ]
    },
    {
     "name": "stderr",
     "output_type": "stream",
     "text": [
      " 99%|█████████▊| 29308/29749 [1:05:07<00:55,  7.94it/s]"
     ]
    },
    {
     "name": "stdout",
     "output_type": "stream",
     "text": [
      "An error occurred: list index out of range\n",
      "==================================================\n",
      "EXCEPT: Lycopersicon esculentum\n",
      "Failed to establish connection after 3 attempts for Lycopersicon esculentum.\n",
      "==================================================\n"
     ]
    },
    {
     "name": "stderr",
     "output_type": "stream",
     "text": [
      "100%|█████████▉| 29745/29749 [1:06:02<00:00,  7.83it/s]"
     ]
    },
    {
     "name": "stdout",
     "output_type": "stream",
     "text": [
      "Connection Error (attempt 1): ('Connection aborted.', RemoteDisconnected('Remote end closed connection without response'))\n",
      "Retrying in 3 seconds...\n"
     ]
    },
    {
     "name": "stderr",
     "output_type": "stream",
     "text": [
      "100%|██████████| 29749/29749 [1:06:06<00:00,  7.50it/s]"
     ]
    },
    {
     "name": "stdout",
     "output_type": "stream",
     "text": [
      "heading2dui.pkl is saved. 29655\n"
     ]
    },
    {
     "name": "stderr",
     "output_type": "stream",
     "text": [
      "\n"
     ]
    }
   ],
   "source": [
    "# create a dictionary of mesh topics and their corresponding dui\n",
    "heading2dui = {}\n",
    "c = 0\n",
    "for topic in tqdm(distinct_topics[:]):\n",
    "    try:\n",
    "        heading2dui[topic] = heading_to_dui(topic)\n",
    "    except Exception as e:\n",
    "        print('=' * 50)\n",
    "        print('EXCEPT:', topic)\n",
    "        print(e)\n",
    "        print('=' * 50)\n",
    "        \n",
    "    if c % 1000 == 0:\n",
    "        with open(PICKLES_ADDRESS + 'heading2dui.pkl', 'wb') as handle:\n",
    "            pickle.dump(heading2dui, handle)\n",
    "        print('heading2dui.pkl is saved.')\n",
    "    c += 1\n",
    "\n",
    "with open(PICKLES_ADDRESS + 'heading2dui.pkl', 'wb') as handle:\n",
    "    pickle.dump(heading2dui, handle)\n",
    "print('heading2dui.pkl is saved.', len(heading2dui))"
   ]
  },
  {
   "cell_type": "code",
   "execution_count": 21,
   "metadata": {},
   "outputs": [
    {
     "name": "stderr",
     "output_type": "stream",
     "text": [
      "13517353it [07:04, 31841.92it/s]\n"
     ]
    },
    {
     "data": {
      "text/html": [
       "<div>\n",
       "<style scoped>\n",
       "    .dataframe tbody tr th:only-of-type {\n",
       "        vertical-align: middle;\n",
       "    }\n",
       "\n",
       "    .dataframe tbody tr th {\n",
       "        vertical-align: top;\n",
       "    }\n",
       "\n",
       "    .dataframe thead th {\n",
       "        text-align: right;\n",
       "    }\n",
       "</style>\n",
       "<table border=\"1\" class=\"dataframe\">\n",
       "  <thead>\n",
       "    <tr style=\"text-align: right;\">\n",
       "      <th></th>\n",
       "      <th>pmid</th>\n",
       "      <th>pub_date</th>\n",
       "      <th>pub_title</th>\n",
       "      <th>journal_title</th>\n",
       "      <th>doi</th>\n",
       "      <th>abstract</th>\n",
       "      <th>relative_citation_ratio</th>\n",
       "      <th>citation_count</th>\n",
       "      <th>citations_per_year</th>\n",
       "      <th>num_major_topics</th>\n",
       "      <th>major_topics</th>\n",
       "      <th>num_minor_topics</th>\n",
       "      <th>minor_topics</th>\n",
       "      <th>concept_list</th>\n",
       "      <th>yearly_citation_counts</th>\n",
       "      <th>unique_mesh_topics</th>\n",
       "      <th>duis</th>\n",
       "    </tr>\n",
       "  </thead>\n",
       "  <tbody>\n",
       "    <tr>\n",
       "      <th>0</th>\n",
       "      <td>28867731</td>\n",
       "      <td>2017-01-01</td>\n",
       "      <td>FOXA1 Induces E-Cadherin Expression at the Pro...</td>\n",
       "      <td>Biological &amp; pharmaceutical bulletin</td>\n",
       "      <td>10.1248/bpb.b17-00307</td>\n",
       "      <td>Epithelial-to-mesenchymal transition (EMT) is ...</td>\n",
       "      <td>0.88</td>\n",
       "      <td>18</td>\n",
       "      <td>3.600000</td>\n",
       "      <td>NaN</td>\n",
       "      <td>NaN</td>\n",
       "      <td>15.0</td>\n",
       "      <td>[\"Antigens, CD\",\"Breast Neoplasms\",\"Cadherins\"...</td>\n",
       "      <td>[\"SFN protein, human\",\"Hepatocyte Nuclear Fact...</td>\n",
       "      <td>{2019:5,2020:3,2021:1,2022:2}</td>\n",
       "      <td>Hepatocyte Nuclear Factor 3-alpha;Estrogen Rec...</td>\n",
       "      <td>D051541;D047628;D010957;D000071250;D012333;D01...</td>\n",
       "    </tr>\n",
       "    <tr>\n",
       "      <th>1</th>\n",
       "      <td>23611783</td>\n",
       "      <td>2013-04-20</td>\n",
       "      <td>Identification and characterization of a novel...</td>\n",
       "      <td>Biochemical and biophysical research communica...</td>\n",
       "      <td>10.1016/j.bbrc.2013.04.022</td>\n",
       "      <td>In plants, flavonoids have been shown to be su...</td>\n",
       "      <td>0.55</td>\n",
       "      <td>15</td>\n",
       "      <td>1.666670</td>\n",
       "      <td>NaN</td>\n",
       "      <td>NaN</td>\n",
       "      <td>17.0</td>\n",
       "      <td>[\"Amino Acid Sequence\",\"Arabidopsis\",\"Arabidop...</td>\n",
       "      <td>[\"Differential quality\",\"Characterization\",\"Bo...</td>\n",
       "      <td>{2013:1,2014:1,2015:1,2018:1,2019:2,2022:1}</td>\n",
       "      <td>Kaempferols;Multigene Family;Arabidopsis Prote...</td>\n",
       "      <td>D044949;D005810;D029681;D005419;D017386;D01080...</td>\n",
       "    </tr>\n",
       "    <tr>\n",
       "      <th>2</th>\n",
       "      <td>31440131</td>\n",
       "      <td>2019-08-07</td>\n",
       "      <td>The Verbal Interaction Social Threat Task: A N...</td>\n",
       "      <td>Frontiers in neuroscience</td>\n",
       "      <td>10.3389/fnins.2019.00830</td>\n",
       "      <td>a priori In recent years, digital communicatio...</td>\n",
       "      <td>0.31</td>\n",
       "      <td>2</td>\n",
       "      <td>0.666667</td>\n",
       "      <td>NaN</td>\n",
       "      <td>NaN</td>\n",
       "      <td>NaN</td>\n",
       "      <td>NaN</td>\n",
       "      <td>[\"Neural\",\"Societies\",\"conversation\",\"Moderate...</td>\n",
       "      <td>{2021:1}</td>\n",
       "      <td>Kaempferols;Multigene Family;Arabidopsis Prote...</td>\n",
       "      <td>D044949;D005810;D029681;D005419;D017386;D01080...</td>\n",
       "    </tr>\n",
       "    <tr>\n",
       "      <th>3</th>\n",
       "      <td>30551143</td>\n",
       "      <td>2019-02-28</td>\n",
       "      <td>Functionality and cross-regulation of the four...</td>\n",
       "      <td>Nucleic acids research</td>\n",
       "      <td>10.1093/nar/gky1256</td>\n",
       "      <td>Toxin-antitoxin (TA) systems are ubiquitous am...</td>\n",
       "      <td>1.37</td>\n",
       "      <td>14</td>\n",
       "      <td>4.666670</td>\n",
       "      <td>NaN</td>\n",
       "      <td>NaN</td>\n",
       "      <td>10.0</td>\n",
       "      <td>[\"Bacterial Proteins\",\"Drug Resistance, Microb...</td>\n",
       "      <td>[\"Antibiotic Resistance, Microbial\",\"Cross-Tal...</td>\n",
       "      <td>{2019:3,2020:2,2021:5,2022:2}</td>\n",
       "      <td>Staphylococcal Infections;Drug Resistance, Mic...</td>\n",
       "      <td>D013203;D004352;D013211;D006801;D001426;D01596...</td>\n",
       "    </tr>\n",
       "    <tr>\n",
       "      <th>4</th>\n",
       "      <td>30229639</td>\n",
       "      <td>2018-09-18</td>\n",
       "      <td>Non-familial porphyria cutanea tarda: a rare d...</td>\n",
       "      <td>Giornale italiano di dermatologia e venereolog...</td>\n",
       "      <td>10.23736/S0392-0488.18.06052-2</td>\n",
       "      <td>NaN</td>\n",
       "      <td>0.00</td>\n",
       "      <td>0</td>\n",
       "      <td>0.000000</td>\n",
       "      <td>NaN</td>\n",
       "      <td>NaN</td>\n",
       "      <td>5.0</td>\n",
       "      <td>[\"Female\",\"Humans\",\"Middle Aged\",\"Porphyria Cu...</td>\n",
       "      <td>NaN</td>\n",
       "      <td>NaN</td>\n",
       "      <td>Rare Diseases;Middle Aged;Humans;Female;Porphy...</td>\n",
       "      <td>D035583;D008875;D006801;D005260;D017119</td>\n",
       "    </tr>\n",
       "  </tbody>\n",
       "</table>\n",
       "</div>"
      ],
      "text/plain": [
       "       pmid    pub_date                                          pub_title   \n",
       "0  28867731  2017-01-01  FOXA1 Induces E-Cadherin Expression at the Pro...  \\\n",
       "1  23611783  2013-04-20  Identification and characterization of a novel...   \n",
       "2  31440131  2019-08-07  The Verbal Interaction Social Threat Task: A N...   \n",
       "3  30551143  2019-02-28  Functionality and cross-regulation of the four...   \n",
       "4  30229639  2018-09-18  Non-familial porphyria cutanea tarda: a rare d...   \n",
       "\n",
       "                                       journal_title   \n",
       "0               Biological & pharmaceutical bulletin  \\\n",
       "1  Biochemical and biophysical research communica...   \n",
       "2                          Frontiers in neuroscience   \n",
       "3                             Nucleic acids research   \n",
       "4  Giornale italiano di dermatologia e venereolog...   \n",
       "\n",
       "                              doi   \n",
       "0           10.1248/bpb.b17-00307  \\\n",
       "1      10.1016/j.bbrc.2013.04.022   \n",
       "2        10.3389/fnins.2019.00830   \n",
       "3             10.1093/nar/gky1256   \n",
       "4  10.23736/S0392-0488.18.06052-2   \n",
       "\n",
       "                                            abstract  relative_citation_ratio   \n",
       "0  Epithelial-to-mesenchymal transition (EMT) is ...                     0.88  \\\n",
       "1  In plants, flavonoids have been shown to be su...                     0.55   \n",
       "2  a priori In recent years, digital communicatio...                     0.31   \n",
       "3  Toxin-antitoxin (TA) systems are ubiquitous am...                     1.37   \n",
       "4                                                NaN                     0.00   \n",
       "\n",
       "   citation_count  citations_per_year  num_major_topics major_topics   \n",
       "0              18            3.600000               NaN          NaN  \\\n",
       "1              15            1.666670               NaN          NaN   \n",
       "2               2            0.666667               NaN          NaN   \n",
       "3              14            4.666670               NaN          NaN   \n",
       "4               0            0.000000               NaN          NaN   \n",
       "\n",
       "   num_minor_topics                                       minor_topics   \n",
       "0              15.0  [\"Antigens, CD\",\"Breast Neoplasms\",\"Cadherins\"...  \\\n",
       "1              17.0  [\"Amino Acid Sequence\",\"Arabidopsis\",\"Arabidop...   \n",
       "2               NaN                                                NaN   \n",
       "3              10.0  [\"Bacterial Proteins\",\"Drug Resistance, Microb...   \n",
       "4               5.0  [\"Female\",\"Humans\",\"Middle Aged\",\"Porphyria Cu...   \n",
       "\n",
       "                                        concept_list   \n",
       "0  [\"SFN protein, human\",\"Hepatocyte Nuclear Fact...  \\\n",
       "1  [\"Differential quality\",\"Characterization\",\"Bo...   \n",
       "2  [\"Neural\",\"Societies\",\"conversation\",\"Moderate...   \n",
       "3  [\"Antibiotic Resistance, Microbial\",\"Cross-Tal...   \n",
       "4                                                NaN   \n",
       "\n",
       "                        yearly_citation_counts   \n",
       "0                {2019:5,2020:3,2021:1,2022:2}  \\\n",
       "1  {2013:1,2014:1,2015:1,2018:1,2019:2,2022:1}   \n",
       "2                                     {2021:1}   \n",
       "3                {2019:3,2020:2,2021:5,2022:2}   \n",
       "4                                          NaN   \n",
       "\n",
       "                                  unique_mesh_topics   \n",
       "0  Hepatocyte Nuclear Factor 3-alpha;Estrogen Rec...  \\\n",
       "1  Kaempferols;Multigene Family;Arabidopsis Prote...   \n",
       "2  Kaempferols;Multigene Family;Arabidopsis Prote...   \n",
       "3  Staphylococcal Infections;Drug Resistance, Mic...   \n",
       "4  Rare Diseases;Middle Aged;Humans;Female;Porphy...   \n",
       "\n",
       "                                                duis  \n",
       "0  D051541;D047628;D010957;D000071250;D012333;D01...  \n",
       "1  D044949;D005810;D029681;D005419;D017386;D01080...  \n",
       "2  D044949;D005810;D029681;D005419;D017386;D01080...  \n",
       "3  D013203;D004352;D013211;D006801;D001426;D01596...  \n",
       "4            D035583;D008875;D006801;D005260;D017119  "
      ]
     },
     "execution_count": 21,
     "metadata": {},
     "output_type": "execute_result"
    }
   ],
   "source": [
    "duis = []\n",
    "for index, row in tqdm(pubmed_df.iterrows()):\n",
    "    d = []\n",
    "    for topic in row['unique_mesh_topics'].split(';'):\n",
    "        try:\n",
    "            d.append(heading2dui[topic])\n",
    "        except:\n",
    "            pass\n",
    "    duis.append(';'.join(d))\n",
    "\n",
    "pubmed_df['duis'] = duis\n",
    "pubmed_df.head()"
   ]
  },
  {
   "cell_type": "code",
   "execution_count": 22,
   "metadata": {},
   "outputs": [
    {
     "name": "stdout",
     "output_type": "stream",
     "text": [
      "Saved\n"
     ]
    }
   ],
   "source": [
    "pubmed_df.to_csv(PUBMED_ADDRESS + 'pubmed_dataset_with_duis.csv', index=False)\n",
    "print('Saved')"
   ]
  },
  {
   "cell_type": "code",
   "execution_count": 23,
   "metadata": {},
   "outputs": [
    {
     "data": {
      "text/html": [
       "<div>\n",
       "<style scoped>\n",
       "    .dataframe tbody tr th:only-of-type {\n",
       "        vertical-align: middle;\n",
       "    }\n",
       "\n",
       "    .dataframe tbody tr th {\n",
       "        vertical-align: top;\n",
       "    }\n",
       "\n",
       "    .dataframe thead th {\n",
       "        text-align: right;\n",
       "    }\n",
       "</style>\n",
       "<table border=\"1\" class=\"dataframe\">\n",
       "  <thead>\n",
       "    <tr style=\"text-align: right;\">\n",
       "      <th></th>\n",
       "      <th>pmid</th>\n",
       "      <th>pub_date</th>\n",
       "      <th>pub_title</th>\n",
       "      <th>journal_title</th>\n",
       "      <th>doi</th>\n",
       "      <th>abstract</th>\n",
       "      <th>relative_citation_ratio</th>\n",
       "      <th>citation_count</th>\n",
       "      <th>citations_per_year</th>\n",
       "      <th>num_major_topics</th>\n",
       "      <th>major_topics</th>\n",
       "      <th>num_minor_topics</th>\n",
       "      <th>minor_topics</th>\n",
       "      <th>concept_list</th>\n",
       "      <th>yearly_citation_counts</th>\n",
       "      <th>unique_mesh_topics</th>\n",
       "      <th>duis</th>\n",
       "    </tr>\n",
       "  </thead>\n",
       "  <tbody>\n",
       "    <tr>\n",
       "      <th>0</th>\n",
       "      <td>28867731</td>\n",
       "      <td>2017-01-01</td>\n",
       "      <td>FOXA1 Induces E-Cadherin Expression at the Pro...</td>\n",
       "      <td>Biological &amp; pharmaceutical bulletin</td>\n",
       "      <td>10.1248/bpb.b17-00307</td>\n",
       "      <td>Epithelial-to-mesenchymal transition (EMT) is ...</td>\n",
       "      <td>0.88</td>\n",
       "      <td>18</td>\n",
       "      <td>3.600000</td>\n",
       "      <td>NaN</td>\n",
       "      <td>NaN</td>\n",
       "      <td>15.0</td>\n",
       "      <td>[\"Antigens, CD\",\"Breast Neoplasms\",\"Cadherins\"...</td>\n",
       "      <td>[\"SFN protein, human\",\"Hepatocyte Nuclear Fact...</td>\n",
       "      <td>{2019:5,2020:3,2021:1,2022:2}</td>\n",
       "      <td>Hepatocyte Nuclear Factor 3-alpha;Estrogen Rec...</td>\n",
       "      <td>D051541;D047628;D010957;D000071250;D012333;D01...</td>\n",
       "    </tr>\n",
       "    <tr>\n",
       "      <th>1</th>\n",
       "      <td>23611783</td>\n",
       "      <td>2013-04-20</td>\n",
       "      <td>Identification and characterization of a novel...</td>\n",
       "      <td>Biochemical and biophysical research communica...</td>\n",
       "      <td>10.1016/j.bbrc.2013.04.022</td>\n",
       "      <td>In plants, flavonoids have been shown to be su...</td>\n",
       "      <td>0.55</td>\n",
       "      <td>15</td>\n",
       "      <td>1.666670</td>\n",
       "      <td>NaN</td>\n",
       "      <td>NaN</td>\n",
       "      <td>17.0</td>\n",
       "      <td>[\"Amino Acid Sequence\",\"Arabidopsis\",\"Arabidop...</td>\n",
       "      <td>[\"Differential quality\",\"Characterization\",\"Bo...</td>\n",
       "      <td>{2013:1,2014:1,2015:1,2018:1,2019:2,2022:1}</td>\n",
       "      <td>Kaempferols;Multigene Family;Arabidopsis Prote...</td>\n",
       "      <td>D044949;D005810;D029681;D005419;D017386;D01080...</td>\n",
       "    </tr>\n",
       "    <tr>\n",
       "      <th>2</th>\n",
       "      <td>31440131</td>\n",
       "      <td>2019-08-07</td>\n",
       "      <td>The Verbal Interaction Social Threat Task: A N...</td>\n",
       "      <td>Frontiers in neuroscience</td>\n",
       "      <td>10.3389/fnins.2019.00830</td>\n",
       "      <td>a priori In recent years, digital communicatio...</td>\n",
       "      <td>0.31</td>\n",
       "      <td>2</td>\n",
       "      <td>0.666667</td>\n",
       "      <td>NaN</td>\n",
       "      <td>NaN</td>\n",
       "      <td>NaN</td>\n",
       "      <td>NaN</td>\n",
       "      <td>[\"Neural\",\"Societies\",\"conversation\",\"Moderate...</td>\n",
       "      <td>{2021:1}</td>\n",
       "      <td>Kaempferols;Multigene Family;Arabidopsis Prote...</td>\n",
       "      <td>D044949;D005810;D029681;D005419;D017386;D01080...</td>\n",
       "    </tr>\n",
       "    <tr>\n",
       "      <th>3</th>\n",
       "      <td>30551143</td>\n",
       "      <td>2019-02-28</td>\n",
       "      <td>Functionality and cross-regulation of the four...</td>\n",
       "      <td>Nucleic acids research</td>\n",
       "      <td>10.1093/nar/gky1256</td>\n",
       "      <td>Toxin-antitoxin (TA) systems are ubiquitous am...</td>\n",
       "      <td>1.37</td>\n",
       "      <td>14</td>\n",
       "      <td>4.666670</td>\n",
       "      <td>NaN</td>\n",
       "      <td>NaN</td>\n",
       "      <td>10.0</td>\n",
       "      <td>[\"Bacterial Proteins\",\"Drug Resistance, Microb...</td>\n",
       "      <td>[\"Antibiotic Resistance, Microbial\",\"Cross-Tal...</td>\n",
       "      <td>{2019:3,2020:2,2021:5,2022:2}</td>\n",
       "      <td>Staphylococcal Infections;Drug Resistance, Mic...</td>\n",
       "      <td>D013203;D004352;D013211;D006801;D001426;D01596...</td>\n",
       "    </tr>\n",
       "    <tr>\n",
       "      <th>4</th>\n",
       "      <td>30229639</td>\n",
       "      <td>2018-09-18</td>\n",
       "      <td>Non-familial porphyria cutanea tarda: a rare d...</td>\n",
       "      <td>Giornale italiano di dermatologia e venereolog...</td>\n",
       "      <td>10.23736/S0392-0488.18.06052-2</td>\n",
       "      <td>NaN</td>\n",
       "      <td>0.00</td>\n",
       "      <td>0</td>\n",
       "      <td>0.000000</td>\n",
       "      <td>NaN</td>\n",
       "      <td>NaN</td>\n",
       "      <td>5.0</td>\n",
       "      <td>[\"Female\",\"Humans\",\"Middle Aged\",\"Porphyria Cu...</td>\n",
       "      <td>NaN</td>\n",
       "      <td>NaN</td>\n",
       "      <td>Rare Diseases;Middle Aged;Humans;Female;Porphy...</td>\n",
       "      <td>D035583;D008875;D006801;D005260;D017119</td>\n",
       "    </tr>\n",
       "  </tbody>\n",
       "</table>\n",
       "</div>"
      ],
      "text/plain": [
       "       pmid    pub_date                                          pub_title   \n",
       "0  28867731  2017-01-01  FOXA1 Induces E-Cadherin Expression at the Pro...  \\\n",
       "1  23611783  2013-04-20  Identification and characterization of a novel...   \n",
       "2  31440131  2019-08-07  The Verbal Interaction Social Threat Task: A N...   \n",
       "3  30551143  2019-02-28  Functionality and cross-regulation of the four...   \n",
       "4  30229639  2018-09-18  Non-familial porphyria cutanea tarda: a rare d...   \n",
       "\n",
       "                                       journal_title   \n",
       "0               Biological & pharmaceutical bulletin  \\\n",
       "1  Biochemical and biophysical research communica...   \n",
       "2                          Frontiers in neuroscience   \n",
       "3                             Nucleic acids research   \n",
       "4  Giornale italiano di dermatologia e venereolog...   \n",
       "\n",
       "                              doi   \n",
       "0           10.1248/bpb.b17-00307  \\\n",
       "1      10.1016/j.bbrc.2013.04.022   \n",
       "2        10.3389/fnins.2019.00830   \n",
       "3             10.1093/nar/gky1256   \n",
       "4  10.23736/S0392-0488.18.06052-2   \n",
       "\n",
       "                                            abstract  relative_citation_ratio   \n",
       "0  Epithelial-to-mesenchymal transition (EMT) is ...                     0.88  \\\n",
       "1  In plants, flavonoids have been shown to be su...                     0.55   \n",
       "2  a priori In recent years, digital communicatio...                     0.31   \n",
       "3  Toxin-antitoxin (TA) systems are ubiquitous am...                     1.37   \n",
       "4                                                NaN                     0.00   \n",
       "\n",
       "   citation_count  citations_per_year  num_major_topics major_topics   \n",
       "0              18            3.600000               NaN          NaN  \\\n",
       "1              15            1.666670               NaN          NaN   \n",
       "2               2            0.666667               NaN          NaN   \n",
       "3              14            4.666670               NaN          NaN   \n",
       "4               0            0.000000               NaN          NaN   \n",
       "\n",
       "   num_minor_topics                                       minor_topics   \n",
       "0              15.0  [\"Antigens, CD\",\"Breast Neoplasms\",\"Cadherins\"...  \\\n",
       "1              17.0  [\"Amino Acid Sequence\",\"Arabidopsis\",\"Arabidop...   \n",
       "2               NaN                                                NaN   \n",
       "3              10.0  [\"Bacterial Proteins\",\"Drug Resistance, Microb...   \n",
       "4               5.0  [\"Female\",\"Humans\",\"Middle Aged\",\"Porphyria Cu...   \n",
       "\n",
       "                                        concept_list   \n",
       "0  [\"SFN protein, human\",\"Hepatocyte Nuclear Fact...  \\\n",
       "1  [\"Differential quality\",\"Characterization\",\"Bo...   \n",
       "2  [\"Neural\",\"Societies\",\"conversation\",\"Moderate...   \n",
       "3  [\"Antibiotic Resistance, Microbial\",\"Cross-Tal...   \n",
       "4                                                NaN   \n",
       "\n",
       "                        yearly_citation_counts   \n",
       "0                {2019:5,2020:3,2021:1,2022:2}  \\\n",
       "1  {2013:1,2014:1,2015:1,2018:1,2019:2,2022:1}   \n",
       "2                                     {2021:1}   \n",
       "3                {2019:3,2020:2,2021:5,2022:2}   \n",
       "4                                          NaN   \n",
       "\n",
       "                                  unique_mesh_topics   \n",
       "0  Hepatocyte Nuclear Factor 3-alpha;Estrogen Rec...  \\\n",
       "1  Kaempferols;Multigene Family;Arabidopsis Prote...   \n",
       "2  Kaempferols;Multigene Family;Arabidopsis Prote...   \n",
       "3  Staphylococcal Infections;Drug Resistance, Mic...   \n",
       "4  Rare Diseases;Middle Aged;Humans;Female;Porphy...   \n",
       "\n",
       "                                                duis  \n",
       "0  D051541;D047628;D010957;D000071250;D012333;D01...  \n",
       "1  D044949;D005810;D029681;D005419;D017386;D01080...  \n",
       "2  D044949;D005810;D029681;D005419;D017386;D01080...  \n",
       "3  D013203;D004352;D013211;D006801;D001426;D01596...  \n",
       "4            D035583;D008875;D006801;D005260;D017119  "
      ]
     },
     "execution_count": 23,
     "metadata": {},
     "output_type": "execute_result"
    }
   ],
   "source": [
    "# read the csv file\n",
    "pubmed_df = pd.read_csv(PUBMED_ADDRESS + 'pubmed_dataset_with_duis.csv')\n",
    "pubmed_df.head()"
   ]
  },
  {
   "cell_type": "code",
   "execution_count": null,
   "metadata": {},
   "outputs": [],
   "source": [
    "                                                                        "
   ]
  }
 ],
 "metadata": {
  "kernelspec": {
   "display_name": "Python 3",
   "language": "python",
   "name": "python3"
  },
  "language_info": {
   "codemirror_mode": {
    "name": "ipython",
    "version": 3
   },
   "file_extension": ".py",
   "mimetype": "text/x-python",
   "name": "python",
   "nbconvert_exporter": "python",
   "pygments_lexer": "ipython3",
   "version": "3.10.6"
  },
  "orig_nbformat": 4
 },
 "nbformat": 4,
 "nbformat_minor": 2
}
