{
 "cells": [
  {
   "cell_type": "code",
   "execution_count": 2,
   "metadata": {},
   "outputs": [],
   "source": [
    "from tqdm import tqdm\n",
    "import pickle\n",
    "import pandas as pd\n",
    "import numpy as np\n",
    "import numpy as np\n",
    "import torch\n",
    "import requests\n",
    "import scipy.stats as stats\n",
    "import copy"
   ]
  },
  {
   "cell_type": "code",
   "execution_count": 52,
   "metadata": {},
   "outputs": [],
   "source": [
    "PICKLES_ADDRESS = '../data/pickles/'\n",
    "LAG_DATA_ADDRESS = 'lag_data/'\n",
    "PUBMED_ADDRESS = '../data/pubmed_dataset/'\n",
    "SBIR_ADDRESS = '../data/sbir_dataset/'\n",
    "TEMP_ADDRESS = 'temp/'"
   ]
  },
  {
   "cell_type": "code",
   "execution_count": 4,
   "metadata": {},
   "outputs": [
    {
     "name": "stdout",
     "output_type": "stream",
     "text": [
      "years: ['2010', '2011', '2012', '2013', '2014', '2015', '2016', '2017', '2018', '2019', '2020', '2021']\n",
      "len(dui2children) 29432\n",
      "len(dui2parents) 29432\n",
      "len(name2dui) 29655\n",
      "len(dui2level) 29432\n",
      "Mututal DUIs count: 29307\n",
      "==================================================\n",
      "INTERSECTED\n",
      "Excluded DUIs: 723\n",
      "len(dui2children) 29307\n",
      "len(dui2parents) 29307\n",
      "len(name2dui) 29307\n",
      "len(dui2level) 29307\n",
      "len(level2dui) 14\n"
     ]
    }
   ],
   "source": [
    "years = [str(year) for year in range(2010, 2022)]\n",
    "\n",
    "with open(PICKLES_ADDRESS + 'dui2children.pkl', 'rb') as handle:\n",
    "    dui2children = pickle.load(handle)\n",
    "\n",
    "with open(PICKLES_ADDRESS + 'dui2trail.pkl', 'rb') as handle:\n",
    "    dui2parents = pickle.load(handle)\n",
    "\n",
    "with open(PICKLES_ADDRESS + 'heading2dui.pkl', 'rb') as handle:\n",
    "    name2dui = pickle.load(handle)\n",
    "\n",
    "with open(PICKLES_ADDRESS + 'level2duis.pkl', 'rb') as handle:\n",
    "    level2duis = pickle.load(handle)\n",
    "\n",
    "with open(PICKLES_ADDRESS + 'dui2level.pkl', 'rb') as handle:\n",
    "    dui2level = pickle.load(handle)\n",
    "\n",
    "\n",
    "#reverse keys and values (inline) in dui2heading and make header2dui\n",
    "dui2name = {dui:heading for heading, dui in name2dui.items()}\n",
    "\n",
    "dui_intersections = set(dui2children.keys()) & set(dui2parents.keys()) & set(dui2name.keys()) & set(dui2level.keys())\n",
    "\n",
    "#gather a list of excluded DUIs, i.e. those that are not in the intersection of the three dictionaries\n",
    "excluded_duis = [dui for dui in dui2children.keys() if dui not in dui_intersections]\n",
    "excluded_duis += [dui for dui in dui2parents.keys() if dui not in dui_intersections]\n",
    "excluded_duis += [dui for dui in dui2name.keys() if dui not in dui_intersections]\n",
    "excluded_duis += [dui for dui in dui2level.keys() if dui not in dui_intersections]\n",
    "\n",
    "print('years:', years)\n",
    "print('len(dui2children)', len(dui2children))\n",
    "print('len(dui2parents)', len(dui2parents))\n",
    "print('len(name2dui)', len(dui2name))\n",
    "print('len(dui2level)', len(dui2level))\n",
    "print('Mututal DUIs count:', len(dui_intersections))\n",
    "\n",
    "# at each dict, select only the DUIs that are in the intersection of the three dictionaries\n",
    "dui2children = {k:v for k,v in dui2children.items() if k in dui_intersections}\n",
    "dui2parents = {k:v for k,v in dui2parents.items() if k in dui_intersections}\n",
    "dui2name = {k:v for k,v in dui2name.items() if k in dui_intersections}\n",
    "name2dui = {v:k for k,v in dui2name.items()}\n",
    "dui2level = {k:v for k,v in dui2level.items() if k in dui_intersections}\n",
    "\n",
    "# remove a dui from values of level2dui if it is not in the intersection\n",
    "for level, dui_list in level2duis.items():\n",
    "    if level == 0:\n",
    "        continue\n",
    "    level2duis[level] = [dui for dui in dui_list if dui in dui_intersections]\n",
    "\n",
    "\n",
    "print('=' * 50)\n",
    "print('INTERSECTED')\n",
    "print('Excluded DUIs:', len(excluded_duis))\n",
    "print('len(dui2children)', len(dui2children))\n",
    "print('len(dui2parents)', len(dui2parents))\n",
    "print('len(name2dui)', len(dui2name))\n",
    "print('len(dui2level)', len(dui2level))\n",
    "print('len(level2dui)', len(level2duis))"
   ]
  },
  {
   "cell_type": "code",
   "execution_count": 5,
   "metadata": {},
   "outputs": [
    {
     "name": "stdout",
     "output_type": "stream",
     "text": [
      "saved dictionaries\n"
     ]
    }
   ],
   "source": [
    "with open(PICKLES_ADDRESS + 'dui2children_final.pkl', 'wb') as handle:\n",
    "    pickle.dump(dui2children, handle, protocol=pickle.HIGHEST_PROTOCOL)\n",
    "\n",
    "with open(PICKLES_ADDRESS + 'dui2trail_final.pkl', 'wb') as handle:\n",
    "    pickle.dump(dui2parents, handle, protocol=pickle.HIGHEST_PROTOCOL)\n",
    "\n",
    "with open(PICKLES_ADDRESS + 'heading2dui_final.pkl', 'wb') as handle:\n",
    "    pickle.dump(dui2name, handle, protocol=pickle.HIGHEST_PROTOCOL)\n",
    "\n",
    "with open(PICKLES_ADDRESS + 'dui2header_final.pkl', 'wb') as handle:\n",
    "    pickle.dump(name2dui, handle, protocol=pickle.HIGHEST_PROTOCOL)\n",
    "\n",
    "with open(PICKLES_ADDRESS + 'dui2level_final.pkl', 'wb') as handle:\n",
    "    pickle.dump(dui2level, handle, protocol=pickle.HIGHEST_PROTOCOL)\n",
    "\n",
    "with open(PICKLES_ADDRESS + 'level2duis_final.pkl', 'wb') as handle:\n",
    "    pickle.dump(level2duis, handle, protocol=pickle.HIGHEST_PROTOCOL)\n",
    "\n",
    "with open(PICKLES_ADDRESS + 'dui_intersection_final.pkl', 'wb') as handle:\n",
    "    pickle.dump(dui_intersections, handle, protocol=pickle.HIGHEST_PROTOCOL)\n",
    "\n",
    "with open(PICKLES_ADDRESS + 'excluded_duis_final.pkl', 'wb') as handle:\n",
    "    pickle.dump(excluded_duis, handle, protocol=pickle.HIGHEST_PROTOCOL)\n",
    "\n",
    "print('saved dictionaries')"
   ]
  },
  {
   "cell_type": "code",
   "execution_count": 5,
   "metadata": {},
   "outputs": [
    {
     "name": "stdout",
     "output_type": "stream",
     "text": [
      "len(sbir_df) 63488\n"
     ]
    },
    {
     "data": {
      "text/html": [
       "<div>\n",
       "<style scoped>\n",
       "    .dataframe tbody tr th:only-of-type {\n",
       "        vertical-align: middle;\n",
       "    }\n",
       "\n",
       "    .dataframe tbody tr th {\n",
       "        vertical-align: top;\n",
       "    }\n",
       "\n",
       "    .dataframe thead th {\n",
       "        text-align: right;\n",
       "    }\n",
       "</style>\n",
       "<table border=\"1\" class=\"dataframe\">\n",
       "  <thead>\n",
       "    <tr style=\"text-align: right;\">\n",
       "      <th></th>\n",
       "      <th>sbid</th>\n",
       "      <th>Year</th>\n",
       "      <th>Award Title</th>\n",
       "      <th>Abstract</th>\n",
       "      <th>Agency</th>\n",
       "      <th>Award Amount</th>\n",
       "      <th>duis</th>\n",
       "    </tr>\n",
       "  </thead>\n",
       "  <tbody>\n",
       "    <tr>\n",
       "      <th>0</th>\n",
       "      <td>S000001</td>\n",
       "      <td>2021</td>\n",
       "      <td>Opportunistic Passive RF Detection, Classifica...</td>\n",
       "      <td>In the last decade there has been an exponenti...</td>\n",
       "      <td>Department of Defense</td>\n",
       "      <td>749922</td>\n",
       "      <td>D000069550;D058749;Q000191;D008889;D001846;D01...</td>\n",
       "    </tr>\n",
       "    <tr>\n",
       "      <th>2</th>\n",
       "      <td>S000003</td>\n",
       "      <td>2021</td>\n",
       "      <td>OPTIMIZING The Human Machine</td>\n",
       "      <td>1109 BRAVO’s Neuropak provides an efficient, e...</td>\n",
       "      <td>Department of Defense</td>\n",
       "      <td>49999</td>\n",
       "      <td>D014947;Q000517;D000082622;Q000534;D006801;D01...</td>\n",
       "    </tr>\n",
       "    <tr>\n",
       "      <th>4</th>\n",
       "      <td>S000005</td>\n",
       "      <td>2021</td>\n",
       "      <td>Remote Medication Adherence solution for glauc...</td>\n",
       "      <td>Glaucoma, a disease that damages your eye's op...</td>\n",
       "      <td>Department of Defense</td>\n",
       "      <td>49984</td>\n",
       "      <td>D005901;D014728;D004194;D001766;D000368;D013313</td>\n",
       "    </tr>\n",
       "    <tr>\n",
       "      <th>5</th>\n",
       "      <td>S000006</td>\n",
       "      <td>2021</td>\n",
       "      <td>Extendable Workflow Automation For The USAF Wi...</td>\n",
       "      <td>2X4Lab will investigate the applicability of i...</td>\n",
       "      <td>Department of Defense</td>\n",
       "      <td>49691</td>\n",
       "      <td>D005240;D008921</td>\n",
       "    </tr>\n",
       "    <tr>\n",
       "      <th>8</th>\n",
       "      <td>S000009</td>\n",
       "      <td>2021</td>\n",
       "      <td>Architecting Resilient and Sustainable Remote ...</td>\n",
       "      <td>Technology is changing at a rapid pace, especi...</td>\n",
       "      <td>Department of Defense</td>\n",
       "      <td>49021</td>\n",
       "      <td>Q000601;D013672</td>\n",
       "    </tr>\n",
       "  </tbody>\n",
       "</table>\n",
       "</div>"
      ],
      "text/plain": [
       "      sbid  Year                                        Award Title   \n",
       "0  S000001  2021  Opportunistic Passive RF Detection, Classifica...  \\\n",
       "2  S000003  2021                       OPTIMIZING The Human Machine   \n",
       "4  S000005  2021  Remote Medication Adherence solution for glauc...   \n",
       "5  S000006  2021  Extendable Workflow Automation For The USAF Wi...   \n",
       "8  S000009  2021  Architecting Resilient and Sustainable Remote ...   \n",
       "\n",
       "                                            Abstract                 Agency   \n",
       "0  In the last decade there has been an exponenti...  Department of Defense  \\\n",
       "2  1109 BRAVO’s Neuropak provides an efficient, e...  Department of Defense   \n",
       "4  Glaucoma, a disease that damages your eye's op...  Department of Defense   \n",
       "5  2X4Lab will investigate the applicability of i...  Department of Defense   \n",
       "8  Technology is changing at a rapid pace, especi...  Department of Defense   \n",
       "\n",
       "   Award Amount                                               duis  \n",
       "0        749922  D000069550;D058749;Q000191;D008889;D001846;D01...  \n",
       "2         49999  D014947;Q000517;D000082622;Q000534;D006801;D01...  \n",
       "4         49984    D005901;D014728;D004194;D001766;D000368;D013313  \n",
       "5         49691                                    D005240;D008921  \n",
       "8         49021                                    Q000601;D013672  "
      ]
     },
     "execution_count": 5,
     "metadata": {},
     "output_type": "execute_result"
    }
   ],
   "source": [
    "sbir_df = pd.read_csv(SBIR_ADDRESS + 'award_data_with_cuis_duis.csv', engine='python')\n",
    "sbir_df = sbir_df[sbir_df['Proposal Award Date'].notna()]\n",
    "sbir_df = sbir_df[sbir_df['Proposal Award Date'].str.contains('/')]\n",
    "sbir_df['Proposal Award Date'] = pd.to_datetime(sbir_df['Proposal Award Date'])\n",
    "sbir_df['Year'] = sbir_df['Proposal Award Date'].dt.year.astype(str)\n",
    "sbir_df = sbir_df[sbir_df['Year'].isin(years)]\n",
    "sbir_df['Award Amount'] = sbir_df['Award Amount'].str.replace('$', '')\n",
    "sbir_df['Award Amount'] = sbir_df['Award Amount'].str.replace(',', '')\n",
    "sbir_df['Award Amount'] = sbir_df['Award Amount'].str.replace('.*', '')\n",
    "sbir_df['Award Amount'] = sbir_df['Award Amount'].astype(int)\n",
    "#only select rows where their agency is either 'Department of Health and Human Services' or NSF\n",
    "# sbir_df = sbir_df[sbir_df['Agency'].isin(['NIH', 'NSF'])]\n",
    "sbir_df = sbir_df[['sbid', 'Year', 'Award Title', 'Abstract', 'Agency', 'Award Amount', 'duis']]\n",
    "sbir_df = sbir_df[sbir_df['Agency'].notna()]\n",
    "sbir_df = sbir_df[sbir_df['Abstract'].notna()]\n",
    "sbir_df = sbir_df[sbir_df['duis'].notna()]\n",
    "print('len(sbir_df)', len(sbir_df))\n",
    "sbir_df.head()"
   ]
  },
  {
   "cell_type": "code",
   "execution_count": 6,
   "metadata": {},
   "outputs": [
    {
     "data": {
      "text/plain": [
       "array(['Department of Defense', 'Department of Transportation',\n",
       "       'Department of Health and Human Services',\n",
       "       'National Science Foundation', 'Department of Agriculture',\n",
       "       'Department of Energy',\n",
       "       'National Aeronautics and Space Administration',\n",
       "       'Department of Commerce', 'Environmental Protection Agency',\n",
       "       'Department of Homeland Security', 'Department of Education'],\n",
       "      dtype=object)"
      ]
     },
     "execution_count": 6,
     "metadata": {},
     "output_type": "execute_result"
    }
   ],
   "source": [
    "agencies = sbir_df['Agency'].unique()\n",
    "agencies"
   ]
  },
  {
   "cell_type": "code",
   "execution_count": 7,
   "metadata": {},
   "outputs": [
    {
     "name": "stdout",
     "output_type": "stream",
     "text": [
      "saved sbir_df.csv\n"
     ]
    }
   ],
   "source": [
    "sbir_df.to_csv(SBIR_ADDRESS + 'sbir_df.csv', index=False)\n",
    "print('saved sbir_df.csv')"
   ]
  },
  {
   "cell_type": "code",
   "execution_count": 9,
   "metadata": {},
   "outputs": [],
   "source": [
    "pubmed = pd.read_csv(PUBMED_ADDRESS + 'pubmed_dataset_with_duis.csv', engine='python')\n",
    "pubmed.head()"
   ]
  },
  {
   "cell_type": "code",
   "execution_count": null,
   "metadata": {},
   "outputs": [
    {
     "name": "stdout",
     "output_type": "stream",
     "text": [
      "13517353\n"
     ]
    }
   ],
   "source": [
    "# copy pubmed to pubmed_df\n",
    "pubmed_df = pubmed.copy()\n",
    "print(len(pubmed_df))"
   ]
  },
  {
   "cell_type": "code",
   "execution_count": null,
   "metadata": {},
   "outputs": [
    {
     "name": "stdout",
     "output_type": "stream",
     "text": [
      "len(pubmed_df) 10928078\n"
     ]
    },
    {
     "data": {
      "text/html": [
       "<div>\n",
       "<style scoped>\n",
       "    .dataframe tbody tr th:only-of-type {\n",
       "        vertical-align: middle;\n",
       "    }\n",
       "\n",
       "    .dataframe tbody tr th {\n",
       "        vertical-align: top;\n",
       "    }\n",
       "\n",
       "    .dataframe thead th {\n",
       "        text-align: right;\n",
       "    }\n",
       "</style>\n",
       "<table border=\"1\" class=\"dataframe\">\n",
       "  <thead>\n",
       "    <tr style=\"text-align: right;\">\n",
       "      <th></th>\n",
       "      <th>pmid</th>\n",
       "      <th>year</th>\n",
       "      <th>abstract</th>\n",
       "      <th>citation_count</th>\n",
       "      <th>duis</th>\n",
       "    </tr>\n",
       "  </thead>\n",
       "  <tbody>\n",
       "    <tr>\n",
       "      <th>0</th>\n",
       "      <td>28867731</td>\n",
       "      <td>2017</td>\n",
       "      <td>Epithelial-to-mesenchymal transition (EMT) is ...</td>\n",
       "      <td>18</td>\n",
       "      <td>D051541;D047628;D010957;D000071250;D012333;D01...</td>\n",
       "    </tr>\n",
       "    <tr>\n",
       "      <th>1</th>\n",
       "      <td>23611783</td>\n",
       "      <td>2013</td>\n",
       "      <td>In plants, flavonoids have been shown to be su...</td>\n",
       "      <td>15</td>\n",
       "      <td>D044949;D005810;D029681;D005419;D017386;D01080...</td>\n",
       "    </tr>\n",
       "    <tr>\n",
       "      <th>2</th>\n",
       "      <td>31440131</td>\n",
       "      <td>2019</td>\n",
       "      <td>a priori In recent years, digital communicatio...</td>\n",
       "      <td>2</td>\n",
       "      <td>D044949;D005810;D029681;D005419;D017386;D01080...</td>\n",
       "    </tr>\n",
       "    <tr>\n",
       "      <th>3</th>\n",
       "      <td>30551143</td>\n",
       "      <td>2019</td>\n",
       "      <td>Toxin-antitoxin (TA) systems are ubiquitous am...</td>\n",
       "      <td>14</td>\n",
       "      <td>D013203;D004352;D013211;D006801;D001426;D01596...</td>\n",
       "    </tr>\n",
       "    <tr>\n",
       "      <th>5</th>\n",
       "      <td>21134855</td>\n",
       "      <td>2010</td>\n",
       "      <td>Efavirenz (EFV) tablets of different doses wer...</td>\n",
       "      <td>3</td>\n",
       "      <td>D048588;D003692;D000480;D002626;D012995;D00352...</td>\n",
       "    </tr>\n",
       "  </tbody>\n",
       "</table>\n",
       "</div>"
      ],
      "text/plain": [
       "       pmid  year                                           abstract   \n",
       "0  28867731  2017  Epithelial-to-mesenchymal transition (EMT) is ...  \\\n",
       "1  23611783  2013  In plants, flavonoids have been shown to be su...   \n",
       "2  31440131  2019  a priori In recent years, digital communicatio...   \n",
       "3  30551143  2019  Toxin-antitoxin (TA) systems are ubiquitous am...   \n",
       "5  21134855  2010  Efavirenz (EFV) tablets of different doses wer...   \n",
       "\n",
       "   citation_count                                               duis  \n",
       "0              18  D051541;D047628;D010957;D000071250;D012333;D01...  \n",
       "1              15  D044949;D005810;D029681;D005419;D017386;D01080...  \n",
       "2               2  D044949;D005810;D029681;D005419;D017386;D01080...  \n",
       "3              14  D013203;D004352;D013211;D006801;D001426;D01596...  \n",
       "5               3  D048588;D003692;D000480;D002626;D012995;D00352...  "
      ]
     },
     "execution_count": 65,
     "metadata": {},
     "output_type": "execute_result"
    }
   ],
   "source": [
    "pubmed_df['pub_date'] = pd.to_datetime(pubmed_df['pub_date'])\n",
    "pubmed_df['year'] = pubmed_df['pub_date'].dt.year.astype(str)\n",
    "pubmed_df = pubmed_df[pubmed_df['year'].isin(years)]\n",
    "pubmed_df = pubmed_df[pubmed_df['abstract'].notna()]\n",
    "pubmed_df = pubmed_df[pubmed_df['duis'].notna()]\n",
    "pubmed_df = pubmed_df[['pmid', 'year', 'abstract', 'citation_count', 'duis']]\n",
    "print('len(pubmed_df)', len(pubmed_df))\n",
    "pubmed_df.head()"
   ]
  },
  {
   "cell_type": "code",
   "execution_count": 11,
   "metadata": {},
   "outputs": [],
   "source": [
    "pubmed_df.to_csv(PUBMED_ADDRESS + 'pubmed_df.csv', index=False)\n",
    "print('saved pubmed_df.csv')"
   ]
  },
  {
   "cell_type": "code",
   "execution_count": 12,
   "metadata": {},
   "outputs": [
    {
     "data": {
      "text/html": [
       "<div>\n",
       "<style scoped>\n",
       "    .dataframe tbody tr th:only-of-type {\n",
       "        vertical-align: middle;\n",
       "    }\n",
       "\n",
       "    .dataframe tbody tr th {\n",
       "        vertical-align: top;\n",
       "    }\n",
       "\n",
       "    .dataframe thead th {\n",
       "        text-align: right;\n",
       "    }\n",
       "</style>\n",
       "<table border=\"1\" class=\"dataframe\">\n",
       "  <thead>\n",
       "    <tr style=\"text-align: right;\">\n",
       "      <th></th>\n",
       "      <th>pmid</th>\n",
       "      <th>year</th>\n",
       "      <th>abstract</th>\n",
       "      <th>citation_count</th>\n",
       "      <th>duis</th>\n",
       "    </tr>\n",
       "  </thead>\n",
       "  <tbody>\n",
       "    <tr>\n",
       "      <th>0</th>\n",
       "      <td>28867731</td>\n",
       "      <td>2017</td>\n",
       "      <td>Epithelial-to-mesenchymal transition (EMT) is ...</td>\n",
       "      <td>18</td>\n",
       "      <td>D051541;D047628;D010957;D000071250;D012333;D01...</td>\n",
       "    </tr>\n",
       "    <tr>\n",
       "      <th>1</th>\n",
       "      <td>23611783</td>\n",
       "      <td>2013</td>\n",
       "      <td>In plants, flavonoids have been shown to be su...</td>\n",
       "      <td>15</td>\n",
       "      <td>D044949;D005810;D029681;D005419;D017386;D01080...</td>\n",
       "    </tr>\n",
       "    <tr>\n",
       "      <th>2</th>\n",
       "      <td>31440131</td>\n",
       "      <td>2019</td>\n",
       "      <td>a priori In recent years, digital communicatio...</td>\n",
       "      <td>2</td>\n",
       "      <td>D044949;D005810;D029681;D005419;D017386;D01080...</td>\n",
       "    </tr>\n",
       "    <tr>\n",
       "      <th>3</th>\n",
       "      <td>30551143</td>\n",
       "      <td>2019</td>\n",
       "      <td>Toxin-antitoxin (TA) systems are ubiquitous am...</td>\n",
       "      <td>14</td>\n",
       "      <td>D013203;D004352;D013211;D006801;D001426;D01596...</td>\n",
       "    </tr>\n",
       "    <tr>\n",
       "      <th>4</th>\n",
       "      <td>21134855</td>\n",
       "      <td>2010</td>\n",
       "      <td>Efavirenz (EFV) tablets of different doses wer...</td>\n",
       "      <td>3</td>\n",
       "      <td>D048588;D003692;D000480;D002626;D012995;D00352...</td>\n",
       "    </tr>\n",
       "  </tbody>\n",
       "</table>\n",
       "</div>"
      ],
      "text/plain": [
       "       pmid  year                                           abstract   \n",
       "0  28867731  2017  Epithelial-to-mesenchymal transition (EMT) is ...  \\\n",
       "1  23611783  2013  In plants, flavonoids have been shown to be su...   \n",
       "2  31440131  2019  a priori In recent years, digital communicatio...   \n",
       "3  30551143  2019  Toxin-antitoxin (TA) systems are ubiquitous am...   \n",
       "4  21134855  2010  Efavirenz (EFV) tablets of different doses wer...   \n",
       "\n",
       "   citation_count                                               duis  \n",
       "0              18  D051541;D047628;D010957;D000071250;D012333;D01...  \n",
       "1              15  D044949;D005810;D029681;D005419;D017386;D01080...  \n",
       "2               2  D044949;D005810;D029681;D005419;D017386;D01080...  \n",
       "3              14  D013203;D004352;D013211;D006801;D001426;D01596...  \n",
       "4               3  D048588;D003692;D000480;D002626;D012995;D00352...  "
      ]
     },
     "execution_count": 12,
     "metadata": {},
     "output_type": "execute_result"
    }
   ],
   "source": [
    "#load pubmed_df\n",
    "pubmed_df = pd.read_csv(PUBMED_ADDRESS + 'pubmed_df.csv', engine='python')\n",
    "pubmed_df.head()"
   ]
  },
  {
   "cell_type": "code",
   "execution_count": 13,
   "metadata": {},
   "outputs": [
    {
     "data": {
      "text/html": [
       "<div>\n",
       "<style scoped>\n",
       "    .dataframe tbody tr th:only-of-type {\n",
       "        vertical-align: middle;\n",
       "    }\n",
       "\n",
       "    .dataframe tbody tr th {\n",
       "        vertical-align: top;\n",
       "    }\n",
       "\n",
       "    .dataframe thead th {\n",
       "        text-align: right;\n",
       "    }\n",
       "</style>\n",
       "<table border=\"1\" class=\"dataframe\">\n",
       "  <thead>\n",
       "    <tr style=\"text-align: right;\">\n",
       "      <th></th>\n",
       "      <th>sbid</th>\n",
       "      <th>Year</th>\n",
       "      <th>Award Title</th>\n",
       "      <th>Abstract</th>\n",
       "      <th>Agency</th>\n",
       "      <th>Award Amount</th>\n",
       "      <th>duis</th>\n",
       "    </tr>\n",
       "  </thead>\n",
       "  <tbody>\n",
       "    <tr>\n",
       "      <th>0</th>\n",
       "      <td>S000001</td>\n",
       "      <td>2021</td>\n",
       "      <td>Opportunistic Passive RF Detection, Classifica...</td>\n",
       "      <td>In the last decade there has been an exponenti...</td>\n",
       "      <td>Department of Defense</td>\n",
       "      <td>749922</td>\n",
       "      <td>D000069550;D058749;Q000191;D008889;D001846;D01...</td>\n",
       "    </tr>\n",
       "    <tr>\n",
       "      <th>1</th>\n",
       "      <td>S000003</td>\n",
       "      <td>2021</td>\n",
       "      <td>OPTIMIZING The Human Machine</td>\n",
       "      <td>1109 BRAVO’s Neuropak provides an efficient, e...</td>\n",
       "      <td>Department of Defense</td>\n",
       "      <td>49999</td>\n",
       "      <td>D014947;Q000517;D000082622;Q000534;D006801;D01...</td>\n",
       "    </tr>\n",
       "    <tr>\n",
       "      <th>2</th>\n",
       "      <td>S000005</td>\n",
       "      <td>2021</td>\n",
       "      <td>Remote Medication Adherence solution for glauc...</td>\n",
       "      <td>Glaucoma, a disease that damages your eye's op...</td>\n",
       "      <td>Department of Defense</td>\n",
       "      <td>49984</td>\n",
       "      <td>D005901;D014728;D004194;D001766;D000368;D013313</td>\n",
       "    </tr>\n",
       "    <tr>\n",
       "      <th>3</th>\n",
       "      <td>S000006</td>\n",
       "      <td>2021</td>\n",
       "      <td>Extendable Workflow Automation For The USAF Wi...</td>\n",
       "      <td>2X4Lab will investigate the applicability of i...</td>\n",
       "      <td>Department of Defense</td>\n",
       "      <td>49691</td>\n",
       "      <td>D005240;D008921</td>\n",
       "    </tr>\n",
       "    <tr>\n",
       "      <th>4</th>\n",
       "      <td>S000009</td>\n",
       "      <td>2021</td>\n",
       "      <td>Architecting Resilient and Sustainable Remote ...</td>\n",
       "      <td>Technology is changing at a rapid pace, especi...</td>\n",
       "      <td>Department of Defense</td>\n",
       "      <td>49021</td>\n",
       "      <td>Q000601;D013672</td>\n",
       "    </tr>\n",
       "  </tbody>\n",
       "</table>\n",
       "</div>"
      ],
      "text/plain": [
       "      sbid  Year                                        Award Title   \n",
       "0  S000001  2021  Opportunistic Passive RF Detection, Classifica...  \\\n",
       "1  S000003  2021                       OPTIMIZING The Human Machine   \n",
       "2  S000005  2021  Remote Medication Adherence solution for glauc...   \n",
       "3  S000006  2021  Extendable Workflow Automation For The USAF Wi...   \n",
       "4  S000009  2021  Architecting Resilient and Sustainable Remote ...   \n",
       "\n",
       "                                            Abstract                 Agency   \n",
       "0  In the last decade there has been an exponenti...  Department of Defense  \\\n",
       "1  1109 BRAVO’s Neuropak provides an efficient, e...  Department of Defense   \n",
       "2  Glaucoma, a disease that damages your eye's op...  Department of Defense   \n",
       "3  2X4Lab will investigate the applicability of i...  Department of Defense   \n",
       "4  Technology is changing at a rapid pace, especi...  Department of Defense   \n",
       "\n",
       "   Award Amount                                               duis  \n",
       "0        749922  D000069550;D058749;Q000191;D008889;D001846;D01...  \n",
       "1         49999  D014947;Q000517;D000082622;Q000534;D006801;D01...  \n",
       "2         49984    D005901;D014728;D004194;D001766;D000368;D013313  \n",
       "3         49691                                    D005240;D008921  \n",
       "4         49021                                    Q000601;D013672  "
      ]
     },
     "execution_count": 13,
     "metadata": {},
     "output_type": "execute_result"
    }
   ],
   "source": [
    "sbir_df = pd.read_csv(SBIR_ADDRESS + 'sbir_df.csv', engine='python')\n",
    "sbir_df.head()"
   ]
  },
  {
   "cell_type": "code",
   "execution_count": 14,
   "metadata": {},
   "outputs": [
    {
     "data": {
      "text/plain": [
       "count    1.092808e+07\n",
       "mean     2.057577e+02\n",
       "std      8.014588e+01\n",
       "min      2.000000e+00\n",
       "25%      1.530000e+02\n",
       "50%      2.040000e+02\n",
       "75%      2.490000e+02\n",
       "max      6.274000e+03\n",
       "Name: abstract, dtype: float64"
      ]
     },
     "execution_count": 14,
     "metadata": {},
     "output_type": "execute_result"
    }
   ],
   "source": [
    "pubmed_df['abstract'].apply(lambda x: len(x.split())).describe()"
   ]
  },
  {
   "cell_type": "code",
   "execution_count": 15,
   "metadata": {},
   "outputs": [
    {
     "data": {
      "text/plain": [
       "count    63488.000000\n",
       "mean       251.400910\n",
       "std        138.849364\n",
       "min          1.000000\n",
       "25%        164.000000\n",
       "50%        200.000000\n",
       "75%        338.000000\n",
       "max       1712.000000\n",
       "Name: Abstract, dtype: float64"
      ]
     },
     "execution_count": 15,
     "metadata": {},
     "output_type": "execute_result"
    }
   ],
   "source": [
    "sbir_df['Abstract'].apply(lambda x: len(x.split())).describe()"
   ]
  },
  {
   "cell_type": "code",
   "execution_count": 16,
   "metadata": {},
   "outputs": [
    {
     "data": {
      "text/plain": [
       "(29307, 723)"
      ]
     },
     "execution_count": 16,
     "metadata": {},
     "output_type": "execute_result"
    }
   ],
   "source": [
    "len(dui_intersections), len(excluded_duis)"
   ]
  },
  {
   "cell_type": "code",
   "execution_count": 17,
   "metadata": {},
   "outputs": [
    {
     "name": "stderr",
     "output_type": "stream",
     "text": [
      "1765it [00:01, 2206.31it/s]"
     ]
    },
    {
     "name": "stdout",
     "output_type": "stream",
     "text": [
      "Saved dui2pubfreq.pkl 0\n"
     ]
    },
    {
     "name": "stderr",
     "output_type": "stream",
     "text": [
      "1001696it [01:50, 4326.75it/s]"
     ]
    },
    {
     "name": "stdout",
     "output_type": "stream",
     "text": [
      "Saved dui2pubfreq.pkl 1000000\n"
     ]
    },
    {
     "name": "stderr",
     "output_type": "stream",
     "text": [
      "2001420it [03:37, 2725.18it/s]"
     ]
    },
    {
     "name": "stdout",
     "output_type": "stream",
     "text": [
      "Saved dui2pubfreq.pkl 2000000\n"
     ]
    },
    {
     "name": "stderr",
     "output_type": "stream",
     "text": [
      "3001020it [05:25, 2072.32it/s]"
     ]
    },
    {
     "name": "stdout",
     "output_type": "stream",
     "text": [
      "Saved dui2pubfreq.pkl 3000000\n"
     ]
    },
    {
     "name": "stderr",
     "output_type": "stream",
     "text": [
      "4001027it [07:14, 1614.11it/s]"
     ]
    },
    {
     "name": "stdout",
     "output_type": "stream",
     "text": [
      "Saved dui2pubfreq.pkl 4000000\n"
     ]
    },
    {
     "name": "stderr",
     "output_type": "stream",
     "text": [
      "5001240it [09:03, 1385.00it/s]"
     ]
    },
    {
     "name": "stdout",
     "output_type": "stream",
     "text": [
      "Saved dui2pubfreq.pkl 5000000\n"
     ]
    },
    {
     "name": "stderr",
     "output_type": "stream",
     "text": [
      "6001676it [10:52, 1197.62it/s]"
     ]
    },
    {
     "name": "stdout",
     "output_type": "stream",
     "text": [
      "Saved dui2pubfreq.pkl 6000000\n"
     ]
    },
    {
     "name": "stderr",
     "output_type": "stream",
     "text": [
      "7001243it [12:41, 1029.33it/s]"
     ]
    },
    {
     "name": "stdout",
     "output_type": "stream",
     "text": [
      "Saved dui2pubfreq.pkl 7000000\n"
     ]
    },
    {
     "name": "stderr",
     "output_type": "stream",
     "text": [
      "8001089it [14:31, 951.73it/s] "
     ]
    },
    {
     "name": "stdout",
     "output_type": "stream",
     "text": [
      "Saved dui2pubfreq.pkl 8000000\n"
     ]
    },
    {
     "name": "stderr",
     "output_type": "stream",
     "text": [
      "9001781it [16:22, 845.22it/s] "
     ]
    },
    {
     "name": "stdout",
     "output_type": "stream",
     "text": [
      "Saved dui2pubfreq.pkl 9000000\n"
     ]
    },
    {
     "name": "stderr",
     "output_type": "stream",
     "text": [
      "10001070it [18:13, 768.57it/s]"
     ]
    },
    {
     "name": "stdout",
     "output_type": "stream",
     "text": [
      "Saved dui2pubfreq.pkl 10000000\n"
     ]
    },
    {
     "name": "stderr",
     "output_type": "stream",
     "text": [
      "10928078it [19:52, 9166.10it/s]\n"
     ]
    },
    {
     "name": "stdout",
     "output_type": "stream",
     "text": [
      "Saved dui2pubfreq.pkl 29307\n"
     ]
    }
   ],
   "source": [
    "dui2pubfreq = {dui: {year: [] for year in years} for dui in dui_intersections}\n",
    "\n",
    "for index, row in tqdm(pubmed_df.iterrows()):\n",
    "    pmid = row['pmid']\n",
    "    year = row['year']\n",
    "    duis = row['duis'].split(';')\n",
    "    for dui in duis:\n",
    "        try:\n",
    "            if dui not in excluded_duis:\n",
    "                dui2pubfreq[dui][str(year)] += [pmid]\n",
    "        except KeyError:\n",
    "            pass\n",
    "        except Exception as e:\n",
    "            print(e)\n",
    "            print(dui, year, pmid, duis)\n",
    "            print('=' * 50)\n",
    "            \n",
    "    if index % 1000000 == 0:\n",
    "        with open(PICKLES_ADDRESS + 'dui2pubfreq.pkl', 'wb') as handle:\n",
    "            pickle.dump(dui2pubfreq, handle, protocol=pickle.HIGHEST_PROTOCOL)\n",
    "        print('Saved dui2pubfreq.pkl', index)\n",
    "\n",
    "# replace each pmid list at each year of each dui with the list of its unique elements\n",
    "for dui, year2pmids in dui2pubfreq.items():\n",
    "    for year, pmids in year2pmids.items():\n",
    "        dui2pubfreq[dui][year] = list(set(pmids))\n",
    "    \n",
    "with open(PICKLES_ADDRESS + 'dui2pubfreq.pkl', 'wb') as handle:\n",
    "    pickle.dump(dui2pubfreq, handle, protocol=pickle.HIGHEST_PROTOCOL)\n",
    "print('Saved dui2pubfreq.pkl', len(dui2pubfreq))"
   ]
  },
  {
   "cell_type": "code",
   "execution_count": 18,
   "metadata": {},
   "outputs": [
    {
     "name": "stderr",
     "output_type": "stream",
     "text": [
      "63488it [00:07, 8232.40it/s] \n"
     ]
    },
    {
     "name": "stdout",
     "output_type": "stream",
     "text": [
      "Saved dui2sbfreq.pkl 29307\n"
     ]
    }
   ],
   "source": [
    "# do the same for sbir\n",
    "dui2sbfreq = {dui: {year: [] for year in years} for dui in dui_intersections}\n",
    "\n",
    "for index, row in tqdm(sbir_df.iterrows()):\n",
    "    sbid = row['sbid']\n",
    "    year = row['Year']\n",
    "    duis = row['duis'].split(';')\n",
    "    for dui in duis:\n",
    "        try:\n",
    "            if dui not in excluded_duis:\n",
    "                dui2sbfreq[dui][str(year)] += [sbid]\n",
    "        except KeyError:\n",
    "            pass\n",
    "        except Exception as e:\n",
    "            print(e, type(e))\n",
    "            print(dui, year, sbid, duis)\n",
    "            print('=' * 50)\n",
    "    \n",
    "\n",
    "for dui, year2sbids in dui2sbfreq.items():\n",
    "    for year, sbids in year2sbids.items():\n",
    "        dui2sbfreq[dui][year] = list(set(sbids))\n",
    "\n",
    "with open(PICKLES_ADDRESS + 'dui2sbfreq.pkl', 'wb') as handle:\n",
    "    pickle.dump(dui2sbfreq, handle, protocol=pickle.HIGHEST_PROTOCOL)\n",
    "print('Saved dui2sbfreq.pkl', len(dui2sbfreq))"
   ]
  },
  {
   "cell_type": "code",
   "execution_count": 6,
   "metadata": {},
   "outputs": [
    {
     "name": "stdout",
     "output_type": "stream",
     "text": [
      "Loaded dui2pubfreq.pkl 29307\n",
      "Loaded dui2sbfreq.pkl 29307\n"
     ]
    }
   ],
   "source": [
    "#load dui2pubfreq and dui2sbfreq\n",
    "with open(PICKLES_ADDRESS + 'dui2pubfreq.pkl', 'rb') as handle:\n",
    "    dui2pubfreq = pickle.load(handle)\n",
    "print('Loaded dui2pubfreq.pkl', len(dui2pubfreq))\n",
    "\n",
    "with open(PICKLES_ADDRESS + 'dui2sbfreq.pkl', 'rb') as handle:\n",
    "    dui2sbfreq = pickle.load(handle)\n",
    "print('Loaded dui2sbfreq.pkl', len(dui2sbfreq))"
   ]
  },
  {
   "cell_type": "code",
   "execution_count": 7,
   "metadata": {},
   "outputs": [
    {
     "name": "stdout",
     "output_type": "stream",
     "text": [
      "len(dui2pubfreq) 29307\n",
      "len(dui2sbfreq) 29307\n",
      "Machine Learning, D000069550, 2010:\n",
      "pubmed (raw): 117\n",
      "sbir (raw): 13\n"
     ]
    }
   ],
   "source": [
    "print('len(dui2pubfreq)', len(dui2pubfreq))\n",
    "print('len(dui2sbfreq)', len(dui2sbfreq))\n",
    "print('Machine Learning, D000069550, 2010:')\n",
    "print('pubmed (raw):', len(dui2pubfreq['D000069550']['2010']))\n",
    "print('sbir (raw):', len(dui2sbfreq['D000069550']['2010']))"
   ]
  },
  {
   "cell_type": "code",
   "execution_count": 22,
   "metadata": {},
   "outputs": [
    {
     "name": "stderr",
     "output_type": "stream",
     "text": [
      "100%|██████████| 29307/29307 [00:19<00:00, 1468.32it/s]\n"
     ]
    },
    {
     "name": "stdout",
     "output_type": "stream",
     "text": [
      "Saved dui2pubfreqchild.pkl 29307\n"
     ]
    }
   ],
   "source": [
    "dui2pubfreqchild = copy.deepcopy(dui2pubfreq)\n",
    "for dui in tqdm(dui_intersections):\n",
    "    for year in years:\n",
    "        children_pmids = dui2pubfreqchild[dui][year]  # set the default value to the parent's pmid list\n",
    "        for dui_child in dui2children[dui]:\n",
    "            if dui_child in dui_intersections:\n",
    "                children_pmids += dui2pubfreq[dui_child][year]\n",
    "        dui2pubfreqchild[dui][year] = list(set(children_pmids))\n",
    "\n",
    "with open(PICKLES_ADDRESS + 'dui2pubfreqchild.pkl', 'wb') as handle:\n",
    "    pickle.dump(dui2pubfreqchild, handle, protocol=pickle.HIGHEST_PROTOCOL)\n",
    "print('Saved dui2pubfreqchild.pkl', len(dui2pubfreqchild))"
   ]
  },
  {
   "cell_type": "code",
   "execution_count": 23,
   "metadata": {},
   "outputs": [
    {
     "name": "stderr",
     "output_type": "stream",
     "text": [
      "100%|██████████| 29307/29307 [00:00<00:00, 44035.88it/s]\n"
     ]
    },
    {
     "name": "stdout",
     "output_type": "stream",
     "text": [
      "Saved dui2sbfreqchild.pkl 29307\n"
     ]
    }
   ],
   "source": [
    "dui2sbfreqchild = copy.deepcopy(dui2sbfreq)\n",
    "for dui in tqdm(dui_intersections):\n",
    "    for year in years:\n",
    "        children_pmids = dui2sbfreqchild[dui][year]  # set the default value to the parent's pmid list\n",
    "        for dui_child in dui2children[dui]:\n",
    "            if dui_child in dui_intersections:\n",
    "                children_pmids += dui2sbfreq[dui_child][year]\n",
    "        dui2sbfreqchild[dui][year] = list(set(children_pmids))\n",
    "\n",
    "with open(PICKLES_ADDRESS + 'dui2sbfreqchild.pkl', 'wb') as handle:\n",
    "    pickle.dump(dui2sbfreqchild, handle, protocol=pickle.HIGHEST_PROTOCOL)\n",
    "print('Saved dui2sbfreqchild.pkl', len(dui2sbfreqchild))"
   ]
  },
  {
   "cell_type": "code",
   "execution_count": 8,
   "metadata": {},
   "outputs": [
    {
     "name": "stdout",
     "output_type": "stream",
     "text": [
      "Loaded dui2pubfreqchild.pkl 29307\n",
      "Loaded dui2sbfreqchild.pkl 29307\n"
     ]
    }
   ],
   "source": [
    "#load dui2pubfreqchild and dui2sbfreqchild\n",
    "with open(PICKLES_ADDRESS + 'dui2pubfreqchild.pkl', 'rb') as handle:\n",
    "    dui2pubfreqchild = pickle.load(handle)\n",
    "print('Loaded dui2pubfreqchild.pkl', len(dui2pubfreqchild))\n",
    "\n",
    "with open(PICKLES_ADDRESS + 'dui2sbfreqchild.pkl', 'rb') as handle:\n",
    "    dui2sbfreqchild = pickle.load(handle)\n",
    "print('Loaded dui2sbfreqchild.pkl', len(dui2sbfreqchild))"
   ]
  },
  {
   "cell_type": "code",
   "execution_count": 9,
   "metadata": {},
   "outputs": [
    {
     "name": "stdout",
     "output_type": "stream",
     "text": [
      "len(dui2pubfreqchild) 29307\n",
      "len(dui2sbfreqchild) 29307\n",
      "Machine Learning, D000069550, 2010:\n",
      "- Solo\n",
      "pubmed (chilren): 117\n",
      "sbir (chilren): 13\n",
      "+ Children\n",
      "pubmed (chilren): 210\n",
      "sbir (chilren): 16\n"
     ]
    }
   ],
   "source": [
    "print('len(dui2pubfreqchild)', len(dui2pubfreqchild))\n",
    "print('len(dui2sbfreqchild)', len(dui2sbfreqchild))\n",
    "print('Machine Learning, D000069550, 2010:')\n",
    "print('- Solo')\n",
    "print('pubmed (chilren):', len(set(dui2pubfreq['D000069550']['2010'])))\n",
    "print('sbir (chilren):', len(set(dui2sbfreq['D000069550']['2010'])))\n",
    "print('+ Children')\n",
    "print('pubmed (chilren):', len(set(dui2pubfreqchild['D000069550']['2010'])))\n",
    "print('sbir (chilren):', len(set(dui2sbfreqchild['D000069550']['2010'])))"
   ]
  },
  {
   "cell_type": "code",
   "execution_count": 10,
   "metadata": {},
   "outputs": [
    {
     "name": "stdout",
     "output_type": "stream",
     "text": [
      "D000069550 Machine Learning\n",
      "117 False\n",
      "['S062445', 'S073651', 'S069251', 'S073186', 'S074149', 'S063768', 'S069063', 'S069131', 'S065745', 'S067460', 'S069797', 'S061704', 'S073267']\n",
      "210 [20579842, 21137411, 21836806, 21127688, 21231115, 20336142, 21322254, 21103121, 25213970, 20703761, 21374995, 21374997, 22272023, 21588509, 20571677, 20727327, 21194784, 21194783, 20572709, 20842538, 20449323, 21580332, 20866608, 20355633, 21186096, 21181491, 21833268, 20355636, 21054004, 20819009, 20590146, 22163524, 21594197, 20877909, 20234839, 21135448, 20445782, 21122139, 21230171, 23133286, 20842600, 20388970, 20201578, 20545131, 20023405, 20387950, 20545133, 27352170, 20465266, 20111987, 21346931, 20689014, 21611135, 21540992, 21052547, 21165187, 21346953, 20141202, 21346963, 20947093, 20459160, 30754458, 20508315, 21616797, 20658334, 20658336, 21045922, 21311651, 20658339, 21607077, 20145834, 21231275, 21160621, 21082798, 21386415, 26190000, 22163632, 20880056, 20877496, 21253307, 20729019, 21588672, 20491459, 20441284, 21629638, 23616713, 20648138, 21110985, 20014797, 21253326, 20931278, 21231313, 20509907, 21231316, 20920534, 20811481, 22163673, 22319323, 21351646, 21580511, 20721376, 23168738, 21616866, 20365542, 21195495, 20491498, 20967149, 20799726, 20174063, 20070129, 21347060, 21432565, 21637367, 21234423, 21339900, 21092097, 21347081, 20929804, 21587726, 21587727, 20927248, 20408599, 21991193, 22308124, 22953248, 22347557, 21423909, 21579057, 20482866, 20885817, 19961146, 21063485, 20973886, 21137726, 20857153, 26760005, 20548936, 23120713, 21253449, 23572811, 20689736, 21564234, 21230414, 21284175, 20842844, 20479839, 20481888, 20828003, 21061476, 20055397, 20576109, 20711278, 21089652, 22624117, 20384118, 24710011, 22558588, 20355453, 22933888, 20712327, 20384135, 21072264, 20974475, 24198541, 22219666, 20957079, 20703639, 20948890, 21794714, 20167067, 21072285, 21487517, 20981151, 20714395, 20703647, 28883362, 20919716, 21134245, 22453156, 20823975, 20949927, 20695467, 20703662, 21168561, 21794741, 20703679, 22736831, 20626881, 30754247, 21687753, 20039626, 20867019, 20539341, 20703696, 24198613, 21687767, 21231580, 20078045, 20936160, 20496866, 20981220, 21116390, 21070310, 20981225, 30282224, 21038064, 21587958, 29332983, 21137913, 21322238]\n",
      "['S062445', 'S073651', 'S073513', 'S072665', 'S069251', 'S074149', 'S073186', 'S063768', 'S069131', 'S061704', 'S065745', 'S067460', 'S069797', 'S069063', 'S073267', 'S072387']\n"
     ]
    }
   ],
   "source": [
    "sample_dui = 'D000069550'\n",
    "year = '2010'\n",
    "sample_name = dui2name[sample_dui]\n",
    "\n",
    "print(sample_dui, sample_name)\n",
    "print(len(dui2pubfreq[sample_dui][year]), 'S072387' in dui2pubfreq[sample_dui][year])\n",
    "print(dui2sbfreq[sample_dui][year])\n",
    "print(len(dui2pubfreqchild[sample_dui][year]), dui2pubfreqchild[sample_dui][year])\n",
    "print(dui2sbfreqchild[sample_dui][year])"
   ]
  },
  {
   "cell_type": "code",
   "execution_count": 17,
   "metadata": {},
   "outputs": [],
   "source": [
    "# create a pmid2citation based on the pmid and citation_count columns of the pubmed_df\n",
    "pmid2citation = {pmid: citation_count for pmid, citation_count in zip(pubmed_df['pmid'], pubmed_df['citation_count'])}\n",
    "sbid2citation = {sbid: award_amount for sbid, award_amount in zip(sbir_df['sbid'], sbir_df['Award Amount'])}\n",
    "\n",
    "with open(PICKLES_ADDRESS + 'pmid2citation.pkl', 'wb') as handle:\n",
    "    pickle.dump(pmid2citation, handle, protocol=pickle.HIGHEST_PROTOCOL)\n",
    "with open(PICKLES_ADDRESS + 'sbid2citation.pkl', 'wb') as handle:\n",
    "    pickle.dump(sbid2citation, handle, protocol=pickle.HIGHEST_PROTOCOL)\n",
    "print('Saved pmid2citation.pkl', len(pmid2citation))\n",
    "print('Saved sbid2citation.pkl', len(sbid2citation))"
   ]
  },
  {
   "cell_type": "code",
   "execution_count": 18,
   "metadata": {},
   "outputs": [
    {
     "name": "stdout",
     "output_type": "stream",
     "text": [
      "Loaded pmid2citation.pkl 10928078\n",
      "Loaded sbid2citation.pkl 63488\n"
     ]
    }
   ],
   "source": [
    "with open(PICKLES_ADDRESS + 'pmid2citation.pkl', 'rb') as handle:\n",
    "    pmid2citation = pickle.load(handle)\n",
    "\n",
    "with open(PICKLES_ADDRESS + 'sbid2citation.pkl', 'rb') as handle:\n",
    "    sbid2citation = pickle.load(handle)\n",
    "    \n",
    "print('Loaded pmid2citation.pkl', len(pmid2citation))\n",
    "print('Loaded sbid2citation.pkl', len(sbid2citation))"
   ]
  },
  {
   "cell_type": "code",
   "execution_count": 19,
   "metadata": {},
   "outputs": [
    {
     "data": {
      "text/plain": [
       "['D007254']"
      ]
     },
     "execution_count": 19,
     "metadata": {},
     "output_type": "execute_result"
    }
   ],
   "source": [
    "zero2duis = {\n",
    "    'Anatomy [A]': 'U000002',\n",
    "    'Organisms [B]': 'U000012',\n",
    "    'Diseases [C]': 'U000006',\n",
    "    'Chemicals and Drugs [D]': 'U000005',\n",
    "    'Analytical, Diagnostic and Therapeutic Techniques and Equipment [E]': 'U000001',\n",
    "    'Psychiatry and Psychology [F]': 'U000014',\n",
    "    'Phenomena and Processes [G]': 'U000004',\n",
    "    'Disciplines and Occupations [H]': 'U000013',\n",
    "    'Anthropology, Education, Sociology and Social Phenomena [I]': 'U000003',\n",
    "    'Technology, Industry, Agriculture [J]': 'U000009',\n",
    "    'Information Science [K]': 'U000010',\n",
    "    'Named Groups [M]': 'U000011',\n",
    "    'Health Care [N]': 'U000008',\n",
    "    'Publication Characteristics [V]': 'U000016',\n",
    "    'Geographicals [Z] ': 'U000015',\n",
    "}\n",
    "dui2zero = {v: k for k, v in zero2duis.items()}\n",
    "zero2chilren = {zdui: [] for zdui in level2duis[0]}\n",
    "\n",
    "for zero_level_dui in level2duis[0]:\n",
    "    for first_level_dui in level2duis[1]:\n",
    "        parent = dui2parents[first_level_dui][-2]\n",
    "        if zero_level_dui == parent:\n",
    "            zero2chilren[zero_level_dui] += [first_level_dui]\n",
    "\n",
    "zero2chilren['U000010']"
   ]
  },
  {
   "cell_type": "code",
   "execution_count": 20,
   "metadata": {},
   "outputs": [
    {
     "name": "stdout",
     "output_type": "stream",
     "text": [
      "U000001 ['D013812', 'D013514', 'D003933', 'D004864']\n",
      "U000013 ['D006281', 'D010811']\n",
      "U000003 ['D006802', 'D004493']\n",
      "U000012 ['D056890', 'D014780', 'D001419', 'D001105']\n",
      "U000004 ['D055633', 'D055641', 'D055598', 'D055585', 'D055827', 'D055614', 'D008827', 'D001686', 'D008660', 'D010829', 'D018521', 'D009799', 'D002468']\n",
      "U000011 []\n",
      "U000015 ['D000072182']\n",
      "U000006 ['D012140', 'D010038', 'D009422', 'D002318', 'D004066', 'D014947', 'D007154', 'D009140', 'D064419', 'D009057', 'D005128', 'D004700', 'D000820', 'D000091642', 'D009358', 'D009784', 'D007239', 'D009369']\n",
      "U000014 ['D001523', 'D011579']\n",
      "U000009 ['D006809']\n",
      "U000005 ['D001697', 'D004364', 'D001685', 'D008055', 'D007287', 'D046911', 'D006571', 'D045762', 'D045424', 'D011083', 'D002241', 'D009930']\n",
      "U000008 []\n",
      "U000002 ['D002319', 'D018514', 'D002477', 'D056224', 'D012137', 'D034582', 'D000825', 'D009420', 'D056229', 'D004703', 'D013284', 'D014566', 'D009141', 'D012679', 'D004064', 'D056226']\n",
      "U000010 ['D007254']\n",
      "====================================================================================================\n",
      "U000001 ['D013812', 'D013514', 'D003933', 'D004864']\n",
      "U000013 ['D006281', 'D010811']\n",
      "U000003 ['D006802', 'D004493']\n",
      "U000012 ['D056890', 'D014780', 'D001419', 'D001105']\n",
      "U000004 ['D055633', 'D055641', 'D055598', 'D055585', 'D055827', 'D055614', 'D008827', 'D001686', 'D008660', 'D010829', 'D018521', 'D009799', 'D002468']\n",
      "U000011 []\n",
      "U000015 ['D000072182']\n",
      "U000006 ['D012140', 'D010038', 'D009422', 'D002318', 'D004066', 'D014947', 'D007154', 'D009140', 'D064419', 'D009057', 'D005128', 'D004700', 'D000820', 'D000091642', 'D009358', 'D009784', 'D007239', 'D009369']\n",
      "U000014 ['D001523', 'D011579']\n",
      "U000009 ['D006809']\n",
      "U000005 ['D001697', 'D004364', 'D001685', 'D008055', 'D007287', 'D046911', 'D006571', 'D045762', 'D045424', 'D011083', 'D002241', 'D009930']\n",
      "U000008 []\n",
      "U000002 ['D002319', 'D018514', 'D002477', 'D056224', 'D012137', 'D034582', 'D000825', 'D009420', 'D056229', 'D004703', 'D013284', 'D014566', 'D009141', 'D012679', 'D004064', 'D056226']\n",
      "U000010 ['D007254']\n"
     ]
    }
   ],
   "source": [
    "zero2allpubchild = {zdui: {year: [] for year in years} for zdui in level2duis[0]}\n",
    "for zero_level_dui, zero_level_dui_firstlevel_children in zero2chilren.items():\n",
    "      print(zero_level_dui, zero_level_dui_firstlevel_children)\n",
    "      for first_level_dui in zero_level_dui_firstlevel_children:\n",
    "         for year in years:\n",
    "               zero2allpubchild[zero_level_dui][year] += dui2pubfreqchild[first_level_dui][year]\n",
    "\n",
    "print('=' * 100)\n",
    "\n",
    "zero2allsbchild = {zdui: {year: [] for year in years} for zdui in level2duis[0]}\n",
    "for zero_level_dui, zero_level_dui_firstlevel_children in zero2chilren.items():\n",
    "      print(zero_level_dui, zero_level_dui_firstlevel_children)\n",
    "      for first_level_dui in zero_level_dui_firstlevel_children:\n",
    "         for year in years:\n",
    "               zero2allsbchild[zero_level_dui][year] += dui2sbfreqchild[first_level_dui][year]"
   ]
  },
  {
   "cell_type": "code",
   "execution_count": 21,
   "metadata": {},
   "outputs": [
    {
     "data": {
      "text/plain": [
       "(105622, 105622, 105622)"
      ]
     },
     "execution_count": 21,
     "metadata": {},
     "output_type": "execute_result"
    }
   ],
   "source": [
    "len(dui2pubfreqchild['D007254']['2010']), len(zero2allpubchild['U000010']['2010']), len(set(zero2allpubchild['U000010']['2010']))"
   ]
  },
  {
   "cell_type": "code",
   "execution_count": 69,
   "metadata": {},
   "outputs": [
    {
     "data": {
      "text/plain": [
       "[0.25, 0.25, 0.25, 0.5, 0.75, 1, 1]"
      ]
     },
     "execution_count": 69,
     "metadata": {},
     "output_type": "execute_result"
    }
   ],
   "source": [
    "#write a function that receives a list and returns the quartiles of the list\n",
    "def calculate_quartiles(audience):\n",
    "    quarts = np.quantile(audience, [0.25, 0.5, 0.75], method='midpoint')\n",
    "    return quarts.tolist()\n",
    "\n",
    "def quantize_cit(cit, quarts):\n",
    "    if not quarts:\n",
    "        return 0\n",
    "    if cit <= quarts[0]:\n",
    "        return 0.25\n",
    "    elif cit <= quarts[1]:\n",
    "        return 0.5\n",
    "    elif cit <= quarts[2]:\n",
    "        return 0.75\n",
    "    else:\n",
    "        return 1\n",
    "    \n",
    "def quantize_citations(citations, quarts):\n",
    "    quantized_citations = []\n",
    "    for cit in citations:\n",
    "        quantized_cit = quantize_cit(cit, quarts)\n",
    "        quantized_citations.append(quantized_cit)\n",
    "    return quantized_citations\n",
    "    \n",
    "audience = [1, 1, 1, 7, 5, 5, 5, 5, 5, 5, 8, 8, 8, 8, 10, 10, 10, 10, 11]\n",
    "test = [0, 1, 3, 7, 9, 10, 12]\n",
    "quantize_citations(test, calculate_quartiles(audience))"
   ]
  },
  {
   "cell_type": "code",
   "execution_count": 70,
   "metadata": {},
   "outputs": [
    {
     "name": "stderr",
     "output_type": "stream",
     "text": [
      "  0%|          | 0/14 [00:00<?, ?it/s]"
     ]
    },
    {
     "name": "stderr",
     "output_type": "stream",
     "text": [
      "100%|██████████| 14/14 [00:33<00:00,  2.36s/it]\n",
      "100%|██████████| 14/14 [00:00<00:00, 44.92it/s]\n"
     ]
    }
   ],
   "source": [
    "zero2allpubchildquarts = {zdui: {year: [] for year in years} for zdui in level2duis[0]}\n",
    "for zero_level_dui in tqdm(list(zero2allpubchild.keys())):\n",
    "    for year in years:\n",
    "        children_pmids = zero2allpubchild[zero_level_dui][year]\n",
    "        children_citations = [pmid2citation[pmid] for pmid in children_pmids]\n",
    "        try:\n",
    "            zero2allpubchildquarts[zero_level_dui][year] = calculate_quartiles(children_citations)\n",
    "        except:\n",
    "            pass\n",
    "\n",
    "zero2allsbchildquarts = {zdui: {year: [] for year in years} for zdui in level2duis[0]}\n",
    "for zero_level_dui in tqdm(list(zero2allsbchild.keys())):\n",
    "    for year in years:\n",
    "        children_sbids = zero2allsbchild[zero_level_dui][year]\n",
    "        children_citations = [sbid2citation[pmid] for pmid in children_sbids]\n",
    "        try:\n",
    "            zero2allsbchildquarts[zero_level_dui][year] = calculate_quartiles(children_citations)\n",
    "        except:\n",
    "            pass"
   ]
  },
  {
   "cell_type": "code",
   "execution_count": 71,
   "metadata": {},
   "outputs": [
    {
     "data": {
      "text/plain": [
       "{'U000001': {'2010': [6.0, 16.0, 35.0],\n",
       "  '2011': [5.0, 14.0, 31.0],\n",
       "  '2012': [5.0, 13.0, 29.0],\n",
       "  '2013': [5.0, 12.0, 27.0],\n",
       "  '2014': [4.0, 11.0, 25.0],\n",
       "  '2015': [4.0, 10.0, 22.0],\n",
       "  '2016': [4.0, 9.0, 19.0],\n",
       "  '2017': [3.0, 8.0, 17.0],\n",
       "  '2018': [3.0, 7.0, 14.0],\n",
       "  '2019': [2.0, 5.0, 11.0],\n",
       "  '2020': [1.0, 3.0, 7.0],\n",
       "  '2021': [0.0, 1.0, 3.0]},\n",
       " 'U000013': {'2010': [6.0, 16.0, 34.0],\n",
       "  '2011': [5.0, 14.0, 31.0],\n",
       "  '2012': [5.0, 13.0, 28.0],\n",
       "  '2013': [5.0, 12.0, 26.0],\n",
       "  '2014': [4.0, 11.0, 24.0],\n",
       "  '2015': [4.0, 10.0, 22.0],\n",
       "  '2016': [3.0, 9.0, 19.0],\n",
       "  '2017': [3.0, 8.0, 17.0],\n",
       "  '2018': [3.0, 7.0, 14.0],\n",
       "  '2019': [2.0, 5.0, 11.0],\n",
       "  '2020': [1.0, 3.0, 7.0],\n",
       "  '2021': [0.0, 1.0, 3.0]},\n",
       " 'U000003': {'2010': [5.0, 14.0, 30.0],\n",
       "  '2011': [4.0, 12.0, 27.0],\n",
       "  '2012': [4.0, 11.0, 24.0],\n",
       "  '2013': [4.0, 11.0, 23.0],\n",
       "  '2014': [4.0, 10.0, 21.0],\n",
       "  '2015': [3.0, 9.0, 19.0],\n",
       "  '2016': [3.0, 7.0, 16.0],\n",
       "  '2017': [3.0, 7.0, 14.0],\n",
       "  '2018': [2.0, 5.0, 11.0],\n",
       "  '2019': [1.0, 4.0, 8.0],\n",
       "  '2020': [1.0, 2.0, 5.0],\n",
       "  '2021': [0.0, 1.0, 2.0]},\n",
       " 'U000012': {'2010': [7.0, 17.0, 38.0],\n",
       "  '2011': [6.0, 15.0, 34.0],\n",
       "  '2012': [5.0, 14.0, 31.0],\n",
       "  '2013': [5.0, 13.0, 29.0],\n",
       "  '2014': [5.0, 12.0, 26.0],\n",
       "  '2015': [4.0, 11.0, 24.0],\n",
       "  '2016': [4.0, 10.0, 21.0],\n",
       "  '2017': [4.0, 9.0, 18.0],\n",
       "  '2018': [3.0, 7.0, 15.0],\n",
       "  '2019': [2.0, 5.0, 11.0],\n",
       "  '2020': [1.0, 3.0, 7.0],\n",
       "  '2021': [0.0, 1.0, 3.0]},\n",
       " 'U000004': {'2010': [9.0, 21.0, 45.0],\n",
       "  '2011': [8.0, 19.0, 41.0],\n",
       "  '2012': [8.0, 18.0, 37.0],\n",
       "  '2013': [7.0, 17.0, 35.0],\n",
       "  '2014': [7.0, 15.0, 31.0],\n",
       "  '2015': [6.0, 14.0, 28.0],\n",
       "  '2016': [5.0, 12.0, 25.0],\n",
       "  '2017': [5.0, 11.0, 22.0],\n",
       "  '2018': [4.0, 9.0, 18.0],\n",
       "  '2019': [3.0, 7.0, 14.0],\n",
       "  '2020': [2.0, 4.0, 9.0],\n",
       "  '2021': [0.0, 1.0, 3.0]},\n",
       " 'U000011': {'2010': [],\n",
       "  '2011': [],\n",
       "  '2012': [],\n",
       "  '2013': [],\n",
       "  '2014': [],\n",
       "  '2015': [],\n",
       "  '2016': [],\n",
       "  '2017': [],\n",
       "  '2018': [],\n",
       "  '2019': [],\n",
       "  '2020': [],\n",
       "  '2021': []},\n",
       " 'U000015': {'2010': [4.0, 11.0, 33.5],\n",
       "  '2011': [3.0, 8.0, 20.0],\n",
       "  '2012': [3.0, 9.0, 23.0],\n",
       "  '2013': [3.0, 7.0, 17.0],\n",
       "  '2014': [3.0, 8.0, 19.0],\n",
       "  '2015': [3.0, 7.0, 17.0],\n",
       "  '2016': [2.0, 6.0, 15.0],\n",
       "  '2017': [3.0, 7.0, 16.0],\n",
       "  '2018': [2.0, 6.0, 13.0],\n",
       "  '2019': [1.0, 4.0, 9.0],\n",
       "  '2020': [1.0, 2.0, 6.0],\n",
       "  '2021': [0.0, 1.0, 3.0]},\n",
       " 'U000006': {'2010': [6.0, 17.0, 38.0],\n",
       "  '2011': [5.0, 15.0, 34.0],\n",
       "  '2012': [5.0, 14.0, 31.0],\n",
       "  '2013': [5.0, 13.0, 29.0],\n",
       "  '2014': [5.0, 12.0, 27.0],\n",
       "  '2015': [4.0, 11.0, 24.0],\n",
       "  '2016': [4.0, 10.0, 21.0],\n",
       "  '2017': [4.0, 9.0, 19.0],\n",
       "  '2018': [3.0, 7.0, 15.0],\n",
       "  '2019': [2.0, 5.0, 12.0],\n",
       "  '2020': [1.0, 3.0, 8.0],\n",
       "  '2021': [0.0, 1.0, 3.0]},\n",
       " 'U000014': {'2010': [8.0, 20.0, 44.0],\n",
       "  '2011': [7.0, 17.0, 38.0],\n",
       "  '2012': [6.0, 16.0, 34.0],\n",
       "  '2013': [6.0, 15.0, 32.0],\n",
       "  '2014': [5.0, 13.0, 28.0],\n",
       "  '2015': [5.0, 12.0, 25.0],\n",
       "  '2016': [4.0, 10.0, 21.0],\n",
       "  '2017': [4.0, 9.0, 18.0],\n",
       "  '2018': [3.0, 7.0, 14.0],\n",
       "  '2019': [2.0, 5.0, 11.0],\n",
       "  '2020': [1.0, 3.0, 7.0],\n",
       "  '2021': [0.0, 1.0, 3.0]},\n",
       " 'U000009': {'2010': [2.0, 9.0, 22.0],\n",
       "  '2011': [1.0, 6.0, 18.0],\n",
       "  '2012': [2.0, 7.0, 19.0],\n",
       "  '2013': [2.0, 7.0, 17.0],\n",
       "  '2014': [2.0, 6.0, 15.0],\n",
       "  '2015': [1.0, 5.0, 14.0],\n",
       "  '2016': [1.0, 5.0, 12.0],\n",
       "  '2017': [1.0, 5.0, 12.0],\n",
       "  '2018': [1.0, 4.0, 10.0],\n",
       "  '2019': [1.0, 3.0, 7.0],\n",
       "  '2020': [0.0, 2.0, 5.0],\n",
       "  '2021': [0.0, 1.0, 2.0]},\n",
       " 'U000005': {'2010': [8.0, 19.0, 40.0],\n",
       "  '2011': [7.0, 17.0, 36.0],\n",
       "  '2012': [7.0, 16.0, 33.0],\n",
       "  '2013': [7.0, 15.0, 31.0],\n",
       "  '2014': [6.0, 14.0, 28.0],\n",
       "  '2015': [6.0, 13.0, 26.0],\n",
       "  '2016': [5.0, 11.0, 23.0],\n",
       "  '2017': [4.0, 10.0, 20.0],\n",
       "  '2018': [4.0, 8.0, 17.0],\n",
       "  '2019': [3.0, 6.0, 13.0],\n",
       "  '2020': [1.0, 4.0, 8.0],\n",
       "  '2021': [0.0, 1.0, 3.0]},\n",
       " 'U000008': {'2010': [],\n",
       "  '2011': [],\n",
       "  '2012': [],\n",
       "  '2013': [],\n",
       "  '2014': [],\n",
       "  '2015': [],\n",
       "  '2016': [],\n",
       "  '2017': [],\n",
       "  '2018': [],\n",
       "  '2019': [],\n",
       "  '2020': [],\n",
       "  '2021': []},\n",
       " 'U000002': {'2010': [9.0, 21.0, 44.0],\n",
       "  '2011': [8.0, 19.0, 40.0],\n",
       "  '2012': [7.0, 17.0, 37.0],\n",
       "  '2013': [7.0, 16.0, 34.0],\n",
       "  '2014': [6.0, 15.0, 31.0],\n",
       "  '2015': [6.0, 13.0, 28.0],\n",
       "  '2016': [5.0, 12.0, 24.0],\n",
       "  '2017': [4.0, 10.0, 21.0],\n",
       "  '2018': [3.0, 8.0, 17.0],\n",
       "  '2019': [3.0, 6.0, 13.0],\n",
       "  '2020': [1.0, 4.0, 8.0],\n",
       "  '2021': [0.0, 1.0, 3.0]},\n",
       " 'U000010': {'2010': [7.0, 17.0, 38.0],\n",
       "  '2011': [6.0, 15.0, 33.0],\n",
       "  '2012': [5.0, 14.0, 30.0],\n",
       "  '2013': [5.0, 13.0, 28.0],\n",
       "  '2014': [4.0, 11.0, 25.0],\n",
       "  '2015': [4.0, 10.0, 23.0],\n",
       "  '2016': [4.0, 9.0, 20.0],\n",
       "  '2017': [3.0, 8.0, 18.0],\n",
       "  '2018': [3.0, 7.0, 14.0],\n",
       "  '2019': [2.0, 5.0, 11.0],\n",
       "  '2020': [1.0, 3.0, 7.0],\n",
       "  '2021': [0.0, 1.0, 3.0]}}"
      ]
     },
     "execution_count": 71,
     "metadata": {},
     "output_type": "execute_result"
    }
   ],
   "source": [
    "zero2allpubchildquarts"
   ]
  },
  {
   "cell_type": "code",
   "execution_count": 78,
   "metadata": {},
   "outputs": [
    {
     "data": {
      "text/plain": [
       "{'U000001': {'2010': [99394.0, 99992.0, 624537.0],\n",
       "  '2011': [99974.5, 149894.0, 500000.0],\n",
       "  '2012': [148101.0, 149999.0, 729995.0],\n",
       "  '2013': [149246.0, 150000.0, 737036.0],\n",
       "  '2014': [149965.0, 311003.0, 990086.0],\n",
       "  '2015': [150000.0, 224993.0, 792747.0],\n",
       "  '2016': [150000.0, 225000.0, 969177.0],\n",
       "  '2017': [154497.0, 228079.0, 991582.0],\n",
       "  '2018': [176111.5, 225001.0, 749999.0],\n",
       "  '2019': [197594.5, 230690.5, 833834.0],\n",
       "  '2020': [200000.0, 298198.0, 1000000.0],\n",
       "  '2021': [216595.0, 299508.5, 800000.0]},\n",
       " 'U000013': {'2010': [99411.0, 99991.0, 599998.0],\n",
       "  '2011': [99974.0, 149934.0, 500000.0],\n",
       "  '2012': [128378.0, 149996.0, 600000.0],\n",
       "  '2013': [148135.0, 150000.0, 527992.5],\n",
       "  '2014': [149871.5, 150000.0, 750000.0],\n",
       "  '2015': [149943.0, 222566.0, 750000.0],\n",
       "  '2016': [149967.0, 224934.0, 749963.0],\n",
       "  '2017': [149989.0, 225000.0, 750000.0],\n",
       "  '2018': [149986.0, 225000.0, 749937.0],\n",
       "  '2019': [149970.5, 225000.0, 750000.0],\n",
       "  '2020': [149995.0, 249373.0, 940038.5],\n",
       "  '2021': [149976.5, 256000.0, 749860.0]},\n",
       " 'U000003': {'2010': [99877.0, 99997.0, 735179.0],\n",
       "  '2011': [99995.0, 149942.5, 599990.0],\n",
       "  '2012': [149378.0, 150000.0, 732008.0],\n",
       "  '2013': [149632.0, 150000.0, 540565.5],\n",
       "  '2014': [149908.0, 212966.5, 750000.0],\n",
       "  '2015': [149978.5, 224805.0, 785497.5],\n",
       "  '2016': [149999.0, 225000.0, 750000.0],\n",
       "  '2017': [154497.0, 225000.0, 750000.0],\n",
       "  '2018': [191247.5, 225000.0, 749998.0],\n",
       "  '2019': [150000.0, 225000.0, 750000.0],\n",
       "  '2020': [150000.0, 251985.0, 983676.0],\n",
       "  '2021': [199634.0, 256458.0, 761539.0]},\n",
       " 'U000012': {'2010': [99020.0, 99995.0, 729907.5],\n",
       "  '2011': [99988.5, 149975.0, 599995.0],\n",
       "  '2012': [124999.0, 149999.0, 500000.0],\n",
       "  '2013': [149451.0, 150000.0, 749216.0],\n",
       "  '2014': [149995.0, 588848.0, 999870.0],\n",
       "  '2015': [149999.0, 224997.0, 749995.0],\n",
       "  '2016': [154762.0, 225792.0, 968979.5],\n",
       "  '2017': [160318.0, 242611.0, 993383.0],\n",
       "  '2018': [216761.0, 252199.0, 749817.5],\n",
       "  '2019': [156326.5, 239057.0, 749998.0],\n",
       "  '2020': [191565.5, 286585.5, 998839.0],\n",
       "  '2021': [200000.0, 277450.0, 749488.0]},\n",
       " 'U000004': {'2010': [99424.5, 99997.0, 627143.0],\n",
       "  '2011': [99961.0, 149856.0, 599807.0],\n",
       "  '2012': [138850.0, 149998.0, 729915.0],\n",
       "  '2013': [148389.0, 150000.0, 728395.0],\n",
       "  '2014': [149837.0, 224202.0, 750000.0],\n",
       "  '2015': [149928.0, 222761.0, 749960.0],\n",
       "  '2016': [149961.5, 224938.0, 749941.0],\n",
       "  '2017': [149993.5, 225000.0, 749999.0],\n",
       "  '2018': [149993.0, 225000.0, 749951.0],\n",
       "  '2019': [150000.0, 225000.0, 749963.0],\n",
       "  '2020': [167090.0, 250548.0, 750000.0],\n",
       "  '2021': [199890.5, 256000.0, 749988.0]},\n",
       " 'U000011': {'2010': [],\n",
       "  '2011': [],\n",
       "  '2012': [],\n",
       "  '2013': [],\n",
       "  '2014': [],\n",
       "  '2015': [],\n",
       "  '2016': [],\n",
       "  '2017': [],\n",
       "  '2018': [],\n",
       "  '2019': [],\n",
       "  '2020': [],\n",
       "  '2021': []},\n",
       " 'U000015': {'2010': [99892.0, 99997.5, 109944.5],\n",
       "  '2011': [99986.5, 149982.0, 599990.5],\n",
       "  '2012': [148887.0, 150000.0, 738208.0],\n",
       "  '2013': [99938.0, 149926.0, 224447.0],\n",
       "  '2014': [149958.0, 206118.5, 749998.5],\n",
       "  '2015': [149832.0, 224830.5, 748168.5],\n",
       "  '2016': [150000.0, 225000.0, 749213.0],\n",
       "  '2017': [198624.5, 227806.5, 597888.5],\n",
       "  '2018': [149998.0, 224919.5, 646193.5],\n",
       "  '2019': [198734.5, 237391.0, 799992.0],\n",
       "  '2020': [206475.5, 350999.5, 1097682.5],\n",
       "  '2021': [152462.0, 256363.0, 749120.0]},\n",
       " 'U000006': {'2010': [98816.0, 99997.0, 695732.0],\n",
       "  '2011': [100000.0, 149991.0, 499861.0],\n",
       "  '2012': [149453.0, 150000.0, 500000.0],\n",
       "  '2013': [149900.0, 150000.0, 938661.5],\n",
       "  '2014': [150000.0, 614799.0, 1276484.0],\n",
       "  '2015': [205127.0, 225000.0, 989641.0],\n",
       "  '2016': [224040.0, 263500.0, 1004694.0],\n",
       "  '2017': [224360.5, 283554.0, 999238.0],\n",
       "  '2018': [224778.0, 279997.5, 749900.0],\n",
       "  '2019': [224960.5, 299903.0, 1000000.0],\n",
       "  '2020': [244899.5, 323024.5, 1123783.0],\n",
       "  '2021': [255577.0, 319489.0, 843622.0]},\n",
       " 'U000014': {'2010': [99358.5, 99993.0, 729977.5],\n",
       "  '2011': [99964.0, 149911.5, 710149.0],\n",
       "  '2012': [144717.0, 149998.0, 729971.0],\n",
       "  '2013': [147557.0, 149998.0, 672841.0],\n",
       "  '2014': [149813.0, 199999.0, 881496.0],\n",
       "  '2015': [149966.5, 224970.5, 899999.5],\n",
       "  '2016': [149995.5, 225000.0, 750000.0],\n",
       "  '2017': [150000.0, 225000.0, 771464.0],\n",
       "  '2018': [149970.0, 225000.0, 749956.5],\n",
       "  '2019': [140000.0, 225000.0, 749999.5],\n",
       "  '2020': [140000.0, 251695.0, 996320.0],\n",
       "  '2021': [139917.0, 256000.0, 749994.0]},\n",
       " 'U000009': {'2010': [99581.0, 99995.0, 599922.5],\n",
       "  '2011': [99969.0, 148894.5, 599002.5],\n",
       "  '2012': [124988.0, 149995.0, 744780.5],\n",
       "  '2013': [124990.0, 149991.0, 699612.0],\n",
       "  '2014': [125000.0, 150000.0, 749840.0],\n",
       "  '2015': [149250.5, 150000.0, 749967.0],\n",
       "  '2016': [125000.0, 150000.0, 747535.0],\n",
       "  '2017': [125000.0, 224774.0, 749884.0],\n",
       "  '2018': [124998.0, 224552.5, 749964.5],\n",
       "  '2019': [124993.0, 200000.0, 749891.0],\n",
       "  '2020': [124978.5, 205368.0, 749993.0],\n",
       "  '2021': [124952.0, 239849.0, 749777.0]},\n",
       " 'U000005': {'2010': [98856.0, 99994.0, 572169.0],\n",
       "  '2011': [99977.0, 149903.0, 500000.0],\n",
       "  '2012': [125000.0, 149995.0, 500000.0],\n",
       "  '2013': [148136.5, 150000.0, 723765.0],\n",
       "  '2014': [149866.5, 224807.0, 765573.5],\n",
       "  '2015': [149974.0, 224632.0, 749898.0],\n",
       "  '2016': [149988.0, 224992.0, 749889.5],\n",
       "  '2017': [149999.0, 225000.0, 749990.0],\n",
       "  '2018': [149995.0, 225000.0, 749762.0],\n",
       "  '2019': [149990.0, 225000.0, 749604.5],\n",
       "  '2020': [166498.0, 252128.0, 769452.5],\n",
       "  '2021': [158174.0, 256000.0, 743376.0]},\n",
       " 'U000008': {'2010': [],\n",
       "  '2011': [],\n",
       "  '2012': [],\n",
       "  '2013': [],\n",
       "  '2014': [],\n",
       "  '2015': [],\n",
       "  '2016': [],\n",
       "  '2017': [],\n",
       "  '2018': [],\n",
       "  '2019': [],\n",
       "  '2020': [],\n",
       "  '2021': []},\n",
       " 'U000002': {'2010': [98967.0, 99981.0, 316259.0],\n",
       "  '2011': [99946.5, 149474.5, 499796.0],\n",
       "  '2012': [139338.0, 150000.0, 728581.0],\n",
       "  '2013': [149468.0, 150000.0, 750000.0],\n",
       "  '2014': [150000.0, 597176.0, 1126587.0],\n",
       "  '2015': [196575.5, 225000.0, 984190.5],\n",
       "  '2016': [216017.5, 252695.5, 999077.0],\n",
       "  '2017': [223291.5, 268265.0, 972184.0],\n",
       "  '2018': [224619.5, 247894.0, 749977.0],\n",
       "  '2019': [224796.0, 299288.0, 989416.0],\n",
       "  '2020': [225000.0, 300000.0, 999991.0],\n",
       "  '2021': [255127.0, 323408.0, 797272.5]},\n",
       " 'U000010': {'2010': [99601.0, 99998.0, 733907.0],\n",
       "  '2011': [99958.0, 149477.5, 599956.5],\n",
       "  '2012': [124955.0, 149992.0, 734389.0],\n",
       "  '2013': [125000.0, 149996.0, 611785.5],\n",
       "  '2014': [149607.0, 150000.0, 749953.0],\n",
       "  '2015': [149891.0, 150000.0, 749994.0],\n",
       "  '2016': [149890.5, 224139.0, 749932.5],\n",
       "  '2017': [149909.5, 224999.0, 749999.0],\n",
       "  '2018': [146875.0, 224951.0, 749970.0],\n",
       "  '2019': [125000.0, 223310.0, 749887.5],\n",
       "  '2020': [124999.5, 224726.0, 777351.0],\n",
       "  '2021': [124997.0, 250000.0, 749930.5]}}"
      ]
     },
     "execution_count": 78,
     "metadata": {},
     "output_type": "execute_result"
    }
   ],
   "source": [
    "zero2allsbchildquarts"
   ]
  },
  {
   "cell_type": "code",
   "execution_count": 72,
   "metadata": {},
   "outputs": [
    {
     "name": "stderr",
     "output_type": "stream",
     "text": [
      "29307it [01:30, 322.33it/s]\n"
     ]
    },
    {
     "name": "stdout",
     "output_type": "stream",
     "text": [
      "Saved dui2pubcit.pkl 29307\n"
     ]
    }
   ],
   "source": [
    "dui2pubcit = {dui: {year: None for year in years} for dui, _ in dui2pubfreq.items()}\n",
    "for c, dui in tqdm(enumerate(list(dui2pubfreq.keys()))):\n",
    "    parent = dui2parents[dui][0]\n",
    "    for year in years:\n",
    "        pmids = dui2pubfreq[dui][year]\n",
    "        citations = [pmid2citation[pmid] for pmid in pmids]\n",
    "        quarts = zero2allpubchildquarts[parent][year]\n",
    "        citation_percentiles = quantize_citations(citations, quarts)\n",
    "        if dui in dui2pubcit:\n",
    "            dui2pubcit[dui][year] = citation_percentiles\n",
    "            \n",
    "with open(TEMP_ADDRESS + 'dui2pubcit.pkl', 'wb') as handle:\n",
    "    pickle.dump(dui2pubcit, handle, protocol=pickle.HIGHEST_PROTOCOL)\n",
    "print('Saved dui2pubcit.pkl', len(dui2pubcit))"
   ]
  },
  {
   "cell_type": "code",
   "execution_count": 74,
   "metadata": {},
   "outputs": [
    {
     "name": "stderr",
     "output_type": "stream",
     "text": [
      "0it [00:00, ?it/s]"
     ]
    },
    {
     "name": "stderr",
     "output_type": "stream",
     "text": [
      "29307it [00:00, 32116.68it/s]\n"
     ]
    },
    {
     "name": "stdout",
     "output_type": "stream",
     "text": [
      "Saved dui2sbcit.pkl 29307\n"
     ]
    }
   ],
   "source": [
    "dui2sbcit = {dui: {year: None for year in years} for dui, _ in dui2sbfreq.items()}\n",
    "for c, dui in tqdm(enumerate(list(dui2sbfreq.keys()))):\n",
    "    parent = dui2parents[dui][0]\n",
    "    for year in years:\n",
    "        sbids = dui2sbfreq[dui][year]\n",
    "        citations = [sbid2citation[sbid] for sbid in sbids]\n",
    "        quarts = zero2allsbchildquarts[parent][year]\n",
    "        citation_percentiles = quantize_citations(citations, quarts)\n",
    "        if dui in dui2sbcit:\n",
    "            dui2sbcit[dui][year] = citation_percentiles\n",
    "            \n",
    "with open(TEMP_ADDRESS + 'dui2sbcit.pkl', 'wb') as handle:\n",
    "    pickle.dump(dui2sbcit, handle, protocol=pickle.HIGHEST_PROTOCOL)\n",
    "print('Saved dui2sbcit.pkl', len(dui2sbcit))"
   ]
  },
  {
   "cell_type": "code",
   "execution_count": 75,
   "metadata": {},
   "outputs": [
    {
     "name": "stdout",
     "output_type": "stream",
     "text": [
      "Loaded dui2sbcit.pkl 29307\n"
     ]
    }
   ],
   "source": [
    "with open(TEMP_ADDRESS + 'dui2pubcit.pkl', 'rb') as handle:\n",
    "    dui2pubcit = pickle.load(handle)\n",
    "with open(TEMP_ADDRESS + 'dui2sbcit.pkl', 'rb') as handle:\n",
    "    dui2sbcit = pickle.load(handle)\n",
    "print('Loaded dui2sbcit.pkl', len(dui2sbcit))"
   ]
  },
  {
   "cell_type": "code",
   "execution_count": 76,
   "metadata": {},
   "outputs": [
    {
     "name": "stderr",
     "output_type": "stream",
     "text": [
      "29307it [05:46, 84.52it/s] \n"
     ]
    },
    {
     "name": "stdout",
     "output_type": "stream",
     "text": [
      "Saved dui2pubcitchild.pkl 29307\n"
     ]
    }
   ],
   "source": [
    "dui2pubcitchild = {dui: {year: None for year in years} for dui, _ in dui2pubfreqchild.items()}\n",
    "for c, dui in tqdm(enumerate(list(dui2pubfreqchild.keys()))):\n",
    "    parent = dui2parents[dui][0]\n",
    "    for year in years:\n",
    "        pmids = dui2pubfreqchild[dui][year]\n",
    "        citations = [pmid2citation[pmid] for pmid in pmids]\n",
    "        quarts = zero2allpubchildquarts[parent][year]\n",
    "        citation_percentiles = quantize_citations(citations, quarts)\n",
    "        if dui in dui2pubcitchild:\n",
    "            dui2pubcitchild[dui][year] = citation_percentiles\n",
    "            \n",
    "with open(TEMP_ADDRESS + 'dui2pubcitchild.pkl', 'wb') as handle:\n",
    "    pickle.dump(dui2pubcitchild, handle, protocol=pickle.HIGHEST_PROTOCOL)\n",
    "print('Saved dui2pubcitchild.pkl', len(dui2pubcitchild))"
   ]
  },
  {
   "cell_type": "code",
   "execution_count": 77,
   "metadata": {},
   "outputs": [
    {
     "name": "stderr",
     "output_type": "stream",
     "text": [
      "29307it [00:03, 7852.55it/s]\n"
     ]
    },
    {
     "name": "stdout",
     "output_type": "stream",
     "text": [
      "Saved dui2sbcitchild.pkl 29307\n"
     ]
    }
   ],
   "source": [
    "dui2sbcitchild = {dui: {year: None for year in years} for dui, _ in dui2sbfreqchild.items()}\n",
    "for c, dui in tqdm(enumerate(list(dui2sbfreqchild.keys()))):\n",
    "    parent = dui2parents[dui][0]\n",
    "    for year in years:\n",
    "        sbids = dui2sbfreqchild[dui][year]\n",
    "        citations = [sbid2citation[sbid] for sbid in sbids]\n",
    "        quarts = zero2allsbchildquarts[parent][year]\n",
    "        citation_percentiles = quantize_citations(citations, quarts)\n",
    "        if dui in dui2sbcitchild:\n",
    "            dui2sbcitchild[dui][year] = citation_percentiles\n",
    "            \n",
    "with open(TEMP_ADDRESS + 'dui2sbcitchild.pkl', 'wb') as handle:\n",
    "    pickle.dump(dui2sbcitchild, handle, protocol=pickle.HIGHEST_PROTOCOL)\n",
    "print('Saved dui2sbcitchild.pkl', len(dui2sbcitchild))"
   ]
  },
  {
   "cell_type": "code",
   "execution_count": 58,
   "metadata": {},
   "outputs": [
    {
     "name": "stdout",
     "output_type": "stream",
     "text": [
      "Loaded dui2pubcitchild.pkl 29307\n",
      "Loaded dui2sbcitchild.pkl 29307\n"
     ]
    }
   ],
   "source": [
    "with open(TEMP_ADDRESS + 'dui2pubcitchild.pkl', 'rb') as handle:\n",
    "    dui2pubcitchild = pickle.load(handle)\n",
    "with open(TEMP_ADDRESS + 'dui2sbcitchild.pkl', 'rb') as handle:\n",
    "    dui2sbcitchild = pickle.load(handle)\n",
    "\n",
    "print('Loaded dui2pubcitchild.pkl', len(dui2pubcitchild))\n",
    "print('Loaded dui2sbcitchild.pkl', len(dui2sbcitchild))"
   ]
  },
  {
   "cell_type": "code",
   "execution_count": 50,
   "metadata": {},
   "outputs": [
    {
     "name": "stdout",
     "output_type": "stream",
     "text": [
      "D000069550 Machine Learning\n",
      "117 [0.5, 0.5, 1.0, 0.5, 1.0, 0.25, 0.25, 0.5, 0.25, 0.25, 0.25, 1.0, 0.75, 0.5, 0.5, 0.75, 1.0, 0.25, 0.5, 0.5, 0.25, 0.5, 1.0, 0.75, 0.75, 0.5, 1.0, 0.25, 1.0, 0.5, 0.25, 0.75, 0.75, 1.0, 1.0, 0.25, 0.75, 1.0, 0.75, 0.75, 0.75, 0.5, 1.0, 0.75, 0.5, 0.25, 1.0, 0.75, 0.5, 0.5, 0.75, 1.0, 0.75, 0.75, 0.25, 0.5, 1.0, 0.25, 0.75, 1.0, 1.0, 0.75, 0.5, 0.75, 0.25, 0.75, 0.25, 0.5, 0.25, 1.0, 0.75, 0.25, 0.5, 0.25, 0.25, 0.75, 1.0, 0.5, 0.5, 0.25, 0.75, 1.0, 0.5, 1.0, 0.25, 0.25, 0.75, 0.75, 0.5, 1.0, 0.75, 0.75, 0.75, 0.25, 0.5, 1.0, 0.75, 1.0, 1.0, 0.75, 1.0, 0.5, 1.0, 1.0, 1.0, 0.5, 1.0, 0.75, 0.5, 1.0, 0.75, 0.25, 1.0, 0.25, 0.75, 0.25, 0.25]\n",
      "13 [0.5, 0.25, 0.75, 1.0, 0.5, 0.75, 0.75, 0.25, 0.5, 1.0, 1.0, 1.0, 0.25] 8.5\n",
      "210 [1.0, 0.25, 0.5, 0.5, 0.5, 1.0, 0.25, 0.5, 1.0, 1.0, 0.25, 0.25, 0.5, 0.5, 0.5, 0.25, 0.5, 1.0, 0.5, 1.0, 1.0, 0.5, 0.5, 0.25, 0.75, 0.5, 1.0, 0.75, 0.5, 0.75, 0.5, 0.75, 0.5, 1.0, 0.75, 1.0, 0.75, 0.5, 0.5, 0.5, 0.25, 0.5, 1.0, 0.25, 1.0, 0.5, 1.0, 0.25, 0.75, 0.5, 0.5, 1.0, 0.5, 1.0, 0.5, 0.25, 0.75, 0.75, 0.5, 0.5, 0.75, 0.25, 1.0, 1.0, 0.75, 0.25, 0.25, 0.75, 0.5, 1.0, 1.0, 1.0, 0.75, 0.75, 0.75, 0.5, 0.5, 1.0, 0.75, 0.5, 0.75, 0.25, 1.0, 0.75, 0.5, 0.5, 0.5, 1.0, 0.5, 0.75, 0.75, 1.0, 0.75, 0.75, 0.5, 0.75, 0.25, 0.5, 0.25, 0.5, 0.5, 0.5, 1.0, 0.5, 1.0, 1.0, 0.75, 1.0, 0.25, 0.75, 0.5, 1.0, 1.0, 0.25, 0.75, 0.5, 0.75, 1.0, 0.5, 0.25, 0.75, 0.75, 0.5, 0.75, 0.25, 0.5, 0.5, 0.25, 1.0, 1.0, 0.75, 1.0, 0.75, 0.25, 0.75, 0.5, 0.5, 0.25, 0.75, 1.0, 0.5, 0.75, 0.5, 0.25, 0.25, 0.5, 0.5, 0.25, 0.25, 0.75, 1.0, 1.0, 0.25, 0.5, 0.25, 1.0, 0.5, 0.25, 0.5, 1.0, 0.75, 0.5, 0.75, 0.75, 0.5, 0.5, 0.5, 0.75, 0.5, 1.0, 0.75, 0.75, 1.0, 1.0, 1.0, 0.25, 0.5, 1.0, 0.5, 0.25, 0.5, 0.75, 0.75, 0.75, 0.75, 0.75, 1.0, 1.0, 0.25, 1.0, 0.75, 1.0, 0.5, 0.5, 1.0, 1.0, 1.0, 1.0, 0.5, 1.0, 0.75, 0.5, 1.0, 0.75, 0.5, 1.0, 0.25, 0.75, 0.5, 0.25]\n",
      "16 [0.5, 0.25, 0.75, 1.0, 1.0, 0.5, 0.75, 0.5, 0.75, 0.25, 0.5, 1.0, 1.0, 1.0, 0.25, 0.25] 10.25\n"
     ]
    }
   ],
   "source": [
    "sample_dui = 'D000069550'\n",
    "sample_year = '2010'\n",
    "sample_name = dui2name[sample_dui]\n",
    "\n",
    "print(sample_dui, sample_name)\n",
    "print(len(dui2pubcit[sample_dui][sample_year]), dui2pubcit[sample_dui][sample_year])\n",
    "print(len(dui2sbcit[sample_dui][sample_year]), dui2sbcit[sample_dui][sample_year], np.sum(dui2sbcit[sample_dui][sample_year]))\n",
    "print(len(dui2pubcitchild[sample_dui][sample_year]), dui2pubcitchild[sample_dui][sample_year])\n",
    "print(len(dui2sbcitchild[sample_dui][sample_year]), dui2sbcitchild[sample_dui][sample_year], np.sum(dui2sbcitchild[sample_dui][sample_year]))"
   ]
  },
  {
   "cell_type": "code",
   "execution_count": null,
   "metadata": {},
   "outputs": [],
   "source": []
  }
 ],
 "metadata": {
  "kernelspec": {
   "display_name": "Python 3",
   "language": "python",
   "name": "python3"
  },
  "language_info": {
   "codemirror_mode": {
    "name": "ipython",
    "version": 3
   },
   "file_extension": ".py",
   "mimetype": "text/x-python",
   "name": "python",
   "nbconvert_exporter": "python",
   "pygments_lexer": "ipython3",
   "version": "3.10.6"
  },
  "orig_nbformat": 4
 },
 "nbformat": 4,
 "nbformat_minor": 2
}
