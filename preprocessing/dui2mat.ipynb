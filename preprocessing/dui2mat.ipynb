{
 "cells": [
  {
   "cell_type": "code",
   "execution_count": 1,
   "metadata": {},
   "outputs": [],
   "source": [
    "from tqdm import tqdm\n",
    "import pickle\n",
    "import pandas as pd\n",
    "import numpy as np\n",
    "import torch\n",
    "import requests\n",
    "from sklearn.decomposition import PCA\n",
    "from sklearn.decomposition import KernelPCA\n",
    "import matplotlib.pyplot as plt\n",
    "import plotly.express as px\n",
    "import torch\n",
    "import torch.nn.functional as F\n",
    "from torch import nn\n",
    "from torch.utils.data import DataLoader\n",
    "from transformers import AutoTokenizer, AutoModel\n",
    "import random\n",
    "from scipy.spatial.distance import jensenshannon\n",
    "from scipy.stats import gaussian_kde\n",
    "from sklearn.neighbors import KernelDensity\n",
    "import scipy.stats as st\n",
    "from math import log2"
   ]
  },
  {
   "cell_type": "code",
   "execution_count": 2,
   "metadata": {},
   "outputs": [],
   "source": [
    "PICKLES_ADDRESS =  '../data/pickles/'\n",
    "SBIR_ADDRESS = '../data/sbir_dataset/'\n",
    "PARALLEL_ADDRESS = 'data/parallel/'\n",
    "TEMP_ADDRESS = 'temp/'"
   ]
  },
  {
   "cell_type": "code",
   "execution_count": 3,
   "metadata": {},
   "outputs": [
    {
     "name": "stdout",
     "output_type": "stream",
     "text": [
      "Available RAM: 477.48 GB\n",
      "GPUs available: 3\n",
      "current GPU number:  0\n",
      "GPU name:  NVIDIA RTX 6000 Ada Generation\n",
      "GPU capability:  (8, 9)\n",
      "GPU memory:  51010207744\n",
      "GPU memory allocated:  0\n",
      "GPU memory cached:  0\n",
      "GPU memory reserved:  0\n",
      "GPU memory free:  0\n",
      "               total        used        free      shared  buff/cache   available\n",
      "Mem:           503Gi        21Gi       477Gi       108Mi       3.7Gi       477Gi\n",
      "Swap:          3.0Ti        36Gi       3.0Ti\n"
     ]
    }
   ],
   "source": [
    "import psutil\n",
    "\n",
    "def available_memory():\n",
    "    available_ram = psutil.virtual_memory().available\n",
    "    print(f\"Available RAM: {available_ram / 1024 ** 3:.2f} GB\")\n",
    "\n",
    "def gpu_info():\n",
    "    device = torch.device('cuda:0')\n",
    "    torch.cuda.set_device(device)\n",
    "    print('GPUs available:', torch.cuda.device_count())\n",
    "    print('current GPU number: ', torch.cuda.current_device())\n",
    "    print('GPU name: ', torch.cuda.get_device_name(device))\n",
    "    print('GPU capability: ', torch.cuda.get_device_capability(device))\n",
    "    print('GPU memory: ', torch.cuda.get_device_properties(device).total_memory)\n",
    "    print('GPU memory allocated: ', torch.cuda.memory_allocated(device))\n",
    "    print('GPU memory cached: ', torch.cuda.memory_reserved(device))\n",
    "    print('GPU memory reserved: ', torch.cuda.memory_reserved(device))\n",
    "    print('GPU memory free: ', torch.cuda.memory_reserved(device) - torch.cuda.memory_allocated(device))\n",
    "\n",
    "\n",
    "def ram_info():\n",
    "    !free -h\n",
    "\n",
    "\n",
    "available_memory()\n",
    "gpu_info()  \n",
    "ram_info()"
   ]
  },
  {
   "cell_type": "code",
   "execution_count": 4,
   "metadata": {},
   "outputs": [
    {
     "name": "stdout",
     "output_type": "stream",
     "text": [
      "years: ['2010', '2011', '2012', '2013', '2014', '2015', '2016', '2017', '2018', '2019', '2020', '2021']\n"
     ]
    }
   ],
   "source": [
    "years = [str(year) for year in range(2010, 2022)]\n",
    "correlation_lags = [-11, -10, -9, -8, -7, -6, -5, -4, -3, -2, -1,  0,  1,  2,  3,  4,  5,  6,  7, 8, 9, 10, 11]\n",
    "print('years:', years)"
   ]
  },
  {
   "cell_type": "code",
   "execution_count": 5,
   "metadata": {},
   "outputs": [
    {
     "name": "stdout",
     "output_type": "stream",
     "text": [
      "dui2children: 29432\n",
      "dui2parents: 29307\n",
      "dui2name: 29307\n",
      "name2dui: 29307\n",
      "dui2level: 29307\n",
      "level2duis: 14\n",
      "dui2trail: 29432\n",
      "dui_intersections: 29307\n",
      "excluded_duis: 723\n",
      "dui2pubfreq: 29307\n",
      "dui2sbfreq: 29307\n",
      "dui2pubfreqchild: 29307\n",
      "dui2sbfreqchild: 29307\n",
      "dui2pubcit: 29307\n",
      "dui2sbcit: 29307\n",
      "dui2pubcitchild: 29307\n",
      "dui2sbcitchild: 29307\n"
     ]
    }
   ],
   "source": [
    "with open(PICKLES_ADDRESS + 'dui2children.pkl', 'rb') as handle:\n",
    "    dui2children = pickle.load(handle)\n",
    "    print('dui2children:', len(dui2children))\n",
    "with open(PICKLES_ADDRESS + 'dui2trail_final.pkl', 'rb') as handle:\n",
    "    dui2parents = pickle.load(handle)\n",
    "    print('dui2parents:', len(dui2parents))\n",
    "with open(PICKLES_ADDRESS + 'heading2dui_final.pkl', 'rb') as handle:\n",
    "    dui2name = pickle.load(handle)\n",
    "    print('dui2name:', len(dui2name))\n",
    "with open(PICKLES_ADDRESS + 'dui2header_final.pkl', 'rb') as handle:\n",
    "    name2dui = pickle.load(handle)\n",
    "    print('name2dui:', len(name2dui))\n",
    "with open(PICKLES_ADDRESS + 'dui2level_final.pkl', 'rb') as handle:\n",
    "    dui2level = pickle.load(handle)\n",
    "    print('dui2level:', len(dui2level))\n",
    "with open(PICKLES_ADDRESS + 'level2duis_final.pkl', 'rb') as handle:\n",
    "    level2duis = pickle.load(handle)\n",
    "    print('level2duis:', len(level2duis))\n",
    "with open(PICKLES_ADDRESS + 'dui2trail.pkl', 'rb') as handle:\n",
    "    dui2trail = pickle.load(handle)\n",
    "    print('dui2trail:', len(dui2trail))\n",
    "with open(PICKLES_ADDRESS + 'dui_intersection_final.pkl', 'rb') as handle:\n",
    "    dui_intersections = pickle.load(handle)\n",
    "    print('dui_intersections:', len(dui_intersections))\n",
    "with open(PICKLES_ADDRESS + 'excluded_duis_final.pkl', 'rb') as handle:\n",
    "    excluded_duis = pickle.load(handle)\n",
    "    print('excluded_duis:', len(excluded_duis))\n",
    "with open(PICKLES_ADDRESS + 'dui2pubfreq.pkl', 'rb') as handle:\n",
    "    dui2pubfreq = pickle.load(handle)\n",
    "    print('dui2pubfreq:', len(dui2pubfreq))\n",
    "with open(PICKLES_ADDRESS + 'dui2sbfreq.pkl', 'rb') as handle:\n",
    "    dui2sbfreq = pickle.load(handle)\n",
    "    print('dui2sbfreq:', len(dui2sbfreq))\n",
    "with open(PICKLES_ADDRESS + 'dui2pubfreqchild.pkl', 'rb') as handle:\n",
    "    dui2pubfreqchild = pickle.load(handle)\n",
    "    print('dui2pubfreqchild:', len(dui2pubfreqchild))\n",
    "with open(PICKLES_ADDRESS + 'dui2sbfreqchild.pkl', 'rb') as handle:\n",
    "    dui2sbfreqchild = pickle.load(handle)\n",
    "    print('dui2sbfreqchild:', len(dui2sbfreqchild))\n",
    "with open(TEMP_ADDRESS + 'dui2pubcit.pkl', 'rb') as handle:\n",
    "    dui2pubcit = pickle.load(handle)\n",
    "    print('dui2pubcit:', len(dui2pubcit))\n",
    "with open(TEMP_ADDRESS + 'dui2sbcit.pkl', 'rb') as handle:\n",
    "    dui2sbcit = pickle.load(handle)\n",
    "    print('dui2sbcit:', len(dui2sbcit))\n",
    "with open(TEMP_ADDRESS + 'dui2pubcitchild.pkl', 'rb') as handle:\n",
    "    dui2pubcitchild = pickle.load(handle)\n",
    "    print('dui2pubcitchild:', len(dui2pubcitchild))\n",
    "with open(TEMP_ADDRESS + 'dui2sbcitchild.pkl', 'rb') as handle:\n",
    "    dui2sbcitchild = pickle.load(handle)\n",
    "    print('dui2sbcitchild:', len(dui2sbcitchild))"
   ]
  },
  {
   "cell_type": "code",
   "execution_count": 6,
   "metadata": {},
   "outputs": [
    {
     "name": "stdout",
     "output_type": "stream",
     "text": [
      "pmid2emb2d: 10928078\n",
      "sbid2emb2d: 63488\n"
     ]
    }
   ],
   "source": [
    "#read 'data/pubmed_dataset/pmid2emb2d.pkl'\n",
    "with open(PICKLES_ADDRESS + 'pmid2emb2d.pkl', 'rb') as handle:\n",
    "    pmid2emb2d = pickle.load(handle)\n",
    "    print('pmid2emb2d:', len(pmid2emb2d))\n",
    "\n",
    "#read 'data/pubmed_dataset/sbid2emb2d.pkl'\n",
    "with open(PICKLES_ADDRESS + 'sbid2emb2d.pkl', 'rb') as handle:\n",
    "    sbid2emb2d = pickle.load(handle)    \n",
    "    print('sbid2emb2d:', len(sbid2emb2d))"
   ]
  },
  {
   "cell_type": "code",
   "execution_count": 7,
   "metadata": {},
   "outputs": [
    {
     "name": "stdout",
     "output_type": "stream",
     "text": [
      "10873 DUIs remained.\n"
     ]
    }
   ],
   "source": [
    "# store all duis that have no frequency at any year of the dui2pubfreq dictionary and store them in a list called exduis\n",
    "exduis = {}\n",
    "for dui in dui2sbfreq:\n",
    "    c = 0\n",
    "    for year in years:\n",
    "        c += len(dui2sbfreq[dui][year])\n",
    "    if c == 0:\n",
    "        exduis[dui] = True\n",
    "    else:\n",
    "        exduis[dui] = False\n",
    "\n",
    "# count how many excuis have False and True values\n",
    "c = 0\n",
    "for dui in exduis:\n",
    "    if exduis[dui] == False:\n",
    "        c += 1\n",
    "print(c, 'DUIs remained.')"
   ]
  },
  {
   "cell_type": "code",
   "execution_count": 8,
   "metadata": {},
   "outputs": [],
   "source": [
    "def calculate_jsd(p, q):\n",
    "    m = 0.5 * (p + q)\n",
    "    jsd = 0.5 * st.entropy(p, m) + 0.5 * st.entropy(q, m)\n",
    "    return jsd"
   ]
  },
  {
   "cell_type": "code",
   "execution_count": 9,
   "metadata": {},
   "outputs": [
    {
     "data": {
      "text/plain": [
       "((10928078, 2), (63488, 2))"
      ]
     },
     "execution_count": 9,
     "metadata": {},
     "output_type": "execute_result"
    }
   ],
   "source": [
    "all_pubmed_embs = np.array([list(each) for each in list(pmid2emb2d.values())])\n",
    "all_sbir_embs = np.array([list(each) for each in list(sbid2emb2d.values())])\n",
    "all_pubmed_embs.shape, all_sbir_embs.shape"
   ]
  },
  {
   "cell_type": "code",
   "execution_count": 10,
   "metadata": {},
   "outputs": [
    {
     "data": {
      "text/plain": [
       "array([ 1.75062227, -2.57721747])"
      ]
     },
     "execution_count": 10,
     "metadata": {},
     "output_type": "execute_result"
    }
   ],
   "source": [
    "all_pubmed_embs[0]"
   ]
  },
  {
   "cell_type": "code",
   "execution_count": 11,
   "metadata": {},
   "outputs": [
    {
     "data": {
      "text/plain": [
       "(10991566, 2)"
      ]
     },
     "execution_count": 11,
     "metadata": {},
     "output_type": "execute_result"
    }
   ],
   "source": [
    "all_embeddings = np.concatenate((all_pubmed_embs, all_sbir_embs))\n",
    "all_embeddings.shape"
   ]
  },
  {
   "cell_type": "code",
   "execution_count": 12,
   "metadata": {},
   "outputs": [
    {
     "data": {
      "text/plain": [
       "(array([-5.57435514, -4.74475388]), array([5.91685115, 5.87501581]))"
      ]
     },
     "execution_count": 12,
     "metadata": {},
     "output_type": "execute_result"
    }
   ],
   "source": [
    "min_general = np.min(all_embeddings, axis=0)\n",
    "max_general = np.max(all_embeddings, axis=0)\n",
    "min_general, max_general"
   ]
  },
  {
   "cell_type": "code",
   "execution_count": 13,
   "metadata": {},
   "outputs": [
    {
     "name": "stdout",
     "output_type": "stream",
     "text": [
      "Raw TVD: 0.8227752639517345\n",
      "Raw JSD: 0.4599998765680119\n",
      "Raw HLD: 0.7760362784115266\n",
      "KDE TVD: 0.45260198108481564\n",
      "KDE JSD: 0.16215192648589455\n",
      "KDE HLD: 0.4330415515168357\n"
     ]
    },
    {
     "data": {
      "image/png": "[encoded data removed]",
      "text/plain": [
       "<Figure size 432x288 with 1 Axes>"
      ]
     },
     "metadata": {
      "needs_background": "light"
     },
     "output_type": "display_data"
    },
    {
     "data": {
      "image/png": "[encoded data removed]",
      "text/plain": [
       "<Figure size 432x288 with 1 Axes>"
      ]
     },
     "metadata": {
      "needs_background": "light"
     },
     "output_type": "display_data"
    },
    {
     "data": {
      "image/png": "[encoded data removed]",
      "text/plain": [
       "<Figure size 432x288 with 1 Axes>"
      ]
     },
     "metadata": {
      "needs_background": "light"
     },
     "output_type": "display_data"
    },
    {
     "data": {
      "image/png": "[encoded data removed]",
      "text/plain": [
       "<Figure size 432x288 with 1 Axes>"
      ]
     },
     "metadata": {
      "needs_background": "light"
     },
     "output_type": "display_data"
    },
    {
     "data": {
      "image/png": "[encoded data removed]",
      "text/plain": [
       "<Figure size 432x288 with 1 Axes>"
      ]
     },
     "metadata": {
      "needs_background": "light"
     },
     "output_type": "display_data"
    },
    {
     "data": {
      "image/png": "[encoded data removed]",
      "text/plain": [
       "<Figure size 432x288 with 1 Axes>"
      ]
     },
     "metadata": {
      "needs_background": "light"
     },
     "output_type": "display_data"
    },
    {
     "data": {
      "image/png": "[encoded data removed]",
      "text/plain": [
       "<Figure size 360x360 with 4 Axes>"
      ]
     },
     "metadata": {
      "needs_background": "light"
     },
     "output_type": "display_data"
    }
   ],
   "source": [
    "dui2mat = {k: np.ones((len(years), len(years))) for k in list(dui2sbfreqchild.keys())}\n",
    "bin_sizes = np.array([20, 20]) #each dim will be discretized into 20 bins\n",
    "kde_samples = np.array([[i, j] for i in range(bin_sizes[0]) for j in range(bin_sizes[1])])\n",
    "\n",
    "gimi = False\n",
    "for dui in list(dui2sbfreqchild.keys()):\n",
    "    if not exduis[dui]:    \n",
    "        for pm_year_idx, pm_year in enumerate(years):\n",
    "            for sb_year_idx, sb_year in enumerate(years):\n",
    "                pmids = dui2pubfreqchild[dui][pm_year]\n",
    "                sbids = dui2sbfreqchild[dui][sb_year]\n",
    "\n",
    "                if len(pmids) == 0 or len(sbids) == 0:\n",
    "                    continue\n",
    "\n",
    "                if len(pmids) < 10 or len(sbids) < 10:\n",
    "                    continue\n",
    "\n",
    "                #embed each pmid and sbid from pmids and sbids in a 2d space using the pmid2emb2d and sbid2emb2d dictionaries\n",
    "                pm_embs = np.array([pmid2emb2d[pmid] for pmid in pmids])\n",
    "                sb_embs = np.array([sbid2emb2d[sbid] for sbid in sbids])\n",
    "\n",
    "                pm_impacts = dui2pubcitchild[dui][pm_year]\n",
    "                sb_impacts = dui2sbcitchild[dui][sb_year]\n",
    "\n",
    "                # Discretize embeddings\n",
    "                pm_embs_disc = np.floor((pm_embs - min_general) / (max_general - min_general) * (bin_sizes - 1)).astype(int)\n",
    "                sb_embs_disc = np.floor((sb_embs - min_general) / (max_general - min_general) * (bin_sizes - 1)).astype(int)\n",
    "\n",
    "                pm_bin_impact = np.zeros((bin_sizes[0], bin_sizes[1]))\n",
    "                sb_bin_impact = np.zeros((bin_sizes[0], bin_sizes[1]))\n",
    "\n",
    "                # print('pm_embs:', pm_embs.shape)\n",
    "                # print('sb_embs:', sb_embs.shape)\n",
    "                # print('pm_impacts:', len(pm_impacts))\n",
    "                # print('sb_impacts:', len(sb_impacts))\n",
    "                # print('pm_embs_disc:', pm_embs_disc.shape)\n",
    "                # print('sb_embs_disc:', sb_embs_disc.shape)\n",
    "                # print('pm_bin_impact:', pm_bin_impact.shape)\n",
    "                # print('sb_bin_impact:', sb_bin_impact.shape)\n",
    "                # print(np.max(pm_embs_disc, axis=0))\n",
    "\n",
    "                # Accumulate the impact scores for each bin for pubmeed\n",
    "                for i in range(len(pm_embs_disc)):\n",
    "                    x, y = pm_embs_disc[i]\n",
    "                    pm_bin_impact[x, y] += pm_impacts[i]\n",
    "\n",
    "                # Accumulate the impact scores for each bin for sbirs\n",
    "                for i in range(len(sb_embs_disc)):\n",
    "                    x, y = sb_embs_disc[i]\n",
    "                    sb_bin_impact[x, y] += sb_impacts[i]\n",
    "\n",
    "                pm_probs = pm_bin_impact / np.sum(pm_bin_impact)\n",
    "                pm_probs = pm_probs.flatten()\n",
    "                sb_probs = sb_bin_impact / np.sum(sb_bin_impact)\n",
    "                sb_probs = sb_probs.flatten()\n",
    "\n",
    "                # define grids for kde\n",
    "                x_grid, y_grid = np.mgrid[0:bin_sizes[0]:bin_sizes[0]*1j, 0:bin_sizes[1]:bin_sizes[1]*1j]\n",
    "                xy_grid = np.vstack([x_grid.ravel(), y_grid.ravel()])\n",
    "\n",
    "                # apply kde to probabilties\n",
    "                regularization_factor = 0.8\n",
    "                pmkde = KernelDensity(bandwidth=regularization_factor).fit(pm_embs_disc, sample_weight=pm_impacts)\n",
    "                pm_probs_kde = np.exp(pmkde.score_samples(kde_samples)).reshape(bin_sizes)\n",
    "                pm_probs_kde = pm_probs_kde.flatten()\n",
    "\n",
    "                # Perform kernel density estimation on sb_embs_disc using sb_impacts\n",
    "                sbkde = KernelDensity(bandwidth=regularization_factor).fit(sb_embs_disc, sample_weight=sb_impacts)\n",
    "                sb_probs_kde = np.exp(sbkde.score_samples(kde_samples)).reshape(bin_sizes)\n",
    "                sb_probs_kde = sb_probs_kde.flatten()\n",
    "\n",
    "                # calculate TVD and JSD on raw probabilities\n",
    "                tvd = 0.5 * np.sum(np.abs(pm_probs - sb_probs))\n",
    "                jsd = calculate_jsd(pm_probs, sb_probs)\n",
    "                hld = np.sqrt(0.5 * np.sum((np.sqrt(pm_probs) - np.sqrt(sb_probs)) ** 2))\n",
    "                print('Raw TVD:', tvd)\n",
    "                print('Raw JSD:', jsd)\n",
    "                print('Raw HLD:', hld)\n",
    "\n",
    "                # calculate TVD and JSD on kde probabilities\n",
    "                tvd = 0.5 * np.sum(np.abs(pm_probs_kde - sb_probs_kde))\n",
    "                jsd = calculate_jsd(pm_probs_kde, sb_probs_kde)\n",
    "                hld = np.sqrt(0.5 * np.sum((np.sqrt(pm_probs_kde) - np.sqrt(sb_probs_kde)) ** 2))\n",
    "                print('KDE TVD:', tvd)\n",
    "                print('KDE JSD:', jsd)\n",
    "                print('KDE HLD:', hld)\n",
    "\n",
    "                #plot the original pmids and sbids in the 2d spac\n",
    "                plt.scatter(*zip(*pm_embs), color='blue')\n",
    "                plt.scatter(*zip(*sb_embs), color='red') \n",
    "                plt.show()\n",
    "\n",
    "                #plot the discretized pmids and sbids in the 2d space\n",
    "                plt.scatter(*zip(*pm_embs_disc), color='blue')\n",
    "                plt.scatter(*zip(*sb_embs_disc), color='red')\n",
    "                plt.show()\n",
    "\n",
    "                #plot the matrices where cells with higher values are more red\n",
    "                plt.imshow(pm_probs.reshape(bin_sizes), cmap='hot', interpolation='nearest')\n",
    "                plt.show()\n",
    "                plt.imshow(sb_probs.reshape(bin_sizes), cmap='hot', interpolation='nearest')\n",
    "                plt.show()\n",
    "\n",
    "                #plot the kde matrices where cells with higher values are more red\n",
    "                plt.imshow(pm_probs_kde.reshape(bin_sizes), cmap='hot', interpolation='nearest')\n",
    "                plt.show()\n",
    "                plt.imshow(sb_probs_kde.reshape(bin_sizes), cmap='hot', interpolation='nearest')\n",
    "                plt.show()\n",
    "\n",
    "                #now plot all 4 matrices in a 2x2 grid, set the titles to pm_prob, sb_prob, pm_prob_kde, sb_prob_kde\n",
    "                fig, axs = plt.subplots(2, 2, figsize=(5, 5))  # Adjust the figsize according to your preference\n",
    "                axs[0, 0].imshow(pm_probs.reshape(bin_sizes), cmap='hot', interpolation='nearest')\n",
    "                axs[0, 0].set_title('pm_probs')\n",
    "                axs[0, 1].imshow(sb_probs.reshape(bin_sizes), cmap='hot', interpolation='nearest')\n",
    "                axs[0, 1].set_title('sb_probs')\n",
    "                axs[1, 0].imshow(pm_probs_kde.reshape(bin_sizes), cmap='hot', interpolation='nearest')\n",
    "                axs[1, 0].set_title('pm_probs_kde')\n",
    "                axs[1, 1].imshow(sb_probs_kde.reshape(bin_sizes), cmap='hot', interpolation='nearest')\n",
    "                axs[1, 1].set_title('sb_probs_kde')\n",
    "                plt.tight_layout()  # Ensures proper spacing between subplots\n",
    "                plt.show()\n",
    "\n",
    "                gimi = True\n",
    "                if gimi:\n",
    "                    break\n",
    "            if gimi:\n",
    "                break\n",
    "        if gimi:\n",
    "            break"
   ]
  },
  {
   "cell_type": "code",
   "execution_count": 14,
   "metadata": {},
   "outputs": [
    {
     "data": {
      "text/plain": [
       "0.03589433379505626"
      ]
     },
     "execution_count": 14,
     "metadata": {},
     "output_type": "execute_result"
    }
   ],
   "source": [
    "np.max(pm_probs_kde)"
   ]
  },
  {
   "cell_type": "code",
   "execution_count": 15,
   "metadata": {},
   "outputs": [
    {
     "data": {
      "text/plain": [
       "(20, 20)"
      ]
     },
     "execution_count": 15,
     "metadata": {},
     "output_type": "execute_result"
    }
   ],
   "source": [
    "pmkde = KernelDensity(bandwidth=regularization_factor).fit(pm_embs_disc, sample_weight=pm_impacts)\n",
    "samples = np.array([[i, j] for i in range(bin_sizes[0]) for j in range(bin_sizes[1])])\n",
    "pm_probs_kde = np.exp(pmkde.score_samples(samples)).reshape(bin_sizes)\n",
    "pm_probs_kde.shape"
   ]
  },
  {
   "cell_type": "code",
   "execution_count": 16,
   "metadata": {},
   "outputs": [
    {
     "data": {
      "text/plain": [
       "(array([-5.57435514, -4.74475388]), array([5.91685115, 5.87501581]))"
      ]
     },
     "execution_count": 16,
     "metadata": {},
     "output_type": "execute_result"
    }
   ],
   "source": [
    "min_general = np.min(all_embeddings, axis=0)\n",
    "max_general = np.max(all_embeddings, axis=0)\n",
    "min_general, max_general"
   ]
  },
  {
   "cell_type": "code",
   "execution_count": 17,
   "metadata": {},
   "outputs": [
    {
     "name": "stdout",
     "output_type": "stream",
     "text": [
      "dui2parents: 29307\n"
     ]
    }
   ],
   "source": [
    "with open(PICKLES_ADDRESS + 'dui2trail_final.pkl', 'rb') as handle:\n",
    "    dui2parents = pickle.load(handle)\n",
    "    print('dui2parents:', len(dui2parents))"
   ]
  },
  {
   "cell_type": "code",
   "execution_count": 2,
   "metadata": {},
   "outputs": [
    {
     "data": {
      "text/plain": [
       "10039"
      ]
     },
     "execution_count": 2,
     "metadata": {},
     "output_type": "execute_result"
    }
   ],
   "source": [
    "import os\n",
    "\n",
    "already_processed = []\n",
    "for filename in os.listdir(TEMP_ADDRESS + 'parallel/TVDs/'):\n",
    "    already_processed.append(filename.split('_')[0])\n",
    "already_processed = list(set(already_processed))\n",
    "len(already_processed)"
   ]
  },
  {
   "cell_type": "code",
   "execution_count": 20,
   "metadata": {},
   "outputs": [
    {
     "name": "stderr",
     "output_type": "stream",
     "text": [
      "100%|██████████| 29307/29307 [01:02<00:00, 472.49it/s] \n"
     ]
    }
   ],
   "source": [
    "from sklearn.neighbors import KernelDensity\n",
    "from multiprocessing import Pool\n",
    "from tqdm import tqdm\n",
    "\n",
    "def process_dui(dui):\n",
    "    parent = dui2parents[dui][0]\n",
    "    if not exduis[dui] and dui not in already_processed and parent != 'U000008' and parent != 'U000011':\n",
    "        for pm_year_idx, pm_year in enumerate(years):\n",
    "            for sb_year_idx, sb_year in enumerate(years):\n",
    "                pmids = dui2pubfreqchild[dui][pm_year]\n",
    "                sbids = dui2sbfreqchild[dui][sb_year]         \n",
    "    \n",
    "                if len(pmids) == 0 or len(sbids) == 0:\n",
    "                    continue           \n",
    "\n",
    "                #embed each pmid and sbid from pmids and sbids in a 2d space using the pmid2emb2d and sbid2emb2d dictionaries\n",
    "                pm_embs = np.array([pmid2emb2d[pmid] for pmid in pmids])\n",
    "                sb_embs = np.array([sbid2emb2d[sbid] for sbid in sbids])\n",
    "                pm_impacts = dui2pubcitchild[dui][pm_year]\n",
    "                sb_impacts = dui2sbcitchild[dui][sb_year]\n",
    "                pm_embs_disc = np.floor((pm_embs - min_general) / (max_general - min_general) * (bin_sizes - 1)).astype(int)\n",
    "                sb_embs_disc = np.floor((sb_embs - min_general) / (max_general - min_general) * (bin_sizes - 1)).astype(int)\n",
    "                pm_bin_impact = np.zeros((bin_sizes[0], bin_sizes[1]))\n",
    "                sb_bin_impact = np.zeros((bin_sizes[0], bin_sizes[1]))\n",
    "                for i in range(len(pm_embs_disc)):\n",
    "                    x, y = pm_embs_disc[i]\n",
    "                    pm_bin_impact[x, y] += pm_impacts[i]\n",
    "                for i in range(len(sb_embs_disc)):\n",
    "                    x, y = sb_embs_disc[i]\n",
    "                    sb_bin_impact[x, y] += sb_impacts[i]\n",
    "\n",
    "                pm_probs = pm_bin_impact / np.sum(pm_bin_impact) + 1e-10\n",
    "                pm_probs = pm_probs.flatten()\n",
    "                sb_probs = sb_bin_impact / np.sum(sb_bin_impact) + 1e-10\n",
    "                sb_probs = sb_probs.flatten()\n",
    "\n",
    "                regularization_factor = 0.8\n",
    "                pmkde = KernelDensity(bandwidth=regularization_factor).fit(pm_embs_disc, sample_weight=pm_impacts)\n",
    "                pm_probs_kde = np.exp(pmkde.score_samples(kde_samples)).reshape(bin_sizes)\n",
    "                pm_probs_kde = pm_probs_kde.flatten()\n",
    "\n",
    "                sbkde = KernelDensity(bandwidth=regularization_factor).fit(sb_embs_disc, sample_weight=sb_impacts)\n",
    "                sb_probs_kde = np.exp(sbkde.score_samples(kde_samples)).reshape(bin_sizes)\n",
    "                sb_probs_kde = sb_probs_kde.flatten()\n",
    "\n",
    "                tvd = 0.5 * np.sum(np.abs(pm_probs_kde - sb_probs_kde))\n",
    "                jsd = calculate_jsd(pm_probs_kde, sb_probs_kde)\n",
    "                hld = np.sqrt(0.5 * np.sum((np.sqrt(pm_probs_kde) - np.sqrt(sb_probs_kde)) ** 2))\n",
    "\n",
    "                # save tvd jsd and hld as txt files that contain the scores for the dui. name the files as <dui>_<pm_year>_<sb_year>_TVD.txt, <dui>_<pm_year>_<sb_year>_JSD.txt, <dui>_<pm_year>_<sb_year>_HLD.txt in folder data/parallel/TVDs, data/parallel/JSDs, data/parallel/HLDs\n",
    "                with open(TEMP_ADDRESS + 'parallel/TVDs/' + dui + '_' + str(pm_year) + '_' + str(sb_year) + '_TVD.txt', 'w') as f:\n",
    "                    f.write(str(tvd))\n",
    "                with open(TEMP_ADDRESS + 'parallel/JSDs/' + dui + '_' + str(pm_year) + '_' + str(sb_year) + '_JSD.txt', 'w') as f:\n",
    "                    f.write(str(jsd))\n",
    "                with open(TEMP_ADDRESS + 'parallel/HLDs/' + dui + '_' + str(pm_year) + '_' + str(sb_year) + '_HLD.txt', 'w') as f:\n",
    "                    f.write(str(hld))\n",
    "\n",
    "                fig, axs = plt.subplots(2, 2, figsize=(5, 5))  # Adjust the figsize according to your preference\n",
    "                axs[0, 0].imshow(pm_probs.reshape(bin_sizes), cmap='hot', interpolation='nearest')\n",
    "                axs[0, 0].set_title('pm_probs')\n",
    "                axs[0, 1].imshow(sb_probs.reshape(bin_sizes), cmap='hot', interpolation='nearest')\n",
    "                axs[0, 1].set_title('sb_probs')\n",
    "                axs[1, 0].imshow(pm_probs_kde.reshape(bin_sizes), cmap='hot', interpolation='nearest')\n",
    "                axs[1, 0].set_title('pm_probs_kde')\n",
    "                axs[1, 1].imshow(sb_probs_kde.reshape(bin_sizes), cmap='hot', interpolation='nearest')\n",
    "                axs[1, 1].set_title('sb_probs_kde')\n",
    "                plt.tight_layout()  # Ensures proper spacing between subplots\n",
    "                plt.savefig(TEMP_ADDRESS + 'parallel/plots/{}_{}_{}.png'.format(dui, pm_year, sb_year))\n",
    "                plt.close()\n",
    "\n",
    "                del pm_embs, sb_embs, pm_impacts, sb_impacts, pm_embs_disc, sb_embs_disc, pm_bin_impact, sb_bin_impact, pm_probs, sb_probs, pm_probs_kde, sb_probs_kde\n",
    "\n",
    "\n",
    "# Modify the outer loop to create a list of 'duis'\n",
    "duis = list(dui2sbfreqchild.keys())\n",
    "\n",
    "# Define the number of processes to match the number of CPU cores\n",
    "num_processes = 120\n",
    "\n",
    "# Create a progress bar using tqdm\n",
    "with tqdm(total=len(duis)) as pbar:\n",
    "    # Create a pool of processes\n",
    "    with Pool(processes=num_processes) as pool:\n",
    "        # Map 'process_dui' to 'duis' using pool.map\n",
    "        for _ in pool.imap_unordered(process_dui, duis):\n",
    "            pbar.update(1)  # Update the progress bar"
   ]
  },
  {
   "cell_type": "code",
   "execution_count": 33,
   "metadata": {},
   "outputs": [
    {
     "name": "stdout",
     "output_type": "stream",
     "text": [
      "['D016240']\n"
     ]
    }
   ],
   "source": [
    "a = [k for k, v in exduis.items() if not v]\n",
    "b = already_processed\n",
    "#find what elements are in a but not in b\n",
    "c = [item for item in a if item not in b]\n",
    "print(c)"
   ]
  },
  {
   "cell_type": "code",
   "execution_count": null,
   "metadata": {},
   "outputs": [],
   "source": []
  }
 ],
 "metadata": {
  "kernelspec": {
   "display_name": "venv",
   "language": "python",
   "name": "python3"
  },
  "language_info": {
   "codemirror_mode": {
    "name": "ipython",
    "version": 3
   },
   "file_extension": ".py",
   "mimetype": "text/x-python",
   "name": "python",
   "nbconvert_exporter": "python",
   "pygments_lexer": "ipython3",
   "version": "3.10.6"
  },
  "orig_nbformat": 4
 },
 "nbformat": 4,
 "nbformat_minor": 2
}
