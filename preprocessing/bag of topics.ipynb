{
 "cells": [
  {
   "cell_type": "code",
   "execution_count": 1,
   "metadata": {},
   "outputs": [],
   "source": [
    "from tqdm import tqdm\n",
    "import pickle\n",
    "import pandas as pd\n",
    "import numpy as np  \n",
    "import matplotlib.pyplot as plt\n",
    "import itertools\n",
    "import copy"
   ]
  },
  {
   "cell_type": "code",
   "execution_count": 2,
   "metadata": {},
   "outputs": [],
   "source": [
    "PICKLES_ADDRESS = '../data/pickles/'\n",
    "LAG_DATA_ADDRESS = 'lag_data/'\n",
    "PUBMED_ADDRESS = '../data/pubmed_dataset/'\n",
    "SBIR_ADDRESS = '../data/sbir_dataset/'"
   ]
  },
  {
   "cell_type": "code",
   "execution_count": 3,
   "metadata": {},
   "outputs": [
    {
     "name": "stdout",
     "output_type": "stream",
     "text": [
      "years: ['2010', '2011', '2012', '2013', '2014', '2015', '2016', '2017', '2018', '2019', '2020', '2021']\n",
      "len(dui2children) 29432\n",
      "len(dui2parents) 29432\n",
      "len(name2dui) 29655\n",
      "len(dui2level) 29432\n",
      "Mututal DUIs count: 29307\n",
      "==================================================\n",
      "INTERSECTED\n",
      "Excluded DUIs: 723\n",
      "len(dui2children) 29307\n",
      "len(dui2parents) 29307\n",
      "len(name2dui) 29307\n",
      "len(dui2level) 29307\n",
      "len(level2dui) 14\n"
     ]
    }
   ],
   "source": [
    "years = [str(year) for year in range(2010, 2022)]\n",
    "correlation_lags = [-11, -10, -9, -8, -7, -6, -5, -4, -3, -2, -1,  0,  1,  2,  3,  4,  5,  6,  7, 8, 9, 10, 11]\n",
    "\n",
    "with open(PICKLES_ADDRESS + 'dui2children.pkl', 'rb') as handle:\n",
    "    dui2children = pickle.load(handle)\n",
    "with open(PICKLES_ADDRESS + 'dui2trail.pkl', 'rb') as handle:\n",
    "    dui2parents = pickle.load(handle)\n",
    "with open(PICKLES_ADDRESS + 'heading2dui.pkl', 'rb') as handle:\n",
    "    name2dui = pickle.load(handle)\n",
    "with open(PICKLES_ADDRESS + 'level2duis.pkl', 'rb') as handle:\n",
    "    level2duis = pickle.load(handle)\n",
    "with open(PICKLES_ADDRESS + 'dui2level.pkl', 'rb') as handle:\n",
    "    dui2level = pickle.load(handle)\n",
    "\n",
    "dui2name = {dui:heading for heading, dui in name2dui.items()}\n",
    "dui_intersections = set(dui2children.keys()) & set(dui2parents.keys()) & set(dui2name.keys()) & set(dui2level.keys())\n",
    "\n",
    "excluded_duis = [dui for dui in dui2children.keys() if dui not in dui_intersections]\n",
    "excluded_duis += [dui for dui in dui2parents.keys() if dui not in dui_intersections]\n",
    "excluded_duis += [dui for dui in dui2name.keys() if dui not in dui_intersections]\n",
    "excluded_duis += [dui for dui in dui2level.keys() if dui not in dui_intersections]\n",
    "\n",
    "print('years:', years)\n",
    "print('len(dui2children)', len(dui2children))\n",
    "print('len(dui2parents)', len(dui2parents))\n",
    "print('len(name2dui)', len(dui2name))\n",
    "print('len(dui2level)', len(dui2level))\n",
    "print('Mututal DUIs count:', len(dui_intersections))\n",
    "\n",
    "dui2children = {k:v for k,v in dui2children.items() if k in dui_intersections}\n",
    "dui2parents = {k:v for k,v in dui2parents.items() if k in dui_intersections}\n",
    "dui2name = {k:v for k,v in dui2name.items() if k in dui_intersections}\n",
    "name2dui = {v:k for k,v in dui2name.items()}\n",
    "dui2level = {k:v for k,v in dui2level.items() if k in dui_intersections}\n",
    "\n",
    "for level, dui_list in level2duis.items():\n",
    "    if level == 0:\n",
    "        continue\n",
    "    level2duis[level] = [dui for dui in dui_list if dui in dui_intersections]\n",
    "\n",
    "\n",
    "print('=' * 50)\n",
    "print('INTERSECTED')\n",
    "print('Excluded DUIs:', len(excluded_duis))\n",
    "print('len(dui2children)', len(dui2children))\n",
    "print('len(dui2parents)', len(dui2parents))\n",
    "print('len(name2dui)', len(dui2name))\n",
    "print('len(dui2level)', len(dui2level))\n",
    "print('len(level2dui)', len(level2duis))"
   ]
  },
  {
   "cell_type": "code",
   "execution_count": null,
   "metadata": {},
   "outputs": [
    {
     "name": "stdout",
     "output_type": "stream",
     "text": [
      "pubmed_df: 10928078\n",
      "sbir_df: 63488\n"
     ]
    }
   ],
   "source": [
    "pubmed_df = pd.read_csv(PUBMED_ADDRESS + 'pubmed_df.csv')\n",
    "print('pubmed_df:', len(pubmed_df))\n",
    "sbir_df = pd.read_csv(SBIR_ADDRESS + 'sbir_df.csv')\n",
    "print('sbir_df:', len(sbir_df))"
   ]
  },
  {
   "cell_type": "code",
   "execution_count": 7,
   "metadata": {},
   "outputs": [
    {
     "name": "stdout",
     "output_type": "stream",
     "text": [
      "pubmed_df: 11.506469939178691\n",
      "sbir_df: 13.02895035282258\n"
     ]
    }
   ],
   "source": [
    "#count on average how many topics are in each document by splitting the duis by semi-colon\n",
    "pubmed_df['topic_count'] = pubmed_df['duis'].apply(lambda x: len(x.split(';')))\n",
    "sbir_df['topic_count'] = sbir_df['duis'].apply(lambda x: len(x.split(';')))\n",
    "print('pubmed_df:', pubmed_df['topic_count'].mean())\n",
    "print('sbir_df:', sbir_df['topic_count'].mean())"
   ]
  },
  {
   "attachments": {},
   "cell_type": "markdown",
   "metadata": {},
   "source": [
    "Pairs"
   ]
  },
  {
   "cell_type": "code",
   "execution_count": null,
   "metadata": {},
   "outputs": [
    {
     "name": "stderr",
     "output_type": "stream",
     "text": [
      "611364it [06:16, 1614.33it/s]"
     ]
    }
   ],
   "source": [
    "pubmed_2pairs = {}\n",
    "for index, row in tqdm(pubmed_df.iterrows()):\n",
    "    row_duis = row.duis.split(';')\n",
    "    dui_pairs = [tuple(sorted(each)) for each in list(itertools.combinations(row_duis, 2))]\n",
    "    for key in dui_pairs:\n",
    "        try:\n",
    "            pubmed_2pairs[key][str(row.year)] += [row.pmid]\n",
    "        except KeyError:\n",
    "            pubmed_2pairs[key] = {year: [] for year in years}\n",
    "            pubmed_2pairs[key][str(row.year)] = [row.pmid]\n",
    "\n",
    "print('pubmed_2pairs:', len(pubmed_2pairs))"
   ]
  },
  {
   "attachments": {},
   "cell_type": "markdown",
   "metadata": {},
   "source": [
    "Triplets"
   ]
  },
  {
   "cell_type": "code",
   "execution_count": 12,
   "metadata": {},
   "outputs": [
    {
     "name": "stderr",
     "output_type": "stream",
     "text": [
      "45it [00:01, 46.42it/s]"
     ]
    },
    {
     "name": "stdout",
     "output_type": "stream",
     "text": [
      "saved 0\n"
     ]
    },
    {
     "name": "stderr",
     "output_type": "stream",
     "text": [
      "9966it [00:29, 462.64it/s]"
     ]
    },
    {
     "name": "stdout",
     "output_type": "stream",
     "text": [
      "saved 10000\n"
     ]
    },
    {
     "name": "stderr",
     "output_type": "stream",
     "text": [
      "19968it [01:04, 453.91it/s]"
     ]
    },
    {
     "name": "stdout",
     "output_type": "stream",
     "text": [
      "saved 20000\n"
     ]
    },
    {
     "name": "stderr",
     "output_type": "stream",
     "text": [
      "29978it [01:46, 456.84it/s]"
     ]
    },
    {
     "name": "stdout",
     "output_type": "stream",
     "text": [
      "saved 30000\n"
     ]
    },
    {
     "name": "stderr",
     "output_type": "stream",
     "text": [
      "39991it [02:32, 425.25it/s]"
     ]
    },
    {
     "name": "stdout",
     "output_type": "stream",
     "text": [
      "saved 40000\n"
     ]
    },
    {
     "name": "stderr",
     "output_type": "stream",
     "text": [
      "49973it [03:26, 436.00it/s]"
     ]
    },
    {
     "name": "stdout",
     "output_type": "stream",
     "text": [
      "saved 50000\n"
     ]
    },
    {
     "name": "stderr",
     "output_type": "stream",
     "text": [
      "59942it [04:20, 409.64it/s]"
     ]
    },
    {
     "name": "stdout",
     "output_type": "stream",
     "text": [
      "saved 60000\n"
     ]
    },
    {
     "name": "stderr",
     "output_type": "stream",
     "text": [
      "69947it [05:23, 386.14it/s]"
     ]
    },
    {
     "name": "stdout",
     "output_type": "stream",
     "text": [
      "saved 70000\n"
     ]
    },
    {
     "name": "stderr",
     "output_type": "stream",
     "text": [
      "79973it [06:40, 388.48it/s]"
     ]
    },
    {
     "name": "stdout",
     "output_type": "stream",
     "text": [
      "saved 80000\n"
     ]
    },
    {
     "name": "stderr",
     "output_type": "stream",
     "text": [
      "89963it [07:54, 382.10it/s]"
     ]
    },
    {
     "name": "stdout",
     "output_type": "stream",
     "text": [
      "saved 90000\n"
     ]
    },
    {
     "name": "stderr",
     "output_type": "stream",
     "text": [
      "99991it [09:12, 419.06it/s]"
     ]
    },
    {
     "name": "stdout",
     "output_type": "stream",
     "text": [
      "saved 100000\n"
     ]
    },
    {
     "name": "stderr",
     "output_type": "stream",
     "text": [
      "109963it [10:41, 377.74it/s]"
     ]
    },
    {
     "name": "stdout",
     "output_type": "stream",
     "text": [
      "saved 110000\n"
     ]
    },
    {
     "name": "stderr",
     "output_type": "stream",
     "text": [
      "119995it [12:06, 428.37it/s]"
     ]
    },
    {
     "name": "stdout",
     "output_type": "stream",
     "text": [
      "saved 120000\n"
     ]
    },
    {
     "name": "stderr",
     "output_type": "stream",
     "text": [
      "129997it [13:35, 434.64it/s]"
     ]
    },
    {
     "name": "stdout",
     "output_type": "stream",
     "text": [
      "saved 130000\n"
     ]
    },
    {
     "name": "stderr",
     "output_type": "stream",
     "text": [
      "139975it [15:18, 430.29it/s]"
     ]
    },
    {
     "name": "stdout",
     "output_type": "stream",
     "text": [
      "saved 140000\n"
     ]
    },
    {
     "name": "stderr",
     "output_type": "stream",
     "text": [
      "149948it [16:54, 410.30it/s]"
     ]
    },
    {
     "name": "stdout",
     "output_type": "stream",
     "text": [
      "saved 150000\n"
     ]
    },
    {
     "name": "stderr",
     "output_type": "stream",
     "text": [
      "159989it [18:35, 415.61it/s]"
     ]
    },
    {
     "name": "stdout",
     "output_type": "stream",
     "text": [
      "saved 160000\n"
     ]
    },
    {
     "name": "stderr",
     "output_type": "stream",
     "text": [
      "169981it [20:34, 443.35it/s]"
     ]
    },
    {
     "name": "stdout",
     "output_type": "stream",
     "text": [
      "saved 170000\n"
     ]
    },
    {
     "name": "stderr",
     "output_type": "stream",
     "text": [
      "179999it [22:51, 375.92it/s]"
     ]
    },
    {
     "name": "stdout",
     "output_type": "stream",
     "text": [
      "saved 180000\n"
     ]
    },
    {
     "name": "stderr",
     "output_type": "stream",
     "text": [
      "189981it [24:58, 407.08it/s]"
     ]
    },
    {
     "name": "stdout",
     "output_type": "stream",
     "text": [
      "saved 190000\n"
     ]
    },
    {
     "name": "stderr",
     "output_type": "stream",
     "text": [
      "199953it [27:08, 427.38it/s]"
     ]
    },
    {
     "name": "stdout",
     "output_type": "stream",
     "text": [
      "saved 200000\n"
     ]
    },
    {
     "name": "stderr",
     "output_type": "stream",
     "text": [
      "209991it [29:22, 416.82it/s]"
     ]
    },
    {
     "name": "stdout",
     "output_type": "stream",
     "text": [
      "saved 210000\n"
     ]
    },
    {
     "name": "stderr",
     "output_type": "stream",
     "text": [
      "219976it [31:40, 389.07it/s]"
     ]
    },
    {
     "name": "stdout",
     "output_type": "stream",
     "text": [
      "saved 220000\n"
     ]
    },
    {
     "name": "stderr",
     "output_type": "stream",
     "text": [
      "229975it [34:17, 389.66it/s]"
     ]
    },
    {
     "name": "stdout",
     "output_type": "stream",
     "text": [
      "saved 230000\n"
     ]
    },
    {
     "name": "stderr",
     "output_type": "stream",
     "text": [
      "239966it [36:42, 487.61it/s]"
     ]
    },
    {
     "name": "stdout",
     "output_type": "stream",
     "text": [
      "saved 240000\n"
     ]
    },
    {
     "name": "stderr",
     "output_type": "stream",
     "text": [
      "249996it [39:11, 423.72it/s]"
     ]
    },
    {
     "name": "stdout",
     "output_type": "stream",
     "text": [
      "saved 250000\n"
     ]
    },
    {
     "name": "stderr",
     "output_type": "stream",
     "text": [
      "259990it [41:42, 422.95it/s]"
     ]
    },
    {
     "name": "stdout",
     "output_type": "stream",
     "text": [
      "saved 260000\n"
     ]
    },
    {
     "name": "stderr",
     "output_type": "stream",
     "text": [
      "269995it [44:16, 482.64it/s]"
     ]
    },
    {
     "name": "stdout",
     "output_type": "stream",
     "text": [
      "saved 270000\n"
     ]
    },
    {
     "name": "stderr",
     "output_type": "stream",
     "text": [
      "279954it [46:54, 349.88it/s]"
     ]
    },
    {
     "name": "stdout",
     "output_type": "stream",
     "text": [
      "saved 280000\n"
     ]
    },
    {
     "name": "stderr",
     "output_type": "stream",
     "text": [
      "289967it [49:35, 416.38it/s]"
     ]
    },
    {
     "name": "stdout",
     "output_type": "stream",
     "text": [
      "saved 290000\n"
     ]
    },
    {
     "name": "stderr",
     "output_type": "stream",
     "text": [
      "299981it [52:45, 357.83it/s]"
     ]
    },
    {
     "name": "stdout",
     "output_type": "stream",
     "text": [
      "saved 300000\n"
     ]
    },
    {
     "name": "stderr",
     "output_type": "stream",
     "text": [
      "309961it [55:33, 402.89it/s]"
     ]
    },
    {
     "name": "stdout",
     "output_type": "stream",
     "text": [
      "saved 310000\n"
     ]
    },
    {
     "name": "stderr",
     "output_type": "stream",
     "text": [
      "319961it [58:27, 355.44it/s]"
     ]
    },
    {
     "name": "stdout",
     "output_type": "stream",
     "text": [
      "saved 320000\n"
     ]
    },
    {
     "name": "stderr",
     "output_type": "stream",
     "text": [
      "329986it [1:01:23, 391.55it/s]"
     ]
    },
    {
     "name": "stdout",
     "output_type": "stream",
     "text": [
      "saved 330000\n"
     ]
    },
    {
     "name": "stderr",
     "output_type": "stream",
     "text": [
      "339962it [1:04:23, 449.00it/s]"
     ]
    },
    {
     "name": "stdout",
     "output_type": "stream",
     "text": [
      "saved 340000\n"
     ]
    },
    {
     "name": "stderr",
     "output_type": "stream",
     "text": [
      "349965it [1:07:27, 499.86it/s]"
     ]
    },
    {
     "name": "stdout",
     "output_type": "stream",
     "text": [
      "saved 350000\n"
     ]
    },
    {
     "name": "stderr",
     "output_type": "stream",
     "text": [
      "359990it [1:11:08, 381.47it/s]"
     ]
    },
    {
     "name": "stdout",
     "output_type": "stream",
     "text": [
      "saved 360000\n"
     ]
    },
    {
     "name": "stderr",
     "output_type": "stream",
     "text": [
      "369998it [1:14:52, 376.39it/s]"
     ]
    },
    {
     "name": "stdout",
     "output_type": "stream",
     "text": [
      "saved 370000\n"
     ]
    },
    {
     "name": "stderr",
     "output_type": "stream",
     "text": [
      "379978it [1:18:39, 403.92it/s]"
     ]
    },
    {
     "name": "stdout",
     "output_type": "stream",
     "text": [
      "saved 380000\n"
     ]
    },
    {
     "name": "stderr",
     "output_type": "stream",
     "text": [
      "389991it [1:22:58, 422.80it/s]"
     ]
    },
    {
     "name": "stdout",
     "output_type": "stream",
     "text": [
      "saved 390000\n"
     ]
    },
    {
     "name": "stderr",
     "output_type": "stream",
     "text": [
      "399994it [1:26:52, 366.63it/s]"
     ]
    },
    {
     "name": "stdout",
     "output_type": "stream",
     "text": [
      "saved 400000\n"
     ]
    },
    {
     "name": "stderr",
     "output_type": "stream",
     "text": [
      "409971it [1:30:49, 420.89it/s]"
     ]
    },
    {
     "name": "stdout",
     "output_type": "stream",
     "text": [
      "saved 410000\n"
     ]
    },
    {
     "name": "stderr",
     "output_type": "stream",
     "text": [
      "419998it [1:34:51, 430.12it/s]"
     ]
    },
    {
     "name": "stdout",
     "output_type": "stream",
     "text": [
      "saved 420000\n"
     ]
    },
    {
     "name": "stderr",
     "output_type": "stream",
     "text": [
      "429993it [1:38:55, 412.34it/s]"
     ]
    },
    {
     "name": "stdout",
     "output_type": "stream",
     "text": [
      "saved 430000\n"
     ]
    },
    {
     "name": "stderr",
     "output_type": "stream",
     "text": [
      "439966it [1:43:03, 424.89it/s]"
     ]
    },
    {
     "name": "stdout",
     "output_type": "stream",
     "text": [
      "saved 440000\n"
     ]
    },
    {
     "name": "stderr",
     "output_type": "stream",
     "text": [
      "450000it [1:47:16, 425.27it/s]"
     ]
    },
    {
     "name": "stdout",
     "output_type": "stream",
     "text": [
      "saved 450000\n"
     ]
    },
    {
     "name": "stderr",
     "output_type": "stream",
     "text": [
      "459967it [1:51:30, 420.57it/s]"
     ]
    },
    {
     "name": "stdout",
     "output_type": "stream",
     "text": [
      "saved 460000\n"
     ]
    },
    {
     "name": "stderr",
     "output_type": "stream",
     "text": [
      "469973it [1:55:50, 338.05it/s]"
     ]
    },
    {
     "name": "stdout",
     "output_type": "stream",
     "text": [
      "saved 470000\n"
     ]
    },
    {
     "name": "stderr",
     "output_type": "stream",
     "text": [
      "479990it [2:00:12, 381.48it/s]"
     ]
    },
    {
     "name": "stdout",
     "output_type": "stream",
     "text": [
      "saved 480000\n"
     ]
    },
    {
     "name": "stderr",
     "output_type": "stream",
     "text": [
      "489975it [2:04:40, 399.22it/s]"
     ]
    },
    {
     "name": "stdout",
     "output_type": "stream",
     "text": [
      "saved 490000\n"
     ]
    },
    {
     "name": "stderr",
     "output_type": "stream",
     "text": [
      "499986it [2:09:47, 457.07it/s]"
     ]
    },
    {
     "name": "stdout",
     "output_type": "stream",
     "text": [
      "saved 500000\n"
     ]
    },
    {
     "name": "stderr",
     "output_type": "stream",
     "text": [
      "509963it [2:14:20, 427.32it/s]"
     ]
    },
    {
     "name": "stdout",
     "output_type": "stream",
     "text": [
      "saved 510000\n"
     ]
    },
    {
     "name": "stderr",
     "output_type": "stream",
     "text": [
      "519980it [2:18:56, 383.73it/s]"
     ]
    },
    {
     "name": "stdout",
     "output_type": "stream",
     "text": [
      "saved 520000\n"
     ]
    },
    {
     "name": "stderr",
     "output_type": "stream",
     "text": [
      "529969it [2:23:38, 462.02it/s]"
     ]
    },
    {
     "name": "stdout",
     "output_type": "stream",
     "text": [
      "saved 530000\n"
     ]
    },
    {
     "name": "stderr",
     "output_type": "stream",
     "text": [
      "539951it [2:28:24, 383.87it/s]"
     ]
    },
    {
     "name": "stdout",
     "output_type": "stream",
     "text": [
      "saved 540000\n"
     ]
    },
    {
     "name": "stderr",
     "output_type": "stream",
     "text": [
      "549960it [2:33:21, 352.72it/s]"
     ]
    },
    {
     "name": "stdout",
     "output_type": "stream",
     "text": [
      "saved 550000\n"
     ]
    },
    {
     "name": "stderr",
     "output_type": "stream",
     "text": [
      "559973it [2:38:23, 362.71it/s]"
     ]
    },
    {
     "name": "stdout",
     "output_type": "stream",
     "text": [
      "saved 560000\n"
     ]
    },
    {
     "name": "stderr",
     "output_type": "stream",
     "text": [
      "569957it [2:43:27, 384.51it/s]"
     ]
    },
    {
     "name": "stdout",
     "output_type": "stream",
     "text": [
      "saved 570000\n"
     ]
    },
    {
     "name": "stderr",
     "output_type": "stream",
     "text": [
      "579999it [2:48:34, 364.61it/s]"
     ]
    },
    {
     "name": "stdout",
     "output_type": "stream",
     "text": [
      "saved 580000\n"
     ]
    },
    {
     "name": "stderr",
     "output_type": "stream",
     "text": [
      "589984it [2:53:45, 410.74it/s]"
     ]
    },
    {
     "name": "stdout",
     "output_type": "stream",
     "text": [
      "saved 590000\n"
     ]
    },
    {
     "name": "stderr",
     "output_type": "stream",
     "text": [
      "599999it [2:59:02, 449.34it/s]"
     ]
    },
    {
     "name": "stdout",
     "output_type": "stream",
     "text": [
      "saved 600000\n"
     ]
    },
    {
     "name": "stderr",
     "output_type": "stream",
     "text": [
      "609983it [3:04:21, 401.77it/s]"
     ]
    },
    {
     "name": "stdout",
     "output_type": "stream",
     "text": [
      "saved 610000\n"
     ]
    },
    {
     "name": "stderr",
     "output_type": "stream",
     "text": [
      "619971it [3:09:43, 472.98it/s]"
     ]
    },
    {
     "name": "stdout",
     "output_type": "stream",
     "text": [
      "saved 620000\n"
     ]
    },
    {
     "name": "stderr",
     "output_type": "stream",
     "text": [
      "629975it [3:15:09, 369.45it/s]"
     ]
    },
    {
     "name": "stdout",
     "output_type": "stream",
     "text": [
      "saved 630000\n"
     ]
    },
    {
     "name": "stderr",
     "output_type": "stream",
     "text": [
      "639986it [3:20:42, 397.25it/s]"
     ]
    },
    {
     "name": "stdout",
     "output_type": "stream",
     "text": [
      "saved 640000\n"
     ]
    },
    {
     "name": "stderr",
     "output_type": "stream",
     "text": [
      "649966it [3:26:20, 356.49it/s]"
     ]
    },
    {
     "name": "stdout",
     "output_type": "stream",
     "text": [
      "saved 650000\n"
     ]
    },
    {
     "name": "stderr",
     "output_type": "stream",
     "text": [
      "659962it [3:32:49, 379.85it/s]"
     ]
    },
    {
     "name": "stdout",
     "output_type": "stream",
     "text": [
      "saved 660000\n"
     ]
    },
    {
     "name": "stderr",
     "output_type": "stream",
     "text": [
      "669972it [3:38:33, 423.40it/s]"
     ]
    },
    {
     "name": "stdout",
     "output_type": "stream",
     "text": [
      "saved 670000\n"
     ]
    },
    {
     "name": "stderr",
     "output_type": "stream",
     "text": [
      "679962it [3:44:22, 420.29it/s]"
     ]
    },
    {
     "name": "stdout",
     "output_type": "stream",
     "text": [
      "saved 680000\n"
     ]
    },
    {
     "name": "stderr",
     "output_type": "stream",
     "text": [
      "689977it [3:50:16, 398.03it/s]"
     ]
    },
    {
     "name": "stdout",
     "output_type": "stream",
     "text": [
      "saved 690000\n"
     ]
    },
    {
     "name": "stderr",
     "output_type": "stream",
     "text": [
      "699959it [3:56:12, 424.34it/s]"
     ]
    },
    {
     "name": "stdout",
     "output_type": "stream",
     "text": [
      "saved 700000\n"
     ]
    },
    {
     "name": "stderr",
     "output_type": "stream",
     "text": [
      "709980it [4:02:11, 417.31it/s]"
     ]
    },
    {
     "name": "stdout",
     "output_type": "stream",
     "text": [
      "saved 710000\n"
     ]
    },
    {
     "name": "stderr",
     "output_type": "stream",
     "text": [
      "719994it [4:08:15, 402.55it/s]"
     ]
    },
    {
     "name": "stdout",
     "output_type": "stream",
     "text": [
      "saved 720000\n"
     ]
    },
    {
     "name": "stderr",
     "output_type": "stream",
     "text": [
      "729992it [4:14:22, 382.25it/s]"
     ]
    },
    {
     "name": "stdout",
     "output_type": "stream",
     "text": [
      "saved 730000\n"
     ]
    },
    {
     "name": "stderr",
     "output_type": "stream",
     "text": [
      "739999it [4:20:31, 335.39it/s]"
     ]
    },
    {
     "name": "stdout",
     "output_type": "stream",
     "text": [
      "saved 740000\n"
     ]
    },
    {
     "name": "stderr",
     "output_type": "stream",
     "text": [
      "749994it [4:26:47, 464.03it/s]"
     ]
    },
    {
     "name": "stdout",
     "output_type": "stream",
     "text": [
      "saved 750000\n"
     ]
    },
    {
     "name": "stderr",
     "output_type": "stream",
     "text": [
      "759989it [4:33:05, 398.70it/s]"
     ]
    },
    {
     "name": "stdout",
     "output_type": "stream",
     "text": [
      "saved 760000\n"
     ]
    },
    {
     "name": "stderr",
     "output_type": "stream",
     "text": [
      "769979it [4:39:28, 380.09it/s]"
     ]
    },
    {
     "name": "stdout",
     "output_type": "stream",
     "text": [
      "saved 770000\n"
     ]
    },
    {
     "name": "stderr",
     "output_type": "stream",
     "text": [
      "779988it [4:45:50, 393.04it/s]"
     ]
    },
    {
     "name": "stdout",
     "output_type": "stream",
     "text": [
      "saved 780000\n"
     ]
    },
    {
     "name": "stderr",
     "output_type": "stream",
     "text": [
      "789988it [4:52:16, 452.74it/s]"
     ]
    },
    {
     "name": "stdout",
     "output_type": "stream",
     "text": [
      "saved 790000\n"
     ]
    },
    {
     "name": "stderr",
     "output_type": "stream",
     "text": [
      "799959it [4:58:47, 471.61it/s]"
     ]
    },
    {
     "name": "stdout",
     "output_type": "stream",
     "text": [
      "saved 800000\n"
     ]
    },
    {
     "name": "stderr",
     "output_type": "stream",
     "text": [
      "809965it [5:05:23, 378.02it/s]"
     ]
    },
    {
     "name": "stdout",
     "output_type": "stream",
     "text": [
      "saved 810000\n"
     ]
    },
    {
     "name": "stderr",
     "output_type": "stream",
     "text": [
      "819972it [5:13:18, 365.61it/s]"
     ]
    },
    {
     "name": "stdout",
     "output_type": "stream",
     "text": [
      "saved 820000\n"
     ]
    },
    {
     "name": "stderr",
     "output_type": "stream",
     "text": [
      "829955it [5:21:16, 368.19it/s]"
     ]
    },
    {
     "name": "stdout",
     "output_type": "stream",
     "text": [
      "saved 830000\n"
     ]
    },
    {
     "name": "stderr",
     "output_type": "stream",
     "text": [
      "839987it [5:29:17, 413.90it/s]"
     ]
    },
    {
     "name": "stdout",
     "output_type": "stream",
     "text": [
      "saved 840000\n"
     ]
    },
    {
     "name": "stderr",
     "output_type": "stream",
     "text": [
      "849975it [5:37:17, 319.09it/s]"
     ]
    },
    {
     "name": "stdout",
     "output_type": "stream",
     "text": [
      "saved 850000\n"
     ]
    },
    {
     "name": "stderr",
     "output_type": "stream",
     "text": [
      "859978it [5:45:22, 471.15it/s]"
     ]
    },
    {
     "name": "stdout",
     "output_type": "stream",
     "text": [
      "saved 860000\n"
     ]
    },
    {
     "name": "stderr",
     "output_type": "stream",
     "text": [
      "869981it [5:54:30, 424.20it/s]"
     ]
    },
    {
     "name": "stdout",
     "output_type": "stream",
     "text": [
      "saved 870000\n"
     ]
    },
    {
     "name": "stderr",
     "output_type": "stream",
     "text": [
      "879971it [6:02:37, 403.54it/s]"
     ]
    },
    {
     "name": "stdout",
     "output_type": "stream",
     "text": [
      "saved 880000\n"
     ]
    },
    {
     "name": "stderr",
     "output_type": "stream",
     "text": [
      "889967it [6:10:50, 420.56it/s]"
     ]
    },
    {
     "name": "stdout",
     "output_type": "stream",
     "text": [
      "saved 890000\n"
     ]
    },
    {
     "name": "stderr",
     "output_type": "stream",
     "text": [
      "899990it [6:19:05, 460.64it/s]"
     ]
    },
    {
     "name": "stdout",
     "output_type": "stream",
     "text": [
      "saved 900000\n"
     ]
    },
    {
     "name": "stderr",
     "output_type": "stream",
     "text": [
      "909999it [6:27:20, 453.90it/s]"
     ]
    },
    {
     "name": "stdout",
     "output_type": "stream",
     "text": [
      "saved 910000\n"
     ]
    },
    {
     "name": "stderr",
     "output_type": "stream",
     "text": [
      "919977it [6:35:36, 394.20it/s]"
     ]
    },
    {
     "name": "stdout",
     "output_type": "stream",
     "text": [
      "saved 920000\n"
     ]
    },
    {
     "name": "stderr",
     "output_type": "stream",
     "text": [
      "929987it [6:44:01, 427.18it/s]"
     ]
    },
    {
     "name": "stdout",
     "output_type": "stream",
     "text": [
      "saved 930000\n"
     ]
    },
    {
     "name": "stderr",
     "output_type": "stream",
     "text": [
      "939970it [6:52:26, 375.81it/s]"
     ]
    },
    {
     "name": "stdout",
     "output_type": "stream",
     "text": [
      "saved 940000\n"
     ]
    },
    {
     "name": "stderr",
     "output_type": "stream",
     "text": [
      "949975it [7:00:52, 315.40it/s]"
     ]
    },
    {
     "name": "stdout",
     "output_type": "stream",
     "text": [
      "saved 950000\n"
     ]
    },
    {
     "name": "stderr",
     "output_type": "stream",
     "text": [
      "959980it [7:09:21, 365.35it/s]"
     ]
    },
    {
     "name": "stdout",
     "output_type": "stream",
     "text": [
      "saved 960000\n"
     ]
    },
    {
     "name": "stderr",
     "output_type": "stream",
     "text": [
      "969993it [7:17:59, 372.69it/s]"
     ]
    },
    {
     "name": "stdout",
     "output_type": "stream",
     "text": [
      "saved 970000\n"
     ]
    },
    {
     "name": "stderr",
     "output_type": "stream",
     "text": [
      "979961it [7:26:38, 429.93it/s]"
     ]
    },
    {
     "name": "stdout",
     "output_type": "stream",
     "text": [
      "saved 980000\n"
     ]
    },
    {
     "name": "stderr",
     "output_type": "stream",
     "text": [
      "989966it [7:35:21, 375.65it/s]"
     ]
    },
    {
     "name": "stdout",
     "output_type": "stream",
     "text": [
      "saved 990000\n"
     ]
    },
    {
     "name": "stderr",
     "output_type": "stream",
     "text": [
      "999987it [7:44:02, 436.40it/s]"
     ]
    },
    {
     "name": "stdout",
     "output_type": "stream",
     "text": [
      "saved 1000000\n"
     ]
    },
    {
     "name": "stderr",
     "output_type": "stream",
     "text": [
      "1009992it [7:52:47, 388.33it/s]"
     ]
    },
    {
     "name": "stdout",
     "output_type": "stream",
     "text": [
      "saved 1010000\n"
     ]
    },
    {
     "name": "stderr",
     "output_type": "stream",
     "text": [
      "1019959it [8:01:36, 402.00it/s]"
     ]
    },
    {
     "name": "stdout",
     "output_type": "stream",
     "text": [
      "saved 1020000\n"
     ]
    },
    {
     "name": "stderr",
     "output_type": "stream",
     "text": [
      "1029961it [8:10:29, 379.60it/s]"
     ]
    },
    {
     "name": "stdout",
     "output_type": "stream",
     "text": [
      "saved 1030000\n"
     ]
    },
    {
     "name": "stderr",
     "output_type": "stream",
     "text": [
      "1039953it [8:19:27, 359.21it/s]"
     ]
    },
    {
     "name": "stdout",
     "output_type": "stream",
     "text": [
      "saved 1040000\n"
     ]
    },
    {
     "name": "stderr",
     "output_type": "stream",
     "text": [
      "1049996it [8:28:28, 352.48it/s]"
     ]
    },
    {
     "name": "stdout",
     "output_type": "stream",
     "text": [
      "saved 1050000\n"
     ]
    },
    {
     "name": "stderr",
     "output_type": "stream",
     "text": [
      "1059994it [8:37:32, 366.51it/s]"
     ]
    },
    {
     "name": "stdout",
     "output_type": "stream",
     "text": [
      "saved 1060000\n"
     ]
    },
    {
     "name": "stderr",
     "output_type": "stream",
     "text": [
      "1069966it [8:46:37, 423.82it/s]"
     ]
    },
    {
     "name": "stdout",
     "output_type": "stream",
     "text": [
      "saved 1070000\n"
     ]
    },
    {
     "name": "stderr",
     "output_type": "stream",
     "text": [
      "1079977it [8:55:44, 416.29it/s]"
     ]
    },
    {
     "name": "stdout",
     "output_type": "stream",
     "text": [
      "saved 1080000\n"
     ]
    },
    {
     "name": "stderr",
     "output_type": "stream",
     "text": [
      "1089966it [9:04:59, 425.51it/s]"
     ]
    },
    {
     "name": "stdout",
     "output_type": "stream",
     "text": [
      "saved 1090000\n"
     ]
    },
    {
     "name": "stderr",
     "output_type": "stream",
     "text": [
      "1099942it [9:14:13, 364.11it/s]"
     ]
    },
    {
     "name": "stdout",
     "output_type": "stream",
     "text": [
      "saved 1100000\n"
     ]
    },
    {
     "name": "stderr",
     "output_type": "stream",
     "text": [
      "1110000it [9:23:29, 400.79it/s]"
     ]
    },
    {
     "name": "stdout",
     "output_type": "stream",
     "text": [
      "saved 1110000\n"
     ]
    },
    {
     "name": "stderr",
     "output_type": "stream",
     "text": [
      "1119977it [9:32:51, 400.11it/s]"
     ]
    },
    {
     "name": "stdout",
     "output_type": "stream",
     "text": [
      "saved 1120000\n"
     ]
    },
    {
     "name": "stderr",
     "output_type": "stream",
     "text": [
      "1129974it [9:42:19, 388.64it/s]"
     ]
    },
    {
     "name": "stdout",
     "output_type": "stream",
     "text": [
      "saved 1130000\n"
     ]
    },
    {
     "name": "stderr",
     "output_type": "stream",
     "text": [
      "1139969it [9:51:42, 394.23it/s]"
     ]
    },
    {
     "name": "stdout",
     "output_type": "stream",
     "text": [
      "saved 1140000\n"
     ]
    },
    {
     "name": "stderr",
     "output_type": "stream",
     "text": [
      "1149967it [10:01:11, 416.22it/s]"
     ]
    },
    {
     "name": "stdout",
     "output_type": "stream",
     "text": [
      "saved 1150000\n"
     ]
    },
    {
     "name": "stderr",
     "output_type": "stream",
     "text": [
      "1159973it [10:12:04, 372.49it/s]"
     ]
    },
    {
     "name": "stdout",
     "output_type": "stream",
     "text": [
      "saved 1160000\n"
     ]
    },
    {
     "name": "stderr",
     "output_type": "stream",
     "text": [
      "1170000it [10:21:36, 474.30it/s]"
     ]
    },
    {
     "name": "stdout",
     "output_type": "stream",
     "text": [
      "saved 1170000\n"
     ]
    },
    {
     "name": "stderr",
     "output_type": "stream",
     "text": [
      "1179949it [10:31:03, 560.15it/s]"
     ]
    },
    {
     "name": "stdout",
     "output_type": "stream",
     "text": [
      "saved 1180000\n"
     ]
    },
    {
     "name": "stderr",
     "output_type": "stream",
     "text": [
      "1189974it [10:40:31, 403.18it/s]"
     ]
    },
    {
     "name": "stdout",
     "output_type": "stream",
     "text": [
      "saved 1190000\n"
     ]
    },
    {
     "name": "stderr",
     "output_type": "stream",
     "text": [
      "1199969it [10:50:02, 415.50it/s]"
     ]
    },
    {
     "name": "stdout",
     "output_type": "stream",
     "text": [
      "saved 1200000\n"
     ]
    },
    {
     "name": "stderr",
     "output_type": "stream",
     "text": [
      "1209989it [10:59:35, 452.36it/s]"
     ]
    },
    {
     "name": "stdout",
     "output_type": "stream",
     "text": [
      "saved 1210000\n"
     ]
    },
    {
     "name": "stderr",
     "output_type": "stream",
     "text": [
      "1219957it [11:09:13, 431.08it/s]"
     ]
    },
    {
     "name": "stdout",
     "output_type": "stream",
     "text": [
      "saved 1220000\n"
     ]
    },
    {
     "name": "stderr",
     "output_type": "stream",
     "text": [
      "1229985it [11:18:59, 348.64it/s]"
     ]
    },
    {
     "name": "stdout",
     "output_type": "stream",
     "text": [
      "saved 1230000\n"
     ]
    },
    {
     "name": "stderr",
     "output_type": "stream",
     "text": [
      "1239976it [11:28:43, 358.37it/s]"
     ]
    },
    {
     "name": "stdout",
     "output_type": "stream",
     "text": [
      "saved 1240000\n"
     ]
    },
    {
     "name": "stderr",
     "output_type": "stream",
     "text": [
      "1249963it [11:38:27, 393.44it/s]"
     ]
    },
    {
     "name": "stdout",
     "output_type": "stream",
     "text": [
      "saved 1250000\n"
     ]
    },
    {
     "name": "stderr",
     "output_type": "stream",
     "text": [
      "1259955it [11:48:19, 428.80it/s]"
     ]
    },
    {
     "name": "stdout",
     "output_type": "stream",
     "text": [
      "saved 1260000\n"
     ]
    },
    {
     "name": "stderr",
     "output_type": "stream",
     "text": [
      "1269991it [11:58:13, 412.91it/s]"
     ]
    },
    {
     "name": "stdout",
     "output_type": "stream",
     "text": [
      "saved 1270000\n"
     ]
    },
    {
     "name": "stderr",
     "output_type": "stream",
     "text": [
      "1279995it [12:08:08, 447.21it/s]"
     ]
    },
    {
     "name": "stdout",
     "output_type": "stream",
     "text": [
      "saved 1280000\n"
     ]
    },
    {
     "name": "stderr",
     "output_type": "stream",
     "text": [
      "1289980it [12:18:07, 459.26it/s]"
     ]
    },
    {
     "name": "stdout",
     "output_type": "stream",
     "text": [
      "saved 1290000\n"
     ]
    },
    {
     "name": "stderr",
     "output_type": "stream",
     "text": [
      "1299992it [12:28:06, 395.18it/s]"
     ]
    },
    {
     "name": "stdout",
     "output_type": "stream",
     "text": [
      "saved 1300000\n"
     ]
    },
    {
     "name": "stderr",
     "output_type": "stream",
     "text": [
      "1309969it [12:38:10, 349.86it/s]"
     ]
    },
    {
     "name": "stdout",
     "output_type": "stream",
     "text": [
      "saved 1310000\n"
     ]
    },
    {
     "name": "stderr",
     "output_type": "stream",
     "text": [
      "1319970it [12:48:18, 453.04it/s]"
     ]
    },
    {
     "name": "stdout",
     "output_type": "stream",
     "text": [
      "saved 1320000\n"
     ]
    },
    {
     "name": "stderr",
     "output_type": "stream",
     "text": [
      "1329990it [12:58:29, 426.84it/s]"
     ]
    },
    {
     "name": "stdout",
     "output_type": "stream",
     "text": [
      "saved 1330000\n"
     ]
    },
    {
     "name": "stderr",
     "output_type": "stream",
     "text": [
      "1339954it [13:08:43, 463.37it/s]"
     ]
    },
    {
     "name": "stdout",
     "output_type": "stream",
     "text": [
      "saved 1340000\n"
     ]
    },
    {
     "name": "stderr",
     "output_type": "stream",
     "text": [
      "1349963it [13:19:01, 400.53it/s]"
     ]
    },
    {
     "name": "stdout",
     "output_type": "stream",
     "text": [
      "saved 1350000\n"
     ]
    },
    {
     "name": "stderr",
     "output_type": "stream",
     "text": [
      "1359967it [13:29:20, 490.10it/s]"
     ]
    },
    {
     "name": "stdout",
     "output_type": "stream",
     "text": [
      "saved 1360000\n"
     ]
    },
    {
     "name": "stderr",
     "output_type": "stream",
     "text": [
      "1369993it [13:39:40, 381.12it/s]"
     ]
    },
    {
     "name": "stdout",
     "output_type": "stream",
     "text": [
      "saved 1370000\n"
     ]
    },
    {
     "name": "stderr",
     "output_type": "stream",
     "text": [
      "1379974it [13:50:09, 366.00it/s]"
     ]
    },
    {
     "name": "stdout",
     "output_type": "stream",
     "text": [
      "saved 1380000\n"
     ]
    },
    {
     "name": "stderr",
     "output_type": "stream",
     "text": [
      "1389997it [14:00:36, 349.50it/s]"
     ]
    },
    {
     "name": "stdout",
     "output_type": "stream",
     "text": [
      "saved 1390000\n"
     ]
    },
    {
     "name": "stderr",
     "output_type": "stream",
     "text": [
      "1399991it [14:11:07, 429.51it/s]"
     ]
    },
    {
     "name": "stdout",
     "output_type": "stream",
     "text": [
      "saved 1400000\n"
     ]
    },
    {
     "name": "stderr",
     "output_type": "stream",
     "text": [
      "1409966it [14:21:40, 353.03it/s]"
     ]
    },
    {
     "name": "stdout",
     "output_type": "stream",
     "text": [
      "saved 1410000\n"
     ]
    },
    {
     "name": "stderr",
     "output_type": "stream",
     "text": [
      "1419976it [14:32:18, 434.63it/s]"
     ]
    },
    {
     "name": "stdout",
     "output_type": "stream",
     "text": [
      "saved 1420000\n"
     ]
    },
    {
     "name": "stderr",
     "output_type": "stream",
     "text": [
      "1429984it [14:42:58, 390.68it/s]"
     ]
    },
    {
     "name": "stdout",
     "output_type": "stream",
     "text": [
      "saved 1430000\n"
     ]
    },
    {
     "name": "stderr",
     "output_type": "stream",
     "text": [
      "1439977it [14:53:41, 428.28it/s]"
     ]
    },
    {
     "name": "stdout",
     "output_type": "stream",
     "text": [
      "saved 1440000\n"
     ]
    },
    {
     "name": "stderr",
     "output_type": "stream",
     "text": [
      "1449992it [15:04:35, 396.01it/s]"
     ]
    },
    {
     "name": "stdout",
     "output_type": "stream",
     "text": [
      "saved 1450000\n"
     ]
    },
    {
     "name": "stderr",
     "output_type": "stream",
     "text": [
      "1459949it [15:15:26, 395.88it/s]"
     ]
    },
    {
     "name": "stdout",
     "output_type": "stream",
     "text": [
      "saved 1460000\n"
     ]
    },
    {
     "name": "stderr",
     "output_type": "stream",
     "text": [
      "1469979it [15:26:27, 429.35it/s]"
     ]
    },
    {
     "name": "stdout",
     "output_type": "stream",
     "text": [
      "saved 1470000\n"
     ]
    },
    {
     "name": "stderr",
     "output_type": "stream",
     "text": [
      "1479997it [15:37:23, 428.01it/s]"
     ]
    },
    {
     "name": "stdout",
     "output_type": "stream",
     "text": [
      "saved 1480000\n"
     ]
    },
    {
     "name": "stderr",
     "output_type": "stream",
     "text": [
      "1489989it [15:48:21, 384.03it/s]"
     ]
    },
    {
     "name": "stdout",
     "output_type": "stream",
     "text": [
      "saved 1490000\n"
     ]
    },
    {
     "name": "stderr",
     "output_type": "stream",
     "text": [
      "1499950it [15:59:21, 440.48it/s]"
     ]
    },
    {
     "name": "stdout",
     "output_type": "stream",
     "text": [
      "saved 1500000\n"
     ]
    },
    {
     "name": "stderr",
     "output_type": "stream",
     "text": [
      "1509996it [16:10:24, 405.80it/s]"
     ]
    },
    {
     "name": "stdout",
     "output_type": "stream",
     "text": [
      "saved 1510000\n"
     ]
    },
    {
     "name": "stderr",
     "output_type": "stream",
     "text": [
      "1519987it [16:21:31, 435.06it/s]"
     ]
    },
    {
     "name": "stdout",
     "output_type": "stream",
     "text": [
      "saved 1520000\n"
     ]
    },
    {
     "name": "stderr",
     "output_type": "stream",
     "text": [
      "1529956it [16:32:42, 451.65it/s]"
     ]
    },
    {
     "name": "stdout",
     "output_type": "stream",
     "text": [
      "saved 1530000\n"
     ]
    },
    {
     "name": "stderr",
     "output_type": "stream",
     "text": [
      "1539973it [16:45:40, 428.28it/s]"
     ]
    },
    {
     "name": "stdout",
     "output_type": "stream",
     "text": [
      "saved 1540000\n"
     ]
    },
    {
     "name": "stderr",
     "output_type": "stream",
     "text": [
      "1549991it [16:56:58, 445.40it/s]"
     ]
    },
    {
     "name": "stdout",
     "output_type": "stream",
     "text": [
      "saved 1550000\n"
     ]
    },
    {
     "name": "stderr",
     "output_type": "stream",
     "text": [
      "1559997it [17:08:20, 422.97it/s]"
     ]
    },
    {
     "name": "stdout",
     "output_type": "stream",
     "text": [
      "saved 1560000\n"
     ]
    },
    {
     "name": "stderr",
     "output_type": "stream",
     "text": [
      "1569968it [17:19:42, 383.12it/s]"
     ]
    },
    {
     "name": "stdout",
     "output_type": "stream",
     "text": [
      "saved 1570000\n"
     ]
    },
    {
     "name": "stderr",
     "output_type": "stream",
     "text": [
      "1579994it [17:31:09, 453.63it/s]"
     ]
    },
    {
     "name": "stdout",
     "output_type": "stream",
     "text": [
      "saved 1580000\n"
     ]
    },
    {
     "name": "stderr",
     "output_type": "stream",
     "text": [
      "1589951it [17:42:40, 497.08it/s]"
     ]
    },
    {
     "name": "stdout",
     "output_type": "stream",
     "text": [
      "saved 1590000\n"
     ]
    },
    {
     "name": "stderr",
     "output_type": "stream",
     "text": [
      "1599997it [17:54:13, 438.64it/s]"
     ]
    },
    {
     "name": "stdout",
     "output_type": "stream",
     "text": [
      "saved 1600000\n"
     ]
    },
    {
     "name": "stderr",
     "output_type": "stream",
     "text": [
      "1609967it [18:05:50, 389.17it/s]"
     ]
    },
    {
     "name": "stdout",
     "output_type": "stream",
     "text": [
      "saved 1610000\n"
     ]
    },
    {
     "name": "stderr",
     "output_type": "stream",
     "text": [
      "1619970it [18:17:30, 508.80it/s]"
     ]
    },
    {
     "name": "stdout",
     "output_type": "stream",
     "text": [
      "saved 1620000\n"
     ]
    },
    {
     "name": "stderr",
     "output_type": "stream",
     "text": [
      "1629983it [18:29:11, 394.36it/s]"
     ]
    },
    {
     "name": "stdout",
     "output_type": "stream",
     "text": [
      "saved 1630000\n"
     ]
    },
    {
     "name": "stderr",
     "output_type": "stream",
     "text": [
      "1639980it [18:40:57, 442.17it/s]"
     ]
    },
    {
     "name": "stdout",
     "output_type": "stream",
     "text": [
      "saved 1640000\n"
     ]
    },
    {
     "name": "stderr",
     "output_type": "stream",
     "text": [
      "1649996it [18:52:44, 380.87it/s]"
     ]
    },
    {
     "name": "stdout",
     "output_type": "stream",
     "text": [
      "saved 1650000\n"
     ]
    },
    {
     "name": "stderr",
     "output_type": "stream",
     "text": [
      "1659987it [19:04:42, 403.76it/s]"
     ]
    },
    {
     "name": "stdout",
     "output_type": "stream",
     "text": [
      "saved 1660000\n"
     ]
    },
    {
     "name": "stderr",
     "output_type": "stream",
     "text": [
      "1669958it [19:16:39, 409.43it/s]"
     ]
    },
    {
     "name": "stdout",
     "output_type": "stream",
     "text": [
      "saved 1670000\n"
     ]
    },
    {
     "name": "stderr",
     "output_type": "stream",
     "text": [
      "1680000it [19:28:36, 429.44it/s]"
     ]
    },
    {
     "name": "stdout",
     "output_type": "stream",
     "text": [
      "saved 1680000\n"
     ]
    },
    {
     "name": "stderr",
     "output_type": "stream",
     "text": [
      "1689978it [19:40:33, 412.59it/s]"
     ]
    },
    {
     "name": "stdout",
     "output_type": "stream",
     "text": [
      "saved 1690000\n"
     ]
    },
    {
     "name": "stderr",
     "output_type": "stream",
     "text": [
      "1699980it [19:52:40, 383.48it/s]"
     ]
    },
    {
     "name": "stdout",
     "output_type": "stream",
     "text": [
      "saved 1700000\n"
     ]
    },
    {
     "name": "stderr",
     "output_type": "stream",
     "text": [
      "1709962it [20:04:50, 412.45it/s]"
     ]
    },
    {
     "name": "stdout",
     "output_type": "stream",
     "text": [
      "saved 1710000\n"
     ]
    },
    {
     "name": "stderr",
     "output_type": "stream",
     "text": [
      "1719979it [20:17:00, 395.72it/s]"
     ]
    },
    {
     "name": "stdout",
     "output_type": "stream",
     "text": [
      "saved 1720000\n"
     ]
    },
    {
     "name": "stderr",
     "output_type": "stream",
     "text": [
      "1729961it [20:29:16, 351.61it/s]"
     ]
    },
    {
     "name": "stdout",
     "output_type": "stream",
     "text": [
      "saved 1730000\n"
     ]
    },
    {
     "name": "stderr",
     "output_type": "stream",
     "text": [
      "1739972it [20:41:28, 427.53it/s]"
     ]
    },
    {
     "name": "stdout",
     "output_type": "stream",
     "text": [
      "saved 1740000\n"
     ]
    },
    {
     "name": "stderr",
     "output_type": "stream",
     "text": [
      "1749970it [20:53:48, 402.60it/s]"
     ]
    },
    {
     "name": "stdout",
     "output_type": "stream",
     "text": [
      "saved 1750000\n"
     ]
    },
    {
     "name": "stderr",
     "output_type": "stream",
     "text": [
      "1759969it [21:06:05, 356.49it/s]"
     ]
    },
    {
     "name": "stdout",
     "output_type": "stream",
     "text": [
      "saved 1760000\n"
     ]
    },
    {
     "name": "stderr",
     "output_type": "stream",
     "text": [
      "1769960it [21:18:30, 394.16it/s]"
     ]
    },
    {
     "name": "stdout",
     "output_type": "stream",
     "text": [
      "saved 1770000\n"
     ]
    },
    {
     "name": "stderr",
     "output_type": "stream",
     "text": [
      "1779960it [21:31:02, 435.94it/s]"
     ]
    },
    {
     "name": "stdout",
     "output_type": "stream",
     "text": [
      "saved 1780000\n"
     ]
    },
    {
     "name": "stderr",
     "output_type": "stream",
     "text": [
      "1789995it [21:43:40, 437.59it/s]"
     ]
    },
    {
     "name": "stdout",
     "output_type": "stream",
     "text": [
      "saved 1790000\n"
     ]
    },
    {
     "name": "stderr",
     "output_type": "stream",
     "text": [
      "1799963it [21:56:20, 392.34it/s]"
     ]
    },
    {
     "name": "stdout",
     "output_type": "stream",
     "text": [
      "saved 1800000\n"
     ]
    },
    {
     "name": "stderr",
     "output_type": "stream",
     "text": [
      "1809999it [22:09:32, 513.74it/s]"
     ]
    },
    {
     "name": "stdout",
     "output_type": "stream",
     "text": [
      "saved 1810000\n"
     ]
    },
    {
     "name": "stderr",
     "output_type": "stream",
     "text": [
      "1819951it [22:22:37, 412.97it/s]"
     ]
    },
    {
     "name": "stdout",
     "output_type": "stream",
     "text": [
      "saved 1820000\n"
     ]
    },
    {
     "name": "stderr",
     "output_type": "stream",
     "text": [
      "1829976it [22:35:46, 419.42it/s]"
     ]
    },
    {
     "name": "stdout",
     "output_type": "stream",
     "text": [
      "saved 1830000\n"
     ]
    },
    {
     "name": "stderr",
     "output_type": "stream",
     "text": [
      "1839977it [22:49:26, 422.40it/s]"
     ]
    },
    {
     "name": "stdout",
     "output_type": "stream",
     "text": [
      "saved 1840000\n"
     ]
    },
    {
     "name": "stderr",
     "output_type": "stream",
     "text": [
      "1849963it [23:02:20, 426.96it/s]"
     ]
    },
    {
     "name": "stdout",
     "output_type": "stream",
     "text": [
      "saved 1850000\n"
     ]
    },
    {
     "name": "stderr",
     "output_type": "stream",
     "text": [
      "1859990it [23:15:16, 444.57it/s]"
     ]
    },
    {
     "name": "stdout",
     "output_type": "stream",
     "text": [
      "saved 1860000\n"
     ]
    },
    {
     "name": "stderr",
     "output_type": "stream",
     "text": [
      "1869987it [23:28:18, 366.09it/s]"
     ]
    },
    {
     "name": "stdout",
     "output_type": "stream",
     "text": [
      "saved 1870000\n"
     ]
    },
    {
     "name": "stderr",
     "output_type": "stream",
     "text": [
      "1879959it [23:41:22, 469.70it/s]"
     ]
    },
    {
     "name": "stdout",
     "output_type": "stream",
     "text": [
      "saved 1880000\n"
     ]
    },
    {
     "name": "stderr",
     "output_type": "stream",
     "text": [
      "1889960it [23:54:22, 444.77it/s]"
     ]
    },
    {
     "name": "stdout",
     "output_type": "stream",
     "text": [
      "saved 1890000\n"
     ]
    },
    {
     "name": "stderr",
     "output_type": "stream",
     "text": [
      "1899948it [24:07:16, 420.93it/s]"
     ]
    },
    {
     "name": "stdout",
     "output_type": "stream",
     "text": [
      "saved 1900000\n"
     ]
    },
    {
     "name": "stderr",
     "output_type": "stream",
     "text": [
      "1909986it [24:20:17, 377.06it/s]"
     ]
    },
    {
     "name": "stdout",
     "output_type": "stream",
     "text": [
      "saved 1910000\n"
     ]
    },
    {
     "name": "stderr",
     "output_type": "stream",
     "text": [
      "1919975it [24:33:40, 430.23it/s]"
     ]
    },
    {
     "name": "stdout",
     "output_type": "stream",
     "text": [
      "saved 1920000\n"
     ]
    },
    {
     "name": "stderr",
     "output_type": "stream",
     "text": [
      "1929964it [24:46:54, 419.44it/s]"
     ]
    },
    {
     "name": "stdout",
     "output_type": "stream",
     "text": [
      "saved 1930000\n"
     ]
    },
    {
     "name": "stderr",
     "output_type": "stream",
     "text": [
      "1939977it [25:00:13, 379.14it/s]"
     ]
    },
    {
     "name": "stdout",
     "output_type": "stream",
     "text": [
      "saved 1940000\n"
     ]
    },
    {
     "name": "stderr",
     "output_type": "stream",
     "text": [
      "1949987it [25:13:30, 483.88it/s]"
     ]
    },
    {
     "name": "stdout",
     "output_type": "stream",
     "text": [
      "saved 1950000\n"
     ]
    },
    {
     "name": "stderr",
     "output_type": "stream",
     "text": [
      "1959973it [25:26:52, 377.92it/s]"
     ]
    },
    {
     "name": "stdout",
     "output_type": "stream",
     "text": [
      "saved 1960000\n"
     ]
    },
    {
     "name": "stderr",
     "output_type": "stream",
     "text": [
      "1969993it [25:43:58, 422.74it/s]"
     ]
    },
    {
     "name": "stdout",
     "output_type": "stream",
     "text": [
      "saved 1970000\n"
     ]
    },
    {
     "name": "stderr",
     "output_type": "stream",
     "text": [
      "1979999it [26:03:27, 440.69it/s]"
     ]
    },
    {
     "name": "stdout",
     "output_type": "stream",
     "text": [
      "saved 1980000\n"
     ]
    },
    {
     "name": "stderr",
     "output_type": "stream",
     "text": [
      "1989991it [26:23:45, 417.46it/s]"
     ]
    },
    {
     "name": "stdout",
     "output_type": "stream",
     "text": [
      "saved 1990000\n"
     ]
    },
    {
     "name": "stderr",
     "output_type": "stream",
     "text": [
      "1999958it [26:41:06, 330.88it/s]"
     ]
    },
    {
     "name": "stdout",
     "output_type": "stream",
     "text": [
      "saved 2000000\n"
     ]
    },
    {
     "name": "stderr",
     "output_type": "stream",
     "text": [
      "2009980it [27:02:17, 398.94it/s]"
     ]
    },
    {
     "name": "stdout",
     "output_type": "stream",
     "text": [
      "saved 2010000\n"
     ]
    },
    {
     "name": "stderr",
     "output_type": "stream",
     "text": [
      "2019970it [27:23:33, 396.20it/s]"
     ]
    },
    {
     "name": "stdout",
     "output_type": "stream",
     "text": [
      "saved 2020000\n"
     ]
    },
    {
     "name": "stderr",
     "output_type": "stream",
     "text": [
      "2029965it [27:41:02, 413.66it/s]"
     ]
    },
    {
     "name": "stdout",
     "output_type": "stream",
     "text": [
      "saved 2030000\n"
     ]
    },
    {
     "name": "stderr",
     "output_type": "stream",
     "text": [
      "2039969it [28:02:26, 457.34it/s]"
     ]
    },
    {
     "name": "stdout",
     "output_type": "stream",
     "text": [
      "saved 2040000\n"
     ]
    },
    {
     "name": "stderr",
     "output_type": "stream",
     "text": [
      "2049972it [28:23:44, 320.16it/s]"
     ]
    },
    {
     "name": "stdout",
     "output_type": "stream",
     "text": [
      "saved 2050000\n"
     ]
    },
    {
     "name": "stderr",
     "output_type": "stream",
     "text": [
      "2059990it [28:44:52, 465.29it/s]"
     ]
    },
    {
     "name": "stdout",
     "output_type": "stream",
     "text": [
      "saved 2060000\n"
     ]
    },
    {
     "name": "stderr",
     "output_type": "stream",
     "text": [
      "2070000it [29:06:41, 347.32it/s]"
     ]
    },
    {
     "name": "stdout",
     "output_type": "stream",
     "text": [
      "saved 2070000\n"
     ]
    },
    {
     "name": "stderr",
     "output_type": "stream",
     "text": [
      "2079995it [29:29:22, 415.77it/s]"
     ]
    },
    {
     "name": "stdout",
     "output_type": "stream",
     "text": [
      "saved 2080000\n"
     ]
    },
    {
     "name": "stderr",
     "output_type": "stream",
     "text": [
      "2089998it [29:48:02, 386.96it/s]"
     ]
    },
    {
     "name": "stdout",
     "output_type": "stream",
     "text": [
      "saved 2090000\n"
     ]
    },
    {
     "name": "stderr",
     "output_type": "stream",
     "text": [
      "2099990it [30:11:37, 326.19it/s]"
     ]
    },
    {
     "name": "stdout",
     "output_type": "stream",
     "text": [
      "saved 2100000\n"
     ]
    },
    {
     "name": "stderr",
     "output_type": "stream",
     "text": [
      "2109966it [30:35:14, 375.20it/s]"
     ]
    },
    {
     "name": "stdout",
     "output_type": "stream",
     "text": [
      "saved 2110000\n"
     ]
    },
    {
     "name": "stderr",
     "output_type": "stream",
     "text": [
      "2119958it [30:54:31, 329.90it/s]"
     ]
    },
    {
     "name": "stdout",
     "output_type": "stream",
     "text": [
      "saved 2120000\n"
     ]
    },
    {
     "name": "stderr",
     "output_type": "stream",
     "text": [
      "2129995it [31:18:39, 299.16it/s]"
     ]
    },
    {
     "name": "stdout",
     "output_type": "stream",
     "text": [
      "saved 2130000\n"
     ]
    },
    {
     "name": "stderr",
     "output_type": "stream",
     "text": [
      "2139980it [31:43:23, 410.94it/s]"
     ]
    },
    {
     "name": "stdout",
     "output_type": "stream",
     "text": [
      "saved 2140000\n"
     ]
    },
    {
     "name": "stderr",
     "output_type": "stream",
     "text": [
      "2139980it [31:43:37, 410.94it/s]"
     ]
    }
   ],
   "source": [
    "pubmed_triplets = {}\n",
    "for index, row in tqdm(pubmed_df.iterrows()):\n",
    "    row_duis = row.duis.split(';')\n",
    "    dui_pairs = [tuple(sorted(each)) for each in list(itertools.combinations(row_duis, 3))]\n",
    "    for key in dui_pairs:\n",
    "        try:\n",
    "            pubmed_triplets[key][str(row.year)] += [row.pmid]\n",
    "        except KeyError:\n",
    "            pubmed_triplets[key] = {year: [] for year in years}\n",
    "            pubmed_triplets[key][str(row.year)] = [row.pmid]\n",
    "    if index % 10000 == 0:\n",
    "        print('saved', index)\n",
    "        with open('../data/pickles/pubmed_triplets.pkl', 'wb') as handle:\n",
    "            pickle.dump(pubmed_triplets, handle, protocol=pickle.HIGHEST_PROTOCOL)\n",
    "\n",
    "print('pubmed_triplets:', len(pubmed_triplets))"
   ]
  },
  {
   "cell_type": "code",
   "execution_count": null,
   "metadata": {},
   "outputs": [],
   "source": [
    "# from sklearn.neighbors import KernelDensity\n",
    "# from multiprocessing import Pool, cpu_count, Manager\n",
    "# from tqdm import tqdm\n",
    "# import csv\n",
    "# import itertools\n",
    "\n",
    "# def process_dui(args):\n",
    "#     idx, lock = args\n",
    "#     row = pubmed_df.iloc[idx]\n",
    "#     row_duis = row.duis.split(';')\n",
    "#     dui_pairs = [tuple(sorted(each)) for each in list(itertools.combinations(row_duis, 2))]\n",
    "#     for key in dui_pairs:\n",
    "#         data = [\n",
    "#             key[0],\n",
    "#             key[1],\n",
    "#             str(row.year),\n",
    "#             str(row.pmid)\n",
    "#         ]\n",
    "#         with lock:\n",
    "#             csv_writer.writerow(data)\n",
    "\n",
    "# # Define the number of processes to match the number of CPU cores\n",
    "# num_processes = cpu_count()\n",
    "# pubmed_rows_idx = list(range(len(pubmed_df)))\n",
    "\n",
    "# # Create a CSV file and write the header\n",
    "# csv_file = open('parallel/pubmed_pairs.csv', 'w', newline='')\n",
    "# csv_writer = csv.writer(csv_file)\n",
    "# csv_writer.writerow(['Key 1', 'Key 2', 'Year', 'PMID'])\n",
    "\n",
    "# # Create a lock using Manager\n",
    "# manager = Manager()\n",
    "# lock = manager.Lock()\n",
    "# pubmed_rows_idx_lock = [(idx, lock) for idx in pubmed_rows_idx]\n",
    "\n",
    "# # Create a progress bar using tqdm\n",
    "# with tqdm(total=len(pubmed_rows_idx_lock)) as pbar:\n",
    "#     # Create a pool of processes\n",
    "#     with Pool(processes=num_processes) as pool:\n",
    "#         # Map 'process_dui' to 'duis' using pool.imap_unordered\n",
    "#         for _ in pool.imap_unordered(process_dui, pubmed_rows_idx_lock):\n",
    "#             pbar.update(1)  # Update the progress bar\n",
    "\n",
    "# # Close the CSV file\n",
    "# csv_file.close()"
   ]
  },
  {
   "cell_type": "code",
   "execution_count": null,
   "metadata": {},
   "outputs": [
    {
     "name": "stdout",
     "output_type": "stream",
     "text": [
      "pubmed_2pairs: 29129646\n"
     ]
    }
   ],
   "source": [
    "with open('../data/pubmed_dataset/pubmed_2pairs.pkl', 'wb') as f:\n",
    "    pickle.dump(pubmed_2pairs, f)\n",
    "print('pubmed_2pairs:', len(pubmed_2pairs))"
   ]
  },
  {
   "cell_type": "code",
   "execution_count": 4,
   "metadata": {},
   "outputs": [
    {
     "name": "stdout",
     "output_type": "stream",
     "text": [
      "pubmed_2pairs: 29129646\n"
     ]
    }
   ],
   "source": [
    "#load pubmed_2pairs\n",
    "with open('../data/pubmed_dataset/pubmed_2pairs.pkl', 'rb') as f:\n",
    "    pubmed_2pairs = pickle.load(f)\n",
    "print('pubmed_2pairs:', len(pubmed_2pairs))"
   ]
  },
  {
   "cell_type": "code",
   "execution_count": null,
   "metadata": {},
   "outputs": [
    {
     "name": "stderr",
     "output_type": "stream",
     "text": [
      "63488it [00:57, 1105.82it/s]"
     ]
    },
    {
     "name": "stdout",
     "output_type": "stream",
     "text": [
      "sbir_2pairs: 1455397\n"
     ]
    },
    {
     "name": "stderr",
     "output_type": "stream",
     "text": [
      "\n"
     ]
    }
   ],
   "source": [
    "sbir_2pairs = {}\n",
    "for index, row in tqdm(sbir_df.iterrows()):\n",
    "    row_duis = row.duis.split(';')\n",
    "    dui_pairs = [tuple(sorted(each)) for each in list(itertools.combinations(row_duis, 2))]\n",
    "    for key in dui_pairs:\n",
    "        try:\n",
    "            sbir_2pairs[key][str(row.Year)] += [row.sbid]\n",
    "        except KeyError:\n",
    "            sbir_2pairs[key] = {year: [] for year in years}\n",
    "            sbir_2pairs[key][str(row.Year)] = [row.sbid]\n",
    "\n",
    "print('sbir_2pairs:', len(sbir_2pairs))"
   ]
  },
  {
   "cell_type": "code",
   "execution_count": null,
   "metadata": {},
   "outputs": [
    {
     "name": "stdout",
     "output_type": "stream",
     "text": [
      "sbir_2pairs: 1455397\n"
     ]
    }
   ],
   "source": [
    "with open('../data/sbir_dataset/sbir_2pairs.pkl', 'wb') as f:\n",
    "    pickle.dump(sbir_2pairs, f)\n",
    "print('sbir_2pairs:', len(sbir_2pairs))"
   ]
  },
  {
   "cell_type": "code",
   "execution_count": 5,
   "metadata": {},
   "outputs": [
    {
     "name": "stdout",
     "output_type": "stream",
     "text": [
      "sbir_2pairs: 1455397\n"
     ]
    }
   ],
   "source": [
    "with open('../data/sbir_dataset/sbir_2pairs.pkl', 'rb') as f:\n",
    "    sbir_2pairs = pickle.load(f)\n",
    "print('sbir_2pairs:', len(sbir_2pairs))"
   ]
  },
  {
   "cell_type": "code",
   "execution_count": null,
   "metadata": {},
   "outputs": [],
   "source": [
    "def extract_parent_pairs(A, B):\n",
    "    pairs = []\n",
    "    for a in A:\n",
    "        for b in B:\n",
    "            pair = (a, b)\n",
    "            pairs.append(pair)\n",
    "    pairs = [sorted(pair) for pair in pairs]\n",
    "    return pairs"
   ]
  },
  {
   "cell_type": "code",
   "execution_count": null,
   "metadata": {},
   "outputs": [],
   "source": [
    "pubmed_2pairs_child = copy.deepcopy(pubmed_2pairs)\n",
    "all_pubmed_pairs = list(pubmed_2pairs.keys())"
   ]
  },
  {
   "cell_type": "code",
   "execution_count": null,
   "metadata": {},
   "outputs": [],
   "source": [
    "for pair in tqdm(all_pubmed_pairs):\n",
    "    dui1, dui2 = pair\n",
    "    dui1_parents, dui2_parents = dui2parents[dui1], dui2parents[dui2]\n",
    "    all_parent_pairs = extract_parent_pairs(dui1_parents, dui2_parents)\n",
    "    for parent_pair in all_parent_pairs:\n",
    "        if parent_pair in all_pubmed_pairs:\n",
    "            for year in years:\n",
    "                pubmed_2pairs_child[parent_pair][year] += pubmed_2pairs[pair][year]\n",
    "\n",
    "print('pubmed_2pairs_child:', len(pubmed_2pairs_child))"
   ]
  },
  {
   "cell_type": "code",
   "execution_count": null,
   "metadata": {},
   "outputs": [],
   "source": [
    "#save pubmed_2pairs_child\n",
    "with open('../data/pubmed_dataset/pubmed_2pairs_child.pkl', 'wb') as f:\n",
    "    pickle.dump(pubmed_2pairs_child, f)\n",
    "print('pubmed_2pairs_child:', len(pubmed_2pairs_child))"
   ]
  },
  {
   "cell_type": "code",
   "execution_count": 11,
   "metadata": {},
   "outputs": [],
   "source": [
    "#load pubmed_2pairs_child\n",
    "with open('../data/pubmed_dataset/pubmed_2pairs_child.pkl', 'rb') as f:\n",
    "    pubmed_2pairs_child = pickle.load(f)\n",
    "print('pubmed_2pairs_child:', len(pubmed_2pairs_child))"
   ]
  },
  {
   "cell_type": "code",
   "execution_count": null,
   "metadata": {},
   "outputs": [],
   "source": [
    "sbir_2pairs_child = copy.deepcopy(sbir_2pairs)\n",
    "all_sbir_pairs = list(sbir_2pairs.keys())"
   ]
  },
  {
   "cell_type": "code",
   "execution_count": null,
   "metadata": {},
   "outputs": [],
   "source": [
    "for pair in all_sbir_pairs:\n",
    "    dui1, dui2 = pair\n",
    "    dui1_parents, dui2_parents = dui2parents[dui1], dui2parents[dui2]\n",
    "    all_parent_pairs = extract_parent_pairs(dui1_parents, dui2_parents)\n",
    "    for parent_pair in all_parent_pairs:\n",
    "        if parent_pair in all_sbir_pairs:\n",
    "            for year in years:\n",
    "                sbir_2pairs_child[parent_pair][year] += sbir_2pairs[pair][year]"
   ]
  },
  {
   "cell_type": "code",
   "execution_count": null,
   "metadata": {},
   "outputs": [],
   "source": [
    "#save sbir_2pairs_child\n",
    "with open('../data/sbir_dataset/sbir_2pairs_child.pkl', 'wb') as f:\n",
    "    pickle.dump(sbir_2pairs_child, f)\n",
    "print('sbir_2pairs_child:', len(sbir_2pairs_child))"
   ]
  },
  {
   "cell_type": "code",
   "execution_count": 13,
   "metadata": {},
   "outputs": [],
   "source": [
    "#load sbir_2pairs_child\n",
    "with open('../data/sbir_dataset/sbir_2pairs_child.pkl', 'rb') as f:\n",
    "    sbir_2pairs_child = pickle.load(f)\n",
    "print('sbir_2pairs_child:', len(sbir_2pairs_child))"
   ]
  },
  {
   "attachments": {},
   "cell_type": "markdown",
   "metadata": {},
   "source": [
    "sort"
   ]
  },
  {
   "cell_type": "code",
   "execution_count": 15,
   "metadata": {},
   "outputs": [],
   "source": [
    "#sort the pubmed_2pairs by the total number of pmids across all years per each pair\n",
    "pubmed_2pairs_sorted = sorted(pubmed_2pairs.items(), key=lambda x: sum([len(each) for each in x[1].values()]), reverse=True)\n",
    "print('pubmed_2pairs_sorted:', len(pubmed_2pairs_sorted))"
   ]
  },
  {
   "cell_type": "code",
   "execution_count": null,
   "metadata": {},
   "outputs": [
    {
     "name": "stdout",
     "output_type": "stream",
     "text": [
      "saved\n"
     ]
    }
   ],
   "source": [
    "with open('../data/pubmed_dataset/pubmed_2pairs_sorted.pkl', 'wb') as f:\n",
    "    pickle.dump(pubmed_2pairs_sorted, f)\n",
    "print('saved')"
   ]
  },
  {
   "cell_type": "code",
   "execution_count": null,
   "metadata": {},
   "outputs": [
    {
     "name": "stdout",
     "output_type": "stream",
     "text": [
      "('D005260', 'D006801') [215551, 255320, 264662, 281556, 302131, 314330, 328859, 344293, 366029, 380604, 387980, 356369]\n",
      "('D006801', 'D008297') [199509, 236607, 245555, 261407, 279654, 289496, 303610, 318010, 337619, 349243, 348465, 310151]\n",
      "('D005260', 'D008297') [176945, 210183, 218912, 233416, 251845, 261959, 274368, 286698, 304674, 314845, 307167, 262496]\n",
      "('D000328', 'D006801') [132277, 156186, 161066, 170768, 181813, 188489, 194844, 202124, 214069, 220033, 222487, 201713]\n",
      "('D006801', 'D008875') [127928, 150387, 155199, 165910, 176230, 183236, 190508, 198322, 209594, 215266, 210892, 181580]\n",
      "('D005260', 'D008875') [111835, 132336, 137562, 147764, 157608, 165031, 171594, 179266, 190217, 194976, 186678, 154403]\n",
      "('D000328', 'D005260') [112276, 133355, 138685, 147537, 157985, 164862, 170358, 177180, 188137, 192355, 183879, 152927]\n",
      "('D008297', 'D008875') [107528, 127167, 132201, 142171, 151727, 158178, 164662, 172040, 182420, 187027, 178674, 148696]\n",
      "('D000328', 'D008297') [102731, 122199, 127235, 135073, 144382, 149799, 155198, 160878, 170627, 173812, 164814, 136788]\n",
      "('D000368', 'D006801') [92647, 108898, 111981, 120476, 128164, 133902, 140160, 145934, 153691, 158350, 161931, 148509]\n"
     ]
    }
   ],
   "source": [
    "#iterate the first 10 elements of pubmed_2pairs_sorted and print the pair and their pmid count\n",
    "for i in range(10):\n",
    "    print(pubmed_2pairs_sorted[i][0], [len(each) for each in pubmed_2pairs_sorted[i][1].values()])"
   ]
  },
  {
   "cell_type": "code",
   "execution_count": null,
   "metadata": {},
   "outputs": [
    {
     "name": "stdout",
     "output_type": "stream",
     "text": [
      "sbir_2pairs_sorted: 1455397\n"
     ]
    }
   ],
   "source": [
    "#sort the sbir_2pairs by the total number of sbids across all years per each pair\n",
    "sbir_2pairs_sorted = sorted(sbir_2pairs.items(), key=lambda x: sum([len(each) for each in x[1].values()]), reverse=True)\n",
    "print('sbir_2pairs_sorted:', len(sbir_2pairs_sorted))"
   ]
  },
  {
   "cell_type": "code",
   "execution_count": null,
   "metadata": {},
   "outputs": [
    {
     "name": "stdout",
     "output_type": "stream",
     "text": [
      "saved\n"
     ]
    }
   ],
   "source": [
    "with open('../data/sbir_dataset/sbir_2pairs_sorted.pkl', 'wb') as f:\n",
    "    pickle.dump(sbir_2pairs_sorted, f)\n",
    "print('saved')"
   ]
  },
  {
   "cell_type": "code",
   "execution_count": null,
   "metadata": {},
   "outputs": [
    {
     "name": "stdout",
     "output_type": "stream",
     "text": [
      "('D001846', 'Q000254') [1219, 1606, 1209, 1207, 1385, 1817, 1953, 1779, 1835, 2103, 2156, 1838]\n",
      "('D006803', 'Q000254') [1219, 1606, 1210, 1207, 1385, 1819, 1953, 1778, 1834, 2102, 2156, 1838]\n",
      "('D001846', 'D006803') [1205, 1570, 1182, 1184, 1354, 1761, 1900, 1726, 1778, 2044, 2097, 1793]\n",
      "('D003365', 'Q000191') [675, 1015, 843, 882, 1012, 1225, 1267, 1078, 1115, 1378, 1209, 1046]\n",
      "('D008722', 'Q000379') [585, 712, 577, 637, 621, 828, 857, 782, 809, 911, 901, 779]\n",
      "('D000091502', 'D004777') [535, 641, 508, 510, 515, 547, 614, 579, 604, 839, 870, 712]\n",
      "('D013672', 'Q000254') [387, 552, 463, 495, 522, 628, 767, 560, 574, 699, 712, 597]\n",
      "('D004864', 'Q000295') [399, 593, 470, 461, 492, 573, 579, 477, 522, 672, 687, 597]\n",
      "('D001846', 'D013672') [363, 524, 432, 461, 486, 588, 703, 517, 538, 655, 673, 559]\n",
      "('D006803', 'D013672') [363, 524, 433, 461, 486, 588, 703, 517, 537, 654, 673, 559]\n"
     ]
    }
   ],
   "source": [
    "for i in range(10):\n",
    "    print(sbir_2pairs_sorted[i][0], [len(each) for each in sbir_2pairs_sorted[i][1].values()])"
   ]
  },
  {
   "cell_type": "code",
   "execution_count": 6,
   "metadata": {},
   "outputs": [
    {
     "name": "stdout",
     "output_type": "stream",
     "text": [
      "pubmed_pairs_sorted: 29129646\n",
      "sbir_pairs_sorted: 1455397\n"
     ]
    }
   ],
   "source": [
    "#load the pubmed_2pairs_sorted.pkl and sbir_2pairs_sorted.pkl\n",
    "with open('../data/pubmed_dataset/pubmed_2pairs_sorted.pkl', 'rb') as f:\n",
    "    pubmed_pairs_sorted = pickle.load(f)\n",
    "print('pubmed_pairs_sorted:', len(pubmed_pairs_sorted))\n",
    "with open('../data/sbir_dataset/sbir_2pairs_sorted.pkl', 'rb') as f:\n",
    "    sbir_pairs_sorted = pickle.load(f)\n",
    "print('sbir_pairs_sorted:', len(sbir_pairs_sorted))"
   ]
  },
  {
   "cell_type": "code",
   "execution_count": 17,
   "metadata": {},
   "outputs": [
    {
     "name": "stdout",
     "output_type": "stream",
     "text": [
      "pubmed_pairs_sorted_20_count / pubmed_pairs_sorted_all_count: 0.09999997940242734\n",
      "sbir_pairs_sorted_20_count / sbir_pairs_sorted_all_count: 0.09999951903157694\n"
     ]
    }
   ],
   "source": [
    "# using the pareto principle, select the top 20% of the pairs that cause 80% of the co-occurrences\n",
    "pubmed_pairs_sorted_20 = pubmed_pairs_sorted[:int(len(pubmed_pairs_sorted)*0.1)]\n",
    "sbir_pairs_sorted_20 = sbir_pairs_sorted[:int(len(sbir_pairs_sorted)*0.1)]\n",
    "# pubmed_pairs_sorted_20 = pubmed_pairs_sorted\n",
    "# sbir_pairs_sorted_20 = sbir_pairs_sorted\n",
    "\n",
    "#check how much of the co-occurrences are covered by the top 20% of the pairs\n",
    "pubmed_pairs_sorted_20_count = 0\n",
    "for pair in pubmed_pairs_sorted_20:\n",
    "    pubmed_pairs_sorted_20_count += len(pair[1])\n",
    "pubmed_pairs_sorted_all_count = 0\n",
    "for pair in pubmed_pairs_sorted:\n",
    "    pubmed_pairs_sorted_all_count += len(pair[1])\n",
    "print('pubmed_pairs_sorted_20_count / pubmed_pairs_sorted_all_count:', pubmed_pairs_sorted_20_count/pubmed_pairs_sorted_all_count)\n",
    "\n",
    "sbir_pairs_sorted_20_count = 0\n",
    "for pair in sbir_pairs_sorted_20:\n",
    "    sbir_pairs_sorted_20_count += len(pair[1])\n",
    "sbir_pairs_sorted_all_count = 0\n",
    "for pair in sbir_pairs_sorted:\n",
    "    sbir_pairs_sorted_all_count += len(pair[1])\n",
    "print('sbir_pairs_sorted_20_count / sbir_pairs_sorted_all_count:', sbir_pairs_sorted_20_count/sbir_pairs_sorted_all_count)"
   ]
  },
  {
   "cell_type": "code",
   "execution_count": null,
   "metadata": {},
   "outputs": [],
   "source": [
    "# combined_pairs = pubmed_pairs_sorted_20 + sbir_pairs_sorted_20\n",
    "# combined_pairs = [each[0] for each in combined_pairs]\n",
    "# print('pubmed_pairs_sorted_20:', len(pubmed_pairs_sorted_20))\n",
    "# print('sbir_pairs_sorted_20:', len(sbir_pairs_sorted_20))\n",
    "# print('combined_pairs_20:', len(combined_pairs))"
   ]
  },
  {
   "cell_type": "code",
   "execution_count": 18,
   "metadata": {},
   "outputs": [
    {
     "name": "stdout",
     "output_type": "stream",
     "text": [
      "mutual_pairs: 34752\n"
     ]
    }
   ],
   "source": [
    "mutual_pairs = list(set([each[0] for each in pubmed_pairs_sorted_20]) & set([each[0] for each in sbir_pairs_sorted_20]))\n",
    "print('mutual_pairs:', len(mutual_pairs))"
   ]
  },
  {
   "cell_type": "code",
   "execution_count": null,
   "metadata": {},
   "outputs": [
    {
     "name": "stdout",
     "output_type": "stream",
     "text": [
      "mutual_pairs: 34752\n"
     ]
    }
   ],
   "source": [
    "#save the mutual pairs\n",
    "with open('../data/pickles/mutual_pairs.pkl', 'wb') as f:\n",
    "    pickle.dump(mutual_pairs, f)\n",
    "print('mutual_pairs:', len(mutual_pairs))"
   ]
  },
  {
   "cell_type": "code",
   "execution_count": 7,
   "metadata": {},
   "outputs": [
    {
     "name": "stdout",
     "output_type": "stream",
     "text": [
      "mutual_pairs: 34752\n"
     ]
    }
   ],
   "source": [
    "#load the mutual pairs\n",
    "with open('../data/pickles/mutual_pairs.pkl', 'rb') as f:\n",
    "    mutual_pairs = pickle.load(f)\n",
    "print('mutual_pairs:', len(mutual_pairs))"
   ]
  },
  {
   "cell_type": "code",
   "execution_count": 19,
   "metadata": {},
   "outputs": [
    {
     "data": {
      "text/plain": [
       "('D005260', 'D006801')"
      ]
     },
     "execution_count": 19,
     "metadata": {},
     "output_type": "execute_result"
    }
   ],
   "source": [
    "pubmed_pairs_sorted[0][0]"
   ]
  },
  {
   "cell_type": "code",
   "execution_count": 20,
   "metadata": {},
   "outputs": [
    {
     "data": {
      "text/plain": [
       "['S010523', 'S014658', 'S015806']"
      ]
     },
     "execution_count": 20,
     "metadata": {},
     "output_type": "execute_result"
    }
   ],
   "source": [
    "sbir_2pairs[('D005260', 'D006801')]['2020']"
   ]
  },
  {
   "attachments": {},
   "cell_type": "markdown",
   "metadata": {},
   "source": [
    "Frequency"
   ]
  },
  {
   "cell_type": "code",
   "execution_count": 21,
   "metadata": {},
   "outputs": [
    {
     "name": "stderr",
     "output_type": "stream",
     "text": [
      "100%|██████████| 34752/34752 [00:00<00:00, 607122.73it/s]\n"
     ]
    },
    {
     "name": "stdout",
     "output_type": "stream",
     "text": [
      "pdui2pubfreq: 34752\n",
      "pdui2sbfreq: 34752\n"
     ]
    }
   ],
   "source": [
    "pdui2pubfreq = {}\n",
    "pdui2sbfreq = {}\n",
    "\n",
    "for pair in tqdm(mutual_pairs):\n",
    "    pdui2pubfreq[pair] = pubmed_2pairs[pair]\n",
    "    pdui2sbfreq[pair] = sbir_2pairs[pair]\n",
    "\n",
    "#remove duplicates in each year\n",
    "for dui, year2pmids in pdui2pubfreq.items():\n",
    "    for year, pmids in year2pmids.items():\n",
    "        pdui2pubfreq[dui][year] = list(set(pmids))\n",
    "for dui, year2sbids in pdui2sbfreq.items():\n",
    "    for year, sbids in year2sbids.items():\n",
    "        pdui2sbfreq[dui][year] = list(set(sbids))\n",
    "\n",
    "print('pdui2pubfreq:', len(pdui2pubfreq))\n",
    "print('pdui2sbfreq:', len(pdui2sbfreq))"
   ]
  },
  {
   "cell_type": "code",
   "execution_count": null,
   "metadata": {},
   "outputs": [
    {
     "name": "stdout",
     "output_type": "stream",
     "text": [
      "pdui2pubfreq: 34752\n",
      "pdui2sbfreq: 34752\n"
     ]
    }
   ],
   "source": [
    "with open('../data/pickles/pdui2pubfreq.pkl', 'wb') as f:\n",
    "    pickle.dump(pdui2pubfreq, f)\n",
    "with open('../data/pickles/pdui2sbfreq.pkl', 'wb') as f:\n",
    "    pickle.dump(pdui2sbfreq, f)\n",
    "print('pdui2pubfreq:', len(pdui2pubfreq))\n",
    "print('pdui2sbfreq:', len(pdui2sbfreq))"
   ]
  },
  {
   "cell_type": "code",
   "execution_count": 8,
   "metadata": {},
   "outputs": [
    {
     "name": "stdout",
     "output_type": "stream",
     "text": [
      "pdui2pubfreq: 34752\n",
      "pdui2sbfreq: 34752\n"
     ]
    }
   ],
   "source": [
    "with open('../data/pickles/pdui2pubfreq.pkl', 'rb') as f:\n",
    "    pdui2pubfreq = pickle.load(f)\n",
    "with open('../data/pickles/pdui2sbfreq.pkl', 'rb') as f:\n",
    "    pdui2sbfreq = pickle.load(f)\n",
    "print('pdui2pubfreq:', len(pdui2pubfreq))\n",
    "print('pdui2sbfreq:', len(pdui2sbfreq))"
   ]
  },
  {
   "attachments": {},
   "cell_type": "markdown",
   "metadata": {},
   "source": [
    "citations"
   ]
  },
  {
   "cell_type": "code",
   "execution_count": 9,
   "metadata": {},
   "outputs": [
    {
     "name": "stdout",
     "output_type": "stream",
     "text": [
      "Loaded pmid2citation.pkl 10928078\n",
      "Loaded sbid2citation.pkl 63488\n"
     ]
    }
   ],
   "source": [
    "with open('../data/pickles/pmid2citation.pkl', 'rb') as handle:\n",
    "    pmid2citation = pickle.load(handle)\n",
    "\n",
    "with open('../data/pickles/sbid2citation.pkl', 'rb') as handle:\n",
    "    sbid2citation = pickle.load(handle)\n",
    "    \n",
    "print('Loaded pmid2citation.pkl', len(pmid2citation))\n",
    "print('Loaded sbid2citation.pkl', len(sbid2citation))"
   ]
  },
  {
   "cell_type": "code",
   "execution_count": 11,
   "metadata": {},
   "outputs": [
    {
     "data": {
      "text/plain": [
       "['D007254']"
      ]
     },
     "execution_count": 11,
     "metadata": {},
     "output_type": "execute_result"
    }
   ],
   "source": [
    "zero2duis = {\n",
    "    'Anatomy [A]': 'U000002',\n",
    "    'Organisms [B]': 'U000012',\n",
    "    'Diseases [C]': 'U000006',\n",
    "    'Chemicals and Drugs [D]': 'U000005',\n",
    "    'Analytical, Diagnostic and Therapeutic Techniques and Equipment [E]': 'U000001',\n",
    "    'Psychiatry and Psychology [F]': 'U000014',\n",
    "    'Phenomena and Processes [G]': 'U000004',\n",
    "    'Disciplines and Occupations [H]': 'U000013',\n",
    "    'Anthropology, Education, Sociology and Social Phenomena [I]': 'U000003',\n",
    "    'Technology, Industry, Agriculture [J]': 'U000009',\n",
    "    'Information Science [K]': 'U000010',\n",
    "    'Named Groups [M]': 'U000011',\n",
    "    'Health Care [N]': 'U000008',\n",
    "    'Publication Characteristics [V]': 'U000016',\n",
    "    'Geographicals [Z] ': 'U000015',\n",
    "}\n",
    "dui2zero = {v: k for k, v in zero2duis.items()}\n",
    "zero2chilren = {zdui: [] for zdui in level2duis[0]}\n",
    "\n",
    "for zero_level_dui in level2duis[0]:\n",
    "    for first_level_dui in level2duis[1]:\n",
    "        parent = dui2parents[first_level_dui][-2]\n",
    "        if zero_level_dui == parent:\n",
    "            zero2chilren[zero_level_dui] += [first_level_dui]\n",
    "\n",
    "zero2chilren['U000010']"
   ]
  },
  {
   "cell_type": "code",
   "execution_count": 12,
   "metadata": {},
   "outputs": [
    {
     "name": "stdout",
     "output_type": "stream",
     "text": [
      "Loaded dui2pubfreqchild.pkl 29307\n",
      "Loaded dui2sbfreqchild.pkl 29307\n"
     ]
    }
   ],
   "source": [
    "#load dui2pubfreqchild and dui2sbfreqchild\n",
    "with open(PICKLES_ADDRESS + 'dui2pubfreqchild.pkl', 'rb') as handle:\n",
    "    dui2pubfreqchild = pickle.load(handle)\n",
    "print('Loaded dui2pubfreqchild.pkl', len(dui2pubfreqchild))\n",
    "\n",
    "with open(PICKLES_ADDRESS + 'dui2sbfreqchild.pkl', 'rb') as handle:\n",
    "    dui2sbfreqchild = pickle.load(handle)\n",
    "print('Loaded dui2sbfreqchild.pkl', len(dui2sbfreqchild))"
   ]
  },
  {
   "cell_type": "code",
   "execution_count": 13,
   "metadata": {},
   "outputs": [
    {
     "name": "stdout",
     "output_type": "stream",
     "text": [
      "U000008 []\n",
      "U000010 ['D007254']\n",
      "U000011 []\n",
      "U000004 ['D008660', 'D010829', 'D008827', 'D055598', 'D055585', 'D002468', 'D055614', 'D009799', 'D055827', 'D055641', 'D018521', 'D055633', 'D001686']\n",
      "U000015 ['D000072182']\n",
      "U000014 ['D001523', 'D011579']\n",
      "U000013 ['D006281', 'D010811']\n",
      "U000012 ['D056890', 'D001105', 'D001419', 'D014780']\n",
      "U000009 ['D006809']\n",
      "U000005 ['D009930', 'D045424', 'D045762', 'D002241', 'D007287', 'D006571', 'D001697', 'D001685', 'D011083', 'D004364', 'D046911', 'D008055']\n",
      "U000002 ['D004703', 'D002319', 'D000825', 'D009420', 'D056224', 'D002477', 'D012679', 'D004064', 'D012137', 'D034582', 'D018514', 'D013284', 'D009141', 'D014566', 'D056229', 'D056226']\n",
      "U000006 ['D009422', 'D009369', 'D005128', 'D004066', 'D009784', 'D009140', 'D007154', 'D009057', 'D004700', 'D000820', 'D007239', 'D000091642', 'D014947', 'D009358', 'D010038', 'D064419', 'D012140', 'D002318']\n",
      "U000003 ['D006802', 'D004493']\n",
      "U000001 ['D013514', 'D013812', 'D003933', 'D004864']\n",
      "====================================================================================================\n",
      "U000008 []\n",
      "U000010 ['D007254']\n",
      "U000011 []\n",
      "U000004 ['D008660', 'D010829', 'D008827', 'D055598', 'D055585', 'D002468', 'D055614', 'D009799', 'D055827', 'D055641', 'D018521', 'D055633', 'D001686']\n",
      "U000015 ['D000072182']\n",
      "U000014 ['D001523', 'D011579']\n",
      "U000013 ['D006281', 'D010811']\n",
      "U000012 ['D056890', 'D001105', 'D001419', 'D014780']\n",
      "U000009 ['D006809']\n",
      "U000005 ['D009930', 'D045424', 'D045762', 'D002241', 'D007287', 'D006571', 'D001697', 'D001685', 'D011083', 'D004364', 'D046911', 'D008055']\n",
      "U000002 ['D004703', 'D002319', 'D000825', 'D009420', 'D056224', 'D002477', 'D012679', 'D004064', 'D012137', 'D034582', 'D018514', 'D013284', 'D009141', 'D014566', 'D056229', 'D056226']\n",
      "U000006 ['D009422', 'D009369', 'D005128', 'D004066', 'D009784', 'D009140', 'D007154', 'D009057', 'D004700', 'D000820', 'D007239', 'D000091642', 'D014947', 'D009358', 'D010038', 'D064419', 'D012140', 'D002318']\n",
      "U000003 ['D006802', 'D004493']\n",
      "U000001 ['D013514', 'D013812', 'D003933', 'D004864']\n"
     ]
    }
   ],
   "source": [
    "zero2allpubchild = {zdui: {year: [] for year in years} for zdui in level2duis[0]}\n",
    "for zero_level_dui, zero_level_dui_firstlevel_children in zero2chilren.items():\n",
    "      print(zero_level_dui, zero_level_dui_firstlevel_children)\n",
    "      for first_level_dui in zero_level_dui_firstlevel_children:\n",
    "         for year in years:\n",
    "               zero2allpubchild[zero_level_dui][year] += dui2pubfreqchild[first_level_dui][year]\n",
    "\n",
    "print('=' * 100)\n",
    "\n",
    "zero2allsbchild = {zdui: {year: [] for year in years} for zdui in level2duis[0]}\n",
    "for zero_level_dui, zero_level_dui_firstlevel_children in zero2chilren.items():\n",
    "      print(zero_level_dui, zero_level_dui_firstlevel_children)\n",
    "      for first_level_dui in zero_level_dui_firstlevel_children:\n",
    "         for year in years:\n",
    "               zero2allsbchild[zero_level_dui][year] += dui2sbfreqchild[first_level_dui][year]"
   ]
  },
  {
   "cell_type": "code",
   "execution_count": 14,
   "metadata": {},
   "outputs": [
    {
     "data": {
      "text/plain": [
       "[0.25, 1.0, 0.75, 0.75, 0.75, 1.0, 0.75]"
      ]
     },
     "execution_count": 14,
     "metadata": {},
     "output_type": "execute_result"
    }
   ],
   "source": [
    "import math\n",
    "def percentile_ranks(citations):\n",
    "    sorted_array = np.sort(citations)\n",
    "    indexes = np.searchsorted(sorted_array, citations, side='right')\n",
    "    percentiles = np.ceil((indexes / len(sorted_array)) * 100) / 100\n",
    "    try:\n",
    "        pct = np.maximum(percentiles, 1 / len(sorted_array))\n",
    "    except ZeroDivisionError:\n",
    "        return []\n",
    "    return pct.tolist()\n",
    "\n",
    "def quartile_ranks(citations):\n",
    "    sorted_array = np.sort(citations)\n",
    "    indexes = np.searchsorted(sorted_array, citations, side='right')\n",
    "    quartiles = np.ceil((indexes / len(sorted_array)) * 4) / 4\n",
    "    try:\n",
    "        qrt = np.maximum(quartiles, 1 / len(sorted_array))\n",
    "    except ZeroDivisionError:\n",
    "        return []\n",
    "    return qrt.tolist()\n",
    "\n",
    "# percentile_ranks([8, 7, 5, 5, 10, 5])\n",
    "# percentile_ranks([])\n",
    "quartile_ranks([0, 8, 7, 5, 5, 10, 5])"
   ]
  },
  {
   "cell_type": "code",
   "execution_count": 15,
   "metadata": {},
   "outputs": [
    {
     "data": {
      "text/plain": [
       "(105622, 105622, 105622)"
      ]
     },
     "execution_count": 15,
     "metadata": {},
     "output_type": "execute_result"
    }
   ],
   "source": [
    "len(dui2pubfreqchild['D007254']['2010']), len(zero2allpubchild['U000010']['2010']), len(set(zero2allpubchild['U000010']['2010']))"
   ]
  },
  {
   "cell_type": "code",
   "execution_count": 16,
   "metadata": {},
   "outputs": [
    {
     "data": {
      "text/plain": [
       "[0.25, 0.25, 0.25, 0.5, 0.75, 1, 1]"
      ]
     },
     "execution_count": 16,
     "metadata": {},
     "output_type": "execute_result"
    }
   ],
   "source": [
    "#write a function that receives a list and returns the quartiles of the list\n",
    "def calculate_quartiles(audience):\n",
    "    quarts = np.quantile(audience, [0.25, 0.5, 0.75], method='midpoint')\n",
    "    return quarts.tolist()\n",
    "\n",
    "def quantize_cit(cit, quarts):\n",
    "    if not quarts:\n",
    "        return 0\n",
    "    if cit <= quarts[0]:\n",
    "        return 0.25\n",
    "    elif cit <= quarts[1]:\n",
    "        return 0.5\n",
    "    elif cit <= quarts[2]:\n",
    "        return 0.75\n",
    "    else:\n",
    "        return 1\n",
    "    \n",
    "def quantize_citations(citations, quarts):\n",
    "    quantized_citations = []\n",
    "    for cit in citations:\n",
    "        quantized_cit = quantize_cit(cit, quarts)\n",
    "        quantized_citations.append(quantized_cit)\n",
    "    return quantized_citations\n",
    "    \n",
    "audience = [1, 1, 1, 7, 5, 5, 5, 5, 5, 5, 8, 8, 8, 8, 10, 10, 10, 10, 11]\n",
    "test = [0, 1, 3, 7, 9, 10, 12]\n",
    "quantize_citations(test, calculate_quartiles(audience))"
   ]
  },
  {
   "cell_type": "code",
   "execution_count": 17,
   "metadata": {},
   "outputs": [
    {
     "name": "stderr",
     "output_type": "stream",
     "text": [
      "100%|██████████| 14/14 [00:15<00:00,  1.10s/it]\n",
      "100%|██████████| 14/14 [00:00<00:00, 294.44it/s]\n"
     ]
    }
   ],
   "source": [
    "zero2allpubchildquarts = {zdui: {year: [] for year in years} for zdui in level2duis[0]}\n",
    "for zero_level_dui in tqdm(list(zero2allpubchild.keys())):\n",
    "    for year in years:\n",
    "        children_pmids = zero2allpubchild[zero_level_dui][year]\n",
    "        children_citations = [pmid2citation[pmid] for pmid in children_pmids]\n",
    "        try:\n",
    "            zero2allpubchildquarts[zero_level_dui][year] = calculate_quartiles(children_citations)\n",
    "        except:\n",
    "            pass\n",
    "\n",
    "zero2allsbchildquarts = {zdui: {year: [] for year in years} for zdui in level2duis[0]}\n",
    "for zero_level_dui in tqdm(list(zero2allsbchild.keys())):\n",
    "    for year in years:\n",
    "        children_sbids = zero2allsbchild[zero_level_dui][year]\n",
    "        children_citations = [sbid2citation[pmid] for pmid in children_sbids]\n",
    "        try:\n",
    "            zero2allsbchildquarts[zero_level_dui][year] = calculate_quartiles(children_citations)\n",
    "        except:\n",
    "            pass"
   ]
  },
  {
   "cell_type": "code",
   "execution_count": 18,
   "metadata": {},
   "outputs": [
    {
     "data": {
      "text/plain": [
       "{'U000008': {'2010': [],\n",
       "  '2011': [],\n",
       "  '2012': [],\n",
       "  '2013': [],\n",
       "  '2014': [],\n",
       "  '2015': [],\n",
       "  '2016': [],\n",
       "  '2017': [],\n",
       "  '2018': [],\n",
       "  '2019': [],\n",
       "  '2020': [],\n",
       "  '2021': []},\n",
       " 'U000010': {'2010': [7.0, 17.0, 38.0],\n",
       "  '2011': [6.0, 15.0, 33.0],\n",
       "  '2012': [5.0, 14.0, 30.0],\n",
       "  '2013': [5.0, 13.0, 28.0],\n",
       "  '2014': [4.0, 11.0, 25.0],\n",
       "  '2015': [4.0, 10.0, 23.0],\n",
       "  '2016': [4.0, 9.0, 20.0],\n",
       "  '2017': [3.0, 8.0, 18.0],\n",
       "  '2018': [3.0, 7.0, 14.0],\n",
       "  '2019': [2.0, 5.0, 11.0],\n",
       "  '2020': [1.0, 3.0, 7.0],\n",
       "  '2021': [0.0, 1.0, 3.0]},\n",
       " 'U000011': {'2010': [],\n",
       "  '2011': [],\n",
       "  '2012': [],\n",
       "  '2013': [],\n",
       "  '2014': [],\n",
       "  '2015': [],\n",
       "  '2016': [],\n",
       "  '2017': [],\n",
       "  '2018': [],\n",
       "  '2019': [],\n",
       "  '2020': [],\n",
       "  '2021': []},\n",
       " 'U000004': {'2010': [9.0, 21.0, 45.0],\n",
       "  '2011': [8.0, 19.0, 41.0],\n",
       "  '2012': [8.0, 18.0, 37.0],\n",
       "  '2013': [7.0, 17.0, 35.0],\n",
       "  '2014': [7.0, 15.0, 31.0],\n",
       "  '2015': [6.0, 14.0, 28.0],\n",
       "  '2016': [5.0, 12.0, 25.0],\n",
       "  '2017': [5.0, 11.0, 22.0],\n",
       "  '2018': [4.0, 9.0, 18.0],\n",
       "  '2019': [3.0, 7.0, 14.0],\n",
       "  '2020': [2.0, 4.0, 9.0],\n",
       "  '2021': [0.0, 1.0, 3.0]},\n",
       " 'U000015': {'2010': [4.0, 11.0, 33.5],\n",
       "  '2011': [3.0, 8.0, 20.0],\n",
       "  '2012': [3.0, 9.0, 23.0],\n",
       "  '2013': [3.0, 7.0, 17.0],\n",
       "  '2014': [3.0, 8.0, 19.0],\n",
       "  '2015': [3.0, 7.0, 17.0],\n",
       "  '2016': [2.0, 6.0, 15.0],\n",
       "  '2017': [3.0, 7.0, 16.0],\n",
       "  '2018': [2.0, 6.0, 13.0],\n",
       "  '2019': [1.0, 4.0, 9.0],\n",
       "  '2020': [1.0, 2.0, 6.0],\n",
       "  '2021': [0.0, 1.0, 3.0]},\n",
       " 'U000014': {'2010': [8.0, 20.0, 44.0],\n",
       "  '2011': [7.0, 17.0, 38.0],\n",
       "  '2012': [6.0, 16.0, 34.0],\n",
       "  '2013': [6.0, 15.0, 32.0],\n",
       "  '2014': [5.0, 13.0, 28.0],\n",
       "  '2015': [5.0, 12.0, 25.0],\n",
       "  '2016': [4.0, 10.0, 21.0],\n",
       "  '2017': [4.0, 9.0, 18.0],\n",
       "  '2018': [3.0, 7.0, 14.0],\n",
       "  '2019': [2.0, 5.0, 11.0],\n",
       "  '2020': [1.0, 3.0, 7.0],\n",
       "  '2021': [0.0, 1.0, 3.0]},\n",
       " 'U000013': {'2010': [6.0, 16.0, 34.0],\n",
       "  '2011': [5.0, 14.0, 31.0],\n",
       "  '2012': [5.0, 13.0, 28.0],\n",
       "  '2013': [5.0, 12.0, 26.0],\n",
       "  '2014': [4.0, 11.0, 24.0],\n",
       "  '2015': [4.0, 10.0, 22.0],\n",
       "  '2016': [3.0, 9.0, 19.0],\n",
       "  '2017': [3.0, 8.0, 17.0],\n",
       "  '2018': [3.0, 7.0, 14.0],\n",
       "  '2019': [2.0, 5.0, 11.0],\n",
       "  '2020': [1.0, 3.0, 7.0],\n",
       "  '2021': [0.0, 1.0, 3.0]},\n",
       " 'U000012': {'2010': [7.0, 17.0, 38.0],\n",
       "  '2011': [6.0, 15.0, 34.0],\n",
       "  '2012': [5.0, 14.0, 31.0],\n",
       "  '2013': [5.0, 13.0, 29.0],\n",
       "  '2014': [5.0, 12.0, 26.0],\n",
       "  '2015': [4.0, 11.0, 24.0],\n",
       "  '2016': [4.0, 10.0, 21.0],\n",
       "  '2017': [4.0, 9.0, 18.0],\n",
       "  '2018': [3.0, 7.0, 15.0],\n",
       "  '2019': [2.0, 5.0, 11.0],\n",
       "  '2020': [1.0, 3.0, 7.0],\n",
       "  '2021': [0.0, 1.0, 3.0]},\n",
       " 'U000009': {'2010': [2.0, 9.0, 22.0],\n",
       "  '2011': [1.0, 6.0, 18.0],\n",
       "  '2012': [2.0, 7.0, 19.0],\n",
       "  '2013': [2.0, 7.0, 17.0],\n",
       "  '2014': [2.0, 6.0, 15.0],\n",
       "  '2015': [1.0, 5.0, 14.0],\n",
       "  '2016': [1.0, 5.0, 12.0],\n",
       "  '2017': [1.0, 5.0, 12.0],\n",
       "  '2018': [1.0, 4.0, 10.0],\n",
       "  '2019': [1.0, 3.0, 7.0],\n",
       "  '2020': [0.0, 2.0, 5.0],\n",
       "  '2021': [0.0, 1.0, 2.0]},\n",
       " 'U000005': {'2010': [8.0, 19.0, 40.0],\n",
       "  '2011': [7.0, 17.0, 36.0],\n",
       "  '2012': [7.0, 16.0, 33.0],\n",
       "  '2013': [7.0, 15.0, 31.0],\n",
       "  '2014': [6.0, 14.0, 28.0],\n",
       "  '2015': [6.0, 13.0, 26.0],\n",
       "  '2016': [5.0, 11.0, 23.0],\n",
       "  '2017': [4.0, 10.0, 20.0],\n",
       "  '2018': [4.0, 8.0, 17.0],\n",
       "  '2019': [3.0, 6.0, 13.0],\n",
       "  '2020': [1.0, 4.0, 8.0],\n",
       "  '2021': [0.0, 1.0, 3.0]},\n",
       " 'U000002': {'2010': [9.0, 21.0, 44.0],\n",
       "  '2011': [8.0, 19.0, 40.0],\n",
       "  '2012': [7.0, 17.0, 37.0],\n",
       "  '2013': [7.0, 16.0, 34.0],\n",
       "  '2014': [6.0, 15.0, 31.0],\n",
       "  '2015': [6.0, 13.0, 28.0],\n",
       "  '2016': [5.0, 12.0, 24.0],\n",
       "  '2017': [4.0, 10.0, 21.0],\n",
       "  '2018': [3.0, 8.0, 17.0],\n",
       "  '2019': [3.0, 6.0, 13.0],\n",
       "  '2020': [1.0, 4.0, 8.0],\n",
       "  '2021': [0.0, 1.0, 3.0]},\n",
       " 'U000006': {'2010': [6.0, 17.0, 38.0],\n",
       "  '2011': [5.0, 15.0, 34.0],\n",
       "  '2012': [5.0, 14.0, 31.0],\n",
       "  '2013': [5.0, 13.0, 29.0],\n",
       "  '2014': [5.0, 12.0, 27.0],\n",
       "  '2015': [4.0, 11.0, 24.0],\n",
       "  '2016': [4.0, 10.0, 21.0],\n",
       "  '2017': [4.0, 9.0, 19.0],\n",
       "  '2018': [3.0, 7.0, 15.0],\n",
       "  '2019': [2.0, 5.0, 12.0],\n",
       "  '2020': [1.0, 3.0, 8.0],\n",
       "  '2021': [0.0, 1.0, 3.0]},\n",
       " 'U000003': {'2010': [5.0, 14.0, 30.0],\n",
       "  '2011': [4.0, 12.0, 27.0],\n",
       "  '2012': [4.0, 11.0, 24.0],\n",
       "  '2013': [4.0, 11.0, 23.0],\n",
       "  '2014': [4.0, 10.0, 21.0],\n",
       "  '2015': [3.0, 9.0, 19.0],\n",
       "  '2016': [3.0, 7.0, 16.0],\n",
       "  '2017': [3.0, 7.0, 14.0],\n",
       "  '2018': [2.0, 5.0, 11.0],\n",
       "  '2019': [1.0, 4.0, 8.0],\n",
       "  '2020': [1.0, 2.0, 5.0],\n",
       "  '2021': [0.0, 1.0, 2.0]},\n",
       " 'U000001': {'2010': [6.0, 16.0, 35.0],\n",
       "  '2011': [5.0, 14.0, 31.0],\n",
       "  '2012': [5.0, 13.0, 29.0],\n",
       "  '2013': [5.0, 12.0, 27.0],\n",
       "  '2014': [4.0, 11.0, 25.0],\n",
       "  '2015': [4.0, 10.0, 22.0],\n",
       "  '2016': [4.0, 9.0, 19.0],\n",
       "  '2017': [3.0, 8.0, 17.0],\n",
       "  '2018': [3.0, 7.0, 14.0],\n",
       "  '2019': [2.0, 5.0, 11.0],\n",
       "  '2020': [1.0, 3.0, 7.0],\n",
       "  '2021': [0.0, 1.0, 3.0]}}"
      ]
     },
     "execution_count": 18,
     "metadata": {},
     "output_type": "execute_result"
    }
   ],
   "source": [
    "zero2allpubchildquarts"
   ]
  },
  {
   "cell_type": "code",
   "execution_count": 19,
   "metadata": {},
   "outputs": [
    {
     "data": {
      "text/plain": [
       "{'U000008': {'2010': [],\n",
       "  '2011': [],\n",
       "  '2012': [],\n",
       "  '2013': [],\n",
       "  '2014': [],\n",
       "  '2015': [],\n",
       "  '2016': [],\n",
       "  '2017': [],\n",
       "  '2018': [],\n",
       "  '2019': [],\n",
       "  '2020': [],\n",
       "  '2021': []},\n",
       " 'U000010': {'2010': [99601.0, 99998.0, 733907.0],\n",
       "  '2011': [99958.0, 149477.5, 599956.5],\n",
       "  '2012': [124955.0, 149992.0, 734389.0],\n",
       "  '2013': [125000.0, 149996.0, 611785.5],\n",
       "  '2014': [149607.0, 150000.0, 749953.0],\n",
       "  '2015': [149891.0, 150000.0, 749994.0],\n",
       "  '2016': [149890.5, 224139.0, 749932.5],\n",
       "  '2017': [149909.5, 224999.0, 749999.0],\n",
       "  '2018': [146875.0, 224951.0, 749970.0],\n",
       "  '2019': [125000.0, 223310.0, 749887.5],\n",
       "  '2020': [124999.5, 224726.0, 777351.0],\n",
       "  '2021': [124997.0, 250000.0, 749930.5]},\n",
       " 'U000011': {'2010': [],\n",
       "  '2011': [],\n",
       "  '2012': [],\n",
       "  '2013': [],\n",
       "  '2014': [],\n",
       "  '2015': [],\n",
       "  '2016': [],\n",
       "  '2017': [],\n",
       "  '2018': [],\n",
       "  '2019': [],\n",
       "  '2020': [],\n",
       "  '2021': []},\n",
       " 'U000004': {'2010': [99424.5, 99997.0, 627143.0],\n",
       "  '2011': [99961.0, 149856.0, 599807.0],\n",
       "  '2012': [138850.0, 149998.0, 729915.0],\n",
       "  '2013': [148389.0, 150000.0, 728395.0],\n",
       "  '2014': [149837.0, 224202.0, 750000.0],\n",
       "  '2015': [149928.0, 222761.0, 749960.0],\n",
       "  '2016': [149961.5, 224938.0, 749941.0],\n",
       "  '2017': [149993.5, 225000.0, 749999.0],\n",
       "  '2018': [149993.0, 225000.0, 749951.0],\n",
       "  '2019': [150000.0, 225000.0, 749963.0],\n",
       "  '2020': [167090.0, 250548.0, 750000.0],\n",
       "  '2021': [199890.5, 256000.0, 749988.0]},\n",
       " 'U000015': {'2010': [99892.0, 99997.5, 109944.5],\n",
       "  '2011': [99986.5, 149982.0, 599990.5],\n",
       "  '2012': [148887.0, 150000.0, 738208.0],\n",
       "  '2013': [99938.0, 149926.0, 224447.0],\n",
       "  '2014': [149958.0, 206118.5, 749998.5],\n",
       "  '2015': [149832.0, 224830.5, 748168.5],\n",
       "  '2016': [150000.0, 225000.0, 749213.0],\n",
       "  '2017': [198624.5, 227806.5, 597888.5],\n",
       "  '2018': [149998.0, 224919.5, 646193.5],\n",
       "  '2019': [198734.5, 237391.0, 799992.0],\n",
       "  '2020': [206475.5, 350999.5, 1097682.5],\n",
       "  '2021': [152462.0, 256363.0, 749120.0]},\n",
       " 'U000014': {'2010': [99358.5, 99993.0, 729977.5],\n",
       "  '2011': [99964.0, 149911.5, 710149.0],\n",
       "  '2012': [144717.0, 149998.0, 729971.0],\n",
       "  '2013': [147557.0, 149998.0, 672841.0],\n",
       "  '2014': [149813.0, 199999.0, 881496.0],\n",
       "  '2015': [149966.5, 224970.5, 899999.5],\n",
       "  '2016': [149995.5, 225000.0, 750000.0],\n",
       "  '2017': [150000.0, 225000.0, 771464.0],\n",
       "  '2018': [149970.0, 225000.0, 749956.5],\n",
       "  '2019': [140000.0, 225000.0, 749999.5],\n",
       "  '2020': [140000.0, 251695.0, 996320.0],\n",
       "  '2021': [139917.0, 256000.0, 749994.0]},\n",
       " 'U000013': {'2010': [99411.0, 99991.0, 599998.0],\n",
       "  '2011': [99974.0, 149934.0, 500000.0],\n",
       "  '2012': [128378.0, 149996.0, 600000.0],\n",
       "  '2013': [148135.0, 150000.0, 527992.5],\n",
       "  '2014': [149871.5, 150000.0, 750000.0],\n",
       "  '2015': [149943.0, 222566.0, 750000.0],\n",
       "  '2016': [149967.0, 224934.0, 749963.0],\n",
       "  '2017': [149989.0, 225000.0, 750000.0],\n",
       "  '2018': [149986.0, 225000.0, 749937.0],\n",
       "  '2019': [149970.5, 225000.0, 750000.0],\n",
       "  '2020': [149995.0, 249373.0, 940038.5],\n",
       "  '2021': [149976.5, 256000.0, 749860.0]},\n",
       " 'U000012': {'2010': [99020.0, 99995.0, 729907.5],\n",
       "  '2011': [99988.5, 149975.0, 599995.0],\n",
       "  '2012': [124999.0, 149999.0, 500000.0],\n",
       "  '2013': [149451.0, 150000.0, 749216.0],\n",
       "  '2014': [149995.0, 588848.0, 999870.0],\n",
       "  '2015': [149999.0, 224997.0, 749995.0],\n",
       "  '2016': [154762.0, 225792.0, 968979.5],\n",
       "  '2017': [160318.0, 242611.0, 993383.0],\n",
       "  '2018': [216761.0, 252199.0, 749817.5],\n",
       "  '2019': [156326.5, 239057.0, 749998.0],\n",
       "  '2020': [191565.5, 286585.5, 998839.0],\n",
       "  '2021': [200000.0, 277450.0, 749488.0]},\n",
       " 'U000009': {'2010': [99581.0, 99995.0, 599922.5],\n",
       "  '2011': [99969.0, 148894.5, 599002.5],\n",
       "  '2012': [124988.0, 149995.0, 744780.5],\n",
       "  '2013': [124990.0, 149991.0, 699612.0],\n",
       "  '2014': [125000.0, 150000.0, 749840.0],\n",
       "  '2015': [149250.5, 150000.0, 749967.0],\n",
       "  '2016': [125000.0, 150000.0, 747535.0],\n",
       "  '2017': [125000.0, 224774.0, 749884.0],\n",
       "  '2018': [124998.0, 224552.5, 749964.5],\n",
       "  '2019': [124993.0, 200000.0, 749891.0],\n",
       "  '2020': [124978.5, 205368.0, 749993.0],\n",
       "  '2021': [124952.0, 239849.0, 749777.0]},\n",
       " 'U000005': {'2010': [98856.0, 99994.0, 572169.0],\n",
       "  '2011': [99977.0, 149903.0, 500000.0],\n",
       "  '2012': [125000.0, 149995.0, 500000.0],\n",
       "  '2013': [148136.5, 150000.0, 723765.0],\n",
       "  '2014': [149866.5, 224807.0, 765573.5],\n",
       "  '2015': [149974.0, 224632.0, 749898.0],\n",
       "  '2016': [149988.0, 224992.0, 749889.5],\n",
       "  '2017': [149999.0, 225000.0, 749990.0],\n",
       "  '2018': [149995.0, 225000.0, 749762.0],\n",
       "  '2019': [149990.0, 225000.0, 749604.5],\n",
       "  '2020': [166498.0, 252128.0, 769452.5],\n",
       "  '2021': [158174.0, 256000.0, 743376.0]},\n",
       " 'U000002': {'2010': [98967.0, 99981.0, 316259.0],\n",
       "  '2011': [99946.5, 149474.5, 499796.0],\n",
       "  '2012': [139338.0, 150000.0, 728581.0],\n",
       "  '2013': [149468.0, 150000.0, 750000.0],\n",
       "  '2014': [150000.0, 597176.0, 1126587.0],\n",
       "  '2015': [196575.5, 225000.0, 984190.5],\n",
       "  '2016': [216017.5, 252695.5, 999077.0],\n",
       "  '2017': [223291.5, 268265.0, 972184.0],\n",
       "  '2018': [224619.5, 247894.0, 749977.0],\n",
       "  '2019': [224796.0, 299288.0, 989416.0],\n",
       "  '2020': [225000.0, 300000.0, 999991.0],\n",
       "  '2021': [255127.0, 323408.0, 797272.5]},\n",
       " 'U000006': {'2010': [98816.0, 99997.0, 695732.0],\n",
       "  '2011': [100000.0, 149991.0, 499861.0],\n",
       "  '2012': [149453.0, 150000.0, 500000.0],\n",
       "  '2013': [149900.0, 150000.0, 938661.5],\n",
       "  '2014': [150000.0, 614799.0, 1276484.0],\n",
       "  '2015': [205127.0, 225000.0, 989641.0],\n",
       "  '2016': [224040.0, 263500.0, 1004694.0],\n",
       "  '2017': [224360.5, 283554.0, 999238.0],\n",
       "  '2018': [224778.0, 279997.5, 749900.0],\n",
       "  '2019': [224960.5, 299903.0, 1000000.0],\n",
       "  '2020': [244899.5, 323024.5, 1123783.0],\n",
       "  '2021': [255577.0, 319489.0, 843622.0]},\n",
       " 'U000003': {'2010': [99877.0, 99997.0, 735179.0],\n",
       "  '2011': [99995.0, 149942.5, 599990.0],\n",
       "  '2012': [149378.0, 150000.0, 732008.0],\n",
       "  '2013': [149632.0, 150000.0, 540565.5],\n",
       "  '2014': [149908.0, 212966.5, 750000.0],\n",
       "  '2015': [149978.5, 224805.0, 785497.5],\n",
       "  '2016': [149999.0, 225000.0, 750000.0],\n",
       "  '2017': [154497.0, 225000.0, 750000.0],\n",
       "  '2018': [191247.5, 225000.0, 749998.0],\n",
       "  '2019': [150000.0, 225000.0, 750000.0],\n",
       "  '2020': [150000.0, 251985.0, 983676.0],\n",
       "  '2021': [199634.0, 256458.0, 761539.0]},\n",
       " 'U000001': {'2010': [99394.0, 99992.0, 624537.0],\n",
       "  '2011': [99974.5, 149894.0, 500000.0],\n",
       "  '2012': [148101.0, 149999.0, 729995.0],\n",
       "  '2013': [149246.0, 150000.0, 737036.0],\n",
       "  '2014': [149965.0, 311003.0, 990086.0],\n",
       "  '2015': [150000.0, 224993.0, 792747.0],\n",
       "  '2016': [150000.0, 225000.0, 969177.0],\n",
       "  '2017': [154497.0, 228079.0, 991582.0],\n",
       "  '2018': [176111.5, 225001.0, 749999.0],\n",
       "  '2019': [197594.5, 230690.5, 833834.0],\n",
       "  '2020': [200000.0, 298198.0, 1000000.0],\n",
       "  '2021': [216595.0, 299508.5, 800000.0]}}"
      ]
     },
     "execution_count": 19,
     "metadata": {},
     "output_type": "execute_result"
    }
   ],
   "source": [
    "zero2allsbchildquarts"
   ]
  },
  {
   "cell_type": "code",
   "execution_count": 30,
   "metadata": {},
   "outputs": [
    {
     "name": "stderr",
     "output_type": "stream",
     "text": [
      "34752it [01:17, 448.30it/s]\n"
     ]
    },
    {
     "name": "stdout",
     "output_type": "stream",
     "text": [
      "Saved pui2pubcit.pkl 34752\n"
     ]
    }
   ],
   "source": [
    "pmid2citationscore = {}\n",
    "pdui2pubcit = {dui: {year: None for year in years} for dui, _ in pdui2pubfreq.items()}\n",
    "for c, dui in tqdm(enumerate(list(pdui2pubfreq.keys()))):\n",
    "    if dui[0] not in dui2parents or dui[1] not in dui2parents:\n",
    "        continue\n",
    "    parent1 = dui2parents[dui[0]][0]\n",
    "    parent2 = dui2parents[dui[1]][0]\n",
    "    for year in years:\n",
    "        pmids = list(set(pdui2pubfreq[dui][year]))\n",
    "        citations = [pmid2citation[pmid] for pmid in pmids]\n",
    "        quarts1 = zero2allpubchildquarts[parent1][year]\n",
    "        citation_percentiles1 = quantize_citations(citations, quarts1)\n",
    "        quarts2 = zero2allpubchildquarts[parent2][year]\n",
    "        citation_percentiles2 = quantize_citations(citations, quarts2)\n",
    "        #at each index of citation_percentiles1 and citation_percentiles2, select the bigger one element and make the list final citation_percentiles\n",
    "        final_citation_percentiles = [max(citation_percentiles1[i], citation_percentiles2[i]) for i in range(len(citation_percentiles1))] \n",
    "        #add each element to its corresponding pmid in the pmid2citationscore dictionary\n",
    "        for i, pmid in enumerate(pmids):\n",
    "            pmid2citationscore[pmid] = final_citation_percentiles[i]\n",
    "\n",
    "        if dui in pdui2pubcit:\n",
    "            pdui2pubcit[dui][year] = final_citation_percentiles\n",
    "            \n",
    "with open('../data/pickles/pdui2pubcit.pkl', 'wb') as handle:\n",
    "    pickle.dump(pdui2pubcit, handle, protocol=pickle.HIGHEST_PROTOCOL)\n",
    "print('Saved pui2pubcit.pkl', len(pdui2pubcit))"
   ]
  },
  {
   "cell_type": "code",
   "execution_count": 31,
   "metadata": {},
   "outputs": [
    {
     "name": "stderr",
     "output_type": "stream",
     "text": [
      "0it [00:00, ?it/s]"
     ]
    },
    {
     "name": "stderr",
     "output_type": "stream",
     "text": [
      "34752it [00:01, 27818.94it/s]\n"
     ]
    },
    {
     "name": "stdout",
     "output_type": "stream",
     "text": [
      "Saved pdui2sbcit.pkl 34752\n"
     ]
    }
   ],
   "source": [
    "sbid2citationscore = {}\n",
    "pdui2sbcit = {dui: {year: None for year in years} for dui, _ in pdui2sbfreq.items()}\n",
    "for c, dui in tqdm(enumerate(list(pdui2sbfreq.keys()))):\n",
    "    if dui[0] not in dui2parents or dui[1] not in dui2parents:\n",
    "        continue\n",
    "    parent1 = dui2parents[dui[0]][0]\n",
    "    parent2 = dui2parents[dui[1]][0]\n",
    "    for year in years:\n",
    "        sbids = list(set(pdui2sbfreq[dui][year]))\n",
    "        citations = [sbid2citation[sbid] for sbid in sbids]\n",
    "        quarts1 = zero2allsbchildquarts[parent1][year]\n",
    "        citation_percentiles1 = quantize_citations(citations, quarts1)\n",
    "        quarts2 = zero2allsbchildquarts[parent2][year]\n",
    "        citation_percentiles2 = quantize_citations(citations, quarts2)\n",
    "        #at each index of citation_percentiles1 and citation_percentiles2, select the bigger one element and make the list final citation_percentiles\n",
    "        final_citation_percentiles = [max(citation_percentiles1[i], citation_percentiles2[i]) for i in range(len(citation_percentiles1))] \n",
    "        #add each element to its corresponding pmid in the pmid2citationscore dictionary\n",
    "        for i, sbid in enumerate(sbids):\n",
    "            sbid2citationscore[sbid] = final_citation_percentiles[i]\n",
    "\n",
    "        if dui in pdui2sbcit:\n",
    "            pdui2sbcit[dui][year] = final_citation_percentiles\n",
    "            \n",
    "with open('../data/pickles/pdui2sbcit.pkl', 'wb') as handle:\n",
    "    pickle.dump(pdui2sbcit, handle, protocol=pickle.HIGHEST_PROTOCOL)\n",
    "print('Saved pdui2sbcit.pkl', len(pdui2sbcit))"
   ]
  },
  {
   "cell_type": "code",
   "execution_count": 32,
   "metadata": {},
   "outputs": [
    {
     "name": "stdout",
     "output_type": "stream",
     "text": [
      "Loaded pdui2pubcit.pkl 34752\n",
      "Loaded pdui2sbcit.pkl 34752\n"
     ]
    }
   ],
   "source": [
    "#load pdui2pubcit and pdui2sbcit\n",
    "with open('../data/pickles/pdui2pubcit.pkl', 'rb') as handle:\n",
    "    pdui2pubcit = pickle.load(handle)\n",
    "with open('../data/pickles/pdui2sbcit.pkl', 'rb') as handle:\n",
    "    pdui2sbcit = pickle.load(handle)\n",
    "\n",
    "print('Loaded pdui2pubcit.pkl', len(pdui2pubcit))\n",
    "print('Loaded pdui2sbcit.pkl', len(pdui2sbcit))"
   ]
  },
  {
   "cell_type": "code",
   "execution_count": 33,
   "metadata": {},
   "outputs": [
    {
     "data": {
      "text/plain": [
       "[('D008372', 'D056804'),\n",
       " ('D004644', 'D064866'),\n",
       " ('D009711', 'D011506'),\n",
       " ('D000080487', 'D016494'),\n",
       " ('D000058', 'D003695'),\n",
       " ('D012119', 'D015444'),\n",
       " ('D007328', 'D015551'),\n",
       " ('D012306', 'D013696'),\n",
       " ('D000328', 'D058186'),\n",
       " ('D000917', 'D014612')]"
      ]
     },
     "execution_count": 33,
     "metadata": {},
     "output_type": "execute_result"
    }
   ],
   "source": [
    "mutual_pairs[:10]"
   ]
  },
  {
   "cell_type": "code",
   "execution_count": 34,
   "metadata": {},
   "outputs": [
    {
     "name": "stdout",
     "output_type": "stream",
     "text": [
      "('D001419', 'D008168') ('Bacteria', 'Lung')\n",
      "51 [33231872, 32182913, 32117248, 32430469, 32323724, 32470285, 32385294, 32730904, 32327704, 32256666, 33137434, 32060060, 33060634, 33046682, 32957986, 32877221, 33224873, 33208745, 32099373, 31872949, 32528054, 32467386, 32617663, 32298431, 32062024, 33042125, 32084305, 32623064, 32252376, 32303963, 33178460, 32203101, 33248225, 32228581, 32403302, 32071269, 33139948, 32400877, 32888431, 32276591, 33360370, 32238195, 31770482, 32867061, 33243510, 33326455, 33101299, 33824121, 32047739, 33482620, 32552447]\n",
      "2 ['S014361', 'S010703']\n",
      "37.0 [0.5, 0.5, 1, 0.5, 0.5, 0.25, 1, 0.75, 0.75, 0.5, 0.25, 0.5, 0.75, 0.75, 0.75, 1, 0.75, 1, 1, 0.75, 0.5, 1, 0.75, 1, 1, 1, 1, 0.5, 1, 0.75, 0.25, 1, 0.25, 1, 1, 1, 1, 0.75, 1, 0.75, 1, 1, 0.25, 0.25, 0.5, 0.75, 1, 0.25, 0.5, 0.75, 0.5]\n",
      "1.75 [1, 0.75]\n"
     ]
    }
   ],
   "source": [
    "sample_pair = ('D001419', 'D008168')\n",
    "sample_year = '2020'\n",
    "sample_names = (dui2name[sample_pair[0]], dui2name[sample_pair[1]])\n",
    "\n",
    "print(sample_pair, sample_names)\n",
    "print(len(pdui2pubfreq[sample_pair][sample_year]), pdui2pubfreq[sample_pair][sample_year])\n",
    "print(len(pdui2sbfreq[sample_pair][sample_year]), pdui2sbfreq[sample_pair][sample_year])\n",
    "print(np.sum(pdui2pubcit[sample_pair][sample_year]), pdui2pubcit[sample_pair][sample_year])\n",
    "print(np.sum(pdui2sbcit[sample_pair][sample_year]), pdui2sbcit[sample_pair][sample_year])"
   ]
  },
  {
   "cell_type": "code",
   "execution_count": 35,
   "metadata": {},
   "outputs": [
    {
     "name": "stderr",
     "output_type": "stream",
     "text": [
      "100%|██████████| 34752/34752 [00:08<00:00, 4168.10it/s]"
     ]
    },
    {
     "name": "stdout",
     "output_type": "stream",
     "text": [
      "dui2pubFreqSig: 34752\n",
      "dui2sbFreqSig: 34752\n",
      "dui2pubCitSig: 34752\n",
      "dui2sbCitSig: 34752\n"
     ]
    },
    {
     "name": "stderr",
     "output_type": "stream",
     "text": [
      "\n"
     ]
    }
   ],
   "source": [
    "dui2pubFreqSig = {}\n",
    "dui2sbFreqSig = {}\n",
    "dui2pubCitSig = {}\n",
    "dui2sbCitSig = {}\n",
    "for dui in tqdm(mutual_pairs):\n",
    "    dui2pubFreqSig[dui] = []\n",
    "    dui2sbFreqSig[dui] = []\n",
    "    dui2pubCitSig[dui] = []\n",
    "    dui2sbCitSig[dui] = []\n",
    "    for year in years:\n",
    "        dui2pubFreqSig[dui].append(len(set(pdui2pubfreq[dui][year])))\n",
    "        dui2sbFreqSig[dui].append(len(set(pdui2sbfreq[dui][year])))\n",
    "        dui2pubCitSig[dui].append(np.sum(pdui2pubcit[dui][year]))\n",
    "        dui2sbCitSig[dui].append(np.sum(pdui2sbcit[dui][year]))\n",
    "print('dui2pubFreqSig:', len(dui2pubFreqSig))\n",
    "print('dui2sbFreqSig:', len(dui2sbFreqSig))\n",
    "print('dui2pubCitSig:', len(dui2pubCitSig))\n",
    "print('dui2sbCitSig:', len(dui2sbCitSig))"
   ]
  },
  {
   "cell_type": "code",
   "execution_count": 36,
   "metadata": {},
   "outputs": [
    {
     "data": {
      "text/plain": [
       "[0.5, 0.5, 1, 0.75, 0.75, 0.5, 1, 0.5, 0.75, 0.5, 0.75, 1, 0.75, 1]"
      ]
     },
     "execution_count": 36,
     "metadata": {},
     "output_type": "execute_result"
    }
   ],
   "source": [
    "pdui2sbcit[('D005355', 'D051379')]['2020']"
   ]
  },
  {
   "cell_type": "code",
   "execution_count": 42,
   "metadata": {},
   "outputs": [
    {
     "data": {
      "image/png": "[encoded data removed]",
      "text/plain": [
       "<Figure size 720x360 with 2 Axes>"
      ]
     },
     "metadata": {
      "needs_background": "light"
     },
     "output_type": "display_data"
    }
   ],
   "source": [
    "total_pubs_per_year_freq = {}\n",
    "for year in years:\n",
    "    total_pubs_per_year_freq[year] = []\n",
    "    for dui in pdui2pubfreq:\n",
    "        total_pubs_per_year_freq[year] += pdui2pubfreq[dui][year]\n",
    "    total_pubs_per_year_freq[year] = len(set(total_pubs_per_year_freq[year]))\n",
    "\n",
    "total_sbirs_per_year_freq = {}\n",
    "for year in years:\n",
    "    total_sbirs_per_year_freq[year] = []\n",
    "    for dui in pdui2sbfreq:\n",
    "        total_sbirs_per_year_freq[year] += pdui2sbfreq[dui][year]\n",
    "    total_sbirs_per_year_freq[year] = len(set(total_sbirs_per_year_freq[year]))\n",
    "\n",
    "fig, axs = plt.subplots(1, 2, figsize=(10, 5))\n",
    "axs[0].plot(total_pubs_per_year_freq.keys(), total_pubs_per_year_freq.values())\n",
    "axs[0].set_xlabel('Year')\n",
    "axs[0].set_ylabel('Number of Publications')\n",
    "axs[0].set_title('Number of Publications per Year')\n",
    "axs[1].plot(total_sbirs_per_year_freq.keys(), total_sbirs_per_year_freq.values())\n",
    "axs[1].set_xlabel('Year')\n",
    "axs[1].set_ylabel('Number of SBIRs')\n",
    "axs[1].set_title('Number of SBIRs per Year')\n",
    "\n",
    "for ax in axs:\n",
    "    for tick in ax.get_xticklabels():\n",
    "        tick.set_rotation(45)\n",
    "\n",
    "plt.tight_layout()\n",
    "plt.show()"
   ]
  },
  {
   "cell_type": "code",
   "execution_count": 43,
   "metadata": {},
   "outputs": [
    {
     "name": "stderr",
     "output_type": "stream",
     "text": [
      "100%|██████████| 12/12 [00:40<00:00,  3.36s/it]\n",
      "100%|██████████| 12/12 [00:00<00:00, 12.42it/s]\n"
     ]
    },
    {
     "data": {
      "image/png": "[encoded data removed]",
      "text/plain": [
       "<Figure size 720x360 with 2 Axes>"
      ]
     },
     "metadata": {
      "needs_background": "light"
     },
     "output_type": "display_data"
    }
   ],
   "source": [
    "total_pubs_per_year_cit = {}\n",
    "for year in tqdm(years):\n",
    "    pmids_list = []\n",
    "    for dui in pdui2pubcit:\n",
    "        if pdui2pubfreq[dui][year] and pdui2pubcit[dui][year]:\n",
    "            pmids_list += list(zip(pdui2pubfreq[dui][year], pdui2pubcit[dui][year]))\n",
    "    pmids_set = set(pmids_list)\n",
    "    # pmids_set = set([pmid for pmid in pmids_set if pmid[1] is not None])\n",
    "    total_pubs_per_year_cit[year] = np.sum([impact_score for _, impact_score in pmids_set])\n",
    "\n",
    "total_sbirs_per_year_cit = {}\n",
    "for year in tqdm(years):\n",
    "    sbids_list = []\n",
    "    for dui in pdui2sbfreq:\n",
    "        if pdui2sbfreq[dui][year] and pdui2sbcit[dui][year]:\n",
    "            sbids_list += list(zip(pdui2sbfreq[dui][year], pdui2sbcit[dui][year]))\n",
    "    sbids_set = set(sbids_list)\n",
    "    # sbids_set = set([sbid for sbid in sbids_set if sbid[1] is not None])\n",
    "    total_sbirs_per_year_cit[year] = np.sum([impact_score for _, impact_score in sbids_set])\n",
    "\n",
    "\n",
    "fig, axs = plt.subplots(1, 2, figsize=(10, 5))\n",
    "axs[0].plot(total_pubs_per_year_cit.keys(), total_pubs_per_year_cit.values())\n",
    "axs[0].set_xlabel('Year')\n",
    "axs[0].set_ylabel('Number of Publications')\n",
    "axs[0].set_title('Number of Publications per Year')\n",
    "axs[1].plot(total_sbirs_per_year_cit.keys(), total_sbirs_per_year_cit.values())\n",
    "axs[1].set_xlabel('Year')\n",
    "axs[1].set_ylabel('Number of SBIRs')\n",
    "axs[1].set_title('Number of SBIRs per Year')\n",
    "\n",
    "for ax in axs:\n",
    "    for tick in ax.get_xticklabels():\n",
    "        tick.set_rotation(45)\n",
    "\n",
    "plt.tight_layout()\n",
    "plt.show()"
   ]
  },
  {
   "cell_type": "code",
   "execution_count": 45,
   "metadata": {},
   "outputs": [
    {
     "name": "stderr",
     "output_type": "stream",
     "text": [
      "  0%|          | 0/34752 [00:00<?, ?it/s]"
     ]
    },
    {
     "name": "stderr",
     "output_type": "stream",
     "text": [
      "100%|██████████| 34752/34752 [00:02<00:00, 16096.10it/s]"
     ]
    },
    {
     "name": "stdout",
     "output_type": "stream",
     "text": [
      "len(dui2pubFreqSigProp): 26027\n",
      "len(dui2sbFreqSigProp): 26027\n",
      "len(dui2pubCitSigProp): 26027\n",
      "len(dui2sbCitSigProp): 26027\n"
     ]
    },
    {
     "name": "stderr",
     "output_type": "stream",
     "text": [
      "\n"
     ]
    }
   ],
   "source": [
    "dui2pubFreqSigProp = {}\n",
    "dui2sbFreqSigProp = {}\n",
    "dui2pubCitSigProp = {}\n",
    "dui2sbCitSigProp = {}\n",
    "for dui in tqdm(mutual_pairs):\n",
    "        if dui2pubFreqSig[dui][i] and dui2sbFreqSig[dui][i] and dui2pubCitSig[dui][i] and dui2sbCitSig[dui][i]:\n",
    "            dui2pubFreqSigProp[dui] = []\n",
    "            dui2sbFreqSigProp[dui] = []\n",
    "            dui2pubCitSigProp[dui] = []\n",
    "            dui2sbCitSigProp[dui] = []\n",
    "            for i in range(len(years)):\n",
    "                dui2pubFreqSigProp[dui].append(dui2pubFreqSig[dui][i] / total_pubs_per_year_freq[years[i]])\n",
    "                dui2sbFreqSigProp[dui].append(dui2sbFreqSig[dui][i] / total_sbirs_per_year_freq[years[i]])\n",
    "                dui2pubCitSigProp[dui].append(np.sum(dui2pubCitSig[dui][i]) / total_pubs_per_year_cit[year])\n",
    "                dui2sbCitSigProp[dui].append(np.sum(dui2sbCitSig[dui][i]) / total_sbirs_per_year_cit[year])\n",
    "print('len(dui2pubFreqSigProp):', len(dui2pubFreqSigProp))\n",
    "print('len(dui2sbFreqSigProp):', len(dui2sbFreqSigProp))\n",
    "print('len(dui2pubCitSigProp):', len(dui2pubCitSigProp))\n",
    "print('len(dui2sbCitSigProp):', len(dui2sbCitSigProp))"
   ]
  },
  {
   "cell_type": "code",
   "execution_count": 46,
   "metadata": {},
   "outputs": [
    {
     "data": {
      "image/png": "[encoded data removed]",
      "text/plain": [
       "<Figure size 720x720 with 4 Axes>"
      ]
     },
     "metadata": {
      "needs_background": "light"
     },
     "output_type": "display_data"
    }
   ],
   "source": [
    "# now plot dui2pubFreqSig[sample_dui] and dui2pubFreqSigProp[sample_dui] next to each other. do the same for dui2sbFreqSig and dui2sbFreqSigProp with the same key as well. specify sbirs with red and publications with blue lines. make the font size of x axis and y axis and the title bigger.\n",
    "\n",
    "fig, axs = plt.subplots(2, 2, figsize=(10, 10))\n",
    "fig.suptitle(str(sample_pair) + ' - ' + dui2name[sample_pair[0]] + ' & ' + dui2name[sample_pair[1]] + ' - solo', fontsize=16, fontweight='bold')\n",
    "axs[0, 0].plot(years, dui2pubFreqSig[sample_pair], color='blue')\n",
    "axs[0, 0].set_xlabel('Year')\n",
    "axs[0, 0].set_ylabel('Number of Publications')\n",
    "axs[0, 0].set_title('Number of Publications per Year')\n",
    "axs[0, 1].plot(years, dui2pubFreqSigProp[sample_pair], color='blue')\n",
    "axs[0, 1].set_xlabel('Year')\n",
    "axs[0, 1].set_ylabel('Proportion of Publications')\n",
    "axs[0, 1].set_title('Proportion of Publications per Year')\n",
    "axs[1, 0].plot(years, dui2sbFreqSig[sample_pair], color='red')\n",
    "axs[1, 0].set_xlabel('Year')\n",
    "axs[1, 0].set_ylabel('Number of SBIRs')\n",
    "axs[1, 0].set_title('Number of SBIRs per Year')\n",
    "axs[1, 1].plot(years, dui2sbFreqSigProp[sample_pair], color='red')\n",
    "axs[1, 1].set_xlabel('Year')\n",
    "axs[1, 1].set_ylabel('Proportion of SBIRs')\n",
    "axs[1, 1].set_title('Proportion of SBIRs per Year')\n",
    "\n",
    "for ax in axs.flat:\n",
    "    for tick in ax.get_xticklabels():\n",
    "        tick.set_rotation(45)\n",
    "\n",
    "plt.tight_layout()\n",
    "plt.show()"
   ]
  },
  {
   "cell_type": "code",
   "execution_count": 47,
   "metadata": {},
   "outputs": [
    {
     "data": {
      "image/png": "[encoded data removed]",
      "text/plain": [
       "<Figure size 720x720 with 4 Axes>"
      ]
     },
     "metadata": {
      "needs_background": "light"
     },
     "output_type": "display_data"
    }
   ],
   "source": [
    "# now plot dui2pubFreqSig[sample_dui] and dui2pubFreqSigProp[sample_dui] next to each other. do the same for dui2sbFreqSig and dui2sbFreqSigProp with the same key as well. specify sbirs with red and publications with blue lines. make the font size of x axis and y axis and the title bigger.\n",
    "\n",
    "fig, axs = plt.subplots(2, 2, figsize=(10, 10))\n",
    "fig.suptitle(str(sample_pair) + ' - ' + dui2name[sample_pair[0]] + ' & ' + dui2name[sample_pair[1]] + ' - solo', fontsize=16, fontweight='bold')\n",
    "axs[0, 0].plot(years, dui2pubCitSig[sample_pair], color='blue')\n",
    "axs[0, 0].set_xlabel('Year')\n",
    "axs[0, 0].set_ylabel('Number of Publications')\n",
    "axs[0, 0].set_title('Number of Publications per Year')\n",
    "axs[0, 1].plot(years, dui2pubCitSigProp[sample_pair], color='blue')\n",
    "axs[0, 1].set_xlabel('Year')\n",
    "axs[0, 1].set_ylabel('Proportion of Publications')\n",
    "axs[0, 1].set_title('Proportion of Publications per Year')\n",
    "axs[1, 0].plot(years, dui2sbCitSig[sample_pair], color='red')\n",
    "axs[1, 0].set_xlabel('Year')\n",
    "axs[1, 0].set_ylabel('Number of SBIRs')\n",
    "axs[1, 0].set_title('Number of SBIRs per Year')\n",
    "axs[1, 1].plot(years, dui2sbCitSigProp[sample_pair], color='red')\n",
    "axs[1, 1].set_xlabel('Year')\n",
    "axs[1, 1].set_ylabel('Proportion of SBIRs')\n",
    "axs[1, 1].set_title('Proportion of SBIRs per Year')\n",
    "\n",
    "for ax in axs.flat:\n",
    "    for tick in ax.get_xticklabels():\n",
    "        tick.set_rotation(45)\n",
    "\n",
    "plt.tight_layout()\n",
    "plt.show()"
   ]
  },
  {
   "cell_type": "code",
   "execution_count": 48,
   "metadata": {},
   "outputs": [
    {
     "name": "stderr",
     "output_type": "stream",
     "text": [
      "100%|██████████| 26027/26027 [00:01<00:00, 18458.88it/s]"
     ]
    },
    {
     "name": "stdout",
     "output_type": "stream",
     "text": [
      "len(dui2pubFreqSigPropScaled): 26027\n",
      "len(dui2sbFreqSigPropScaled): 26027\n",
      "len(dui2pubCitSigPropScaled): 26027\n",
      "len(dui2sbCitSigPropScaled): 26027\n"
     ]
    },
    {
     "name": "stderr",
     "output_type": "stream",
     "text": [
      "\n"
     ]
    }
   ],
   "source": [
    "dui2pubFreqSigPropScaled = {}\n",
    "dui2sbFreqSigPropScaled = {}\n",
    "dui2pubCitSigPropScaled = {}\n",
    "dui2sbCitSigPropScaled = {}\n",
    "for dui in tqdm(dui2pubFreqSigProp):\n",
    "    if dui2pubFreqSigProp[dui] and dui2sbFreqSigProp[dui] and dui2pubCitSigProp[dui] and dui2sbCitSigProp[dui]:\n",
    "        dui2pubFreqSigPropScaled[dui] = []\n",
    "        dui2sbFreqSigPropScaled[dui] = []\n",
    "        dui2pubCitSigPropScaled[dui] = []\n",
    "        dui2sbCitSigPropScaled[dui] = []\n",
    "        for i in range(len(years)):\n",
    "            try:\n",
    "                dui2pubFreqSigPropScaled[dui].append((dui2pubFreqSigProp[dui][i] - min(dui2pubFreqSigProp[dui])) / (max(dui2pubFreqSigProp[dui]) - min(dui2pubFreqSigProp[dui])))\n",
    "            except ZeroDivisionError:\n",
    "                dui2pubFreqSigPropScaled[dui].append(0)\n",
    "            try:\n",
    "                dui2sbFreqSigPropScaled[dui].append((dui2sbFreqSigProp[dui][i] - min(dui2sbFreqSigProp[dui])) / (max(dui2sbFreqSigProp[dui]) - min(dui2sbFreqSigProp[dui])))\n",
    "            except ZeroDivisionError:\n",
    "                dui2sbFreqSigPropScaled[dui].append(0)\n",
    "            try:\n",
    "                dui2pubCitSigPropScaled[dui].append((dui2pubCitSigProp[dui][i] - min(dui2pubCitSigProp[dui])) / (max(dui2pubCitSigProp[dui]) - min(dui2pubCitSigProp[dui])))\n",
    "            except ZeroDivisionError:\n",
    "                dui2pubCitSigPropScaled[dui].append(0)\n",
    "            try:\n",
    "                dui2sbCitSigPropScaled[dui].append((dui2sbCitSigProp[dui][i] - min(dui2sbCitSigProp[dui])) / (max(dui2sbCitSigProp[dui]) - min(dui2sbCitSigProp[dui])))\n",
    "            except ZeroDivisionError:\n",
    "                dui2sbCitSigPropScaled[dui].append(0)\n",
    "print('len(dui2pubFreqSigPropScaled):', len(dui2pubFreqSigPropScaled))\n",
    "print('len(dui2sbFreqSigPropScaled):', len(dui2sbFreqSigPropScaled))\n",
    "print('len(dui2pubCitSigPropScaled):', len(dui2pubCitSigPropScaled))\n",
    "print('len(dui2sbCitSigPropScaled):', len(dui2sbCitSigPropScaled))"
   ]
  },
  {
   "cell_type": "code",
   "execution_count": 49,
   "metadata": {},
   "outputs": [
    {
     "data": {
      "image/png": "[encoded data removed]",
      "text/plain": [
       "<Figure size 720x720 with 4 Axes>"
      ]
     },
     "metadata": {
      "needs_background": "light"
     },
     "output_type": "display_data"
    }
   ],
   "source": [
    "fig, axs = plt.subplots(2, 2, figsize=(10, 10))\n",
    "fig.suptitle(str(sample_pair) + ' - ' + dui2name[sample_pair[0]] + ' & ' + dui2name[sample_pair[1]] + ' - solo', fontsize=16, fontweight='bold')\n",
    "axs[0, 0].plot(years, dui2pubFreqSigProp[sample_pair], color='blue')\n",
    "axs[0, 0].set_xlabel('Year')\n",
    "axs[0, 0].set_ylabel('Number of Publications')\n",
    "axs[0, 0].set_title('Number of Publications per Year')\n",
    "axs[0, 1].plot(years, dui2pubFreqSigPropScaled[sample_pair], color='blue')\n",
    "axs[0, 1].set_xlabel('Year')\n",
    "axs[0, 1].set_ylabel('Proportion of Publications')\n",
    "axs[0, 1].set_title('Scaled Proportion of Publications per Year')\n",
    "axs[1, 0].plot(years, dui2sbFreqSigProp[sample_pair], color='red')\n",
    "axs[1, 0].set_xlabel('Year')\n",
    "axs[1, 0].set_ylabel('Number of SBIRs')\n",
    "axs[1, 0].set_title('Number of SBIRs per Year')\n",
    "axs[1, 1].plot(years, dui2sbFreqSigPropScaled[sample_pair], color='red')\n",
    "axs[1, 1].set_xlabel('Year')\n",
    "axs[1, 1].set_ylabel('Proportion of SBIRs')\n",
    "axs[1, 1].set_title('Scaled Proportion of SBIRs per Year')\n",
    "\n",
    "for ax in axs.flat:\n",
    "    for tick in ax.get_xticklabels():\n",
    "        tick.set_rotation(45)\n",
    "\n",
    "plt.tight_layout()\n",
    "plt.show()"
   ]
  },
  {
   "cell_type": "code",
   "execution_count": 50,
   "metadata": {},
   "outputs": [
    {
     "data": {
      "image/png": "[encoded data removed]",
      "text/plain": [
       "<Figure size 720x720 with 4 Axes>"
      ]
     },
     "metadata": {
      "needs_background": "light"
     },
     "output_type": "display_data"
    }
   ],
   "source": [
    "fig, axs = plt.subplots(2, 2, figsize=(10, 10))\n",
    "fig.suptitle(str(sample_pair) + ' - ' + dui2name[sample_pair[0]] + ' & ' + dui2name[sample_pair[1]] + ' - solo', fontsize=16, fontweight='bold')\n",
    "axs[0, 0].plot(years, dui2pubCitSigProp[sample_pair], color='blue')\n",
    "axs[0, 0].set_xlabel('Year')\n",
    "axs[0, 0].set_ylabel('Number of Publications')\n",
    "axs[0, 0].set_title('Number of Publications per Year')\n",
    "axs[0, 1].plot(years, dui2pubCitSigPropScaled[sample_pair], color='blue')\n",
    "axs[0, 1].set_xlabel('Year')\n",
    "axs[0, 1].set_ylabel('Proportion of Publications')\n",
    "axs[0, 1].set_title('Scaled Proportion of Publications per Year')\n",
    "axs[1, 0].plot(years, dui2sbCitSigProp[sample_pair], color='red')\n",
    "axs[1, 0].set_xlabel('Year')\n",
    "axs[1, 0].set_ylabel('Number of SBIRs')\n",
    "axs[1, 0].set_title('Number of SBIRs per Year')\n",
    "axs[1, 1].plot(years, dui2sbCitSigPropScaled[sample_pair], color='red')\n",
    "axs[1, 1].set_xlabel('Year')\n",
    "axs[1, 1].set_ylabel('Proportion of SBIRs')\n",
    "axs[1, 1].set_title('Scaled Proportion of SBIRs per Year')\n",
    "\n",
    "for ax in axs.flat:\n",
    "    for tick in ax.get_xticklabels():\n",
    "        tick.set_rotation(45)\n",
    "\n",
    "plt.tight_layout()\n",
    "plt.show()"
   ]
  },
  {
   "cell_type": "code",
   "execution_count": 51,
   "metadata": {},
   "outputs": [
    {
     "name": "stdout",
     "output_type": "stream",
     "text": [
      "Saved\n"
     ]
    }
   ],
   "source": [
    "#save dui2prubFreqSigPropScaledchild and dui2sbFreqSigPropScaledchild to pickle at data/pickles/\n",
    "with open('../data/pickles/pdui2pubFreqSigPropScaled.pickle', 'wb') as handle:\n",
    "    pickle.dump(dui2pubFreqSigPropScaled, handle, protocol=pickle.HIGHEST_PROTOCOL)\n",
    "with open('../data/pickles/pdui2sbFreqSigPropScaled.pickle', 'wb') as handle:\n",
    "    pickle.dump(dui2sbFreqSigPropScaled, handle, protocol=pickle.HIGHEST_PROTOCOL)\n",
    "with open('../data/pickles/pdui2pubCitSigPropScaled.pickle', 'wb') as handle:\n",
    "    pickle.dump(dui2pubCitSigPropScaled, handle, protocol=pickle.HIGHEST_PROTOCOL)\n",
    "with open('../data/pickles/pdui2sbCitSigPropScaled.pickle', 'wb') as handle:\n",
    "    pickle.dump(dui2sbCitSigPropScaled, handle, protocol=pickle.HIGHEST_PROTOCOL)\n",
    "print('Saved')"
   ]
  },
  {
   "cell_type": "code",
   "execution_count": 52,
   "metadata": {},
   "outputs": [
    {
     "name": "stdout",
     "output_type": "stream",
     "text": [
      "pdui2pubFreqSigPropScaled: 26027\n",
      "pdui2sbFreqSigPropScaled: 26027\n",
      "pdui2pubCitSigPropScaled: 26027\n",
      "pdui2sbCitSigPropScaled: 26027\n"
     ]
    }
   ],
   "source": [
    "#load dui2prubFreqSigPropScaledchild and dui2sbFreqSigPropScaledchild from pickle at data/pickles/\n",
    "with open('../data/pickles/pdui2pubFreqSigPropScaled.pickle', 'rb') as handle:\n",
    "    dui2pubFreqSigPropScaled = pickle.load(handle)\n",
    "with open('../data/pickles/pdui2sbFreqSigPropScaled.pickle', 'rb') as handle:\n",
    "    dui2sbFreqSigPropScaled = pickle.load(handle)\n",
    "with open('../data/pickles/pdui2pubCitSigPropScaled.pickle', 'rb') as handle:\n",
    "    dui2pubCitSigPropScaled = pickle.load(handle)\n",
    "with open('../data/pickles/pdui2sbCitSigPropScaled.pickle', 'rb') as handle:\n",
    "    dui2sbCitSigPropScaled = pickle.load(handle)\n",
    "print('pdui2pubFreqSigPropScaled:', len(dui2pubFreqSigPropScaled))\n",
    "print('pdui2sbFreqSigPropScaled:', len(dui2sbFreqSigPropScaled))\n",
    "print('pdui2pubCitSigPropScaled:', len(dui2pubCitSigPropScaled))\n",
    "print('pdui2sbCitSigPropScaled:', len(dui2sbCitSigPropScaled))"
   ]
  },
  {
   "attachments": {},
   "cell_type": "markdown",
   "metadata": {},
   "source": [
    "Cross-correlation"
   ]
  },
  {
   "cell_type": "code",
   "execution_count": 56,
   "metadata": {},
   "outputs": [
    {
     "name": "stderr",
     "output_type": "stream",
     "text": [
      "100%|██████████| 26027/26027 [00:01<00:00, 23686.64it/s]\n"
     ]
    },
    {
     "name": "stdout",
     "output_type": "stream",
     "text": [
      "Saved\n",
      "len(dui2cc_freq): 26027\n",
      "len(dui2cc_cit): 26027\n"
     ]
    }
   ],
   "source": [
    "from scipy import signal\n",
    "\n",
    "# create a dui2cc dictionary that maps a dui to a scipy cross correlation between the scaled pub and sbir frequencies\n",
    "dui2cc_freq = {}\n",
    "dui2cc_cit = {}\n",
    "for dui in tqdm(dui2pubFreqSigPropScaled):\n",
    "    sigA, sigB = dui2pubFreqSigPropScaled[dui], dui2sbFreqSigPropScaled[dui]\n",
    "    corr = signal.correlate(sigB, sigA, mode='full') / len(years)\n",
    "    corr = corr.astype(np.float64)\n",
    "    lags = signal.correlation_lags(len(sigB), len(sigA))\n",
    "    corr /= np.max(corr) + 1e-8\n",
    "    dui2cc_freq[dui] = corr\n",
    "\n",
    "    sigA, sigB = dui2pubCitSigPropScaled[dui], dui2sbCitSigPropScaled[dui]\n",
    "    corr = signal.correlate(sigB, sigA, mode='full') / len(years)\n",
    "    corr = corr.astype(np.float64)\n",
    "    lags = signal.correlation_lags(len(sigB), len(sigA))\n",
    "    corr /= np.max(corr) + 1e-8\n",
    "    dui2cc_cit[dui] = corr\n",
    "\n",
    "#save the dui2cc and dui2ccchild dictionaries in data/pickle\n",
    "with open('../data/pickles/pdui2cc_freq.pickle', 'wb') as handle:\n",
    "    pickle.dump(dui2cc_freq, handle, protocol=pickle.HIGHEST_PROTOCOL)\n",
    "with open('../data/pickles/pdui2cc_cit.pickle', 'wb') as handle:\n",
    "    pickle.dump(dui2cc_cit, handle, protocol=pickle.HIGHEST_PROTOCOL)\n",
    "\n",
    "print('Saved')\n",
    "print('len(dui2cc_freq):', len(dui2cc_freq))\n",
    "print('len(dui2cc_cit):', len(dui2cc_cit))"
   ]
  },
  {
   "cell_type": "code",
   "execution_count": 57,
   "metadata": {},
   "outputs": [
    {
     "name": "stdout",
     "output_type": "stream",
     "text": [
      "Loaded dui2cc_freq. 26027\n",
      "Loaded dui2cc_cit. 26027\n"
     ]
    }
   ],
   "source": [
    "with open('../data/pickles/pdui2cc_freq.pickle', 'rb') as handle:\n",
    "    dui2cc_freq = pickle.load(handle)\n",
    "with open('../data/pickles/pdui2cc_cit.pickle', 'rb') as handle:\n",
    "    dui2cc_cit = pickle.load(handle)\n",
    "print('Loaded dui2cc_freq.', len(dui2cc_freq))\n",
    "print('Loaded dui2cc_cit.', len(dui2cc_cit))"
   ]
  },
  {
   "cell_type": "code",
   "execution_count": 58,
   "metadata": {},
   "outputs": [
    {
     "name": "stdout",
     "output_type": "stream",
     "text": [
      "maximum_correlation_lag: -1\n",
      "pos_auc: 4.071187806233214\n",
      "neg_auc: 3.0720519658529826\n"
     ]
    },
    {
     "data": {
      "image/png": "[encoded data removed]",
      "text/plain": [
       "<Figure size 1080x360 with 3 Axes>"
      ]
     },
     "metadata": {
      "needs_background": "light"
     },
     "output_type": "display_data"
    }
   ],
   "source": [
    "# plot three plots next to each other, one for dui2pubFreqSigPropScaled, one for dui2sbFreqSigPropScaled, and one for dui2ccdui2cc\n",
    "fig, axs = plt.subplots(1, 3, figsize=(15, 5))\n",
    "fig.suptitle(str(sample_pair) + ' - ' + dui2name[sample_pair[0]] + ' & ' + dui2name[sample_pair[1]] + ' - solo', fontsize=16, fontweight='bold')\n",
    "axs[0].plot(years, dui2pubFreqSigPropScaled[sample_pair], color='blue')\n",
    "axs[0].set_xlabel('Year')\n",
    "axs[0].set_ylabel('Proportion of Publications')\n",
    "axs[0].set_title('Scaled Proportion of Publications per Year')\n",
    "axs[1].plot(years, dui2sbFreqSigPropScaled[sample_pair], color='red')\n",
    "axs[1].set_xlabel('Year')\n",
    "axs[1].set_ylabel('Proportion of SBIRs')\n",
    "axs[1].set_title('Scaled Proportion of SBIRs per Year')\n",
    "axs[2].plot(correlation_lags, dui2cc_freq[sample_pair], color='green')\n",
    "axs[2].set_xlabel('Year')\n",
    "axs[2].set_ylabel('Cross Correlation')\n",
    "axs[2].set_title('Cross Correlation between Publications and SBIRs signals')\n",
    "\n",
    "# calculate the maximum correlation lag\n",
    "maximum_correlation_lag = correlation_lags[np.argmax(dui2cc_freq[sample_pair])]\n",
    "print('maximum_correlation_lag:', maximum_correlation_lag)\n",
    "#calcualte the AUC of the cross-correlation signal\n",
    "zero_index = correlation_lags.index(0)\n",
    "pos_auc = np.trapz(dui2cc_freq[sample_pair][zero_index + 1:], dx=1)\n",
    "neg_auc = np.trapz(dui2cc_freq[sample_pair][:zero_index], dx=1)\n",
    "print('pos_auc:', pos_auc)\n",
    "print('neg_auc:', neg_auc)\n",
    "\n",
    "for ax in axs.flat:\n",
    "    for tick in ax.get_xticklabels():\n",
    "        tick.set_rotation(45)\n",
    "\n",
    "plt.tight_layout()\n",
    "plt.show()"
   ]
  },
  {
   "cell_type": "code",
   "execution_count": 59,
   "metadata": {},
   "outputs": [
    {
     "name": "stdout",
     "output_type": "stream",
     "text": [
      "maximum_correlation_lag: -1\n",
      "pos_auc: 2.823553751801204\n",
      "neg_auc: 2.6735329518713096\n"
     ]
    },
    {
     "data": {
      "image/png": "[encoded data removed]",
      "text/plain": [
       "<Figure size 1080x360 with 3 Axes>"
      ]
     },
     "metadata": {
      "needs_background": "light"
     },
     "output_type": "display_data"
    }
   ],
   "source": [
    "# plot three plots next to each other, one for dui2pubFreqSigPropScaled, one for dui2sbFreqSigPropScaled, and one for dui2cc_cit\n",
    "fig, axs = plt.subplots(1, 3, figsize=(15, 5))\n",
    "fig.suptitle(str(sample_pair) + ' - ' + dui2name[sample_pair[0]] + ' & ' + dui2name[sample_pair[1]] + ' - solo', fontsize=16, fontweight='bold')\n",
    "axs[0].plot(years, dui2pubFreqSigPropScaled[sample_pair], color='blue')\n",
    "axs[0].set_xlabel('Year')\n",
    "axs[0].set_ylabel('Proportion of Publications')\n",
    "axs[0].set_title('Scaled Proportion of Publications per Year')\n",
    "axs[1].plot(years, dui2sbFreqSigPropScaled[sample_pair], color='red')\n",
    "axs[1].set_xlabel('Year')\n",
    "axs[1].set_ylabel('Proportion of SBIRs')\n",
    "axs[1].set_title('Scaled Proportion of SBIRs per Year')\n",
    "axs[2].plot(correlation_lags, dui2cc_cit[sample_pair], color='green')\n",
    "axs[2].set_xlabel('Year')\n",
    "axs[2].set_ylabel('Cross Correlation')\n",
    "axs[2].set_title('Cross Correlation between Publications and SBIRs signals')\n",
    "\n",
    "# calculate the maximum correlation lag\n",
    "maximum_correlation_lag = correlation_lags[np.argmax(dui2cc_cit[sample_pair])]\n",
    "print('maximum_correlation_lag:', maximum_correlation_lag)\n",
    "#calcualte the AUC of the cross-correlation signal\n",
    "zero_index = correlation_lags.index(0)\n",
    "pos_auc = np.trapz(dui2cc_cit[sample_pair][zero_index + 1:], dx=1)\n",
    "neg_auc = np.trapz(dui2cc_cit[sample_pair][:zero_index], dx=1)\n",
    "print('pos_auc:', pos_auc)\n",
    "print('neg_auc:', neg_auc)\n",
    "\n",
    "for ax in axs.flat:\n",
    "    for tick in ax.get_xticklabels():\n",
    "        tick.set_rotation(45)\n",
    "\n",
    "plt.tight_layout()\n",
    "plt.show()"
   ]
  },
  {
   "cell_type": "code",
   "execution_count": 60,
   "metadata": {},
   "outputs": [
    {
     "name": "stderr",
     "output_type": "stream",
     "text": [
      "100%|██████████| 26027/26027 [00:00<00:00, 554284.13it/s]\n",
      "100%|██████████| 26027/26027 [00:00<00:00, 92748.56it/s]\n",
      "100%|██████████| 26027/26027 [00:00<00:00, 547136.14it/s]\n",
      "100%|██████████| 26027/26027 [00:00<00:00, 90703.53it/s]\n"
     ]
    },
    {
     "name": "stdout",
     "output_type": "stream",
     "text": [
      "len(dui2mcclag_freq): 26027\n",
      "len(dui2aucratio_freq): 26027\n",
      "len(dui2mcclag_cit): 26027\n",
      "len(dui2aucratio_cit): 26027\n"
     ]
    }
   ],
   "source": [
    "# create dui2mcclag and dui2mcclagchild\n",
    "dui2mcclag_freq = {}\n",
    "dui2aucratio_freq = {}\n",
    "dui2mcclag_cit = {}\n",
    "dui2aucratio_cit = {}\n",
    "\n",
    "for dui in tqdm(dui2cc_freq):\n",
    "    dui2mcclag_freq[dui] = correlation_lags[np.argmax(dui2cc_freq[dui])]    \n",
    "for dui in tqdm(dui2cc_freq):\n",
    "    zero_index = correlation_lags.index(0)\n",
    "    pos_auc = np.trapz(dui2cc_freq[dui][zero_index + 1:], dx=1)\n",
    "    neg_auc = np.trapz(dui2cc_freq[dui][:zero_index], dx=1)\n",
    "    dui2aucratio_freq[dui] = (pos_auc + 1) / (neg_auc + 1)\n",
    "\n",
    "for dui in tqdm(dui2cc_cit):\n",
    "    dui2mcclag_cit[dui] = correlation_lags[np.argmax(dui2cc_cit[dui])]\n",
    "for dui in tqdm(dui2cc_cit):\n",
    "    zero_index = correlation_lags.index(0)\n",
    "    pos_auc = np.trapz(dui2cc_cit[dui][zero_index + 1:], dx=1)\n",
    "    neg_auc = np.trapz(dui2cc_cit[dui][:zero_index], dx=1)\n",
    "    dui2aucratio_cit[dui] = (pos_auc + 1) / (neg_auc + 1)\n",
    "\n",
    "with open('../data/pickles/dui2mcclag_freq.pickle', 'wb') as handle:\n",
    "    pickle.dump(dui2mcclag_freq, handle, protocol=pickle.HIGHEST_PROTOCOL)\n",
    "with open('../data/pickles/dui2aucratio_freq.pickle', 'wb') as handle:\n",
    "    pickle.dump(dui2aucratio_freq, handle, protocol=pickle.HIGHEST_PROTOCOL)\n",
    "with open('../data/pickles/dui2mcclag_cit.pickle', 'wb') as handle:\n",
    "    pickle.dump(dui2mcclag_cit, handle, protocol=pickle.HIGHEST_PROTOCOL)\n",
    "with open('../data/pickles/dui2aucratio_cit.pickle', 'wb') as handle:\n",
    "    pickle.dump(dui2aucratio_cit, handle, protocol=pickle.HIGHEST_PROTOCOL)\n",
    "\n",
    "print('len(dui2mcclag_freq):', len(dui2mcclag_freq))\n",
    "print('len(dui2aucratio_freq):', len(dui2aucratio_freq))\n",
    "print('len(dui2mcclag_cit):', len(dui2mcclag_cit))\n",
    "print('len(dui2aucratio_cit):', len(dui2aucratio_cit))"
   ]
  },
  {
   "cell_type": "code",
   "execution_count": 61,
   "metadata": {},
   "outputs": [
    {
     "name": "stdout",
     "output_type": "stream",
     "text": [
      "len(dui2mcclag): 26027\n",
      "len(dui2aucratio): 26027\n",
      "len(dui2mcclag): 26027\n",
      "len(dui2aucratio): 26027\n"
     ]
    }
   ],
   "source": [
    "# load dui2mcclag and dui2mcclagchild from data/pickle\n",
    "with open('../data/pickles/dui2mcclag_freq.pickle', 'rb') as handle:\n",
    "    dui2mcclag_freq = pickle.load(handle)\n",
    "with open('../data/pickles/dui2aucratio_freq.pickle', 'rb') as handle:\n",
    "    dui2aucratio_freq = pickle.load(handle)\n",
    "with open('../data/pickles/dui2mcclag_cit.pickle', 'rb') as handle:\n",
    "    dui2mcclag_cit = pickle.load(handle)\n",
    "with open('../data/pickles/dui2aucratio_cit.pickle', 'rb') as handle:\n",
    "    dui2aucratio_cit = pickle.load(handle)\n",
    "\n",
    "print('len(dui2mcclag):', len(dui2mcclag_freq))\n",
    "print('len(dui2aucratio):', len(dui2aucratio_freq))\n",
    "print('len(dui2mcclag):', len(dui2mcclag_cit))\n",
    "print('len(dui2aucratio):', len(dui2aucratio_cit))"
   ]
  },
  {
   "cell_type": "code",
   "execution_count": 66,
   "metadata": {},
   "outputs": [
    {
     "data": {
      "image/png": "[encoded data removed]",
      "text/plain": [
       "<Figure size 432x288 with 1 Axes>"
      ]
     },
     "metadata": {
      "needs_background": "light"
     },
     "output_type": "display_data"
    }
   ],
   "source": [
    "# create a histogram of the maximum correlation lags of duis in dui_subset, then plot it\n",
    "dui_subset_mcclags = [dui2mcclag_freq[pair] for pair in dui2mcclag_freq]\n",
    "plt.hist(dui_subset_mcclags, bins=10)\n",
    "plt.title('Histogram of Maximum Correlation Lags of ' + str(len(mutual_pairs)) + ' DUIs')\n",
    "plt.xlabel('Maximum Correlation Lag')\n",
    "plt.ylabel('Number of DUIs')\n",
    "plt.show()"
   ]
  },
  {
   "cell_type": "code",
   "execution_count": 67,
   "metadata": {},
   "outputs": [
    {
     "name": "stdout",
     "output_type": "stream",
     "text": [
      "neg: 4556\n",
      "zero: 0\n",
      "pos: 21471\n"
     ]
    },
    {
     "data": {
      "image/png": "[encoded data removed]",
      "text/plain": [
       "<Figure size 432x288 with 1 Axes>"
      ]
     },
     "metadata": {},
     "output_type": "display_data"
    }
   ],
   "source": [
    "#return the percentage of negative, zero, and positive maximum correlation lags as a circle graph\n",
    "dui_subset_mcclags = [dui2aucratio_freq[pair] for pair in dui2aucratio_freq]\n",
    "neg = len([lag for lag in dui_subset_mcclags if lag < 1])\n",
    "zero = len([lag for lag in dui_subset_mcclags if lag == 1])\n",
    "pos = len([lag for lag in dui_subset_mcclags if lag > 1])\n",
    "print('neg:', neg)\n",
    "print('zero:', zero)\n",
    "print('pos:', pos)\n",
    "\n",
    "labels = 'Negative', 'Zero', 'Positive'\n",
    "sizes = [neg, zero, pos]\n",
    "explode = (0.1, 0, 0)\n",
    "fig1, ax1 = plt.subplots()\n",
    "ax1.pie(sizes, explode=explode, labels=labels, autopct='%1.1f%%', shadow=True, startangle=90)\n",
    "ax1.axis('equal')\n",
    "fig1.patch.set_facecolor('white')\n",
    "plt.title('Percentage of Negative, Zero, and Positive Maximum Correlation Lags of ' + str(len(mutual_pairs)) + ' DUIs')\n",
    "plt.show()"
   ]
  },
  {
   "cell_type": "code",
   "execution_count": 68,
   "metadata": {},
   "outputs": [
    {
     "data": {
      "image/png": "[encoded data removed]",
      "text/plain": [
       "<Figure size 432x288 with 1 Axes>"
      ]
     },
     "metadata": {
      "needs_background": "light"
     },
     "output_type": "display_data"
    }
   ],
   "source": [
    "# create a histogram of the maximum correlation lags of duis in dui_subset, then plot it\n",
    "dui_subset_mcclags = [dui2mcclag_cit[pair] for pair in dui2mcclag_cit]\n",
    "plt.hist(dui_subset_mcclags, bins=10)\n",
    "plt.title('Histogram of Maximum Correlation Lags of ' + str(len(mutual_pairs)) + ' DUIs')\n",
    "plt.xlabel('Maximum Correlation Lag')\n",
    "plt.ylabel('Number of DUIs')\n",
    "plt.show()"
   ]
  },
  {
   "cell_type": "code",
   "execution_count": 69,
   "metadata": {},
   "outputs": [
    {
     "name": "stdout",
     "output_type": "stream",
     "text": [
      "neg: 6248\n",
      "zero: 0\n",
      "pos: 19779\n"
     ]
    },
    {
     "data": {
      "image/png": "[encoded data removed]",
      "text/plain": [
       "<Figure size 432x288 with 1 Axes>"
      ]
     },
     "metadata": {},
     "output_type": "display_data"
    }
   ],
   "source": [
    "#return the percentage of negative, zero, and positive maximum correlation lags as a circle graph\n",
    "dui_subset_mcclags = [dui2aucratio_cit[pair] for pair in dui2aucratio_cit]\n",
    "neg = len([lag for lag in dui_subset_mcclags if lag < 1])\n",
    "zero = len([lag for lag in dui_subset_mcclags if lag == 1])\n",
    "pos = len([lag for lag in dui_subset_mcclags if lag > 1])\n",
    "print('neg:', neg)\n",
    "print('zero:', zero)\n",
    "print('pos:', pos)\n",
    "\n",
    "labels = 'Negative', 'Zero', 'Positive'\n",
    "sizes = [neg, zero, pos]\n",
    "explode = (0.1, 0, 0)\n",
    "fig1, ax1 = plt.subplots()\n",
    "ax1.pie(sizes, explode=explode, labels=labels, autopct='%1.1f%%', shadow=True, startangle=90)\n",
    "ax1.axis('equal')\n",
    "fig1.patch.set_facecolor('white')\n",
    "plt.title('Percentage of Negative, Zero, and Positive Maximum Correlation Lags of ' + str(len(mutual_pairs)) + ' DUIs')\n",
    "plt.show()"
   ]
  },
  {
   "cell_type": "code",
   "execution_count": 4,
   "metadata": {},
   "outputs": [
    {
     "name": "stdout",
     "output_type": "stream",
     "text": [
      "pmid2emb2d: 10928078\n",
      "sbid2emb2d: 63488\n"
     ]
    }
   ],
   "source": [
    "#read 'data/pubmed_dataset/pmid2emb2d.pkl'\n",
    "with open('../data/pickles/pmid2emb2d.pkl', 'rb') as handle:\n",
    "    pmid2emb2d = pickle.load(handle)\n",
    "    print('pmid2emb2d:', len(pmid2emb2d))\n",
    "\n",
    "#read 'data/pubmed_dataset/sbid2emb2d.pkl'\n",
    "with open('../data/pickles/sbid2emb2d.pkl', 'rb') as handle:\n",
    "    sbid2emb2d = pickle.load(handle)    \n",
    "    print('sbid2emb2d:', len(sbid2emb2d))"
   ]
  },
  {
   "cell_type": "code",
   "execution_count": 4,
   "metadata": {},
   "outputs": [
    {
     "name": "stdout",
     "output_type": "stream",
     "text": [
      "pubmed_2pairs: 29129646\n",
      "sbir_2pairs: 1455397\n",
      "mutual_pairs: 34752\n",
      "pmid2emb2d: 10928078\n",
      "sbid2emb2d: 63488\n",
      "pdui2pubfreq: 34752\n",
      "pdui2sbfreq: 34752\n",
      "Loaded pdui2pubcit.pkl 34752\n",
      "Loaded pdui2sbcit.pkl 34752\n"
     ]
    },
    {
     "data": {
      "text/plain": [
       "((10991566, 2),\n",
       " array([-5.57435514, -4.74475388]),\n",
       " array([5.91685115, 5.87501581]))"
      ]
     },
     "execution_count": 4,
     "metadata": {},
     "output_type": "execute_result"
    }
   ],
   "source": [
    "#all the imports\n",
    "from sklearn.neighbors import KernelDensity\n",
    "import scipy.stats as st\n",
    "from math import log2\n",
    "\n",
    "def calculate_jsd(p, q):\n",
    "    m = 0.5 * (p + q)\n",
    "    jsd = 0.5 * st.entropy(p, m) + 0.5 * st.entropy(q, m)\n",
    "    return jsd\n",
    "\n",
    "with open('../data/pubmed_dataset/pubmed_2pairs.pkl', 'rb') as f:\n",
    "    pubmed_2pairs = pickle.load(f)\n",
    "print('pubmed_2pairs:', len(pubmed_2pairs))\n",
    "with open('../data/sbir_dataset/sbir_2pairs.pkl', 'rb') as f:\n",
    "    sbir_2pairs = pickle.load(f)\n",
    "print('sbir_2pairs:', len(sbir_2pairs))\n",
    "with open('../data/pickles/mutual_pairs.pkl', 'rb') as f:\n",
    "    mutual_pairs = pickle.load(f)\n",
    "print('mutual_pairs:', len(mutual_pairs))\n",
    "with open('../data/pickles/pmid2emb2d.pkl', 'rb') as handle:\n",
    "    pmid2emb2d = pickle.load(handle)\n",
    "    print('pmid2emb2d:', len(pmid2emb2d))\n",
    "with open('../data/pickles/sbid2emb2d.pkl', 'rb') as handle:\n",
    "    sbid2emb2d = pickle.load(handle)    \n",
    "    print('sbid2emb2d:', len(sbid2emb2d))\n",
    "with open('../data/pickles/pdui2pubfreq.pkl', 'rb') as f:\n",
    "    pdui2pubfreq = pickle.load(f)\n",
    "with open('../data/pickles/pdui2sbfreq.pkl', 'rb') as f:\n",
    "    pdui2sbfreq = pickle.load(f)\n",
    "print('pdui2pubfreq:', len(pdui2pubfreq))\n",
    "print('pdui2sbfreq:', len(pdui2sbfreq))\n",
    "with open('../data/pickles/pdui2pubcit.pkl', 'rb') as handle:\n",
    "    pdui2pubcit = pickle.load(handle)\n",
    "with open('../data/pickles/pdui2sbcit.pkl', 'rb') as handle:\n",
    "    pdui2sbcit = pickle.load(handle)\n",
    "\n",
    "print('Loaded pdui2pubcit.pkl', len(pdui2pubcit))\n",
    "print('Loaded pdui2sbcit.pkl', len(pdui2sbcit))\n",
    "\n",
    "bin_sizes = np.array([20, 20]) #each dim will be discretized into 20 bins\n",
    "kde_samples = np.array([[i, j] for i in range(bin_sizes[0]) for j in range(bin_sizes[1])])\n",
    "all_pubmed_embs = np.array([list(each) for each in list(pmid2emb2d.values())])\n",
    "all_sbir_embs = np.array([list(each) for each in list(sbid2emb2d.values())])\n",
    "all_pubmed_embs.shape, all_sbir_embs.shape\n",
    "all_embeddings = np.concatenate((all_pubmed_embs, all_sbir_embs))\n",
    "min_general = np.min(all_embeddings, axis=0)\n",
    "max_general = np.max(all_embeddings, axis=0)\n",
    "all_embeddings.shape, min_general, max_general"
   ]
  },
  {
   "cell_type": "code",
   "execution_count": 5,
   "metadata": {},
   "outputs": [
    {
     "name": "stdout",
     "output_type": "stream",
     "text": [
      "dui2parents: 29307\n"
     ]
    }
   ],
   "source": [
    "with open(PICKLES_ADDRESS + 'dui2trail_final.pkl', 'rb') as handle:\n",
    "    dui2parents = pickle.load(handle)\n",
    "    print('dui2parents:', len(dui2parents))"
   ]
  },
  {
   "cell_type": "code",
   "execution_count": 6,
   "metadata": {},
   "outputs": [
    {
     "data": {
      "text/plain": [
       "3151"
      ]
     },
     "execution_count": 6,
     "metadata": {},
     "output_type": "execute_result"
    }
   ],
   "source": [
    "import os\n",
    "\n",
    "already_processed = []\n",
    "for filename in os.listdir(LAG_DATA_ADDRESS + 'parallel/TVDs/'):\n",
    "    dui1, dui2 = filename.split('_')[0], filename.split('_')[1]\n",
    "    already_processed.append((dui1, dui2))\n",
    "already_processed = list(set(already_processed))\n",
    "len(already_processed)"
   ]
  },
  {
   "cell_type": "code",
   "execution_count": 7,
   "metadata": {},
   "outputs": [
    {
     "name": "stderr",
     "output_type": "stream",
     "text": [
      " 21%|██        | 7333/34752 [08:16<2:05:32,  3.64it/s]"
     ]
    }
   ],
   "source": [
    "from sklearn.neighbors import KernelDensity\n",
    "from multiprocessing import Pool, cpu_count\n",
    "from tqdm import tqdm\n",
    "import gc\n",
    "\n",
    "def process_dui(dui):\n",
    "    if dui[0] not in dui2parents or dui[1] not in dui2parents:\n",
    "        return\n",
    "    parent1 = dui2parents[dui[0]][0]\n",
    "    parent2 = dui2parents[dui[1]][0]\n",
    "    if dui not in already_processed and parent1 != 'U000008' and parent1 != 'U000011' and parent2 != 'U000008' and parent2 != 'U000011':\n",
    "        for ـ, pm_year in enumerate(years):\n",
    "            for ـ, sb_year in enumerate(years):\n",
    "                pmids = pdui2pubfreq[dui][pm_year]\n",
    "                sbids = pdui2sbfreq[dui][sb_year]         \n",
    "\n",
    "                if len(pmids) == 0 or len(sbids) == 0:\n",
    "                    continue           \n",
    "\n",
    "                #embed each pmid and sbid from pmids and sbids in a 2d space using the pmid2emb2d and sbid2emb2d dictionaries\n",
    "                pm_embs = np.array([pmid2emb2d[pmid] for pmid in pmids])\n",
    "                sb_embs = np.array([sbid2emb2d[sbid] for sbid in sbids])\n",
    "                pm_impacts = pdui2pubcit[dui][pm_year]\n",
    "                sb_impacts = pdui2sbcit[dui][sb_year]\n",
    "                pm_embs_disc = np.floor((pm_embs - min_general) / (max_general - min_general) * (bin_sizes - 1)).astype(int)\n",
    "                sb_embs_disc = np.floor((sb_embs - min_general) / (max_general - min_general) * (bin_sizes - 1)).astype(int)\n",
    "                pm_bin_impact = np.zeros((bin_sizes[0], bin_sizes[1]))\n",
    "                sb_bin_impact = np.zeros((bin_sizes[0], bin_sizes[1]))\n",
    "                for i in range(len(pm_embs_disc)):\n",
    "                    x, y = pm_embs_disc[i]\n",
    "                    pm_bin_impact[x, y] += pm_impacts[i]\n",
    "                for i in range(len(sb_embs_disc)):\n",
    "                    x, y = sb_embs_disc[i]\n",
    "                    sb_bin_impact[x, y] += sb_impacts[i]\n",
    "\n",
    "                pm_probs = pm_bin_impact / np.sum(pm_bin_impact)\n",
    "                pm_probs = pm_probs.flatten()\n",
    "                sb_probs = sb_bin_impact / np.sum(sb_bin_impact)\n",
    "                sb_probs = sb_probs.flatten()\n",
    "\n",
    "                regularization_factor = 0.8\n",
    "                pmkde = KernelDensity(bandwidth=regularization_factor).fit(pm_embs_disc, sample_weight=pm_impacts)\n",
    "                pm_probs_kde = np.exp(pmkde.score_samples(kde_samples)).reshape(bin_sizes)\n",
    "                pm_probs_kde = pm_probs_kde.flatten()\n",
    "\n",
    "                sbkde = KernelDensity(bandwidth=regularization_factor).fit(sb_embs_disc, sample_weight=sb_impacts)\n",
    "                sb_probs_kde = np.exp(sbkde.score_samples(kde_samples)).reshape(bin_sizes)\n",
    "                sb_probs_kde = sb_probs_kde.flatten()\n",
    "\n",
    "                tvd = 0.5 * np.sum(np.abs(pm_probs_kde - sb_probs_kde))\n",
    "                jsd = calculate_jsd(pm_probs_kde, sb_probs_kde)\n",
    "                hld = np.sqrt(0.5 * np.sum((np.sqrt(pm_probs_kde) - np.sqrt(sb_probs_kde)) ** 2))\n",
    "\n",
    "                # save tvd jsd and hld as txt files that contain the scores for the dui. name the files as <dui>_<pm_year>_<sb_year>_TVD.txt, <dui>_<pm_year>_<sb_year>_JSD.txt, <dui>_<pm_year>_<sb_year>_HLD.txt in folder data/parallel/TVDs, data/parallel/JSDs, data/parallel/HLDs\n",
    "                with open(LAG_DATA_ADDRESS + 'parallel/TVDs/' + dui[0] + '_' + dui[1] + '_' + str(pm_year) + '_' + str(sb_year) + '_TVD.txt', 'w') as f:\n",
    "                    f.write(str(tvd))\n",
    "                with open(LAG_DATA_ADDRESS + 'parallel/JSDs/' + dui[0] + '_' + dui[1] + '_' + str(pm_year) + '_' + str(sb_year) + '_JSD.txt', 'w') as f:\n",
    "                    f.write(str(jsd))\n",
    "                with open(LAG_DATA_ADDRESS + 'parallel/HLDs/' + dui[0] + '_' + dui[1] + '_' + str(pm_year) + '_' + str(sb_year) + '_HLD.txt', 'w') as f:\n",
    "                    f.write(str(hld))\n",
    "\n",
    "                fig, axs = plt.subplots(2, 2, figsize=(5, 5))  # Adjust the figsize according to your preference\n",
    "                axs[0, 0].imshow(pm_probs.reshape(bin_sizes), cmap='hot', interpolation='nearest')\n",
    "                axs[0, 0].set_title('pm_probs')\n",
    "                axs[0, 1].imshow(sb_probs.reshape(bin_sizes), cmap='hot', interpolation='nearest')\n",
    "                axs[0, 1].set_title('sb_probs')\n",
    "                axs[1, 0].imshow(pm_probs_kde.reshape(bin_sizes), cmap='hot', interpolation='nearest')\n",
    "                axs[1, 0].set_title('pm_probs_kde')\n",
    "                axs[1, 1].imshow(sb_probs_kde.reshape(bin_sizes), cmap='hot', interpolation='nearest')\n",
    "                axs[1, 1].set_title('sb_probs_kde')\n",
    "                plt.tight_layout()  # Ensures proper spacing between subplots\n",
    "                plt.savefig(LAG_DATA_ADDRESS + 'parallel/plots/{}_{}_{}_{}.png'.format(dui[0], dui[1], pm_year, sb_year))\n",
    "                plt.close()\n",
    "\n",
    "                del pm_embs, sb_embs, pm_impacts, sb_impacts, pm_embs_disc, sb_embs_disc, pm_bin_impact, sb_bin_impact, pm_probs, sb_probs, pm_probs_kde, sb_probs_kde, tvd, jsd, hld, fig, axs, pmkde, sbkde, regularization_factor, x, y\n",
    "\n",
    "# Define the number of processes to match the number of CPU cores\n",
    "num_processes = 120\n",
    "# duis = mutual_pairs[len(already_processed) - 10:]\n",
    "duis = list(pdui2pubcit.keys())\n",
    "\n",
    "# Create a progress bar using tqdm\n",
    "with tqdm(total=len(duis)) as pbar:\n",
    "    # Create a pool of processes\n",
    "    with Pool(processes=num_processes) as pool:\n",
    "        # Map 'process_dui' to 'duis' using pool.map\n",
    "        for _ in pool.imap_unordered(process_dui, duis):\n",
    "            pbar.update(1)  # Update the progress bar"
   ]
  },
  {
   "cell_type": "code",
   "execution_count": 5,
   "metadata": {},
   "outputs": [],
   "source": [
    "TVD_ADDRESS = 'parallel/TVDs/'\n",
    "JSD_ADDRESS = 'parallel/JSDs/'\n",
    "HLD_ADDRESS = 'parallel/HLDs/'"
   ]
  },
  {
   "cell_type": "code",
   "execution_count": 6,
   "metadata": {},
   "outputs": [
    {
     "data": {
      "text/plain": [
       "(34752, 12, 12)"
      ]
     },
     "execution_count": 6,
     "metadata": {},
     "output_type": "execute_result"
    }
   ],
   "source": [
    "# tensor_TVD = np.ones((len(mutual_pairs), 12, 12))\n",
    "# tensor_JSD = np.ones((len(mutual_pairs), 12, 12))\n",
    "tensor_HLD = np.ones((len(mutual_pairs), 12, 12))\n",
    "\n",
    "# tensor_TVD.shape, tensor_JSD.shape, tensor_HLD.shape\n",
    "tensor_HLD.shape"
   ]
  },
  {
   "cell_type": "code",
   "execution_count": 7,
   "metadata": {},
   "outputs": [
    {
     "data": {
      "text/plain": [
       "['D003132_D012108_2019_2018_HLD.txt',\n",
       " 'D000328_D019647_2013_2017_HLD.txt',\n",
       " 'D009033_D014780_2012_2019_HLD.txt',\n",
       " 'D000641_D005740_2015_2018_HLD.txt',\n",
       " 'D000641_D006801_2011_2014_HLD.txt',\n",
       " 'D001419_D004864_2012_2014_HLD.txt',\n",
       " 'D000375_D051379_2015_2020_HLD.txt',\n",
       " 'D000162_D011336_2013_2011_HLD.txt',\n",
       " 'D002965_D012660_2010_2021_HLD.txt',\n",
       " 'D010865_D014867_2011_2013_HLD.txt']"
      ]
     },
     "execution_count": 7,
     "metadata": {},
     "output_type": "execute_result"
    }
   ],
   "source": [
    "all_names = list(os.listdir('parallel/HLDs/'))\n",
    "all_names[10:20]"
   ]
  },
  {
   "cell_type": "code",
   "execution_count": 8,
   "metadata": {},
   "outputs": [
    {
     "data": {
      "text/plain": [
       "False"
      ]
     },
     "execution_count": 8,
     "metadata": {},
     "output_type": "execute_result"
    }
   ],
   "source": [
    "'D006801_D008928_2010_2010_HLD.txt' in all_names"
   ]
  },
  {
   "cell_type": "code",
   "execution_count": 9,
   "metadata": {},
   "outputs": [
    {
     "name": "stderr",
     "output_type": "stream",
     "text": [
      "5041it [01:26, 58.80it/s]/tmp/ipykernel_49419/898345662.py:8: UserWarning: loadtxt: Empty input file: \"parallel/HLDs/D013601_D014481_2016_2016_HLD.txt\"\n",
      "  tensor_HLD[i, pm_year_idx, sb_year_idx] = np.loadtxt(HLD_ADDRESS + '{}_{}_{}_{}_HLD.txt'.format(dui[0], dui[1], pm_year, sb_year))\n",
      "5054it [01:26, 60.35it/s]"
     ]
    },
    {
     "name": "stdout",
     "output_type": "stream",
     "text": [
      "5042 6 6 D013601 D014481 2016 2016\n",
      "setting an array element with a sequence. <class 'ValueError'>\n"
     ]
    },
    {
     "name": "stderr",
     "output_type": "stream",
     "text": [
      "34752it [09:49, 58.94it/s]\n"
     ]
    }
   ],
   "source": [
    "# for each dui in exduis, load the corresponding TVD, JSD and HLD txt files and store them in the tensors\n",
    "for i, dui in tqdm(enumerate(mutual_pairs)):\n",
    "    for pm_year_idx, pm_year in enumerate(years):\n",
    "        for sb_year_idx, sb_year in enumerate(years):\n",
    "            try:\n",
    "                # tensor_TVD[i, pm_year_idx, sb_year_idx] = np.loadtxt(TVD_ADDRESS + '{}_{}_{}_{}_TVD.txt'.format(dui[0], dui[1], pm_year, sb_year))\n",
    "                # tensor_JSD[i, pm_year_idx, sb_year_idx] = np.loadtxt(JSD_ADDRESS + '{}_{}_{}_{}_JSD.txt'.format(dui[0], dui[1], pm_year, sb_year))\n",
    "                tensor_HLD[i, pm_year_idx, sb_year_idx] = np.loadtxt(HLD_ADDRESS + '{}_{}_{}_{}_HLD.txt'.format(dui[0], dui[1], pm_year, sb_year))\n",
    "            except OSError:\n",
    "                pass\n",
    "            except Exception as e:\n",
    "                print(i, pm_year_idx, sb_year_idx, dui[0], dui[1], pm_year, sb_year)\n",
    "                print(e, type(e))\n",
    "                exit()"
   ]
  },
  {
   "cell_type": "code",
   "execution_count": null,
   "metadata": {},
   "outputs": [
    {
     "ename": "",
     "evalue": "",
     "output_type": "error",
     "traceback": [
      "\u001b[1;31mCanceled future for execute_request message before replies were done"
     ]
    },
    {
     "ename": "",
     "evalue": "",
     "output_type": "error",
     "traceback": [
      "\u001b[1;31mThe Kernel crashed while executing code in the the current cell or a previous cell. Please review the code in the cell(s) to identify a possible cause of the failure. Click <a href='https://aka.ms/vscodeJupyterKernelCrash'>here</a> for more info. View Jupyter <a href='command:jupyter.viewOutput'>log</a> for further details."
     ]
    }
   ],
   "source": [
    "#save the tensors in data/pickles\n",
    "# with open('parallel/tensor_TVD.pkl', 'wb') as handle:\n",
    "#     pickle.dump(tensor_TVD, handle, protocol=pickle.HIGHEST_PROTOCOL)\n",
    "# with open('parallel/tensor_JSD.pkl', 'wb') as handle:\n",
    "#     pickle.dump(tensor_JSD, handle, protocol=pickle.HIGHEST_PROTOCOL)\n",
    "with open('parallel/tensor_HLD.pkl', 'wb') as handle:\n",
    "    pickle.dump(tensor_HLD, handle, protocol=pickle.HIGHEST_PROTOCOL)\n",
    "print('Tensors saved.')"
   ]
  },
  {
   "cell_type": "code",
   "execution_count": null,
   "metadata": {},
   "outputs": [
    {
     "data": {
      "text/plain": [
       "((34752, 12, 12), (34752, 12, 12), (34752, 12, 12))"
      ]
     },
     "execution_count": 27,
     "metadata": {},
     "output_type": "execute_result"
    }
   ],
   "source": [
    "#load the tensors\n",
    "with open('parallel/tensor_TVD.pkl', 'rb') as handle:\n",
    "    TVD_diffs = pickle.load(handle)\n",
    "with open('parallel/tensor_JSD.pkl', 'rb') as handle:\n",
    "    JSD_diffs = pickle.load(handle)\n",
    "with open('parallel/tensor_HLD.pkl', 'rb') as handle:\n",
    "    HLD_diffs = pickle.load(handle)\n",
    "\n",
    "TVD_diffs.shape, JSD_diffs.shape, HLD_diffs.shape"
   ]
  },
  {
   "cell_type": "code",
   "execution_count": null,
   "metadata": {},
   "outputs": [],
   "source": [
    "tensor_HLD[10]"
   ]
  },
  {
   "cell_type": "code",
   "execution_count": null,
   "metadata": {},
   "outputs": [
    {
     "data": {
      "text/plain": [
       "((34752, 12, 12), 0.0, 1.0)"
      ]
     },
     "execution_count": 26,
     "metadata": {},
     "output_type": "execute_result"
    }
   ],
   "source": [
    "#turn distance-containing tensors into similarity-containing tensors\n",
    "# tensor_TVD = 1 - TVD_diffs\n",
    "# tensor_JSD = 1 - JSD_diffs\n",
    "# tensor_HLD = 1 - HLD_diffs\n",
    "\n",
    "# tensor_TVD.shape, tensor_JSD.shape, tensor_HLD.shape, np.min(tensor_TVD), np.max(tensor_TVD)\n",
    "\n",
    "tensor_HLD = 1 - tensor_HLD\n",
    "tensor_HLD.shape, np.min(tensor_HLD), np.max(tensor_HLD)"
   ]
  },
  {
   "cell_type": "code",
   "execution_count": null,
   "metadata": {},
   "outputs": [
    {
     "name": "stdout",
     "output_type": "stream",
     "text": [
      "len(dui2tensoridx): 34752\n",
      "len(tensoridx2dui): 34752\n"
     ]
    }
   ],
   "source": [
    "dui2tensoridx = {dui: i for i, dui in enumerate(mutual_pairs)}\n",
    "tensoridx2dui = {i: dui for i, dui in enumerate(mutual_pairs)}\n",
    "\n",
    "print('len(dui2tensoridx):', len(dui2tensoridx))\n",
    "print('len(tensoridx2dui):', len(tensoridx2dui))"
   ]
  },
  {
   "cell_type": "code",
   "execution_count": null,
   "metadata": {},
   "outputs": [
    {
     "data": {
      "image/png": "[encoded data removed]",
      "text/plain": [
       "<Figure size 432x288 with 2 Axes>"
      ]
     },
     "metadata": {
      "needs_background": "light"
     },
     "output_type": "display_data"
    }
   ],
   "source": [
    "plt.imshow(tensor_HLD[dui2tensoridx[mutual_pairs[0]]], vmin=0, vmax=1)\n",
    "plt.colorbar()\n",
    "plt.xticks(np.arange(12), years, rotation=45)\n",
    "plt.yticks(np.arange(12), years)\n",
    "\n",
    "ax = plt.gca()\n",
    "ax.xaxis.set_ticks_position('top')\n",
    "ax.xaxis.set_label_position('top')\n",
    "\n",
    "plt.ylabel('PubMed Year')\n",
    "plt.xlabel('SBIR Year')\n",
    "plt.show()"
   ]
  },
  {
   "cell_type": "code",
   "execution_count": null,
   "metadata": {},
   "outputs": [
    {
     "data": {
      "text/plain": [
       "0.6879547971166896"
      ]
     },
     "execution_count": 30,
     "metadata": {},
     "output_type": "execute_result"
    }
   ],
   "source": [
    "def cal_triangular_ratio(score_matrix):\n",
    "    ps_sims = []\n",
    "    sp_sims = []\n",
    "    for i in range(score_matrix.shape[0]):\n",
    "        for j in range(score_matrix.shape[1]):\n",
    "            sim = score_matrix[i, j]\n",
    "            if j > i:\n",
    "                ps_sims.append(sim)\n",
    "            else:\n",
    "                sp_sims.append(sim)\n",
    "    return (np.sum(ps_sims) + 1) / (np.sum(sp_sims) + 1)\n",
    "\n",
    "sample = tensor_HLD[dui2tensoridx[mutual_pairs[0]]]\n",
    "cal_triangular_ratio(sample)"
   ]
  },
  {
   "cell_type": "code",
   "execution_count": 31,
   "metadata": {},
   "outputs": [
    {
     "name": "stderr",
     "output_type": "stream",
     "text": [
      "100%|██████████| 34752/34752 [00:01<00:00, 32153.22it/s]\n"
     ]
    },
    {
     "data": {
      "text/plain": [
       "34752"
      ]
     },
     "execution_count": 31,
     "metadata": {},
     "output_type": "execute_result"
    }
   ],
   "source": [
    "#calculate the triangular ratio for each dui\n",
    "# dui2tvdtr = {}\n",
    "dui2jsdtr = {}\n",
    "# dui2hldtr = {}\n",
    "for i in tqdm(range(len(tensor_TVD))):\n",
    "    # dui2tvdtr[tensoridx2dui[i]] = cal_triangular_ratio(tensor_TVD[i])\n",
    "    dui2jsdtr[tensoridx2dui[i]] = cal_triangular_ratio(tensor_JSD[i])\n",
    "    # dui2hldtr[tensoridx2dui[i]] = cal_triangular_ratio(tensor_HLD[i])\n",
    "\n",
    "# len(dui2tvdtr), len(dui2jsdtr), len(dui2hldtr)\n",
    "len(dui2jsdtr)"
   ]
  },
  {
   "cell_type": "code",
   "execution_count": 32,
   "metadata": {},
   "outputs": [
    {
     "name": "stdout",
     "output_type": "stream",
     "text": [
      "len(dui_subset): 34752\n",
      "neg: 8334 Ratio: 23.981353591159532\n",
      "pos: 26418 Ratio: 76.0186464088376\n"
     ]
    },
    {
     "data": {
      "image/png": "[encoded data removed]",
      "text/plain": [
       "<Figure size 432x288 with 1 Axes>"
      ]
     },
     "metadata": {},
     "output_type": "display_data"
    },
    {
     "data": {
      "image/png": "[encoded data removed]",
      "text/plain": [
       "<Figure size 432x288 with 1 Axes>"
      ]
     },
     "metadata": {
      "needs_background": "light"
     },
     "output_type": "display_data"
    },
    {
     "name": "stdout",
     "output_type": "stream",
     "text": [
      "==================================================\n"
     ]
    }
   ],
   "source": [
    "# iterate over max_depth and create a histogram of the maximum correlation lags of duis in dui_subset, then plot it\n",
    "dui_subset_mcclags = [dui2jsdtr[dui] for dui in mutual_pairs]\n",
    "print('len(dui_subset):', len(dui_subset_mcclags))\n",
    "neg = len([lag for lag in dui_subset_mcclags if lag <= 1])\n",
    "pos = len([lag for lag in dui_subset_mcclags if lag > 1])\n",
    "ppos = pos / (len(dui_subset_mcclags) + 0.000000001) * 100\n",
    "pneg = neg / (len(dui_subset_mcclags) + 0.000000001) * 100\n",
    "\n",
    "print('neg:', neg, 'Ratio:', pneg)\n",
    "print('pos:', pos, 'Ratio:', ppos)\n",
    "\n",
    "labels = 'Negative', 'Positive'\n",
    "sizes = [neg, pos]\n",
    "explode = (0.1, 0)\n",
    "fig1, ax1 = plt.subplots()\n",
    "ax1.pie(sizes, explode=explode, labels=labels, autopct='%1.1f%%', shadow=True, startangle=90)\n",
    "ax1.axis('equal')\n",
    "fig1.patch.set_facecolor('white')\n",
    "plt.title('Percentage of Negative and Positive Triangular Ratio of ' + str(len(mutual_pairs)) + ' DUIs')\n",
    "plt.show()\n",
    "\n",
    "# plot the histogram of the maximum correlation lags of dui_subset_mcclags. bound the x-axis to -3 to 5 with 1 intervals\n",
    "plt.hist(dui_subset_mcclags, bins=range(-3, 5, 1))\n",
    "plt.title('Histogram of Maximum Correlation Lags of ' + str(len(mutual_pairs)) + ' DUIs')\n",
    "plt.xlabel('Maximum Correlation Lag')\n",
    "plt.ylabel('Number of DUIs')\n",
    "plt.show()\n",
    "\n",
    "print('=' * 50)"
   ]
  },
  {
   "cell_type": "code",
   "execution_count": 2,
   "metadata": {},
   "outputs": [],
   "source": [
    "auc_freq_pos, auc_freq_neg = 68.5, 31.5\n",
    "auc_imp_pos, auc_imp_neg = 66.9, 33.1\n",
    "auc_ratio_pos, auc_ratio_neg = 76, 24"
   ]
  },
  {
   "cell_type": "code",
   "execution_count": 31,
   "metadata": {},
   "outputs": [
    {
     "data": {
      "image/png": "[encoded data removed]",
      "text/plain": [
       "<Figure size 864x288 with 3 Axes>"
      ]
     },
     "metadata": {},
     "output_type": "display_data"
    }
   ],
   "source": [
    "fig, (ax1, ax2, ax3) = plt.subplots(1, 3, figsize=(12, 4))\n",
    "colors = ['royalblue', 'red']\n",
    "explode = (0.03, 0.03)\n",
    "\n",
    "# Pie plot for AUC Frequency\n",
    "auc_freq_labels = ['Positive', 'Negative']\n",
    "auc_freq_values = [auc_freq_pos, auc_freq_neg]\n",
    "_, _, text1 = ax1.pie(auc_freq_values, labels=auc_freq_labels, explode=explode, colors=colors, autopct='%1.1f%%', startangle=90,\n",
    "                      textprops={'color': 'black', 'fontsize': 14})\n",
    "ax1.set_title('Frequency Trend CCAUC Ratio', fontsize=14)\n",
    "\n",
    "# Pie plot for AUC Impact\n",
    "auc_imp_labels = ['Positive', 'Negative']\n",
    "auc_imp_values = [auc_imp_pos, auc_imp_neg]\n",
    "_, _, text2 = ax2.pie(auc_imp_values, labels=auc_imp_labels, explode=explode, colors=colors, autopct='%1.1f%%', startangle=90,\n",
    "                      textprops={'color': 'black', 'fontsize': 14})\n",
    "ax2.set_title('Impact Trend CCAUC Ratio', fontsize=14)\n",
    "\n",
    "# Pie plot for AUC Ratio\n",
    "auc_ratio_labels = ['Positive', 'Negative']\n",
    "auc_ratio_values = [auc_ratio_pos, auc_ratio_neg]\n",
    "_, _, text3 = ax3.pie(auc_ratio_values, labels=auc_ratio_labels, explode=explode, colors=colors, autopct='%1.1f%%', startangle=90,\n",
    "                      textprops={'color': 'black', 'fontsize': 14})\n",
    "ax3.set_title('Triangular Ratio', fontsize=16)\n",
    "\n",
    "# Set the color of the percentages to black\n",
    "for text in [text1, text2, text3]:\n",
    "    text[0].set_color('white')\n",
    "    text[1].set_color('white')\n",
    "\n",
    "plt.tight_layout()\n",
    "plt.savefig('pairs.png', dpi=300)\n",
    "plt.show()"
   ]
  }
 ],
 "metadata": {
  "kernelspec": {
   "display_name": "Python 3",
   "language": "python",
   "name": "python3"
  },
  "language_info": {
   "codemirror_mode": {
    "name": "ipython",
    "version": 3
   },
   "file_extension": ".py",
   "mimetype": "text/x-python",
   "name": "python",
   "nbconvert_exporter": "python",
   "pygments_lexer": "ipython3",
   "version": "3.10.6"
  },
  "orig_nbformat": 4
 },
 "nbformat": 4,
 "nbformat_minor": 2
}
