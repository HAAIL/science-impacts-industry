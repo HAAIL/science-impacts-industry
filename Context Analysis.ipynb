{
 "cells": [
  {
   "cell_type": "code",
   "execution_count": 1,
   "metadata": {},
   "outputs": [],
   "source": [
    "from tqdm import tqdm\n",
    "import pickle\n",
    "import pandas as pd\n",
    "import numpy as np\n",
    "import matplotlib.pyplot as plt\n",
    "from scipy import signal"
   ]
  },
  {
   "cell_type": "code",
   "execution_count": 2,
   "metadata": {},
   "outputs": [],
   "source": [
    "PICKLES_ADDRESS = '../data/pickles/'\n",
    "LAG_DATA_ADDRESS = 'lag_data/'"
   ]
  },
  {
   "cell_type": "code",
   "execution_count": 3,
   "metadata": {},
   "outputs": [],
   "source": [
    "TVD_ADDRESS = '../data/parallel/TVDs/'\n",
    "JSD_ADDRESS = '../data/parallel/JSDs/'\n",
    "HLD_ADDRESS = '../data/parallel/HLDs/'\n",
    "LOADING_PARAM = True"
   ]
  },
  {
   "cell_type": "markdown",
   "metadata": {},
   "source": [
    "## Import Data"
   ]
  },
  {
   "cell_type": "code",
   "execution_count": 4,
   "metadata": {},
   "outputs": [
    {
     "name": "stdout",
     "output_type": "stream",
     "text": [
      "years: ['2010', '2011', '2012', '2013', '2014', '2015', '2016', '2017', '2018', '2019', '2020', '2021']\n"
     ]
    }
   ],
   "source": [
    "years = [str(year) for year in range(2010, 2022)]\n",
    "correlation_lags = [-11, -10, -9, -8, -7, -6, -5, -4, -3, -2, -1,  0,  1,  2,  3,  4,  5,  6,  7, 8, 9, 10, 11]\n",
    "print('years:', years)"
   ]
  },
  {
   "cell_type": "code",
   "execution_count": 5,
   "metadata": {},
   "outputs": [
    {
     "name": "stdout",
     "output_type": "stream",
     "text": [
      "dui2children: 29432\n",
      "dui2parents: 29307\n",
      "dui2name: 29307\n",
      "name2dui: 29307\n",
      "dui2level: 29307\n",
      "level2duis: 14\n",
      "dui2trail: 29432\n",
      "dui_intersections: 29307\n",
      "excluded_duis: 723\n",
      "dui2pubfreq: 29307\n",
      "dui2sbfreq: 29307\n",
      "dui2pubfreqchild: 29307\n",
      "dui2sbfreqchild: 29307\n",
      "dui2pubcit: 29307\n",
      "dui2sbcit: 29307\n",
      "dui2pubcitchild: 29307\n",
      "dui2sbcitchild: 29307\n"
     ]
    }
   ],
   "source": [
    "with open(PICKLES_ADDRESS + 'dui2children.pkl', 'rb') as handle:\n",
    "    dui2children = pickle.load(handle)\n",
    "    print('dui2children:', len(dui2children))\n",
    "with open(PICKLES_ADDRESS + 'dui2trail_final.pkl', 'rb') as handle:\n",
    "    dui2parents = pickle.load(handle)\n",
    "    print('dui2parents:', len(dui2parents))\n",
    "with open(PICKLES_ADDRESS + 'heading2dui_final.pkl', 'rb') as handle:\n",
    "    dui2name = pickle.load(handle)\n",
    "    print('dui2name:', len(dui2name))\n",
    "with open(PICKLES_ADDRESS + 'dui2header_final.pkl', 'rb') as handle:\n",
    "    name2dui = pickle.load(handle)\n",
    "    print('name2dui:', len(name2dui))\n",
    "with open(PICKLES_ADDRESS + 'dui2level_final.pkl', 'rb') as handle:\n",
    "    dui2level = pickle.load(handle)\n",
    "    print('dui2level:', len(dui2level))\n",
    "with open(PICKLES_ADDRESS + 'level2duis_final.pkl', 'rb') as handle:\n",
    "    level2duis = pickle.load(handle)\n",
    "    print('level2duis:', len(level2duis))\n",
    "with open(PICKLES_ADDRESS + 'dui2trail.pkl', 'rb') as handle:\n",
    "    dui2trail = pickle.load(handle)\n",
    "    print('dui2trail:', len(dui2trail))\n",
    "with open(PICKLES_ADDRESS + 'dui_intersection_final.pkl', 'rb') as handle:\n",
    "    dui_intersections = pickle.load(handle)\n",
    "    print('dui_intersections:', len(dui_intersections))\n",
    "with open(PICKLES_ADDRESS + 'excluded_duis_final.pkl', 'rb') as handle:\n",
    "    excluded_duis = pickle.load(handle)\n",
    "    print('excluded_duis:', len(excluded_duis))\n",
    "with open(PICKLES_ADDRESS + 'dui2pubfreq.pkl', 'rb') as handle:\n",
    "    dui2pubfreq = pickle.load(handle)\n",
    "    print('dui2pubfreq:', len(dui2pubfreq))\n",
    "with open(PICKLES_ADDRESS + 'dui2sbfreq.pkl', 'rb') as handle:\n",
    "    dui2sbfreq = pickle.load(handle)\n",
    "    print('dui2sbfreq:', len(dui2sbfreq))\n",
    "with open(PICKLES_ADDRESS + 'dui2pubfreqchild.pkl', 'rb') as handle:\n",
    "    dui2pubfreqchild = pickle.load(handle)\n",
    "    print('dui2pubfreqchild:', len(dui2pubfreqchild))\n",
    "with open(PICKLES_ADDRESS + 'dui2sbfreqchild.pkl', 'rb') as handle:\n",
    "    dui2sbfreqchild = pickle.load(handle)\n",
    "    print('dui2sbfreqchild:', len(dui2sbfreqchild))\n",
    "with open(PICKLES_ADDRESS + 'dui2pubcit.pkl', 'rb') as handle:\n",
    "    dui2pubcit = pickle.load(handle)\n",
    "    print('dui2pubcit:', len(dui2pubcit))\n",
    "with open(PICKLES_ADDRESS + 'dui2sbcit.pkl', 'rb') as handle:\n",
    "    dui2sbcit = pickle.load(handle)\n",
    "    print('dui2sbcit:', len(dui2sbcit))\n",
    "with open(PICKLES_ADDRESS + 'dui2pubcitchild.pkl', 'rb') as handle:\n",
    "    dui2pubcitchild = pickle.load(handle)\n",
    "    print('dui2pubcitchild:', len(dui2pubcitchild))\n",
    "with open(PICKLES_ADDRESS + 'dui2sbcitchild.pkl', 'rb') as handle:\n",
    "    dui2sbcitchild = pickle.load(handle)\n",
    "    print('dui2sbcitchild:', len(dui2sbcitchild))"
   ]
  },
  {
   "cell_type": "code",
   "execution_count": 6,
   "metadata": {},
   "outputs": [
    {
     "data": {
      "text/plain": [
       "29307"
      ]
     },
     "execution_count": 6,
     "metadata": {},
     "output_type": "execute_result"
    }
   ],
   "source": [
    "# store all duis that have no frequency at any year of the dui2pubfreq dictionary and store them in a list called exduis\n",
    "exduis = {}\n",
    "for dui in dui2sbfreq:\n",
    "    c = 0\n",
    "    for year in years:\n",
    "        c += len(dui2sbfreq[dui][year])\n",
    "    if c == 0:\n",
    "        exduis[dui] = True\n",
    "    else:\n",
    "        exduis[dui] = False\n",
    "\n",
    "len(exduis)"
   ]
  },
  {
   "cell_type": "code",
   "execution_count": 7,
   "metadata": {},
   "outputs": [
    {
     "name": "stdout",
     "output_type": "stream",
     "text": [
      "10873 DUIs remained. 10873 10873 10873\n"
     ]
    }
   ],
   "source": [
    "# count how many excuis have False and True values\n",
    "c = 0\n",
    "incduis = []\n",
    "dui2tensoridx = {}\n",
    "tensoridx2dui = {}\n",
    "for dui in exduis:\n",
    "    if exduis[dui] == False:\n",
    "        incduis.append(dui)\n",
    "        dui2tensoridx[dui] = c\n",
    "        tensoridx2dui[c] = dui\n",
    "        c += 1\n",
    "print(c, 'DUIs remained.', len(incduis), len(dui2tensoridx), len(tensoridx2dui))"
   ]
  },
  {
   "cell_type": "code",
   "execution_count": 16,
   "metadata": {},
   "outputs": [
    {
     "name": "stderr",
     "output_type": "stream",
     "text": [
      "10873it [08:31, 21.27it/s]\n"
     ]
    },
    {
     "name": "stdout",
     "output_type": "stream",
     "text": [
      "Tensors saved.\n"
     ]
    }
   ],
   "source": [
    "if not LOADING_PARAM:\n",
    "    #make three numpy array with size c, 12, 12 and name them tensor_TVD, tensor_JSD, tensor_HLD\n",
    "    tensor_TVD = np.ones((c, 12, 12))\n",
    "    tensor_JSD = np.ones((c, 12, 12))\n",
    "    tensor_HLD = np.ones((c, 12, 12))\n",
    "\n",
    "    # for each dui in exduis, load the corresponding TVD, JSD and HLD txt files and store them in the tensors\n",
    "    c = 0\n",
    "    for i, dui in tqdm(enumerate(incduis)):\n",
    "        for pm_year_idx, pm_year in enumerate(years):\n",
    "            for sb_year_idx, sb_year in enumerate(years):\n",
    "                try:\n",
    "                    tensor_TVD[i, pm_year_idx, sb_year_idx] = np.loadtxt(TVD_ADDRESS + '{}_{}_{}_TVD.txt'.format(dui, pm_year, sb_year))\n",
    "                    tensor_JSD[i, pm_year_idx, sb_year_idx] = np.loadtxt(JSD_ADDRESS + '{}_{}_{}_JSD.txt'.format(dui, pm_year, sb_year))\n",
    "                    tensor_HLD[i, pm_year_idx, sb_year_idx] = np.loadtxt(HLD_ADDRESS + '{}_{}_{}_HLD.txt'.format(dui, pm_year, sb_year))\n",
    "                except:\n",
    "                     pass\n",
    "    #save the tensors in data/pickles\n",
    "    with open(PICKLES_ADDRESS + 'tensor_TVD.pkl', 'wb') as handle:\n",
    "        pickle.dump(tensor_TVD, handle, protocol=pickle.HIGHEST_PROTOCOL)\n",
    "    with open(PICKLES_ADDRESS + 'tensor_JSD.pkl', 'wb') as handle:\n",
    "        pickle.dump(tensor_JSD, handle, protocol=pickle.HIGHEST_PROTOCOL)\n",
    "    with open(PICKLES_ADDRESS + 'tensor_HLD.pkl', 'wb') as handle:\n",
    "        pickle.dump(tensor_HLD, handle, protocol=pickle.HIGHEST_PROTOCOL)\n",
    "    print('Tensors saved.')\n",
    "else:\n",
    "    print('Loading tensors...')\n",
    "    #load the tensors\n",
    "    with open(PICKLES_ADDRESS + '/tensor_TVD.pkl', 'rb') as handle:\n",
    "        TVD_diffs = pickle.load(handle)\n",
    "    with open(PICKLES_ADDRESS + 'tensor_JSD.pkl', 'rb') as handle:\n",
    "        JSD_diffs = pickle.load(handle)\n",
    "    with open(PICKLES_ADDRESS + 'tensor_HLD.pkl', 'rb') as handle:\n",
    "        HLD_diffs = pickle.load(handle)\n",
    "    print(TVD_diffs.shape, JSD_diffs.shape, HLD_diffs.shape)"
   ]
  },
  {
   "cell_type": "code",
   "execution_count": 17,
   "metadata": {},
   "outputs": [],
   "source": [
    "#turn distance-containing tensors into similarity-containing tensors\n",
    "tensor_TVD = 1 - TVD_diffs\n",
    "tensor_JSD = 1 - JSD_diffs\n",
    "tensor_HLD = 1 - HLD_diffs"
   ]
  },
  {
   "cell_type": "code",
   "execution_count": 18,
   "metadata": {},
   "outputs": [],
   "source": [
    "def cal_triangular_ratio(score_matrix):\n",
    "    ps_sims = []\n",
    "    sp_sims = []\n",
    "    for i in range(score_matrix.shape[0]):\n",
    "        for j in range(score_matrix.shape[1]):\n",
    "            sim = score_matrix[i, j]\n",
    "            if j > i:\n",
    "                ps_sims.append(sim)\n",
    "            else:\n",
    "                sp_sims.append(sim)\n",
    "    return (np.sum(ps_sims) + 1) / (np.sum(sp_sims) + 1)\n",
    "\n",
    "def cal_triangular_ratio_yearly(score_matrix):\n",
    "    all_triangular_scores = {year: [] for year in years[:-1]}\n",
    "    for idx, year in enumerate(years[:-1]):\n",
    "        sub_matrix = score_matrix[idx:, idx:]\n",
    "        triangular_ratio = cal_triangular_ratio(sub_matrix)\n",
    "        all_triangular_scores[year] = triangular_ratio\n",
    "    return all_triangular_scores"
   ]
  },
  {
   "cell_type": "code",
   "execution_count": 19,
   "metadata": {},
   "outputs": [
    {
     "name": "stderr",
     "output_type": "stream",
     "text": [
      "100%|██████████| 10873/10873 [00:05<00:00, 1861.41it/s]\n"
     ]
    }
   ],
   "source": [
    "#calculate the triangular ratio for each dui\n",
    "dui2tvdtr = {}\n",
    "dui2jsdtr = {}\n",
    "dui2hldtr = {}\n",
    "for i in tqdm(range(len(tensor_TVD))):\n",
    "    dui2tvdtr[tensoridx2dui[i]] = cal_triangular_ratio_yearly(tensor_TVD[i])\n",
    "    dui2jsdtr[tensoridx2dui[i]] = cal_triangular_ratio_yearly(tensor_JSD[i])\n",
    "    dui2hldtr[tensoridx2dui[i]] = cal_triangular_ratio_yearly(tensor_HLD[i])"
   ]
  },
  {
   "cell_type": "code",
   "execution_count": 20,
   "metadata": {},
   "outputs": [],
   "source": [
    "# iterate over max_depth and create a histogram of the maximum correlation lags of duis in dui_subset, then plot it\n",
    "max_depth = 13\n",
    "tvd_std, jsd_std, hld_std = [], [], []\n",
    "max_window_tvd_percents, max_window_jsd_percents, max_window_hld_percents = [], [], []\n",
    "depth_wise_count = []\n",
    "\n",
    "for depth in range(max_depth + 1):\n",
    "    dui_subset = [dui for level in range(depth + 1) for dui in level2duis[level]]\n",
    "    depth_wise_count.append(len(dui_subset))\n",
    "    dui2tvdtr_yearly = {year: [] for year in years[:-1]}\n",
    "    dui2jsdtr_yearly = {year: [] for year in years[:-1]}\n",
    "    dui2hldtr_yearly = {year: [] for year in years[:-1]}\n",
    "    for dui in dui_subset:\n",
    "        if dui in incduis:\n",
    "            for k, v in dui2tvdtr[dui].items():\n",
    "                dui2tvdtr_yearly[k].append(v)\n",
    "            for k, v in dui2jsdtr[dui].items():\n",
    "                dui2jsdtr_yearly[k].append(v)\n",
    "            for k, v in dui2hldtr[dui].items():\n",
    "                dui2hldtr_yearly[k].append(v)\n",
    "\n",
    "    yearly_pos, yearly_neg = [], []\n",
    "    for k, v in dui2tvdtr_yearly.items():\n",
    "        x1 = len([score for score in v if score > 1])\n",
    "        x2 = len([score for score in v if score <= 1])\n",
    "        yearly_pos.append(x1)\n",
    "        yearly_neg.append(x2)\n",
    "    yearly_pos_percentage, yearly_neg_percentage = [], []\n",
    "    for pos, neg in zip(yearly_pos, yearly_neg):\n",
    "        x1 = pos / (pos + neg + 0.000000001) * 100\n",
    "        x2 = neg / (pos + neg + 0.000000001) * 100\n",
    "        yearly_pos_percentage.append(x1)\n",
    "        yearly_neg_percentage.append(x2)\n",
    "    max_window_tvd_percents.append(yearly_pos_percentage[0])\n",
    "    tvd_std.append(np.std(yearly_pos_percentage))\n",
    "\n",
    "    yearly_pos, yearly_neg = [], []\n",
    "    for k, v in dui2jsdtr_yearly.items():\n",
    "        x1 = len([score for score in v if score > 1])\n",
    "        x2 = len([score for score in v if score <= 1])\n",
    "        yearly_pos.append(x1)\n",
    "        yearly_neg.append(x2)\n",
    "    yearly_pos_percentage, yearly_neg_percentage = [], []\n",
    "    for pos, neg in zip(yearly_pos, yearly_neg):\n",
    "        x1 = pos / (pos + neg + 0.000000001) * 100\n",
    "        x2 = neg / (pos + neg + 0.000000001) * 100\n",
    "        yearly_pos_percentage.append(x1)\n",
    "        yearly_neg_percentage.append(x2)\n",
    "    max_window_jsd_percents.append(yearly_pos_percentage[0])\n",
    "    jsd_std.append(np.std(yearly_pos_percentage))\n",
    "\n",
    "    yearly_pos, yearly_neg = [], []\n",
    "    for k, v in dui2hldtr_yearly.items():\n",
    "        x1 = len([score for score in v if score > 1])\n",
    "        x2 = len([score for score in v if score <= 1])\n",
    "        yearly_pos.append(x1)\n",
    "        yearly_neg.append(x2)\n",
    "    yearly_pos_percentage, yearly_neg_percentage = [], []\n",
    "    for pos, neg in zip(yearly_pos, yearly_neg):\n",
    "        x1 = pos / (pos + neg + 0.000000001) * 100\n",
    "        x2 = neg / (pos + neg + 0.000000001) * 100\n",
    "        yearly_pos_percentage.append(x1)\n",
    "        yearly_neg_percentage.append(x2)\n",
    "    max_window_hld_percents.append(yearly_pos_percentage[0])\n",
    "    hld_std.append(np.std(yearly_pos_percentage))"
   ]
  },
  {
   "cell_type": "code",
   "execution_count": 21,
   "metadata": {},
   "outputs": [],
   "source": [
    "depth_wise_count = np.array(depth_wise_count[1:])\n",
    "max_window_tvd_percents = np.array(max_window_tvd_percents[1:])\n",
    "max_window_jsd_percents = np.array(max_window_jsd_percents[1:])\n",
    "max_window_hld_percents = np.array(max_window_hld_percents[1:])\n",
    "tvd_std = np.array(tvd_std[1:])\n",
    "jsd_std = np.array(jsd_std[1:])\n",
    "hld_std = np.array(hld_std[1:])"
   ]
  },
  {
   "cell_type": "code",
   "execution_count": 22,
   "metadata": {},
   "outputs": [
    {
     "data": {
      "text/plain": [
       "96.32533585569058"
      ]
     },
     "execution_count": 22,
     "metadata": {},
     "output_type": "execute_result"
    }
   ],
   "source": [
    "tvd_error_max = np.minimum(max_window_tvd_percents + tvd_std, 99.9) - max_window_tvd_percents\n",
    "jsd_error_max = np.minimum(max_window_jsd_percents + jsd_std, 99.9) - max_window_jsd_percents\n",
    "hld_error_max = np.minimum(max_window_hld_percents + hld_std, 99.9) - max_window_hld_percents\n",
    "\n",
    "tvd_error_max[0] + max_window_tvd_percents[0]"
   ]
  },
  {
   "cell_type": "code",
   "execution_count": 29,
   "metadata": {},
   "outputs": [
    {
     "data": {
      "image/png": "[encoded data removed]",
      "text/plain": [
       "<Figure size 1440x576 with 1 Axes>"
      ]
     },
     "metadata": {
      "needs_background": "light"
     },
     "output_type": "display_data"
    }
   ],
   "source": [
    "import matplotlib.pyplot as plt\n",
    "\n",
    "x = ['Depth ' + str(depth + 1) + '\\n' + str(each) + ' terms' for depth, each in enumerate(depth_wise_count)]\n",
    "\n",
    "fig = plt.figure(figsize=(20, 8))\n",
    "ax = fig.add_subplot(111)\n",
    "\n",
    "# Error bounds for Hellinger Distance\n",
    "ax.errorbar(x, max_window_hld_percents, yerr=[hld_std, hld_error_max], fmt='o', ecolor='teal', elinewidth=2, capsize=10, color='teal')\n",
    "line3, = ax.plot(x, max_window_hld_percents, marker='o', color='teal', linewidth=2.5, markersize=8, label='Hellinger Distance')\n",
    "\n",
    "# Error bounds for Total Variation Distance\n",
    "ax.errorbar(x, max_window_tvd_percents, yerr=[tvd_std, tvd_error_max], fmt='o', ecolor='navy', elinewidth=2, capsize=10, color='navy')\n",
    "line1, = ax.plot(x, max_window_tvd_percents, marker='o', color='navy', linewidth=2.5, markersize=8, label='Total Variation Distance')\n",
    "\n",
    "ax.grid(True)  # Add gridlines\n",
    "ax.set_ylabel('Percentage of terms with Triangular Ratio > 1', fontsize=15, weight='bold')\n",
    "ax.set_xticks(range(len(x)))\n",
    "ax.set_xticklabels(x, rotation=20, fontsize=13, weight='bold')\n",
    "ax.set_yticks(range(50, 101, 5))  # Set y-axis ticks from 50 to 100 in steps of 10\n",
    "ax.set_ylim(50, 100)  # Set y-axis limits from 50% to 100%\n",
    "\n",
    "# Add annotations for the first line\n",
    "for i, val in enumerate(max_window_tvd_percents):\n",
    "    val_formatted = '{:.2f}'.format(val)\n",
    "    ax.annotate(f'{val_formatted}', (i, val), textcoords=\"offset points\", xytext=(-7, 20), ha='center', fontsize=12, color='black', rotation=90)\n",
    "\n",
    "# Add annotations for the third line\n",
    "for i, val in enumerate(max_window_hld_percents):\n",
    "    val_formatted = '{:.2f}'.format(val)\n",
    "    ax.annotate(f'{val_formatted}', (i, val), textcoords=\"offset points\", xytext=(-7, -40), ha='center', fontsize=12, color='black', rotation=90)\n",
    "\n",
    "plt.legend(loc='upper right', fontsize='large')  # Add legend\n",
    "plt.savefig('tvd_jsd_hld.png', dpi=300, bbox_inches='tight')\n",
    "plt.show()"
   ]
  },
  {
   "cell_type": "code",
   "execution_count": null,
   "metadata": {},
   "outputs": [],
   "source": []
  },
  {
   "cell_type": "code",
   "execution_count": null,
   "metadata": {},
   "outputs": [],
   "source": []
  },
  {
   "cell_type": "code",
   "execution_count": null,
   "metadata": {},
   "outputs": [],
   "source": []
  },
  {
   "cell_type": "code",
   "execution_count": null,
   "metadata": {},
   "outputs": [],
   "source": []
  },
  {
   "cell_type": "code",
   "execution_count": null,
   "metadata": {},
   "outputs": [],
   "source": []
  }
 ],
 "metadata": {
  "kernelspec": {
   "display_name": "venv",
   "language": "python",
   "name": "python3"
  },
  "language_info": {
   "codemirror_mode": {
    "name": "ipython",
    "version": 3
   },
   "file_extension": ".py",
   "mimetype": "text/x-python",
   "name": "python",
   "nbconvert_exporter": "python",
   "pygments_lexer": "ipython3",
   "version": "3.10.6"
  },
  "orig_nbformat": 4
 },
 "nbformat": 4,
 "nbformat_minor": 2
}
