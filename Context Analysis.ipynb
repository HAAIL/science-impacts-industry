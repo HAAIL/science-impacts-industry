{
 "cells": [
  {
   "cell_type": "markdown",
   "metadata": {},
   "source": [
    "## 1. Context Analysis Setup\n",
    "\n",
    "**Methods for Research Question 2**  \n",
    "\n",
    "This portion of the notebook implements part of our _contextual analysis_, where we compare the semantic content of scientific papers to the semantic content of SBIR project descriptions. \n",
    "\n",
    "- We begin by importing the core libraries needed (NumPy, pandas, etc.).  \n",
    "- We set up environment variables (e.g., `UMAP = True`) that control whether the code will use UMAP or PCA for dimensionality reduction.  \n",
    "- We also define paths to load or save pickled data structures (e.g., computed distances).\n",
    "\n",
    "The goal here is to **load** our embeddings, prepare them for further analysis, and organize them for subsequent computations such as the Triangular Ratio in Equation (9) of the paper."
   ]
  },
  {
   "cell_type": "code",
   "execution_count": 63,
   "metadata": {},
   "outputs": [
    {
     "name": "stdout",
     "output_type": "stream",
     "text": [
      "TVD_ADDRESS:  ../../data/parallel/TVDs/\n",
      "JSD_ADDRESS:  ../../data/parallel/JSDs/\n",
      "HLD_ADDRESS:  ../../data/parallel/HLDs/\n"
     ]
    }
   ],
   "source": [
    "from tqdm import tqdm\n",
    "import pickle\n",
    "import pandas as pd\n",
    "import numpy as np\n",
    "import matplotlib.pyplot as plt\n",
    "from scipy import signal\n",
    "\n",
    "PICKLES_ADDRESS = 'pickles/'\n",
    "LAG_DATA_ADDRESS = '../lag_data/'\n",
    "TEMP_ADDRESS = '../temp/'\n",
    "UMAP = False\n",
    "LOADING_PARAM = False\n",
    "\n",
    "if UMAP:\n",
    "    TVD_ADDRESS = TEMP_ADDRESS + 'parallel/UMAP/TVDs/'\n",
    "    JSD_ADDRESS = TEMP_ADDRESS + 'parallel/UMAP/JSDs/'\n",
    "    HLD_ADDRESS = TEMP_ADDRESS + 'parallel/UMAP/HLDs/'\n",
    "else:\n",
    "    TVD_ADDRESS = '../../data/parallel/TVDs/'\n",
    "    JSD_ADDRESS = '../../data/parallel/JSDs/'\n",
    "    HLD_ADDRESS = '../../data/parallel/HLDs/'\n",
    "\n",
    "print('TVD_ADDRESS: ', TVD_ADDRESS)\n",
    "print('JSD_ADDRESS: ', JSD_ADDRESS)\n",
    "print('HLD_ADDRESS: ', HLD_ADDRESS)"
   ]
  },
  {
   "cell_type": "markdown",
   "metadata": {},
   "source": [
    "## 2. Loading and Preprocessing Data\n",
    "\n",
    "**Data and Semantic Representations**  \n",
    "\n",
    "In this block, we:  \n",
    "1. Load all pickle files containing MeSH hierarchy information, frequency statistics, and citation data for PubMed (papers) and SBIR (projects).  \n",
    "2. Filter out DUIs (MeSH terms) that have no meaningful frequency across the target years.  \n",
    "3. Initialize (or load) 3D tensors that capture our year-by-year distance metrics (TVD, JSD, and HLD).  \n",
    "\n",
    "Each tensor’s shape is `(num_terms, 12, 12)`, reflecting the 12-year comparison grid (2010–2021). We store or retrieve these tensors to avoid recomputing distances for each run."
   ]
  },
  {
   "cell_type": "code",
   "execution_count": 37,
   "metadata": {},
   "outputs": [
    {
     "name": "stdout",
     "output_type": "stream",
     "text": [
      "dui2children: 29432\n",
      "dui2parents: 29307\n",
      "dui2name: 29307\n",
      "name2dui: 29307\n",
      "dui2level: 29307\n",
      "level2duis: 14\n",
      "dui2trail: 29432\n",
      "dui_intersections: 29307\n",
      "excluded_duis: 723\n",
      "dui2pubfreq: 29307\n",
      "dui2sbfreq: 29307\n",
      "dui2pubfreqchild: 29307\n",
      "dui2sbfreqchild: 29307\n",
      "dui2pubcit: 29307\n",
      "dui2sbcit: 29307\n",
      "dui2pubcitchild: 29307\n",
      "dui2sbcitchild: 29307\n"
     ]
    }
   ],
   "source": [
    "years = [str(year) for year in range(2010, 2022)]\n",
    "correlation_lags = [-11, -10, -9, -8, -7, -6, -5, -4, -3, -2, -1,  0,  1,  2,  3,  4,  5,  6,  7, 8, 9, 10, 11]\n",
    "print('years:', years)\n",
    "\n",
    "with open(PICKLES_ADDRESS + 'dui2children.pkl', 'rb') as handle:\n",
    "    dui2children = pickle.load(handle)\n",
    "    print('dui2children:', len(dui2children))\n",
    "with open(PICKLES_ADDRESS + 'dui2trail_final.pkl', 'rb') as handle:\n",
    "    dui2parents = pickle.load(handle)\n",
    "    print('dui2parents:', len(dui2parents))\n",
    "with open(PICKLES_ADDRESS + 'heading2dui_final.pkl', 'rb') as handle:\n",
    "    dui2name = pickle.load(handle)\n",
    "    print('dui2name:', len(dui2name))\n",
    "with open(PICKLES_ADDRESS + 'dui2header_final.pkl', 'rb') as handle:\n",
    "    name2dui = pickle.load(handle)\n",
    "    print('name2dui:', len(name2dui))\n",
    "with open(PICKLES_ADDRESS + 'dui2level_final.pkl', 'rb') as handle:\n",
    "    dui2level = pickle.load(handle)\n",
    "    print('dui2level:', len(dui2level))\n",
    "with open(PICKLES_ADDRESS + 'level2duis_final.pkl', 'rb') as handle:\n",
    "    level2duis = pickle.load(handle)\n",
    "    print('level2duis:', len(level2duis))\n",
    "with open(PICKLES_ADDRESS + 'dui2trail.pkl', 'rb') as handle:\n",
    "    dui2trail = pickle.load(handle)\n",
    "    print('dui2trail:', len(dui2trail))\n",
    "with open(PICKLES_ADDRESS + 'dui_intersection_final.pkl', 'rb') as handle:\n",
    "    dui_intersections = pickle.load(handle)\n",
    "    print('dui_intersections:', len(dui_intersections))\n",
    "with open(PICKLES_ADDRESS + 'excluded_duis_final.pkl', 'rb') as handle:\n",
    "    excluded_duis = pickle.load(handle)\n",
    "    print('excluded_duis:', len(excluded_duis))\n",
    "with open(PICKLES_ADDRESS + 'dui2pubfreq.pkl', 'rb') as handle:\n",
    "    dui2pubfreq = pickle.load(handle)\n",
    "    print('dui2pubfreq:', len(dui2pubfreq))\n",
    "with open(PICKLES_ADDRESS + 'dui2sbfreq.pkl', 'rb') as handle:\n",
    "    dui2sbfreq = pickle.load(handle)\n",
    "    print('dui2sbfreq:', len(dui2sbfreq))\n",
    "with open(PICKLES_ADDRESS + 'dui2pubfreqchild.pkl', 'rb') as handle:\n",
    "    dui2pubfreqchild = pickle.load(handle)\n",
    "    print('dui2pubfreqchild:', len(dui2pubfreqchild))\n",
    "with open(PICKLES_ADDRESS + 'dui2sbfreqchild.pkl', 'rb') as handle:\n",
    "    dui2sbfreqchild = pickle.load(handle)\n",
    "    print('dui2sbfreqchild:', len(dui2sbfreqchild))\n",
    "with open(TEMP_ADDRESS + 'dui2pubcit.pkl', 'rb') as handle:\n",
    "    dui2pubcit = pickle.load(handle)\n",
    "    print('dui2pubcit:', len(dui2pubcit))\n",
    "with open(TEMP_ADDRESS + 'dui2sbcit.pkl', 'rb') as handle:\n",
    "    dui2sbcit = pickle.load(handle)\n",
    "    print('dui2sbcit:', len(dui2sbcit))\n",
    "with open(TEMP_ADDRESS + 'dui2pubcitchild.pkl', 'rb') as handle:\n",
    "    dui2pubcitchild = pickle.load(handle)\n",
    "    print('dui2pubcitchild:', len(dui2pubcitchild))\n",
    "with open(TEMP_ADDRESS + 'dui2sbcitchild.pkl', 'rb') as handle:\n",
    "    dui2sbcitchild = pickle.load(handle)\n",
    "    print('dui2sbcitchild:', len(dui2sbcitchild))"
   ]
  },
  {
   "cell_type": "code",
   "execution_count": 64,
   "metadata": {},
   "outputs": [
    {
     "data": {
      "text/plain": [
       "(29307, 0)"
      ]
     },
     "execution_count": 64,
     "metadata": {},
     "output_type": "execute_result"
    }
   ],
   "source": [
    "# store all duis that have no frequency at any year of the dui2pubfreq dictionary and store them in a list called exduis\n",
    "exduis = {}\n",
    "for dui in dui2sbfreq:\n",
    "    c = 0\n",
    "    for year in years:\n",
    "        c += len(dui2sbfreq[dui][year])\n",
    "    if c == 0:\n",
    "        exduis[dui] = True\n",
    "    else:\n",
    "        exduis[dui] = False\n",
    "\n",
    "len(exduis), c"
   ]
  },
  {
   "cell_type": "code",
   "execution_count": 65,
   "metadata": {},
   "outputs": [
    {
     "name": "stdout",
     "output_type": "stream",
     "text": [
      "10873 DUIs remained. 10873 10873 10873\n"
     ]
    }
   ],
   "source": [
    "# count how many excuis have False and True values\n",
    "c = 0\n",
    "incduis = []\n",
    "dui2tensoridx = {}\n",
    "tensoridx2dui = {}\n",
    "for dui in exduis:\n",
    "    if exduis[dui] == False:\n",
    "        incduis.append(dui)\n",
    "        dui2tensoridx[dui] = c\n",
    "        tensoridx2dui[c] = dui\n",
    "        c += 1\n",
    "print(c, 'DUIs remained.', len(incduis), len(dui2tensoridx), len(tensoridx2dui))"
   ]
  },
  {
   "cell_type": "code",
   "execution_count": 66,
   "metadata": {},
   "outputs": [
    {
     "name": "stderr",
     "output_type": "stream",
     "text": [
      "10873it [09:25, 19.22it/s]"
     ]
    },
    {
     "name": "stdout",
     "output_type": "stream",
     "text": [
      "Tensors saved.\n"
     ]
    },
    {
     "name": "stderr",
     "output_type": "stream",
     "text": [
      "\n"
     ]
    }
   ],
   "source": [
    "if not LOADING_PARAM:\n",
    "    #make three numpy array with size c, 12, 12 and name them tensor_TVD, tensor_JSD, tensor_HLD\n",
    "    tensor_TVD = np.ones((c, 12, 12))\n",
    "    tensor_JSD = np.ones((c, 12, 12))\n",
    "    tensor_HLD = np.ones((c, 12, 12))\n",
    "\n",
    "    # for each dui in exduis, load the corresponding TVD, JSD and HLD txt files and store them in the tensors\n",
    "    c = 0\n",
    "    for i, dui in tqdm(enumerate(incduis)):\n",
    "        for pm_year_idx, pm_year in enumerate(years):\n",
    "            for sb_year_idx, sb_year in enumerate(years):\n",
    "                try:\n",
    "                    tensor_TVD[i, pm_year_idx, sb_year_idx] = np.loadtxt(TVD_ADDRESS + '{}_{}_{}_TVD.txt'.format(dui, pm_year, sb_year))\n",
    "                    tensor_JSD[i, pm_year_idx, sb_year_idx] = np.loadtxt(JSD_ADDRESS + '{}_{}_{}_JSD.txt'.format(dui, pm_year, sb_year))\n",
    "                    tensor_HLD[i, pm_year_idx, sb_year_idx] = np.loadtxt(HLD_ADDRESS + '{}_{}_{}_HLD.txt'.format(dui, pm_year, sb_year))\n",
    "                except:\n",
    "                     pass\n",
    "    #save the tensors in data/pickles\n",
    "    if UMAP:\n",
    "        with open(PICKLES_ADDRESS + 'tensor_UMAP_TVD.pkl', 'wb') as handle:\n",
    "            pickle.dump(tensor_TVD, handle, protocol=pickle.HIGHEST_PROTOCOL)\n",
    "        with open(PICKLES_ADDRESS + 'tensor_UMAP_JSD.pkl', 'wb') as handle:\n",
    "            pickle.dump(tensor_JSD, handle, protocol=pickle.HIGHEST_PROTOCOL)\n",
    "        with open(PICKLES_ADDRESS + 'tensor_UMAP_HLD.pkl', 'wb') as handle:\n",
    "            pickle.dump(tensor_HLD, handle, protocol=pickle.HIGHEST_PROTOCOL)\n",
    "        print('Tensors saved.')\n",
    "    else:\n",
    "        with open(PICKLES_ADDRESS + 'tensor_PCA_TVD.pkl', 'wb') as handle:\n",
    "            pickle.dump(tensor_TVD, handle, protocol=pickle.HIGHEST_PROTOCOL)\n",
    "        with open(PICKLES_ADDRESS + 'tensor_PCA_JSD.pkl', 'wb') as handle:\n",
    "            pickle.dump(tensor_JSD, handle, protocol=pickle.HIGHEST_PROTOCOL)\n",
    "        with open(PICKLES_ADDRESS + 'tensor_PCA_HLD.pkl', 'wb') as handle:\n",
    "            pickle.dump(tensor_HLD, handle, protocol=pickle.HIGHEST_PROTOCOL)\n",
    "        print('Tensors saved.')\n",
    "else:\n",
    "    print('Loading tensors...')\n",
    "    if UMAP:\n",
    "        with open(PICKLES_ADDRESS + 'tensor_UMAP_TVD.pkl', 'rb') as handle:\n",
    "            TVD_diffs = pickle.load(handle)\n",
    "        with open(PICKLES_ADDRESS + 'tensor_UMAP_JSD.pkl', 'rb') as handle:\n",
    "            JSD_diffs = pickle.load(handle)\n",
    "        with open(PICKLES_ADDRESS + 'tensor_UMAP_HLD.pkl', 'rb') as handle:\n",
    "            HLD_diffs = pickle.load(handle)\n",
    "    else:\n",
    "        #load the tensors\n",
    "        with open(PICKLES_ADDRESS + 'tensor_PCA_TVD.pkl', 'rb') as handle:\n",
    "            TVD_diffs = pickle.load(handle)\n",
    "        with open(PICKLES_ADDRESS + 'tensor_PCA_JSD.pkl', 'rb') as handle:\n",
    "            JSD_diffs = pickle.load(handle)\n",
    "        with open(PICKLES_ADDRESS + 'tensor_PCA_HLD.pkl', 'rb') as handle:\n",
    "            HLD_diffs = pickle.load(handle)\n",
    "    print(TVD_diffs.shape, JSD_diffs.shape, HLD_diffs.shape)"
   ]
  },
  {
   "cell_type": "markdown",
   "metadata": {},
   "source": [
    "## 3. Converting Distances to Similarities & Triangular Ratio\n",
    "\n",
    "**Triangular Ratio Calculation**  \n",
    "\n",
    "- We convert the distance metrics (TVD, JSD, HLD) into similarity measures by subtracting them from **1**.  \n",
    "- Next, we define a helper function `cal_triangular_ratio(...)` that implements Equation (9) from the paper. This function computes whether the historical scientific content (upper triangle) is more similar to future industrial content than the opposite scenario (lower triangle).  \n",
    "\n",
    "A ratio > 1 indicates a stronger science-to-industry context influence, while a ratio < 1 suggests the reverse."
   ]
  },
  {
   "cell_type": "code",
   "execution_count": 74,
   "metadata": {},
   "outputs": [
    {
     "name": "stdout",
     "output_type": "stream",
     "text": [
      "tensor_TVD: (10873, 12, 12)\n",
      "tensor_JSD: (10873, 12, 12)\n",
      "tensor_HLD: (10873, 12, 12)\n"
     ]
    }
   ],
   "source": [
    "#turn distance-containing tensors into similarity-containing tensors\n",
    "tensor_TVD = 1 - TVD_diffs\n",
    "tensor_JSD = 1 - JSD_diffs\n",
    "tensor_HLD = 1 - HLD_diffs\n",
    "\n",
    "print('tensor_TVD:', tensor_TVD.shape)\n",
    "print('tensor_JSD:', tensor_JSD.shape)\n",
    "print('tensor_HLD:', tensor_HLD.shape)"
   ]
  },
  {
   "cell_type": "code",
   "execution_count": 75,
   "metadata": {},
   "outputs": [],
   "source": [
    "def cal_triangular_ratio(score_matrix):\n",
    "    ps_sims = []\n",
    "    sp_sims = []\n",
    "    for i in range(score_matrix.shape[0]):\n",
    "        for j in range(score_matrix.shape[1]):\n",
    "            sim = score_matrix[i, j]\n",
    "            if j > i:\n",
    "                ps_sims.append(sim)\n",
    "            else:\n",
    "                sp_sims.append(sim)\n",
    "    return (np.sum(ps_sims) + 1) / (np.sum(sp_sims) + 1)\n",
    "\n",
    "def cal_triangular_ratio_yearly(score_matrix):\n",
    "    all_triangular_scores = {year: [] for year in years[:-1]}\n",
    "    for idx, year in enumerate(years[:-1]):\n",
    "        sub_matrix = score_matrix[idx:, idx:]\n",
    "        triangular_ratio = cal_triangular_ratio(sub_matrix)\n",
    "        all_triangular_scores[year] = triangular_ratio\n",
    "    return all_triangular_scores"
   ]
  },
  {
   "cell_type": "code",
   "execution_count": 76,
   "metadata": {},
   "outputs": [
    {
     "name": "stderr",
     "output_type": "stream",
     "text": [
      "100%|██████████| 10873/10873 [00:06<00:00, 1724.06it/s]\n"
     ]
    }
   ],
   "source": [
    "#calculate the triangular ratio for each dui\n",
    "dui2tvdtr = {}\n",
    "dui2jsdtr = {}\n",
    "dui2hldtr = {}\n",
    "for i in tqdm(range(len(tensor_TVD))):\n",
    "    dui2tvdtr[tensoridx2dui[i]] = cal_triangular_ratio_yearly(tensor_TVD[i])\n",
    "    dui2jsdtr[tensoridx2dui[i]] = cal_triangular_ratio_yearly(tensor_JSD[i])\n",
    "    dui2hldtr[tensoridx2dui[i]] = cal_triangular_ratio_yearly(tensor_HLD[i])"
   ]
  },
  {
   "cell_type": "markdown",
   "metadata": {},
   "source": [
    "## 4. Computing and Aggregating Triangular Ratios\n",
    "\n",
    "**Assessment of Topic Hierarchy on Content Association**  \n",
    "\n",
    "Here, we:  \n",
    "1. Loop through each MeSH term (DUI) and compute its triangular ratios year-by-year.  \n",
    "2. Group DUIs by their MeSH depth (from **0** to **13**).  \n",
    "3. Compute the percentage of DUIs at each depth that exceed a ratio of 1, indicating science→industry influence in context.  \n",
    "\n",
    "We also measure variability across different time windows (or “sliding windows”), as described in the paper, to assess how robust the triangular ratio is at each depth."
   ]
  },
  {
   "cell_type": "code",
   "execution_count": 77,
   "metadata": {},
   "outputs": [],
   "source": [
    "# iterate over max_depth and create a histogram of the maximum correlation lags of duis in dui_subset, then plot it\n",
    "max_depth = 13\n",
    "tvd_std, jsd_std, hld_std = [], [], []\n",
    "max_window_tvd_percents, max_window_jsd_percents, max_window_hld_percents = [], [], []\n",
    "depth_wise_count = []\n",
    "\n",
    "for depth in range(max_depth + 1):\n",
    "    dui_subset = [dui for level in range(depth + 1) for dui in level2duis[level] if dui in dui2tvdtr]\n",
    "    depth_wise_count.append(len(dui_subset))\n",
    "    dui2tvdtr_yearly = {year: [] for year in years[:-1]}\n",
    "    dui2jsdtr_yearly = {year: [] for year in years[:-1]}\n",
    "    dui2hldtr_yearly = {year: [] for year in years[:-1]}\n",
    "    for dui in dui_subset:\n",
    "        if dui in incduis:\n",
    "            for k, v in dui2tvdtr[dui].items():\n",
    "                dui2tvdtr_yearly[k].append(v)\n",
    "            for k, v in dui2jsdtr[dui].items():\n",
    "                dui2jsdtr_yearly[k].append(v)\n",
    "            for k, v in dui2hldtr[dui].items():\n",
    "                dui2hldtr_yearly[k].append(v)\n",
    "\n",
    "    yearly_pos, yearly_neg = [], []\n",
    "    for k, v in dui2tvdtr_yearly.items():\n",
    "        x1 = len([score for score in v if score > 1])\n",
    "        x2 = len([score for score in v if score <= 1])\n",
    "        yearly_pos.append(x1)\n",
    "        yearly_neg.append(x2)\n",
    "    yearly_pos_percentage, yearly_neg_percentage = [], []\n",
    "    for pos, neg in zip(yearly_pos, yearly_neg):\n",
    "        x1 = pos / (pos + neg + 0.000000001) * 100\n",
    "        x2 = neg / (pos + neg + 0.000000001) * 100\n",
    "        yearly_pos_percentage.append(x1)\n",
    "        yearly_neg_percentage.append(x2)\n",
    "    max_window_tvd_percents.append(yearly_pos_percentage[0])\n",
    "    tvd_std.append(np.std(yearly_pos_percentage))\n",
    "\n",
    "    yearly_pos, yearly_neg = [], []\n",
    "    for k, v in dui2jsdtr_yearly.items():\n",
    "        x1 = len([score for score in v if score > 1])\n",
    "        x2 = len([score for score in v if score <= 1])\n",
    "        yearly_pos.append(x1)\n",
    "        yearly_neg.append(x2)\n",
    "    yearly_pos_percentage, yearly_neg_percentage = [], []\n",
    "    for pos, neg in zip(yearly_pos, yearly_neg):\n",
    "        x1 = pos / (pos + neg + 0.000000001) * 100\n",
    "        x2 = neg / (pos + neg + 0.000000001) * 100\n",
    "        yearly_pos_percentage.append(x1)\n",
    "        yearly_neg_percentage.append(x2)\n",
    "    max_window_jsd_percents.append(yearly_pos_percentage[0])\n",
    "    jsd_std.append(np.std(yearly_pos_percentage))\n",
    "\n",
    "    yearly_pos, yearly_neg = [], []\n",
    "    for k, v in dui2hldtr_yearly.items():\n",
    "        x1 = len([score for score in v if score > 1])\n",
    "        x2 = len([score for score in v if score <= 1])\n",
    "        yearly_pos.append(x1)\n",
    "        yearly_neg.append(x2)\n",
    "    yearly_pos_percentage, yearly_neg_percentage = [], []\n",
    "    for pos, neg in zip(yearly_pos, yearly_neg):\n",
    "        x1 = pos / (pos + neg + 0.000000001) * 100\n",
    "        x2 = neg / (pos + neg + 0.000000001) * 100\n",
    "        yearly_pos_percentage.append(x1)\n",
    "        yearly_neg_percentage.append(x2)\n",
    "    max_window_hld_percents.append(yearly_pos_percentage[0])\n",
    "    hld_std.append(np.std(yearly_pos_percentage))"
   ]
  },
  {
   "cell_type": "code",
   "execution_count": 78,
   "metadata": {},
   "outputs": [],
   "source": [
    "depth_wise_count = np.array(depth_wise_count[1:])\n",
    "max_window_tvd_percents = np.array(max_window_tvd_percents[1:])\n",
    "max_window_jsd_percents = np.array(max_window_jsd_percents[1:])\n",
    "max_window_hld_percents = np.array(max_window_hld_percents[1:])\n",
    "tvd_std = np.array(tvd_std[1:])\n",
    "jsd_std = np.array(jsd_std[1:])\n",
    "hld_std = np.array(hld_std[1:])"
   ]
  },
  {
   "cell_type": "code",
   "execution_count": 79,
   "metadata": {},
   "outputs": [
    {
     "data": {
      "text/plain": [
       "99.9"
      ]
     },
     "execution_count": 79,
     "metadata": {},
     "output_type": "execute_result"
    }
   ],
   "source": [
    "tvd_error_max = np.minimum(max_window_tvd_percents + tvd_std, 99.9) - max_window_tvd_percents\n",
    "jsd_error_max = np.minimum(max_window_jsd_percents + jsd_std, 99.9) - max_window_jsd_percents\n",
    "hld_error_max = np.minimum(max_window_hld_percents + hld_std, 99.9) - max_window_hld_percents\n",
    "\n",
    "tvd_error_max[0] + max_window_tvd_percents[0]"
   ]
  },
  {
   "cell_type": "code",
   "execution_count": 80,
   "metadata": {},
   "outputs": [
    {
     "name": "stdout",
     "output_type": "stream",
     "text": [
      "saved pickles/tvd_jsd_hld_pca_results.pkl\n"
     ]
    }
   ],
   "source": [
    "#save the plot information in a dataframe and save it in data/pickles\n",
    "df = pd.DataFrame({'depth': range(1, max_depth + 1), 'tvd': max_window_tvd_percents, 'jsd': max_window_jsd_percents, 'hld': max_window_hld_percents, 'tvd_std': tvd_std, 'jsd_std': jsd_std, \\\n",
    "                   'hld_std': hld_std, 'tvd_error_max': tvd_error_max, 'jsd_error_max': jsd_error_max, 'hld_error_max': hld_error_max, 'count': depth_wise_count})\n",
    "if UMAP:\n",
    "    address = PICKLES_ADDRESS + 'tvd_jsd_hld_umap_results.pkl'\n",
    "    df.to_pickle(address)\n",
    "else:\n",
    "    address = PICKLES_ADDRESS + 'tvd_jsd_hld_pca_results.pkl'\n",
    "    df.to_pickle(address)\n",
    "\n",
    "print('saved', address)"
   ]
  },
  {
   "cell_type": "code",
   "execution_count": 81,
   "metadata": {},
   "outputs": [
    {
     "name": "stdout",
     "output_type": "stream",
     "text": [
      "shape of df_umap: (13, 11)\n",
      "shape of df_pca: (13, 11)\n"
     ]
    }
   ],
   "source": [
    "#load both dataframes and plot them together\n",
    "with open(PICKLES_ADDRESS + 'tvd_jsd_hld_umap_results.pkl', 'rb') as handle:\n",
    "    df_umap = pickle.load(handle)\n",
    "\n",
    "with open(PICKLES_ADDRESS + 'tvd_jsd_hld_pca_results.pkl', 'rb') as handle:\n",
    "    df_pca = pickle.load(handle)\n",
    "\n",
    "print('shape of df_umap:', df_umap.shape)\n",
    "print('shape of df_pca:', df_pca.shape)"
   ]
  },
  {
   "cell_type": "markdown",
   "metadata": {},
   "source": [
    "## 5. Visualizing Context Overlap by Hierarchical Depth\n",
    "\n",
    "**Results for Research Question 2**  \n",
    "\n",
    "This final step creates a plot illustrating how the percentage of MeSH terms with a Triangular Ratio > 1 changes across increasing topic depth. We overlay error bars (standard deviation and bounds) to show confidence intervals.  \n",
    "\n",
    "**Plot Interpretation**:  \n",
    "- **X-axis**: Depth levels in MeSH, with the number of terms at that depth.  \n",
    "- **Y-axis**: Proportion of terms whose Triangular Ratio (TR) > 1.  \n",
    "- **Lines**: Different lines for TVD, JSD, and HLD highlight how the embedding reduction choice (UMAP/PCA) and distance metric influence the results."
   ]
  },
  {
   "cell_type": "code",
   "execution_count": 85,
   "metadata": {},
   "outputs": [
    {
     "data": {
      "image/png": "[encoded data removed]",
      "text/plain": [
       "<Figure size 720x180 with 1 Axes>"
      ]
     },
     "metadata": {
      "needs_background": "light"
     },
     "output_type": "display_data"
    }
   ],
   "source": [
    "#use df_pca and df_umap to plot the results together\n",
    "import matplotlib.pyplot as plt\n",
    "\n",
    "chunk_size = 6\n",
    "depth_wise_count = depth_wise_count[:chunk_size]\n",
    "df_pca = df_pca[:chunk_size]\n",
    "df_umap = df_umap[:chunk_size]\n",
    "\n",
    "x = ['Depth ' + str(depth + 1) + '\\n' + str(each) + ' terms' for depth, each in enumerate(depth_wise_count)]\n",
    "\n",
    "# Convert relevant data to numpy arrays\n",
    "x = np.array(x)\n",
    "df_pca_tvd = np.array(df_pca['tvd'])\n",
    "df_pca_tvd_std = np.array(df_pca['tvd_std'])\n",
    "df_pca_tvd_error_max = np.array(df_pca['tvd_error_max'])\n",
    "df_umap_tvd = np.array(df_umap['tvd'])\n",
    "df_umap_tvd_std = np.array(df_umap['tvd_std'])\n",
    "df_umap_tvd_error_max = np.array(df_umap['tvd_error_max'])\n",
    "\n",
    "df_pca_hld = np.array(df_pca['hld'])\n",
    "df_pca_hld_std = np.array(df_pca['hld_std'])\n",
    "df_pca_hld_error_max = np.array(df_pca['hld_error_max'])\n",
    "df_umap_hld = np.array(df_umap['hld'])\n",
    "df_umap_hld_std = np.array(df_umap['hld_std'])\n",
    "df_umap_hld_error_max = np.array(df_umap['hld_error_max'])\n",
    "\n",
    "fig = plt.figure(figsize=(10, 2.5))\n",
    "ax = fig.add_subplot(111)\n",
    "ax.axhline(y=50, color='salmon', linestyle='--')\n",
    "\n",
    "# Error bounds for Hellinger Distance UMAP\n",
    "ax.errorbar(x, df_umap_hld, yerr=[df_umap_hld_std, df_umap_hld_error_max], fmt='o', ecolor='navy', elinewidth=2, capsize=10, color='navy')\n",
    "line6, = ax.plot(x, df_umap_hld, marker='o', color='navy', linewidth=2.5, markersize=8, label='Hellinger Distance (UMAP)')\n",
    "ax.errorbar(x, df_umap_hld, yerr=[df_umap_hld_std, df_umap_hld_error_max], fmt='o', ecolor='navy', elinewidth=2, capsize=10, color='navy')\n",
    "\n",
    "ax.grid(True)  # Add gridlines\n",
    "ax.set_ylabel('Percentage of\\ntriangular ratio > 1', fontsize=15, weight='bold')\n",
    "ax.set_xticks(range(len(x)))\n",
    "ax.set_xticklabels(x, fontsize=13, weight='bold')\n",
    "ax.set_yticks(range(50, 101, 10))  # Set y-axis ticks from 50 to 100 in steps of 10\n",
    "ax.set_ylim(48, 101)  # Set y-axis limits from 50% to 100%\n",
    "\n",
    "plt.legend(loc='upper center', fontsize='large', bbox_to_anchor=(0.5, 1.25), ncol=2)  # Add legend\n",
    "plt.savefig('tvd_hld_umap_pca.png', dpi=300, bbox_inches='tight')\n",
    "plt.show()"
   ]
  },
  {
   "cell_type": "code",
   "execution_count": null,
   "metadata": {},
   "outputs": [],
   "source": []
  }
 ],
 "metadata": {
  "kernelspec": {
   "display_name": "venv",
   "language": "python",
   "name": "python3"
  },
  "language_info": {
   "codemirror_mode": {
    "name": "ipython",
    "version": 3
   },
   "file_extension": ".py",
   "mimetype": "text/x-python",
   "name": "python",
   "nbconvert_exporter": "python",
   "pygments_lexer": "ipython3",
   "version": "3.10.12"
  },
  "orig_nbformat": 4
 },
 "nbformat": 4,
 "nbformat_minor": 2
}
